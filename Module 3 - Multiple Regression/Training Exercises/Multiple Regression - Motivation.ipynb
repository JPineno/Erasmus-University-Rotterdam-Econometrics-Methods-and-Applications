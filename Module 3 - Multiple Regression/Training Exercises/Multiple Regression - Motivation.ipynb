{
 "cells": [
  {
   "cell_type": "markdown",
   "id": "4e78c3f5-5dd2-4859-afe6-8a206123f79c",
   "metadata": {},
   "source": [
    "# <u>Training Exercices - Multiple Regression: Motivation<u>\n",
    "\n",
    "__<u>Jorge Pineño Pérez<u>__ / Module 3 - Multiple Regression"
   ]
  },
  {
   "cell_type": "code",
   "execution_count": 1,
   "id": "6f4c35ab-95aa-4b94-b51c-02195b02ef64",
   "metadata": {},
   "outputs": [
    {
     "name": "stderr",
     "output_type": "stream",
     "text": [
      "Installing package into 'C:/Users/USER/AppData/Local/R/win-library/4.4'\n",
      "(as 'lib' is unspecified)\n",
      "\n"
     ]
    },
    {
     "name": "stdout",
     "output_type": "stream",
     "text": [
      "package 'readxl' successfully unpacked and MD5 sums checked\n",
      "\n",
      "The downloaded binary packages are in\n",
      "\tC:\\Users\\USER\\AppData\\Local\\Temp\\RtmpmUhsKu\\downloaded_packages\n"
     ]
    }
   ],
   "source": [
    "# package imports\n",
    "install.packages(\"readxl\")\n",
    "library(readxl)"
   ]
  },
  {
   "cell_type": "markdown",
   "id": "e91a6b69-499f-48b1-964c-07f834b48dd7",
   "metadata": {},
   "source": [
    "__<u>Training Exercise 2.1<u>__\n",
    "\n",
    "__1.__"
   ]
  },
  {
   "cell_type": "code",
   "execution_count": 2,
   "id": "3541c199-d995-4bb4-93cc-d64a76172398",
   "metadata": {},
   "outputs": [
    {
     "data": {
      "text/html": [
       "<table class=\"dataframe\">\n",
       "<caption>A tibble: 6 × 7</caption>\n",
       "<thead>\n",
       "\t<tr><th scope=col>Observation</th><th scope=col>Wage</th><th scope=col>LogWage</th><th scope=col>Female</th><th scope=col>Age</th><th scope=col>Educ</th><th scope=col>Parttime</th></tr>\n",
       "\t<tr><th scope=col>&lt;dbl&gt;</th><th scope=col>&lt;dbl&gt;</th><th scope=col>&lt;dbl&gt;</th><th scope=col>&lt;dbl&gt;</th><th scope=col>&lt;dbl&gt;</th><th scope=col>&lt;dbl&gt;</th><th scope=col>&lt;dbl&gt;</th></tr>\n",
       "</thead>\n",
       "<tbody>\n",
       "\t<tr><td>1</td><td> 66</td><td>4.189655</td><td>0</td><td>49</td><td>1</td><td>1</td></tr>\n",
       "\t<tr><td>2</td><td> 34</td><td>3.526361</td><td>1</td><td>42</td><td>1</td><td>1</td></tr>\n",
       "\t<tr><td>3</td><td> 70</td><td>4.248495</td><td>1</td><td>42</td><td>1</td><td>1</td></tr>\n",
       "\t<tr><td>4</td><td> 47</td><td>3.850148</td><td>0</td><td>38</td><td>1</td><td>0</td></tr>\n",
       "\t<tr><td>5</td><td>107</td><td>4.672829</td><td>1</td><td>54</td><td>1</td><td>1</td></tr>\n",
       "\t<tr><td>6</td><td>188</td><td>5.236442</td><td>1</td><td>54</td><td>1</td><td>0</td></tr>\n",
       "</tbody>\n",
       "</table>\n"
      ],
      "text/latex": [
       "A tibble: 6 × 7\n",
       "\\begin{tabular}{lllllll}\n",
       " Observation & Wage & LogWage & Female & Age & Educ & Parttime\\\\\n",
       " <dbl> & <dbl> & <dbl> & <dbl> & <dbl> & <dbl> & <dbl>\\\\\n",
       "\\hline\n",
       "\t 1 &  66 & 4.189655 & 0 & 49 & 1 & 1\\\\\n",
       "\t 2 &  34 & 3.526361 & 1 & 42 & 1 & 1\\\\\n",
       "\t 3 &  70 & 4.248495 & 1 & 42 & 1 & 1\\\\\n",
       "\t 4 &  47 & 3.850148 & 0 & 38 & 1 & 0\\\\\n",
       "\t 5 & 107 & 4.672829 & 1 & 54 & 1 & 1\\\\\n",
       "\t 6 & 188 & 5.236442 & 1 & 54 & 1 & 0\\\\\n",
       "\\end{tabular}\n"
      ],
      "text/markdown": [
       "\n",
       "A tibble: 6 × 7\n",
       "\n",
       "| Observation &lt;dbl&gt; | Wage &lt;dbl&gt; | LogWage &lt;dbl&gt; | Female &lt;dbl&gt; | Age &lt;dbl&gt; | Educ &lt;dbl&gt; | Parttime &lt;dbl&gt; |\n",
       "|---|---|---|---|---|---|---|\n",
       "| 1 |  66 | 4.189655 | 0 | 49 | 1 | 1 |\n",
       "| 2 |  34 | 3.526361 | 1 | 42 | 1 | 1 |\n",
       "| 3 |  70 | 4.248495 | 1 | 42 | 1 | 1 |\n",
       "| 4 |  47 | 3.850148 | 0 | 38 | 1 | 0 |\n",
       "| 5 | 107 | 4.672829 | 1 | 54 | 1 | 1 |\n",
       "| 6 | 188 | 5.236442 | 1 | 54 | 1 | 0 |\n",
       "\n"
      ],
      "text/plain": [
       "  Observation Wage LogWage  Female Age Educ Parttime\n",
       "1 1            66  4.189655 0      49  1    1       \n",
       "2 2            34  3.526361 1      42  1    1       \n",
       "3 3            70  4.248495 1      42  1    1       \n",
       "4 4            47  3.850148 0      38  1    0       \n",
       "5 5           107  4.672829 1      54  1    1       \n",
       "6 6           188  5.236442 1      54  1    0       "
      ]
     },
     "metadata": {},
     "output_type": "display_data"
    }
   ],
   "source": [
    "# import our dataframe\n",
    "wage <- read_excel('TrainExer21.xls')\n",
    "head(wage)"
   ]
  },
  {
   "cell_type": "markdown",
   "id": "7129a78e-c061-4271-a23a-662d0f044101",
   "metadata": {},
   "source": [
    "__(a)__"
   ]
  },
  {
   "cell_type": "code",
   "execution_count": 5,
   "id": "089e719d-f15b-47e5-a021-59a6181b7c3e",
   "metadata": {},
   "outputs": [
    {
     "data": {
      "text/plain": [
       "\n",
       "Call:\n",
       "lm(formula = LogWage ~ Female, data = wage)\n",
       "\n",
       "Residuals:\n",
       "     Min       1Q   Median       3Q      Max \n",
       "-1.09606 -0.30283 -0.03676  0.30331  1.41415 \n",
       "\n",
       "Coefficients:\n",
       "            Estimate Std. Error t value Pr(>|t|)    \n",
       "(Intercept)  4.73364    0.02434 194.449  < 2e-16 ***\n",
       "Female      -0.25064    0.04013  -6.246 9.05e-10 ***\n",
       "---\n",
       "Signif. codes:  0 '***' 0.001 '**' 0.01 '*' 0.05 '.' 0.1 ' ' 1\n",
       "\n",
       "Residual standard error: 0.4327 on 498 degrees of freedom\n",
       "Multiple R-squared:  0.07264,\tAdjusted R-squared:  0.07078 \n",
       "F-statistic: 39.01 on 1 and 498 DF,  p-value: 9.047e-10\n"
      ]
     },
     "metadata": {},
     "output_type": "display_data"
    }
   ],
   "source": [
    "# run the regression and show summary of the model\n",
    "log_wage <- lm(LogWage ~ Female, data = wage)\n",
    "summary(log_wage)"
   ]
  },
  {
   "cell_type": "markdown",
   "id": "68ad351a-872b-4e26-8417-4d1f9be78c94",
   "metadata": {},
   "source": [
    "__(b)__"
   ]
  },
  {
   "cell_type": "code",
   "execution_count": 10,
   "id": "3555d5d8-152e-4c7e-8e36-543e51f67dfc",
   "metadata": {},
   "outputs": [
    {
     "data": {
      "text/html": [
       "<table class=\"dataframe\">\n",
       "<caption>A tibble: 6 × 8</caption>\n",
       "<thead>\n",
       "\t<tr><th scope=col>Observation</th><th scope=col>Wage</th><th scope=col>LogWage</th><th scope=col>Female</th><th scope=col>Age</th><th scope=col>Educ</th><th scope=col>Parttime</th><th scope=col>Residuals</th></tr>\n",
       "\t<tr><th scope=col>&lt;dbl&gt;</th><th scope=col>&lt;dbl&gt;</th><th scope=col>&lt;dbl&gt;</th><th scope=col>&lt;dbl&gt;</th><th scope=col>&lt;dbl&gt;</th><th scope=col>&lt;dbl&gt;</th><th scope=col>&lt;dbl&gt;</th><th scope=col>&lt;dbl&gt;</th></tr>\n",
       "</thead>\n",
       "<tbody>\n",
       "\t<tr><td>1</td><td> 66</td><td>4.189655</td><td>0</td><td>49</td><td>1</td><td>1</td><td>-0.5439896</td></tr>\n",
       "\t<tr><td>2</td><td> 34</td><td>3.526361</td><td>1</td><td>42</td><td>1</td><td>1</td><td>-0.9566413</td></tr>\n",
       "\t<tr><td>3</td><td> 70</td><td>4.248495</td><td>1</td><td>42</td><td>1</td><td>1</td><td>-0.2345066</td></tr>\n",
       "\t<tr><td>4</td><td> 47</td><td>3.850148</td><td>0</td><td>38</td><td>1</td><td>0</td><td>-0.8834967</td></tr>\n",
       "\t<tr><td>5</td><td>107</td><td>4.672829</td><td>1</td><td>54</td><td>1</td><td>1</td><td> 0.1898270</td></tr>\n",
       "\t<tr><td>6</td><td>188</td><td>5.236442</td><td>1</td><td>54</td><td>1</td><td>0</td><td> 0.7534402</td></tr>\n",
       "</tbody>\n",
       "</table>\n"
      ],
      "text/latex": [
       "A tibble: 6 × 8\n",
       "\\begin{tabular}{llllllll}\n",
       " Observation & Wage & LogWage & Female & Age & Educ & Parttime & Residuals\\\\\n",
       " <dbl> & <dbl> & <dbl> & <dbl> & <dbl> & <dbl> & <dbl> & <dbl>\\\\\n",
       "\\hline\n",
       "\t 1 &  66 & 4.189655 & 0 & 49 & 1 & 1 & -0.5439896\\\\\n",
       "\t 2 &  34 & 3.526361 & 1 & 42 & 1 & 1 & -0.9566413\\\\\n",
       "\t 3 &  70 & 4.248495 & 1 & 42 & 1 & 1 & -0.2345066\\\\\n",
       "\t 4 &  47 & 3.850148 & 0 & 38 & 1 & 0 & -0.8834967\\\\\n",
       "\t 5 & 107 & 4.672829 & 1 & 54 & 1 & 1 &  0.1898270\\\\\n",
       "\t 6 & 188 & 5.236442 & 1 & 54 & 1 & 0 &  0.7534402\\\\\n",
       "\\end{tabular}\n"
      ],
      "text/markdown": [
       "\n",
       "A tibble: 6 × 8\n",
       "\n",
       "| Observation &lt;dbl&gt; | Wage &lt;dbl&gt; | LogWage &lt;dbl&gt; | Female &lt;dbl&gt; | Age &lt;dbl&gt; | Educ &lt;dbl&gt; | Parttime &lt;dbl&gt; | Residuals &lt;dbl&gt; |\n",
       "|---|---|---|---|---|---|---|---|\n",
       "| 1 |  66 | 4.189655 | 0 | 49 | 1 | 1 | -0.5439896 |\n",
       "| 2 |  34 | 3.526361 | 1 | 42 | 1 | 1 | -0.9566413 |\n",
       "| 3 |  70 | 4.248495 | 1 | 42 | 1 | 1 | -0.2345066 |\n",
       "| 4 |  47 | 3.850148 | 0 | 38 | 1 | 0 | -0.8834967 |\n",
       "| 5 | 107 | 4.672829 | 1 | 54 | 1 | 1 |  0.1898270 |\n",
       "| 6 | 188 | 5.236442 | 1 | 54 | 1 | 0 |  0.7534402 |\n",
       "\n"
      ],
      "text/plain": [
       "  Observation Wage LogWage  Female Age Educ Parttime Residuals \n",
       "1 1            66  4.189655 0      49  1    1        -0.5439896\n",
       "2 2            34  3.526361 1      42  1    1        -0.9566413\n",
       "3 3            70  4.248495 1      42  1    1        -0.2345066\n",
       "4 4            47  3.850148 0      38  1    0        -0.8834967\n",
       "5 5           107  4.672829 1      54  1    1         0.1898270\n",
       "6 6           188  5.236442 1      54  1    0         0.7534402"
      ]
     },
     "metadata": {},
     "output_type": "display_data"
    }
   ],
   "source": [
    "# add residuals to the dataframe\n",
    "wage$Residuals <- resid(log_wage)\n",
    "head(wage)"
   ]
  },
  {
   "cell_type": "code",
   "execution_count": 12,
   "id": "8b1f3b4b-ca6b-442e-a039-c31801bc1a5f",
   "metadata": {},
   "outputs": [
    {
     "data": {
      "text/plain": [
       "\n",
       "Call:\n",
       "lm(formula = Residuals ~ Educ, data = wage)\n",
       "\n",
       "Residuals:\n",
       "     Min       1Q   Median       3Q      Max \n",
       "-1.07907 -0.28095 -0.01408  0.25163  1.21331 \n",
       "\n",
       "Coefficients:\n",
       "            Estimate Std. Error t value Pr(>|t|)    \n",
       "(Intercept) -0.45265    0.03614  -12.53   <2e-16 ***\n",
       "Educ         0.21783    0.01550   14.05   <2e-16 ***\n",
       "---\n",
       "Signif. codes:  0 '***' 0.001 '**' 0.01 '*' 0.05 '.' 0.1 ' ' 1\n",
       "\n",
       "Residual standard error: 0.3662 on 498 degrees of freedom\n",
       "Multiple R-squared:  0.2839,\tAdjusted R-squared:  0.2824 \n",
       "F-statistic: 197.4 on 1 and 498 DF,  p-value: < 2.2e-16\n"
      ]
     },
     "metadata": {},
     "output_type": "display_data"
    }
   ],
   "source": [
    "# regress the residuals (e) on a constant and the education level\n",
    "resid1 <- lm(Residuals ~ Educ, data=wage)\n",
    "summary(resid1)"
   ]
  },
  {
   "cell_type": "code",
   "execution_count": 13,
   "id": "3d40f575-7c30-4a7b-9975-86386190c7e0",
   "metadata": {},
   "outputs": [
    {
     "data": {
      "text/plain": [
       "\n",
       "Call:\n",
       "lm(formula = Residuals ~ Parttime, data = wage)\n",
       "\n",
       "Residuals:\n",
       "     Min       1Q   Median       3Q      Max \n",
       "-1.08753 -0.30477 -0.02774  0.30681  1.44257 \n",
       "\n",
       "Coefficients:\n",
       "            Estimate Std. Error t value Pr(>|t|)  \n",
       "(Intercept) -0.02842    0.02281  -1.246   0.2134  \n",
       "Parttime     0.09869    0.04251   2.322   0.0207 *\n",
       "---\n",
       "Signif. codes:  0 '***' 0.001 '**' 0.01 '*' 0.05 '.' 0.1 ' ' 1\n",
       "\n",
       "Residual standard error: 0.4304 on 498 degrees of freedom\n",
       "Multiple R-squared:  0.01071,\tAdjusted R-squared:  0.008721 \n",
       "F-statistic:  5.39 on 1 and 498 DF,  p-value: 0.02065\n"
      ]
     },
     "metadata": {},
     "output_type": "display_data"
    }
   ],
   "source": [
    "# regress the residuals (e) on a constant and the part-time dummy\n",
    "resid2 <- lm(Residuals ~ Parttime, data=wage)\n",
    "summary(resid2)"
   ]
  }
 ],
 "metadata": {
  "kernelspec": {
   "display_name": "R",
   "language": "R",
   "name": "ir"
  },
  "language_info": {
   "codemirror_mode": "r",
   "file_extension": ".r",
   "mimetype": "text/x-r-source",
   "name": "R",
   "pygments_lexer": "r",
   "version": "4.4.3"
  }
 },
 "nbformat": 4,
 "nbformat_minor": 5
}
