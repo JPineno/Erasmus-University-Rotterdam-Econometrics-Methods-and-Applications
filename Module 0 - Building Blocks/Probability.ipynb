{
 "cells": [
  {
   "cell_type": "markdown",
   "id": "4e78c3f5-5dd2-4859-afe6-8a206123f79c",
   "metadata": {},
   "source": [
    "# <u>Training Exercices - Probability<u>\n",
    "\n",
    "__<u>Jorge Pineño Pérez<u>__ / Module 0 - Building Blocks"
   ]
  },
  {
   "cell_type": "markdown",
   "id": "e91a6b69-499f-48b1-964c-07f834b48dd7",
   "metadata": {},
   "source": [
    "__<u>Training Exercise P.1<u>__\n",
    "\n",
    "__1.__\n",
    "\n",
    "We have that $a$ is a constant scalar, $x$ is a non-random $(k \\times 1)$ vector, $b$ is a $(k \\times 1)$ non-random coefficient vector, and $e$ is a random variable with mean $\\mu_e$ and variance $\\sigma_e^2$\n",
    "\n",
    "Now, with $y = a + b'x + e$, we can get the mean and variance of $y$\n",
    "\n",
    "$$E[y] = E[a + b'x + e] = a + b'x + e\\mu_e$$\n",
    "$$Var_y = E[(y-E[y])^2] = E[((a+b'x+e) - (a+b'x+e\\mu_e))^2] = E[(e-e\\mu_e)^2] = \\sigma_e^2$$"
   ]
  },
  {
   "cell_type": "markdown",
   "id": "046b536c-2428-4112-a14b-1b99de530783",
   "metadata": {},
   "source": [
    "__2.__\n",
    "\n",
    "We have that $x_1$ and $x_2$ are random variables with means $\\mu_i$ and variances $\\sigma_i^2$, $i = 1,2$ and covariance $\\sigma_{12}$, and $a_1$ and $a_2$ are constant\n",
    "\n",
    "Now, with $y = a_1x_1 - a_2x_2$, we can get the mean and variance of $y$"
   ]
  },
  {
   "cell_type": "markdown",
   "id": "a69d710f-a99b-44d2-942e-fd1742f6ef80",
   "metadata": {},
   "source": [
    "$$E[y] = E[a_1x_1 - a_2x_2] = E[a_1x_1] - E[a_2x_2] = a_1E[x_1] - a_2E[x_2] = a_1\\mu_{x_1} - a_2\\mu_{x_2}$$\n",
    "$$Var_y = E[(y-E[y])^2] = E[((a_1x_1 - a_2x_2) - (a_1\\mu_{x_1} - a_2\\mu_{x_2}))^2] = E[(a_1(x_1-\\mu_{x_1}) - a_2(x_2-\\mu_{x_2}))^2] =$$\n",
    "$$= E[a_1^2(x_1-\\mu_{x_1})^2 + a_2^2)x_2-\\mu_{x_2})^2 - 2a_1a_2E[(x_1-\\mu_{x_1})(x_2-\\mu_{x_2})] =$$\n",
    "$$= a_1^2\\sigma_1^2 + a_2^2\\sigma_2^2 - 2a_1a_2\\sigma_{12}$$"
   ]
  },
  {
   "cell_type": "markdown",
   "id": "5d3551f0-5140-49b4-bd65-1df5a24532fd",
   "metadata": {},
   "source": [
    "__3.__\n",
    "\n",
    "We have that $x_1$ and $x_2$ are random variables with means $\\mu_i$ and variances $\\sigma_i^2$, $i = 1,2$ and correlation $p$, and $a_1$ is constant\n",
    "\n",
    "Now, with $y = a_1x_1 + (1-a_1)x_2$, we can get the mean and variance of $y$"
   ]
  },
  {
   "cell_type": "markdown",
   "id": "e083acfd-ecb6-4c85-9ff6-33d8e56070f9",
   "metadata": {},
   "source": [
    "$$E[y] = E[a_1x_1 + (1-a_1)x_2] = E[a_1x_1] + E[(1-a_1)x_2] = a_1E[x_1] + (1-a_1)E[x_2] =$$\n",
    "$$= a_1\\mu + (1-a_1)\\mu = a_1\\mu - a_1\\mu + \\mu = \\mu$$"
   ]
  },
  {
   "cell_type": "markdown",
   "id": "c267792e-c68a-4c5e-abee-3d19503a8431",
   "metadata": {},
   "source": [
    "For the variance, we use the formula for the variance of a linear combination of two correlated variables:\n",
    "\n",
    "$$Var(y) = a_1^2 \\sigma^2 + (1 - a_1)^2 \\sigma^2 + 2a_1(1 - a_1)Cov(x_1, x_2) =$$\n",
    "$$= \\sigma^2 \\left[ a_1^2 + (1 - a_1)^2 + 2a_1(1 - a_1) \\rho \\right] =$$\n",
    "$$= \\sigma^2 \\left[ 2a_1^2 - 2a_1 + 1 + 2a_1(1 - a_1)\\rho \\right]$$"
   ]
  },
  {
   "cell_type": "markdown",
   "id": "f58cdeef-af1d-4d43-9710-18349ee77951",
   "metadata": {},
   "source": [
    "__4.__\n",
    "\n",
    "We have that $x_i$, $i = 1,2,\\dots,n$ are $n$ random variables, with mean $\\mu_i = \\mu$, and variances $\\sigma_i^2 = \\sigma^2$, and the covariances are all zero\n",
    "\n",
    "Also, a random variable $y$ such that $y=\\frac{1}{n}\\Sigma_{i=1}^nx_i$"
   ]
  },
  {
   "cell_type": "markdown",
   "id": "29dc4353-f502-4021-aa5c-3e9a051aa35c",
   "metadata": {},
   "source": [
    "__(a)__\n",
    "\n",
    "$$E[y] = E[\\frac{1}{n}\\sum_{i=1}^nx_i] = \\frac{1}{n}\\sum_{i=1}^nE[x_i] = \\frac{1}{n}n\\mu = \\mu$$"
   ]
  },
  {
   "cell_type": "markdown",
   "id": "e341ca86-01ec-454b-af75-faa28daf92b3",
   "metadata": {},
   "source": [
    "$$Var(y) = Var\\left( \\frac{1}{n} \\sum_{i=1}^{n} x_i \\right) = \\frac{1}{n^2} \\sum_{i=1}^{n} Var(x_i) = \\frac{1}{n^2} \\cdot n \\sigma^2 = \\frac{\\sigma^2}{n}$$"
   ]
  },
  {
   "cell_type": "markdown",
   "id": "00d03e91-049c-4511-9f1f-e93216402501",
   "metadata": {},
   "source": [
    "__(b)__\n",
    "\n",
    "Definition of correlation:\n",
    "\n",
    "$$Corr(y, x_i) = \\frac{ Cov(y, x_i) }{ \\sqrt{ Var(y) } \\cdot \\sqrt{ Var(x_i) } }$$"
   ]
  },
  {
   "cell_type": "markdown",
   "id": "2d78f55d-1559-494d-a948-af3ffa3ccb68",
   "metadata": {},
   "source": [
    "Now:\n",
    "\n",
    "$$Cov(y, x_i) = Cov\\left( \\frac{1}{n} \\sum_{j=1}^{n} x_j, x_i \\right) = \\frac{1}{n} \\sum_{j=1}^{n} Cov(x_j, x_i)$$"
   ]
  },
  {
   "cell_type": "markdown",
   "id": "2d512e21-cd5c-464f-b1d2-7849a57ed96d",
   "metadata": {},
   "source": [
    "Since $Cov(x_j, x_i) = 0$ for $j \\neq i$, and $Cov(x_i, x_i) = \\sigma^2$, we get:\n",
    "\n",
    "$$Cov(y, x_i) = \\frac{1}{n} \\cdot \\sigma^2 = \\frac{\\sigma^2}{n}$$"
   ]
  },
  {
   "cell_type": "markdown",
   "id": "0a3b20f4-49e1-423e-978c-f376adfa12be",
   "metadata": {},
   "source": [
    "Finally:\n",
    "\n",
    "$$Corr(y, x_i) = \\frac{ \\frac{\\sigma^2}{n} }{ \\sqrt{ \\frac{\\sigma^2}{n} } \\cdot \\sqrt{ \\sigma^2 } }\n",
    "= \\frac{ \\frac{\\sigma^2}{n} }{ \\frac{\\sigma}{\\sqrt{n}} \\cdot \\sigma }\n",
    "= \\frac{ \\frac{\\sigma^2}{n} }{ \\frac{\\sigma^2}{\\sqrt{n}} }\n",
    "= \\frac{1}{\\sqrt{n}}$$"
   ]
  },
  {
   "cell_type": "markdown",
   "id": "076aefcc-f7fd-4155-9832-62ac241c91a1",
   "metadata": {},
   "source": [
    "__5.__\n",
    "\n",
    "__(a)__\n",
    "\n",
    "$$E[y] = E[h^T x]$$\n",
    "$$E[y] = h^T E[x]$$\n",
    "$$E[y] = h^T (\\mu{1}_n)$$\n",
    "$$E[y] = \\mu \\cdot h^T {1}_n$$\n",
    "$$h^T 1_n = \\left( \\frac{1}{n} 1_n \\right)^T 1_n = \\frac{1}{n} \\sum_{i=1}^{n} 1 = \\frac{n}{n} = 1$$\n",
    "$$E[y] = \\mu \\cdot 1 = \\mu$$"
   ]
  },
  {
   "cell_type": "markdown",
   "id": "87a03bb3-a3db-41c3-b49b-6b262f438c07",
   "metadata": {},
   "source": [
    "$$Var(y) = Var(h^T x) = h^T \\, \\text{Var}(x) \\, h$$\n",
    "$$Var(y) = h^T (\\sigma^2 I_n) h = \\sigma^2 \\cdot h^T h$$\n",
    "$$h^T h = \\left( \\frac{1}{n} 1_n \\right)^T \\left( \\frac{1}{n} 1_n \\right) = \\frac{1}{n^2} \\cdot 1_n^T 1_n = \\frac{1}{n^2} \\cdot n = \\frac{1}{n}$$\n",
    "$$Var(y) = \\sigma^2 \\cdot \\frac{1}{n} = \\frac{\\sigma^2}{n}$$"
   ]
  },
  {
   "cell_type": "markdown",
   "id": "f425e475-70e4-410e-b5eb-1acc390b1fde",
   "metadata": {},
   "source": [
    "__(b)__\n",
    "\n",
    "(...)"
   ]
  },
  {
   "cell_type": "markdown",
   "id": "da55e24f-d226-4981-85ee-f5a400bea7e7",
   "metadata": {},
   "source": [
    "__<u>Training Exercise P.2<u>__\n",
    "\n",
    "(...)"
   ]
  }
 ],
 "metadata": {
  "kernelspec": {
   "display_name": "Python 3 (ipykernel)",
   "language": "python",
   "name": "python3"
  },
  "language_info": {
   "codemirror_mode": {
    "name": "ipython",
    "version": 3
   },
   "file_extension": ".py",
   "mimetype": "text/x-python",
   "name": "python",
   "nbconvert_exporter": "python",
   "pygments_lexer": "ipython3",
   "version": "3.12.0"
  }
 },
 "nbformat": 4,
 "nbformat_minor": 5
}
