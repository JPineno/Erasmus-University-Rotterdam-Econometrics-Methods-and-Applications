{
 "cells": [
  {
   "cell_type": "markdown",
   "id": "4e78c3f5-5dd2-4859-afe6-8a206123f79c",
   "metadata": {},
   "source": [
    "# <u>Case Project - House Prices<u>\n",
    "\n",
    "__<u>Jorge Pineño Pérez<u>__ / Case Project - House Prices"
   ]
  },
  {
   "cell_type": "markdown",
   "id": "ff74cf34-0b93-467a-8102-8443ffe3d5f3",
   "metadata": {},
   "source": [
    "This project is of an applied nature and uses data that are available in the data file Capstone-HousePrices. The source of these data is Anglin and Gencay, “Semiparametric Estimation of a Hedonic Price Function”(Journal of Applied Econometrics 11, 1996, pages 633-648). We consider the modeling and prediction of house prices. Data are available for 546 observations of the following variables:\n",
    "\n",
    "- `sell`: Sale price of the house\n",
    "- `lot`: Lot size of the property in square feet\n",
    "- `bdms`: Number of bedrooms\n",
    "- `fb`: Number of full bathrooms\n",
    "- `sty`: Number of stories excluding basement\n",
    "- `drv`: Dummy that is 1 if the house has a driveway and 0 otherwise\n",
    "- `rec`: Dummy that is 1 if the house has a recreational room and 0 otherwise\n",
    "- `ffin`: Dummy that is 1 if the house has a full finished basement and 0 otherwise\n",
    "- `ghw`: Dummy that is 1 if the house uses gas for hot water heating and 0 otherwise\n",
    "- `ca`: Dummy that is 1 if the house uses gas for hot water heating and 0 otherwise\n",
    "- `gar`: Dummy that is 1 if there is central air conditioning and 0 otherwise\n",
    "- `gar`: Number of covered garage places\n",
    "- `reg`: Dummy that is 1 if the house is located in a preferred neighborhood of the city and 0 otherwise\n",
    "- `obs`: Observation number, needed in part (h)"
   ]
  },
  {
   "cell_type": "code",
   "execution_count": 8,
   "id": "11e789ef-d10f-4ae0-9c80-e1c72555a188",
   "metadata": {
    "scrolled": true
   },
   "outputs": [
    {
     "name": "stderr",
     "output_type": "stream",
     "text": [
      "Warning message:\n",
      "\"package 'readxl' is in use and will not be installed\"\n",
      "Warning message:\n",
      "\"package 'dplyr' is in use and will not be installed\"\n",
      "Warning message:\n",
      "\"package 'tidyr' is in use and will not be installed\"\n",
      "Installing package into 'C:/Users/USER/AppData/Local/R/win-library/4.4'\n",
      "(as 'lib' is unspecified)\n",
      "\n"
     ]
    },
    {
     "name": "stdout",
     "output_type": "stream",
     "text": [
      "package 'lmtest' successfully unpacked and MD5 sums checked\n"
     ]
    },
    {
     "name": "stderr",
     "output_type": "stream",
     "text": [
      "Warning message:\n",
      "\"cannot remove prior installation of package 'lmtest'\"\n",
      "Warning message in file.copy(savedcopy, lib, recursive = TRUE):\n",
      "\"problema al copiar C:\\Users\\USER\\AppData\\Local\\R\\win-library\\4.4\\00LOCK\\lmtest\\libs\\x64\\lmtest.dll  a C:\\Users\\USER\\AppData\\Local\\R\\win-library\\4.4\\lmtest\\libs\\x64\\lmtest.dll: Permission denied\"\n",
      "Warning message:\n",
      "\"restored 'lmtest'\"\n"
     ]
    },
    {
     "name": "stdout",
     "output_type": "stream",
     "text": [
      "\n",
      "The downloaded binary packages are in\n",
      "\tC:\\Users\\USER\\AppData\\Local\\Temp\\Rtmp8ccCDE\\downloaded_packages\n"
     ]
    },
    {
     "name": "stderr",
     "output_type": "stream",
     "text": [
      "Cargando paquete requerido: zoo\n",
      "\n",
      "\n",
      "Adjuntando el paquete: 'zoo'\n",
      "\n",
      "\n",
      "The following objects are masked from 'package:base':\n",
      "\n",
      "    as.Date, as.Date.numeric\n",
      "\n",
      "\n"
     ]
    }
   ],
   "source": [
    "# import packages\n",
    "install.packages(\"readxl\")\n",
    "install.packages(\"dplyr\")\n",
    "install.packages(\"tidyr\")\n",
    "install.packages(\"lmtest\")\n",
    "library(readxl)\n",
    "library(dplyr)\n",
    "library(tidyr)\n",
    "library(lmtest)"
   ]
  },
  {
   "cell_type": "code",
   "execution_count": 6,
   "id": "40ab45c1-d6ed-4738-8274-c67e38420866",
   "metadata": {},
   "outputs": [
    {
     "data": {
      "text/html": [
       "<table class=\"dataframe\">\n",
       "<caption>A tibble: 6 × 13</caption>\n",
       "<thead>\n",
       "\t<tr><th scope=col>obs</th><th scope=col>sell</th><th scope=col>lot</th><th scope=col>bdms</th><th scope=col>fb</th><th scope=col>sty</th><th scope=col>drv</th><th scope=col>rec</th><th scope=col>ffin</th><th scope=col>ghw</th><th scope=col>ca</th><th scope=col>gar</th><th scope=col>reg</th></tr>\n",
       "\t<tr><th scope=col>&lt;dbl&gt;</th><th scope=col>&lt;dbl&gt;</th><th scope=col>&lt;dbl&gt;</th><th scope=col>&lt;dbl&gt;</th><th scope=col>&lt;dbl&gt;</th><th scope=col>&lt;dbl&gt;</th><th scope=col>&lt;dbl&gt;</th><th scope=col>&lt;dbl&gt;</th><th scope=col>&lt;dbl&gt;</th><th scope=col>&lt;dbl&gt;</th><th scope=col>&lt;dbl&gt;</th><th scope=col>&lt;dbl&gt;</th><th scope=col>&lt;dbl&gt;</th></tr>\n",
       "</thead>\n",
       "<tbody>\n",
       "\t<tr><td>1</td><td>42000</td><td>5850</td><td>3</td><td>1</td><td>2</td><td>1</td><td>0</td><td>1</td><td>0</td><td>0</td><td>1</td><td>0</td></tr>\n",
       "\t<tr><td>2</td><td>38500</td><td>4000</td><td>2</td><td>1</td><td>1</td><td>1</td><td>0</td><td>0</td><td>0</td><td>0</td><td>0</td><td>0</td></tr>\n",
       "\t<tr><td>3</td><td>49500</td><td>3060</td><td>3</td><td>1</td><td>1</td><td>1</td><td>0</td><td>0</td><td>0</td><td>0</td><td>0</td><td>0</td></tr>\n",
       "\t<tr><td>4</td><td>60500</td><td>6650</td><td>3</td><td>1</td><td>2</td><td>1</td><td>1</td><td>0</td><td>0</td><td>0</td><td>0</td><td>0</td></tr>\n",
       "\t<tr><td>5</td><td>61000</td><td>6360</td><td>2</td><td>1</td><td>1</td><td>1</td><td>0</td><td>0</td><td>0</td><td>0</td><td>0</td><td>0</td></tr>\n",
       "\t<tr><td>6</td><td>66000</td><td>4160</td><td>3</td><td>1</td><td>1</td><td>1</td><td>1</td><td>1</td><td>0</td><td>1</td><td>0</td><td>0</td></tr>\n",
       "</tbody>\n",
       "</table>\n"
      ],
      "text/latex": [
       "A tibble: 6 × 13\n",
       "\\begin{tabular}{lllllllllllll}\n",
       " obs & sell & lot & bdms & fb & sty & drv & rec & ffin & ghw & ca & gar & reg\\\\\n",
       " <dbl> & <dbl> & <dbl> & <dbl> & <dbl> & <dbl> & <dbl> & <dbl> & <dbl> & <dbl> & <dbl> & <dbl> & <dbl>\\\\\n",
       "\\hline\n",
       "\t 1 & 42000 & 5850 & 3 & 1 & 2 & 1 & 0 & 1 & 0 & 0 & 1 & 0\\\\\n",
       "\t 2 & 38500 & 4000 & 2 & 1 & 1 & 1 & 0 & 0 & 0 & 0 & 0 & 0\\\\\n",
       "\t 3 & 49500 & 3060 & 3 & 1 & 1 & 1 & 0 & 0 & 0 & 0 & 0 & 0\\\\\n",
       "\t 4 & 60500 & 6650 & 3 & 1 & 2 & 1 & 1 & 0 & 0 & 0 & 0 & 0\\\\\n",
       "\t 5 & 61000 & 6360 & 2 & 1 & 1 & 1 & 0 & 0 & 0 & 0 & 0 & 0\\\\\n",
       "\t 6 & 66000 & 4160 & 3 & 1 & 1 & 1 & 1 & 1 & 0 & 1 & 0 & 0\\\\\n",
       "\\end{tabular}\n"
      ],
      "text/markdown": [
       "\n",
       "A tibble: 6 × 13\n",
       "\n",
       "| obs &lt;dbl&gt; | sell &lt;dbl&gt; | lot &lt;dbl&gt; | bdms &lt;dbl&gt; | fb &lt;dbl&gt; | sty &lt;dbl&gt; | drv &lt;dbl&gt; | rec &lt;dbl&gt; | ffin &lt;dbl&gt; | ghw &lt;dbl&gt; | ca &lt;dbl&gt; | gar &lt;dbl&gt; | reg &lt;dbl&gt; |\n",
       "|---|---|---|---|---|---|---|---|---|---|---|---|---|\n",
       "| 1 | 42000 | 5850 | 3 | 1 | 2 | 1 | 0 | 1 | 0 | 0 | 1 | 0 |\n",
       "| 2 | 38500 | 4000 | 2 | 1 | 1 | 1 | 0 | 0 | 0 | 0 | 0 | 0 |\n",
       "| 3 | 49500 | 3060 | 3 | 1 | 1 | 1 | 0 | 0 | 0 | 0 | 0 | 0 |\n",
       "| 4 | 60500 | 6650 | 3 | 1 | 2 | 1 | 1 | 0 | 0 | 0 | 0 | 0 |\n",
       "| 5 | 61000 | 6360 | 2 | 1 | 1 | 1 | 0 | 0 | 0 | 0 | 0 | 0 |\n",
       "| 6 | 66000 | 4160 | 3 | 1 | 1 | 1 | 1 | 1 | 0 | 1 | 0 | 0 |\n",
       "\n"
      ],
      "text/plain": [
       "  obs sell  lot  bdms fb sty drv rec ffin ghw ca gar reg\n",
       "1 1   42000 5850 3    1  2   1   0   1    0   0  1   0  \n",
       "2 2   38500 4000 2    1  1   1   0   0    0   0  0   0  \n",
       "3 3   49500 3060 3    1  1   1   0   0    0   0  0   0  \n",
       "4 4   60500 6650 3    1  2   1   1   0    0   0  0   0  \n",
       "5 5   61000 6360 2    1  1   1   0   0    0   0  0   0  \n",
       "6 6   66000 4160 3    1  1   1   1   1    0   1  0   0  "
      ]
     },
     "metadata": {},
     "output_type": "display_data"
    }
   ],
   "source": [
    "# import the dataframe\n",
    "housep <- read_excel('Case_HousePrices-round1.xls')\n",
    "head(housep)"
   ]
  },
  {
   "cell_type": "markdown",
   "id": "66b196e8-0195-4115-b8f1-c4216a5796fb",
   "metadata": {},
   "source": [
    "__(a)__ Consider a linear model where the sale price of a house is the dependent variable and the explanatory variables are the other variables given above. Perform a test for linearity. What do you conclude based on the test result?"
   ]
  },
  {
   "cell_type": "code",
   "execution_count": 7,
   "id": "638f1213-91ce-42ae-ae75-08ca38593465",
   "metadata": {},
   "outputs": [
    {
     "data": {
      "text/plain": [
       "\n",
       "Call:\n",
       "lm(formula = sell ~ lot + bdms + fb + sty + drv + rec + ffin + \n",
       "    ghw + ca + gar + reg, data = housep)\n",
       "\n",
       "Residuals:\n",
       "   Min     1Q Median     3Q    Max \n",
       "-41389  -9307   -591   7353  74875 \n",
       "\n",
       "Coefficients:\n",
       "              Estimate Std. Error t value Pr(>|t|)    \n",
       "(Intercept) -4038.3504  3409.4713  -1.184 0.236762    \n",
       "lot             3.5463     0.3503  10.124  < 2e-16 ***\n",
       "bdms         1832.0035  1047.0002   1.750 0.080733 .  \n",
       "fb          14335.5585  1489.9209   9.622  < 2e-16 ***\n",
       "sty          6556.9457   925.2899   7.086 4.37e-12 ***\n",
       "drv          6687.7789  2045.2458   3.270 0.001145 ** \n",
       "rec          4511.2838  1899.9577   2.374 0.017929 *  \n",
       "ffin         5452.3855  1588.0239   3.433 0.000642 ***\n",
       "ghw         12831.4063  3217.5971   3.988 7.60e-05 ***\n",
       "ca          12632.8904  1555.0211   8.124 3.15e-15 ***\n",
       "gar          4244.8290   840.5442   5.050 6.07e-07 ***\n",
       "reg          9369.5132  1669.0907   5.614 3.19e-08 ***\n",
       "---\n",
       "Signif. codes:  0 '***' 0.001 '**' 0.01 '*' 0.05 '.' 0.1 ' ' 1\n",
       "\n",
       "Residual standard error: 15420 on 534 degrees of freedom\n",
       "Multiple R-squared:  0.6731,\tAdjusted R-squared:  0.6664 \n",
       "F-statistic: 99.97 on 11 and 534 DF,  p-value: < 2.2e-16\n"
      ]
     },
     "metadata": {},
     "output_type": "display_data"
    }
   ],
   "source": [
    "# regress \"sell\" on the other variables\n",
    "price <- lm(sell ~ lot + bdms + fb + sty + drv + rec + ffin + ghw + ca + gar + reg, data=housep)\n",
    "summary(price)"
   ]
  },
  {
   "cell_type": "code",
   "execution_count": 38,
   "id": "5700e431-ca0b-45fa-a44b-bd960c68dca4",
   "metadata": {},
   "outputs": [
    {
     "data": {
      "text/plain": [
       "\n",
       "\tRESET test\n",
       "\n",
       "data:  price\n",
       "RESET = 13.481, df1 = 2, df2 = 532, p-value = 1.944e-06\n"
      ]
     },
     "metadata": {},
     "output_type": "display_data"
    }
   ],
   "source": [
    "# perform the RESET test on our regression (adding squared and cubed fitted values)\n",
    "price_reset <- resettest(price, power=2:3, type='fitted')\n",
    "price_reset"
   ]
  },
  {
   "cell_type": "markdown",
   "id": "515d2b53-ed78-4208-9129-60d99d64eba0",
   "metadata": {},
   "source": [
    "With the RESET test, we have checked to see whether adding nonlinear transformations of the fitted values significally improved the model. The p-value which we got as a result was well below the significance level of 5%. This suggests that the model appears to be incorrectly specified, i.e. linearity is adequate."
   ]
  },
  {
   "cell_type": "markdown",
   "id": "0527ebe6-c6ce-4113-948d-42ab8a73ca87",
   "metadata": {},
   "source": [
    "__(b)__ Now consider a linear model where the log of the sale price of the house is the dependent variable and the explanatory variables are as before. Perform again the test for linearity. What do you conclude now?"
   ]
  },
  {
   "cell_type": "code",
   "execution_count": 24,
   "id": "e73fd111-eb3b-4ed6-977f-1e3318630156",
   "metadata": {},
   "outputs": [
    {
     "data": {
      "text/html": [
       "<table class=\"dataframe\">\n",
       "<caption>A tibble: 6 × 14</caption>\n",
       "<thead>\n",
       "\t<tr><th scope=col>obs</th><th scope=col>sell</th><th scope=col>lot</th><th scope=col>bdms</th><th scope=col>fb</th><th scope=col>sty</th><th scope=col>drv</th><th scope=col>rec</th><th scope=col>ffin</th><th scope=col>ghw</th><th scope=col>ca</th><th scope=col>gar</th><th scope=col>reg</th><th scope=col>logsell</th></tr>\n",
       "\t<tr><th scope=col>&lt;dbl&gt;</th><th scope=col>&lt;dbl&gt;</th><th scope=col>&lt;dbl&gt;</th><th scope=col>&lt;dbl&gt;</th><th scope=col>&lt;dbl&gt;</th><th scope=col>&lt;dbl&gt;</th><th scope=col>&lt;dbl&gt;</th><th scope=col>&lt;dbl&gt;</th><th scope=col>&lt;dbl&gt;</th><th scope=col>&lt;dbl&gt;</th><th scope=col>&lt;dbl&gt;</th><th scope=col>&lt;dbl&gt;</th><th scope=col>&lt;dbl&gt;</th><th scope=col>&lt;dbl&gt;</th></tr>\n",
       "</thead>\n",
       "<tbody>\n",
       "\t<tr><td>1</td><td>42000</td><td>5850</td><td>3</td><td>1</td><td>2</td><td>1</td><td>0</td><td>1</td><td>0</td><td>0</td><td>1</td><td>0</td><td>10.64542</td></tr>\n",
       "\t<tr><td>2</td><td>38500</td><td>4000</td><td>2</td><td>1</td><td>1</td><td>1</td><td>0</td><td>0</td><td>0</td><td>0</td><td>0</td><td>0</td><td>10.55841</td></tr>\n",
       "\t<tr><td>3</td><td>49500</td><td>3060</td><td>3</td><td>1</td><td>1</td><td>1</td><td>0</td><td>0</td><td>0</td><td>0</td><td>0</td><td>0</td><td>10.80973</td></tr>\n",
       "\t<tr><td>4</td><td>60500</td><td>6650</td><td>3</td><td>1</td><td>2</td><td>1</td><td>1</td><td>0</td><td>0</td><td>0</td><td>0</td><td>0</td><td>11.01040</td></tr>\n",
       "\t<tr><td>5</td><td>61000</td><td>6360</td><td>2</td><td>1</td><td>1</td><td>1</td><td>0</td><td>0</td><td>0</td><td>0</td><td>0</td><td>0</td><td>11.01863</td></tr>\n",
       "\t<tr><td>6</td><td>66000</td><td>4160</td><td>3</td><td>1</td><td>1</td><td>1</td><td>1</td><td>1</td><td>0</td><td>1</td><td>0</td><td>0</td><td>11.09741</td></tr>\n",
       "</tbody>\n",
       "</table>\n"
      ],
      "text/latex": [
       "A tibble: 6 × 14\n",
       "\\begin{tabular}{llllllllllllll}\n",
       " obs & sell & lot & bdms & fb & sty & drv & rec & ffin & ghw & ca & gar & reg & logsell\\\\\n",
       " <dbl> & <dbl> & <dbl> & <dbl> & <dbl> & <dbl> & <dbl> & <dbl> & <dbl> & <dbl> & <dbl> & <dbl> & <dbl> & <dbl>\\\\\n",
       "\\hline\n",
       "\t 1 & 42000 & 5850 & 3 & 1 & 2 & 1 & 0 & 1 & 0 & 0 & 1 & 0 & 10.64542\\\\\n",
       "\t 2 & 38500 & 4000 & 2 & 1 & 1 & 1 & 0 & 0 & 0 & 0 & 0 & 0 & 10.55841\\\\\n",
       "\t 3 & 49500 & 3060 & 3 & 1 & 1 & 1 & 0 & 0 & 0 & 0 & 0 & 0 & 10.80973\\\\\n",
       "\t 4 & 60500 & 6650 & 3 & 1 & 2 & 1 & 1 & 0 & 0 & 0 & 0 & 0 & 11.01040\\\\\n",
       "\t 5 & 61000 & 6360 & 2 & 1 & 1 & 1 & 0 & 0 & 0 & 0 & 0 & 0 & 11.01863\\\\\n",
       "\t 6 & 66000 & 4160 & 3 & 1 & 1 & 1 & 1 & 1 & 0 & 1 & 0 & 0 & 11.09741\\\\\n",
       "\\end{tabular}\n"
      ],
      "text/markdown": [
       "\n",
       "A tibble: 6 × 14\n",
       "\n",
       "| obs &lt;dbl&gt; | sell &lt;dbl&gt; | lot &lt;dbl&gt; | bdms &lt;dbl&gt; | fb &lt;dbl&gt; | sty &lt;dbl&gt; | drv &lt;dbl&gt; | rec &lt;dbl&gt; | ffin &lt;dbl&gt; | ghw &lt;dbl&gt; | ca &lt;dbl&gt; | gar &lt;dbl&gt; | reg &lt;dbl&gt; | logsell &lt;dbl&gt; |\n",
       "|---|---|---|---|---|---|---|---|---|---|---|---|---|---|\n",
       "| 1 | 42000 | 5850 | 3 | 1 | 2 | 1 | 0 | 1 | 0 | 0 | 1 | 0 | 10.64542 |\n",
       "| 2 | 38500 | 4000 | 2 | 1 | 1 | 1 | 0 | 0 | 0 | 0 | 0 | 0 | 10.55841 |\n",
       "| 3 | 49500 | 3060 | 3 | 1 | 1 | 1 | 0 | 0 | 0 | 0 | 0 | 0 | 10.80973 |\n",
       "| 4 | 60500 | 6650 | 3 | 1 | 2 | 1 | 1 | 0 | 0 | 0 | 0 | 0 | 11.01040 |\n",
       "| 5 | 61000 | 6360 | 2 | 1 | 1 | 1 | 0 | 0 | 0 | 0 | 0 | 0 | 11.01863 |\n",
       "| 6 | 66000 | 4160 | 3 | 1 | 1 | 1 | 1 | 1 | 0 | 1 | 0 | 0 | 11.09741 |\n",
       "\n"
      ],
      "text/plain": [
       "  obs sell  lot  bdms fb sty drv rec ffin ghw ca gar reg logsell \n",
       "1 1   42000 5850 3    1  2   1   0   1    0   0  1   0   10.64542\n",
       "2 2   38500 4000 2    1  1   1   0   0    0   0  0   0   10.55841\n",
       "3 3   49500 3060 3    1  1   1   0   0    0   0  0   0   10.80973\n",
       "4 4   60500 6650 3    1  2   1   1   0    0   0  0   0   11.01040\n",
       "5 5   61000 6360 2    1  1   1   0   0    0   0  0   0   11.01863\n",
       "6 6   66000 4160 3    1  1   1   1   1    0   1  0   0   11.09741"
      ]
     },
     "metadata": {},
     "output_type": "display_data"
    }
   ],
   "source": [
    "# add the log of \"sell\" to the dataset\n",
    "housep <- housep %>% mutate(logsell=log(sell))\n",
    "head(housep)"
   ]
  },
  {
   "cell_type": "code",
   "execution_count": 26,
   "id": "f11b7967-d34b-4191-b2b0-09553e69b500",
   "metadata": {},
   "outputs": [
    {
     "data": {
      "text/plain": [
       "\n",
       "Call:\n",
       "lm(formula = logsell ~ lot + bdms + fb + sty + drv + rec + ffin + \n",
       "    ghw + ca + gar + reg, data = housep)\n",
       "\n",
       "Residuals:\n",
       "     Min       1Q   Median       3Q      Max \n",
       "-0.67865 -0.12211  0.01666  0.12868  0.67737 \n",
       "\n",
       "Coefficients:\n",
       "             Estimate Std. Error t value Pr(>|t|)    \n",
       "(Intercept) 1.003e+01  4.724e-02 212.210  < 2e-16 ***\n",
       "lot         5.057e-05  4.854e-06  10.418  < 2e-16 ***\n",
       "bdms        3.402e-02  1.451e-02   2.345  0.01939 *  \n",
       "fb          1.678e-01  2.065e-02   8.126 3.10e-15 ***\n",
       "sty         9.227e-02  1.282e-02   7.197 2.10e-12 ***\n",
       "drv         1.307e-01  2.834e-02   4.610 5.04e-06 ***\n",
       "rec         7.352e-02  2.633e-02   2.792  0.00542 ** \n",
       "ffin        9.940e-02  2.200e-02   4.517 7.72e-06 ***\n",
       "ghw         1.784e-01  4.458e-02   4.000 7.22e-05 ***\n",
       "ca          1.780e-01  2.155e-02   8.262 1.14e-15 ***\n",
       "gar         5.076e-02  1.165e-02   4.358 1.58e-05 ***\n",
       "reg         1.271e-01  2.313e-02   5.496 6.02e-08 ***\n",
       "---\n",
       "Signif. codes:  0 '***' 0.001 '**' 0.01 '*' 0.05 '.' 0.1 ' ' 1\n",
       "\n",
       "Residual standard error: 0.2137 on 534 degrees of freedom\n",
       "Multiple R-squared:  0.6766,\tAdjusted R-squared:  0.6699 \n",
       "F-statistic: 101.6 on 11 and 534 DF,  p-value: < 2.2e-16\n"
      ]
     },
     "metadata": {},
     "output_type": "display_data"
    }
   ],
   "source": [
    "# regress \"logsell\" on the other variables\n",
    "logprice <- lm(logsell ~ lot + bdms + fb + sty + drv + rec + ffin + ghw + ca + gar + reg, data=housep)\n",
    "summary(logprice)"
   ]
  },
  {
   "cell_type": "code",
   "execution_count": 37,
   "id": "83604381-d2b4-4e89-acb2-c5e1f26113d1",
   "metadata": {},
   "outputs": [
    {
     "data": {
      "text/plain": [
       "\n",
       "\tRESET test\n",
       "\n",
       "data:  logprice\n",
       "RESET = 0.13767, df1 = 2, df2 = 532, p-value = 0.8714\n"
      ]
     },
     "metadata": {},
     "output_type": "display_data"
    }
   ],
   "source": [
    "# perform the RESET test on our regression (adding squared and cubed fitted values)\n",
    "logprice_reset <- resettest(logprice, power=2:3, type='fitted')\n",
    "logprice_reset"
   ]
  },
  {
   "cell_type": "markdown",
   "id": "85ed45af-7dee-4c31-8da8-51ed7f9527c9",
   "metadata": {},
   "source": [
    "As we can see, the p-value which we got as a result this time was 0.87, which is this time well above the significance level of 5%. This suggests that there is less evidence suggesting that adding non-linear or ommitted variables would improve the model, and that it appears to be correctly specified, i.e. linear, as it is."
   ]
  },
  {
   "cell_type": "markdown",
   "id": "a26dde60-4e3e-41cd-b201-0f5821fb6685",
   "metadata": {},
   "source": [
    "__(c)__ Continue with the linear model from question (b). Estimate a model that includes both the lot size variable and its logarithm, as well as all other explanatory variables without transformation. What is your conclusion, should we include lot size itself or its logarithm?"
   ]
  },
  {
   "cell_type": "code",
   "execution_count": 42,
   "id": "8b27147a-7497-44b5-8b3d-40474bd809d8",
   "metadata": {},
   "outputs": [
    {
     "data": {
      "text/plain": [
       "\n",
       "Call:\n",
       "lm(formula = logsell ~ lot + log(lot) + bdms + fb + sty + drv + \n",
       "    rec + ffin + ghw + ca + gar + reg, data = housep)\n",
       "\n",
       "Residuals:\n",
       "     Min       1Q   Median       3Q      Max \n",
       "-0.68573 -0.12380  0.00785  0.12521  0.68112 \n",
       "\n",
       "Coefficients:\n",
       "              Estimate Std. Error t value Pr(>|t|)    \n",
       "(Intercept)  7.150e+00  6.830e-01  10.469  < 2e-16 ***\n",
       "lot         -1.490e-05  1.624e-05  -0.918 0.359086    \n",
       "log(lot)     3.827e-01  9.070e-02   4.219 2.88e-05 ***\n",
       "bdms         3.489e-02  1.429e-02   2.442 0.014915 *  \n",
       "fb           1.659e-01  2.033e-02   8.161 2.40e-15 ***\n",
       "sty          9.121e-02  1.263e-02   7.224 1.76e-12 ***\n",
       "drv          1.068e-01  2.847e-02   3.752 0.000195 ***\n",
       "rec          5.467e-02  2.630e-02   2.078 0.038156 *  \n",
       "ffin         1.052e-01  2.171e-02   4.848 1.64e-06 ***\n",
       "ghw          1.791e-01  4.390e-02   4.079 5.20e-05 ***\n",
       "ca           1.643e-01  2.146e-02   7.657 9.01e-14 ***\n",
       "gar          4.826e-02  1.148e-02   4.203 3.09e-05 ***\n",
       "reg          1.344e-01  2.284e-02   5.884 7.10e-09 ***\n",
       "---\n",
       "Signif. codes:  0 '***' 0.001 '**' 0.01 '*' 0.05 '.' 0.1 ' ' 1\n",
       "\n",
       "Residual standard error: 0.2104 on 533 degrees of freedom\n",
       "Multiple R-squared:  0.687,\tAdjusted R-squared:   0.68 \n",
       "F-statistic: 97.51 on 12 and 533 DF,  p-value: < 2.2e-16\n"
      ]
     },
     "metadata": {},
     "output_type": "display_data"
    }
   ],
   "source": [
    "# regress \"logsell\" on the other variables, and the log of \"lot\"\n",
    "logprice2 <- lm(logsell ~ lot + log(lot) + bdms + fb + sty + drv + rec + ffin + ghw + ca + gar + reg, data=housep)\n",
    "summary(logprice2)"
   ]
  },
  {
   "cell_type": "code",
   "execution_count": 40,
   "id": "77f7654c-7141-4950-b8c2-b01af5172222",
   "metadata": {},
   "outputs": [
    {
     "data": {
      "text/html": [
       "<table class=\"dataframe\">\n",
       "<caption>A tibble: 6 × 15</caption>\n",
       "<thead>\n",
       "\t<tr><th scope=col>obs</th><th scope=col>sell</th><th scope=col>lot</th><th scope=col>bdms</th><th scope=col>fb</th><th scope=col>sty</th><th scope=col>drv</th><th scope=col>rec</th><th scope=col>ffin</th><th scope=col>ghw</th><th scope=col>ca</th><th scope=col>gar</th><th scope=col>reg</th><th scope=col>logsell</th><th scope=col>loglot</th></tr>\n",
       "\t<tr><th scope=col>&lt;dbl&gt;</th><th scope=col>&lt;dbl&gt;</th><th scope=col>&lt;dbl&gt;</th><th scope=col>&lt;dbl&gt;</th><th scope=col>&lt;dbl&gt;</th><th scope=col>&lt;dbl&gt;</th><th scope=col>&lt;dbl&gt;</th><th scope=col>&lt;dbl&gt;</th><th scope=col>&lt;dbl&gt;</th><th scope=col>&lt;dbl&gt;</th><th scope=col>&lt;dbl&gt;</th><th scope=col>&lt;dbl&gt;</th><th scope=col>&lt;dbl&gt;</th><th scope=col>&lt;dbl&gt;</th><th scope=col>&lt;dbl&gt;</th></tr>\n",
       "</thead>\n",
       "<tbody>\n",
       "\t<tr><td>1</td><td>42000</td><td>5850</td><td>3</td><td>1</td><td>2</td><td>1</td><td>0</td><td>1</td><td>0</td><td>0</td><td>1</td><td>0</td><td>10.64542</td><td>8.674197</td></tr>\n",
       "\t<tr><td>2</td><td>38500</td><td>4000</td><td>2</td><td>1</td><td>1</td><td>1</td><td>0</td><td>0</td><td>0</td><td>0</td><td>0</td><td>0</td><td>10.55841</td><td>8.294050</td></tr>\n",
       "\t<tr><td>3</td><td>49500</td><td>3060</td><td>3</td><td>1</td><td>1</td><td>1</td><td>0</td><td>0</td><td>0</td><td>0</td><td>0</td><td>0</td><td>10.80973</td><td>8.026170</td></tr>\n",
       "\t<tr><td>4</td><td>60500</td><td>6650</td><td>3</td><td>1</td><td>2</td><td>1</td><td>1</td><td>0</td><td>0</td><td>0</td><td>0</td><td>0</td><td>11.01040</td><td>8.802372</td></tr>\n",
       "\t<tr><td>5</td><td>61000</td><td>6360</td><td>2</td><td>1</td><td>1</td><td>1</td><td>0</td><td>0</td><td>0</td><td>0</td><td>0</td><td>0</td><td>11.01863</td><td>8.757784</td></tr>\n",
       "\t<tr><td>6</td><td>66000</td><td>4160</td><td>3</td><td>1</td><td>1</td><td>1</td><td>1</td><td>1</td><td>0</td><td>1</td><td>0</td><td>0</td><td>11.09741</td><td>8.333270</td></tr>\n",
       "</tbody>\n",
       "</table>\n"
      ],
      "text/latex": [
       "A tibble: 6 × 15\n",
       "\\begin{tabular}{lllllllllllllll}\n",
       " obs & sell & lot & bdms & fb & sty & drv & rec & ffin & ghw & ca & gar & reg & logsell & loglot\\\\\n",
       " <dbl> & <dbl> & <dbl> & <dbl> & <dbl> & <dbl> & <dbl> & <dbl> & <dbl> & <dbl> & <dbl> & <dbl> & <dbl> & <dbl> & <dbl>\\\\\n",
       "\\hline\n",
       "\t 1 & 42000 & 5850 & 3 & 1 & 2 & 1 & 0 & 1 & 0 & 0 & 1 & 0 & 10.64542 & 8.674197\\\\\n",
       "\t 2 & 38500 & 4000 & 2 & 1 & 1 & 1 & 0 & 0 & 0 & 0 & 0 & 0 & 10.55841 & 8.294050\\\\\n",
       "\t 3 & 49500 & 3060 & 3 & 1 & 1 & 1 & 0 & 0 & 0 & 0 & 0 & 0 & 10.80973 & 8.026170\\\\\n",
       "\t 4 & 60500 & 6650 & 3 & 1 & 2 & 1 & 1 & 0 & 0 & 0 & 0 & 0 & 11.01040 & 8.802372\\\\\n",
       "\t 5 & 61000 & 6360 & 2 & 1 & 1 & 1 & 0 & 0 & 0 & 0 & 0 & 0 & 11.01863 & 8.757784\\\\\n",
       "\t 6 & 66000 & 4160 & 3 & 1 & 1 & 1 & 1 & 1 & 0 & 1 & 0 & 0 & 11.09741 & 8.333270\\\\\n",
       "\\end{tabular}\n"
      ],
      "text/markdown": [
       "\n",
       "A tibble: 6 × 15\n",
       "\n",
       "| obs &lt;dbl&gt; | sell &lt;dbl&gt; | lot &lt;dbl&gt; | bdms &lt;dbl&gt; | fb &lt;dbl&gt; | sty &lt;dbl&gt; | drv &lt;dbl&gt; | rec &lt;dbl&gt; | ffin &lt;dbl&gt; | ghw &lt;dbl&gt; | ca &lt;dbl&gt; | gar &lt;dbl&gt; | reg &lt;dbl&gt; | logsell &lt;dbl&gt; | loglot &lt;dbl&gt; |\n",
       "|---|---|---|---|---|---|---|---|---|---|---|---|---|---|---|\n",
       "| 1 | 42000 | 5850 | 3 | 1 | 2 | 1 | 0 | 1 | 0 | 0 | 1 | 0 | 10.64542 | 8.674197 |\n",
       "| 2 | 38500 | 4000 | 2 | 1 | 1 | 1 | 0 | 0 | 0 | 0 | 0 | 0 | 10.55841 | 8.294050 |\n",
       "| 3 | 49500 | 3060 | 3 | 1 | 1 | 1 | 0 | 0 | 0 | 0 | 0 | 0 | 10.80973 | 8.026170 |\n",
       "| 4 | 60500 | 6650 | 3 | 1 | 2 | 1 | 1 | 0 | 0 | 0 | 0 | 0 | 11.01040 | 8.802372 |\n",
       "| 5 | 61000 | 6360 | 2 | 1 | 1 | 1 | 0 | 0 | 0 | 0 | 0 | 0 | 11.01863 | 8.757784 |\n",
       "| 6 | 66000 | 4160 | 3 | 1 | 1 | 1 | 1 | 1 | 0 | 1 | 0 | 0 | 11.09741 | 8.333270 |\n",
       "\n"
      ],
      "text/plain": [
       "  obs sell  lot  bdms fb sty drv rec ffin ghw ca gar reg logsell  loglot  \n",
       "1 1   42000 5850 3    1  2   1   0   1    0   0  1   0   10.64542 8.674197\n",
       "2 2   38500 4000 2    1  1   1   0   0    0   0  0   0   10.55841 8.294050\n",
       "3 3   49500 3060 3    1  1   1   0   0    0   0  0   0   10.80973 8.026170\n",
       "4 4   60500 6650 3    1  2   1   1   0    0   0  0   0   11.01040 8.802372\n",
       "5 5   61000 6360 2    1  1   1   0   0    0   0  0   0   11.01863 8.757784\n",
       "6 6   66000 4160 3    1  1   1   1   1    0   1  0   0   11.09741 8.333270"
      ]
     },
     "metadata": {},
     "output_type": "display_data"
    }
   ],
   "source": [
    "# add the log of \"lot\" to the dataset\n",
    "housep <- housep %>% mutate(loglot=log(lot))\n",
    "head(housep)"
   ]
  },
  {
   "cell_type": "markdown",
   "id": "0d7cf849-f40d-4fd6-b16e-1e802952aaa7",
   "metadata": {},
   "source": [
    "After introducing the logarithm of lot size as an explanatory variable to our model, we can see how it is able to replace the variable without any transformation, and provide better results (p-value wise). This suggests that lot size does not affect house prices in a linear way, but rather exponentially."
   ]
  },
  {
   "cell_type": "markdown",
   "id": "462102f6-e70c-4ad5-8a5e-52810bab8864",
   "metadata": {},
   "source": [
    "__(d)__ Consider now a model where the log of the sale price of the house is the dependent variable and the explanatory variables are the log transformation of lot size, with all other explanatory variables as before. We now consider interaction effects of the log lot size with the other variables. Construct these interaction variables. How many are individually significant?"
   ]
  },
  {
   "cell_type": "code",
   "execution_count": 43,
   "id": "ddb80271-d8cc-4a44-b96e-8adb2c465bfd",
   "metadata": {},
   "outputs": [
    {
     "data": {
      "text/plain": [
       "\n",
       "Call:\n",
       "lm(formula = logsell ~ loglot * (bdms + fb + sty + drv + rec + \n",
       "    ffin + ghw + ca + gar + reg), data = housep)\n",
       "\n",
       "Residuals:\n",
       "     Min       1Q   Median       3Q      Max \n",
       "-0.68306 -0.11612  0.00591  0.12486  0.65998 \n",
       "\n",
       "Coefficients:\n",
       "             Estimate Std. Error t value Pr(>|t|)    \n",
       "(Intercept)  8.966499   1.070667   8.375 5.09e-16 ***\n",
       "loglot       0.152685   0.128294   1.190   0.2345    \n",
       "bdms         0.019075   0.326700   0.058   0.9535    \n",
       "fb          -0.368234   0.429048  -0.858   0.3911    \n",
       "sty          0.488885   0.309700   1.579   0.1150    \n",
       "drv         -1.463371   0.717225  -2.040   0.0418 *  \n",
       "rec          1.673992   0.655919   2.552   0.0110 *  \n",
       "ffin        -0.031844   0.445543  -0.071   0.9430    \n",
       "ghw         -0.505889   0.902733  -0.560   0.5754    \n",
       "ca          -0.340276   0.496041  -0.686   0.4930    \n",
       "gar          0.401941   0.258646   1.554   0.1208    \n",
       "reg          0.118484   0.479856   0.247   0.8051    \n",
       "loglot:bdms  0.002070   0.038654   0.054   0.9573    \n",
       "loglot:fb    0.062037   0.050145   1.237   0.2166    \n",
       "loglot:sty  -0.046361   0.035942  -1.290   0.1977    \n",
       "loglot:drv   0.191542   0.087361   2.193   0.0288 *  \n",
       "loglot:rec  -0.188462   0.076373  -2.468   0.0139 *  \n",
       "loglot:ffin  0.015913   0.052851   0.301   0.7635    \n",
       "loglot:ghw   0.081135   0.106929   0.759   0.4483    \n",
       "loglot:ca    0.059549   0.058024   1.026   0.3052    \n",
       "loglot:gar  -0.041359   0.030142  -1.372   0.1706    \n",
       "loglot:reg   0.001515   0.055990   0.027   0.9784    \n",
       "---\n",
       "Signif. codes:  0 '***' 0.001 '**' 0.01 '*' 0.05 '.' 0.1 ' ' 1\n",
       "\n",
       "Residual standard error: 0.2095 on 524 degrees of freedom\n",
       "Multiple R-squared:  0.6951,\tAdjusted R-squared:  0.6829 \n",
       "F-statistic: 56.89 on 21 and 524 DF,  p-value: < 2.2e-16\n"
      ]
     },
     "metadata": {},
     "output_type": "display_data"
    }
   ],
   "source": [
    "# regress \"logsell\" on the other variables, the log of \"lot\", and their interaction with it\n",
    "logprice3 <- lm(logsell ~ loglot * (bdms + fb + sty + drv + rec + ffin + ghw + ca + gar + reg), data=housep)\n",
    "summary(logprice3)"
   ]
  },
  {
   "cell_type": "markdown",
   "id": "ffea1a06-d96f-41f6-be40-e87dd7182392",
   "metadata": {},
   "source": [
    "As we can see from our results, only two of the interaction terms would be statistically significant: the interation between the log of lot size and the driveway dummy (`loglot:drv`), and between the log of lot size and the recreational room dummy (`loglot:rec`)."
   ]
  },
  {
   "cell_type": "markdown",
   "id": "e2b18e07-0b08-4021-bf1a-7d33ad9acf49",
   "metadata": {},
   "source": [
    "__(e)__ Perform an F-test for the joint significance of the interaction effects from question (d)."
   ]
  },
  {
   "cell_type": "code",
   "execution_count": 44,
   "id": "129095f5-1948-4adf-ba04-76ffded8267e",
   "metadata": {},
   "outputs": [
    {
     "data": {
      "text/html": [
       "<table class=\"dataframe\">\n",
       "<caption>A anova: 2 × 6</caption>\n",
       "<thead>\n",
       "\t<tr><th></th><th scope=col>Res.Df</th><th scope=col>RSS</th><th scope=col>Df</th><th scope=col>Sum of Sq</th><th scope=col>F</th><th scope=col>Pr(&gt;F)</th></tr>\n",
       "\t<tr><th></th><th scope=col>&lt;dbl&gt;</th><th scope=col>&lt;dbl&gt;</th><th scope=col>&lt;dbl&gt;</th><th scope=col>&lt;dbl&gt;</th><th scope=col>&lt;dbl&gt;</th><th scope=col>&lt;dbl&gt;</th></tr>\n",
       "</thead>\n",
       "<tbody>\n",
       "\t<tr><th scope=row>1</th><td>534</td><td>23.63828</td><td>NA</td><td>       NA</td><td>      NA</td><td>       NA</td></tr>\n",
       "\t<tr><th scope=row>2</th><td>524</td><td>22.99273</td><td>10</td><td>0.6455496</td><td>1.471195</td><td>0.1465622</td></tr>\n",
       "</tbody>\n",
       "</table>\n"
      ],
      "text/latex": [
       "A anova: 2 × 6\n",
       "\\begin{tabular}{r|llllll}\n",
       "  & Res.Df & RSS & Df & Sum of Sq & F & Pr(>F)\\\\\n",
       "  & <dbl> & <dbl> & <dbl> & <dbl> & <dbl> & <dbl>\\\\\n",
       "\\hline\n",
       "\t1 & 534 & 23.63828 & NA &        NA &       NA &        NA\\\\\n",
       "\t2 & 524 & 22.99273 & 10 & 0.6455496 & 1.471195 & 0.1465622\\\\\n",
       "\\end{tabular}\n"
      ],
      "text/markdown": [
       "\n",
       "A anova: 2 × 6\n",
       "\n",
       "| <!--/--> | Res.Df &lt;dbl&gt; | RSS &lt;dbl&gt; | Df &lt;dbl&gt; | Sum of Sq &lt;dbl&gt; | F &lt;dbl&gt; | Pr(&gt;F) &lt;dbl&gt; |\n",
       "|---|---|---|---|---|---|---|\n",
       "| 1 | 534 | 23.63828 | NA |        NA |       NA |        NA |\n",
       "| 2 | 524 | 22.99273 | 10 | 0.6455496 | 1.471195 | 0.1465622 |\n",
       "\n"
      ],
      "text/plain": [
       "  Res.Df RSS      Df Sum of Sq F        Pr(>F)   \n",
       "1 534    23.63828 NA        NA       NA        NA\n",
       "2 524    22.99273 10 0.6455496 1.471195 0.1465622"
      ]
     },
     "metadata": {},
     "output_type": "display_data"
    }
   ],
   "source": [
    "logprice4 <- lm(logsell ~ loglot + bdms + fb + sty + drv + rec + ffin + ghw + ca + gar + reg,\n",
    "                data=housep) # use only \"loglot\"\n",
    "\n",
    "# create an Anova table to test tests whether all the interaction \n",
    "# terms together contribute significantly to explaining \"logsell\"\n",
    "anova(logprice4, logprice3)"
   ]
  },
  {
   "cell_type": "markdown",
   "id": "1128d6b6-5a22-4b4e-8874-9df7c2cf339c",
   "metadata": {},
   "source": [
    "Since we have got as a result a p-value higher than the significance level 5% (0.15), we fail to reject the null hypothesis that all interation terms do not improve the model. Therefore, we can say that as a group, they do not significantly improve the model’s ability to explain `logsell`."
   ]
  },
  {
   "cell_type": "markdown",
   "id": "c97a9285-df4c-4842-8254-95cc2d529ac8",
   "metadata": {},
   "source": [
    "__(g)__ One may argue that some of the explanatory variables are endogenous and that there may be omitted variables. For example, the ‘condition’ of the house in terms of how it is maintained is not a variable (and difficult to measure) but will affect the house price. It will also affect, or be reflected in, some of the other variables, such as whether the house has an air conditioning (which is mostly in newer houses). If the condition of the house is missing, will the effect of air conditioning on the (log of the) sale price be over- or underestimated? (For this question no computer calculations are required.)"
   ]
  },
  {
   "cell_type": "markdown",
   "id": "ed42504c-3b43-4d4d-8966-e0325d82091e",
   "metadata": {},
   "source": [
    "If the condition of the house is omitted from the model and is positively correlated with both the presence of air conditioning and the house price, then the estimated effect of air conditioning on the log of the sale price will be overestimated. This is because the regression will attribute to air conditioning not only its own effect but also part of the positive effect of house condition (omitted variable bias). Since better-maintained or newer homes are more likely to have air conditioning and also tend to sell for higher prices, the unobserved “condition” variable inflates the apparent impact of air conditioning on price."
   ]
  },
  {
   "cell_type": "markdown",
   "id": "8322ef5b-9659-4300-89c4-f807892824b3",
   "metadata": {},
   "source": [
    "__(h)__ Finally we analyze the predictive ability of the model. Consider again the model where the log of the sale price of the house is the dependent variable and the explanatory variables are the log transformation of lot size, with all other explanatory variables in their original form (and no interaction effects). Estimate the parameters of the model using the first 400 observations. Make predictions on the log of the price and calculate the MAE for the other 146 observations. How good is the predictive power of the model (relative to the variability in the log of the price)?"
   ]
  },
  {
   "cell_type": "code",
   "execution_count": 45,
   "id": "8b0703e0-20e5-493d-b05e-08210cb37ca3",
   "metadata": {},
   "outputs": [
    {
     "data": {
      "text/html": [
       "0.127841568745135"
      ],
      "text/latex": [
       "0.127841568745135"
      ],
      "text/markdown": [
       "0.127841568745135"
      ],
      "text/plain": [
       "[1] 0.1278416"
      ]
     },
     "metadata": {},
     "output_type": "display_data"
    }
   ],
   "source": [
    "# divide the dataset between the estimation and testing observations\n",
    "estim <- housep[1:400, ]\n",
    "test <- housep[401:546, ]\n",
    "\n",
    "# estimate the model using only the 400 first observations\n",
    "logprice_estim <- lm(logsell ~ loglot + bdms + fb + sty + drv + rec + ffin + ghw + ca + gar + reg,\n",
    "                     data=estim)\n",
    "\n",
    "# make predictions for the 146 other observations\n",
    "logsell_pred <- predict(logprice_estim, newdata=test)\n",
    "\n",
    "# compute MAE\n",
    "logsell_actual <- test$logsell\n",
    "mae <- mean(abs(logsell_pred - logsell_actual))\n",
    "mae"
   ]
  },
  {
   "cell_type": "code",
   "execution_count": 46,
   "id": "085c8bd2-4d00-4640-bfd5-44ff04f266cf",
   "metadata": {},
   "outputs": [
    {
     "data": {
      "text/html": [
       "0.288772326694441"
      ],
      "text/latex": [
       "0.288772326694441"
      ],
      "text/markdown": [
       "0.288772326694441"
      ],
      "text/plain": [
       "[1] 0.2887723"
      ]
     },
     "metadata": {},
     "output_type": "display_data"
    }
   ],
   "source": [
    "# get the standard deviation of \"logsell\" in the test set\n",
    "logsell_sd <- sd(logsell_actual)\n",
    "logsell_sd"
   ]
  },
  {
   "cell_type": "markdown",
   "id": "36e80f77-df63-4e1f-b30a-7822575a0c5e",
   "metadata": {},
   "source": [
    "With a mean absolute error (MAE) of 0.13 and a standard deviation of 0.29 in the log of the sale price, the model demonstrates reasonably good predictive power. Since the MAE is less than half the standard deviation, the prediction errors are relatively small compared to the natural variability in the data. This indicates that, althouth not perfect, the model is able to capture a substantial portion of the variation in house prices and provides a meaningful improvement over simple predictions based on the average price alone."
   ]
  }
 ],
 "metadata": {
  "kernelspec": {
   "display_name": "R",
   "language": "R",
   "name": "ir"
  },
  "language_info": {
   "codemirror_mode": "r",
   "file_extension": ".r",
   "mimetype": "text/x-r-source",
   "name": "R",
   "pygments_lexer": "r",
   "version": "4.4.3"
  }
 },
 "nbformat": 4,
 "nbformat_minor": 5
}
