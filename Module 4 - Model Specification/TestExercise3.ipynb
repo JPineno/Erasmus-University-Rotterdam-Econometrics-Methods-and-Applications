{
 "cells": [
  {
   "cell_type": "markdown",
   "id": "4e78c3f5-5dd2-4859-afe6-8a206123f79c",
   "metadata": {},
   "source": [
    "# <u>Test Exercice 3 - Model Specification<u>\n",
    "\n",
    "__<u>Jorge Pineño Pérez<u>__ / Module 4 - Model Specification"
   ]
  },
  {
   "cell_type": "markdown",
   "id": "bd7ebc1b-3f57-4ee9-abea-3614ead1c0c7",
   "metadata": {},
   "source": [
    "This test exercise is of an applied nature and uses data that are available in the data file TestExer3. We consider the so-called Taylor rule for setting the (nominal) interest rate. This model describes the level of the nominal interest rate that the central bank sets as a function of equilibrium real interest rate and inflation, and considers the current level of inflation and production. Taylor (1993) considers the model:\n",
    "\n",
    "$$i_t = r* + \\pi_t + 0.5(\\pi_t-\\pi*) + 0.5g_t,$$\n",
    "\n",
    "with it the Federal funds target interest rate at time $t$, $r∗$ the equilibrium real federal funds rate, $π_t$ a measure of inflation, $π∗$ the target inflation rate and $g_t$ the output gap (how much actual output deviates from potential output). We simplify the Taylor rule in two manners. First, we avoid determining $r∗$ and $π∗$ and simply add an intercept to the model to capture these two variables (and any other deviations in the means). Second, we consider production $y_t$ rather than the output gap. In this form the Taylor rule is\n",
    "\n",
    "$$i_t = \\beta_1 + \\beta_2 \\pi_t + \\beta_3 y_t + \\epsilon_t.\\tag{1}$$\n",
    "\n",
    "Monthly data are available for the USA over the period 1960 through 2014 for the following variables:\n",
    "\n",
    "- `INTRATE`: Federal funds interest rate\n",
    "- `INFL`: Inflation\n",
    "- `PROD`: Production\n",
    "- `UNEMPL`: Unemployment\n",
    "- `COMMPRI`: Commodity prices\n",
    "- `PCE`: Personal consumption expenditure\n",
    "- `PERSINC`: Personal income\n",
    "- `HOUST`: Housing starts"
   ]
  },
  {
   "cell_type": "code",
   "execution_count": 55,
   "id": "11e789ef-d10f-4ae0-9c80-e1c72555a188",
   "metadata": {
    "scrolled": true
   },
   "outputs": [
    {
     "name": "stderr",
     "output_type": "stream",
     "text": [
      "Warning message:\n",
      "\"package 'readxl' is in use and will not be installed\"\n",
      "Warning message:\n",
      "\"package 'dplyr' is in use and will not be installed\"\n",
      "Warning message:\n",
      "\"package 'lmtest' is in use and will not be installed\"\n",
      "Warning message:\n",
      "\"package 'lubridate' is in use and will not be installed\"\n",
      "Installing package into 'C:/Users/USER/AppData/Local/R/win-library/4.4'\n",
      "(as 'lib' is unspecified)\n",
      "\n",
      "also installing the dependencies 'xts', 'TTR', 'quadprog', 'quantmod'\n",
      "\n",
      "\n"
     ]
    },
    {
     "name": "stdout",
     "output_type": "stream",
     "text": [
      "package 'xts' successfully unpacked and MD5 sums checked\n",
      "package 'TTR' successfully unpacked and MD5 sums checked\n",
      "package 'quadprog' successfully unpacked and MD5 sums checked\n",
      "package 'quantmod' successfully unpacked and MD5 sums checked\n",
      "package 'tseries' successfully unpacked and MD5 sums checked\n",
      "\n",
      "The downloaded binary packages are in\n",
      "\tC:\\Users\\USER\\AppData\\Local\\Temp\\RtmpuuFHD3\\downloaded_packages\n"
     ]
    },
    {
     "name": "stderr",
     "output_type": "stream",
     "text": [
      "Registered S3 method overwritten by 'quantmod':\n",
      "  method            from\n",
      "  as.zoo.data.frame zoo \n",
      "\n"
     ]
    }
   ],
   "source": [
    "# import packages\n",
    "install.packages(\"readxl\")\n",
    "install.packages(\"dplyr\")\n",
    "install.packages(\"lmtest\")\n",
    "install.packages(\"lubridate\")\n",
    "install.packages(\"tseries\")\n",
    "library(readxl)\n",
    "library(dplyr)\n",
    "library(lmtest)\n",
    "library(lubridate)\n",
    "library(tseries)"
   ]
  },
  {
   "cell_type": "code",
   "execution_count": 40,
   "id": "da7aa091-b598-4fb1-b0b8-3fcd9f90265a",
   "metadata": {},
   "outputs": [
    {
     "data": {
      "text/html": [
       "<table class=\"dataframe\">\n",
       "<caption>A tibble: 6 × 9</caption>\n",
       "<thead>\n",
       "\t<tr><th scope=col>OBS</th><th scope=col>INTRATE</th><th scope=col>INFL</th><th scope=col>PROD</th><th scope=col>UNEMPL</th><th scope=col>COMMPRI</th><th scope=col>PCE</th><th scope=col>PERSINC</th><th scope=col>HOUST</th></tr>\n",
       "\t<tr><th scope=col>&lt;chr&gt;</th><th scope=col>&lt;dbl&gt;</th><th scope=col>&lt;dbl&gt;</th><th scope=col>&lt;dbl&gt;</th><th scope=col>&lt;dbl&gt;</th><th scope=col>&lt;dbl&gt;</th><th scope=col>&lt;dbl&gt;</th><th scope=col>&lt;dbl&gt;</th><th scope=col>&lt;dbl&gt;</th></tr>\n",
       "</thead>\n",
       "<tbody>\n",
       "\t<tr><td>1960:1</td><td>3.99</td><td>1.24095</td><td>10.03653</td><td>3.41845</td><td>  7.95262</td><td>5.70962</td><td>1.68419</td><td>-11.88896</td></tr>\n",
       "\t<tr><td>1960:2</td><td>3.97</td><td>1.41379</td><td> 6.96248</td><td>3.46575</td><td> -8.55856</td><td>5.06452</td><td>1.33094</td><td> -9.83803</td></tr>\n",
       "\t<tr><td>1960:3</td><td>3.84</td><td>1.51881</td><td> 4.49681</td><td>2.71993</td><td>-16.83599</td><td>5.55733</td><td>0.89195</td><td>-31.54321</td></tr>\n",
       "\t<tr><td>1960:4</td><td>3.92</td><td>1.93237</td><td> 1.50624</td><td>2.79820</td><td> -5.03145</td><td>7.77351</td><td>0.67636</td><td>-18.93082</td></tr>\n",
       "\t<tr><td>1960:5</td><td>3.85</td><td>1.82507</td><td>-0.11398</td><td>1.72552</td><td>-12.44240</td><td>4.39179</td><td>0.33667</td><td>-15.15354</td></tr>\n",
       "\t<tr><td>1960:6</td><td>3.32</td><td>1.71762</td><td>-1.48262</td><td>1.24443</td><td>-24.31655</td><td>3.73509</td><td>0.06719</td><td>-17.03260</td></tr>\n",
       "</tbody>\n",
       "</table>\n"
      ],
      "text/latex": [
       "A tibble: 6 × 9\n",
       "\\begin{tabular}{lllllllll}\n",
       " OBS & INTRATE & INFL & PROD & UNEMPL & COMMPRI & PCE & PERSINC & HOUST\\\\\n",
       " <chr> & <dbl> & <dbl> & <dbl> & <dbl> & <dbl> & <dbl> & <dbl> & <dbl>\\\\\n",
       "\\hline\n",
       "\t 1960:1 & 3.99 & 1.24095 & 10.03653 & 3.41845 &   7.95262 & 5.70962 & 1.68419 & -11.88896\\\\\n",
       "\t 1960:2 & 3.97 & 1.41379 &  6.96248 & 3.46575 &  -8.55856 & 5.06452 & 1.33094 &  -9.83803\\\\\n",
       "\t 1960:3 & 3.84 & 1.51881 &  4.49681 & 2.71993 & -16.83599 & 5.55733 & 0.89195 & -31.54321\\\\\n",
       "\t 1960:4 & 3.92 & 1.93237 &  1.50624 & 2.79820 &  -5.03145 & 7.77351 & 0.67636 & -18.93082\\\\\n",
       "\t 1960:5 & 3.85 & 1.82507 & -0.11398 & 1.72552 & -12.44240 & 4.39179 & 0.33667 & -15.15354\\\\\n",
       "\t 1960:6 & 3.32 & 1.71762 & -1.48262 & 1.24443 & -24.31655 & 3.73509 & 0.06719 & -17.03260\\\\\n",
       "\\end{tabular}\n"
      ],
      "text/markdown": [
       "\n",
       "A tibble: 6 × 9\n",
       "\n",
       "| OBS &lt;chr&gt; | INTRATE &lt;dbl&gt; | INFL &lt;dbl&gt; | PROD &lt;dbl&gt; | UNEMPL &lt;dbl&gt; | COMMPRI &lt;dbl&gt; | PCE &lt;dbl&gt; | PERSINC &lt;dbl&gt; | HOUST &lt;dbl&gt; |\n",
       "|---|---|---|---|---|---|---|---|---|\n",
       "| 1960:1 | 3.99 | 1.24095 | 10.03653 | 3.41845 |   7.95262 | 5.70962 | 1.68419 | -11.88896 |\n",
       "| 1960:2 | 3.97 | 1.41379 |  6.96248 | 3.46575 |  -8.55856 | 5.06452 | 1.33094 |  -9.83803 |\n",
       "| 1960:3 | 3.84 | 1.51881 |  4.49681 | 2.71993 | -16.83599 | 5.55733 | 0.89195 | -31.54321 |\n",
       "| 1960:4 | 3.92 | 1.93237 |  1.50624 | 2.79820 |  -5.03145 | 7.77351 | 0.67636 | -18.93082 |\n",
       "| 1960:5 | 3.85 | 1.82507 | -0.11398 | 1.72552 | -12.44240 | 4.39179 | 0.33667 | -15.15354 |\n",
       "| 1960:6 | 3.32 | 1.71762 | -1.48262 | 1.24443 | -24.31655 | 3.73509 | 0.06719 | -17.03260 |\n",
       "\n"
      ],
      "text/plain": [
       "  OBS    INTRATE INFL    PROD     UNEMPL  COMMPRI   PCE     PERSINC HOUST    \n",
       "1 1960:1 3.99    1.24095 10.03653 3.41845   7.95262 5.70962 1.68419 -11.88896\n",
       "2 1960:2 3.97    1.41379  6.96248 3.46575  -8.55856 5.06452 1.33094  -9.83803\n",
       "3 1960:3 3.84    1.51881  4.49681 2.71993 -16.83599 5.55733 0.89195 -31.54321\n",
       "4 1960:4 3.92    1.93237  1.50624 2.79820  -5.03145 7.77351 0.67636 -18.93082\n",
       "5 1960:5 3.85    1.82507 -0.11398 1.72552 -12.44240 4.39179 0.33667 -15.15354\n",
       "6 1960:6 3.32    1.71762 -1.48262 1.24443 -24.31655 3.73509 0.06719 -17.03260"
      ]
     },
     "metadata": {},
     "output_type": "display_data"
    }
   ],
   "source": [
    "# import the stock index dataframe\n",
    "fred <- read_excel('TestExer-3-TaylorRule-round1.xlsx')\n",
    "head(fred)"
   ]
  },
  {
   "cell_type": "markdown",
   "id": "944609f7-4714-436d-b8ea-e0c1301cbc91",
   "metadata": {},
   "source": [
    "__(a)__ Use general-to-specific to come to a model. Start by regressing the federal funds rate on the other 7 variables and eliminate 1 variable at a time."
   ]
  },
  {
   "cell_type": "code",
   "execution_count": 3,
   "id": "f4977f47-f57c-4632-a253-9a69e8e379d7",
   "metadata": {},
   "outputs": [
    {
     "data": {
      "text/plain": [
       "\n",
       "Call:\n",
       "lm(formula = INTRATE ~ INFL + PROD + UNEMPL + COMMPRI + PCE + \n",
       "    PERSINC + HOUST, data = fred)\n",
       "\n",
       "Residuals:\n",
       "    Min      1Q  Median      3Q     Max \n",
       "-7.4066 -1.4340 -0.1175  1.3555  7.7386 \n",
       "\n",
       "Coefficients:\n",
       "             Estimate Std. Error t value Pr(>|t|)    \n",
       "(Intercept) -0.221161   0.244995  -0.903   0.3670    \n",
       "INFL         0.696059   0.062229  11.185  < 2e-16 ***\n",
       "PROD        -0.057743   0.039900  -1.447   0.1483    \n",
       "UNEMPL       0.102481   0.096757   1.059   0.2899    \n",
       "COMMPRI     -0.005521   0.002974  -1.857   0.0638 .  \n",
       "PCE          0.344380   0.069455   4.958 9.08e-07 ***\n",
       "PERSINC      0.246999   0.060590   4.077 5.13e-05 ***\n",
       "HOUST       -0.019411   0.004672  -4.155 3.68e-05 ***\n",
       "---\n",
       "Signif. codes:  0 '***' 0.001 '**' 0.01 '*' 0.05 '.' 0.1 ' ' 1\n",
       "\n",
       "Residual standard error: 2.188 on 652 degrees of freedom\n",
       "Multiple R-squared:  0.6385,\tAdjusted R-squared:  0.6346 \n",
       "F-statistic: 164.5 on 7 and 652 DF,  p-value: < 2.2e-16\n"
      ]
     },
     "metadata": {},
     "output_type": "display_data"
    }
   ],
   "source": [
    "# start by regressing \"INTRATE\" on the other 7 variables\n",
    "intrate1 <- lm(INTRATE ~ INFL + PROD + UNEMPL + COMMPRI + PCE + PERSINC + HOUST, data=fred)\n",
    "summary(intrate1)"
   ]
  },
  {
   "cell_type": "code",
   "execution_count": 4,
   "id": "e02b9935-eb5d-45bb-8052-7d30090c5a07",
   "metadata": {},
   "outputs": [
    {
     "data": {
      "text/plain": [
       "\n",
       "Call:\n",
       "lm(formula = INTRATE ~ INFL + PROD + COMMPRI + PCE + PERSINC + \n",
       "    HOUST, data = fred)\n",
       "\n",
       "Residuals:\n",
       "    Min      1Q  Median      3Q     Max \n",
       "-7.5322 -1.4982 -0.1005  1.3882  7.6954 \n",
       "\n",
       "Coefficients:\n",
       "             Estimate Std. Error t value Pr(>|t|)    \n",
       "(Intercept) -0.290851   0.236016  -1.232   0.2183    \n",
       "INFL         0.693309   0.062180  11.150  < 2e-16 ***\n",
       "PROD        -0.025460   0.025752  -0.989   0.3232    \n",
       "COMMPRI     -0.006514   0.002822  -2.308   0.0213 *  \n",
       "PCE          0.368561   0.065602   5.618 2.86e-08 ***\n",
       "PERSINC      0.251581   0.060441   4.162 3.57e-05 ***\n",
       "HOUST       -0.021023   0.004417  -4.760 2.39e-06 ***\n",
       "---\n",
       "Signif. codes:  0 '***' 0.001 '**' 0.01 '*' 0.05 '.' 0.1 ' ' 1\n",
       "\n",
       "Residual standard error: 2.188 on 653 degrees of freedom\n",
       "Multiple R-squared:  0.6379,\tAdjusted R-squared:  0.6346 \n",
       "F-statistic: 191.7 on 6 and 653 DF,  p-value: < 2.2e-16\n"
      ]
     },
     "metadata": {},
     "output_type": "display_data"
    }
   ],
   "source": [
    "# eliminate the variable with the highest P-value and repeat the process\n",
    "intrate1 <- lm(INTRATE ~ INFL + PROD + COMMPRI + PCE + PERSINC + HOUST, data=fred) # eliminate \"UNEMPL\"\n",
    "summary(intrate1)"
   ]
  },
  {
   "cell_type": "code",
   "execution_count": 5,
   "id": "032a4912-e1ff-4232-ba1e-61f82188104b",
   "metadata": {},
   "outputs": [
    {
     "data": {
      "text/plain": [
       "\n",
       "Call:\n",
       "lm(formula = INTRATE ~ INFL + COMMPRI + PCE + PERSINC + HOUST, \n",
       "    data = fred)\n",
       "\n",
       "Residuals:\n",
       "    Min      1Q  Median      3Q     Max \n",
       "-7.1631 -1.5244 -0.1125  1.3715  7.6725 \n",
       "\n",
       "Coefficients:\n",
       "             Estimate Std. Error t value Pr(>|t|)    \n",
       "(Intercept) -0.240119   0.230366  -1.042  0.29764    \n",
       "INFL         0.717527   0.057152  12.555  < 2e-16 ***\n",
       "COMMPRI     -0.007501   0.002640  -2.841  0.00464 ** \n",
       "PCE          0.340525   0.059156   5.756 1.32e-08 ***\n",
       "PERSINC      0.240242   0.059342   4.048 5.77e-05 ***\n",
       "HOUST       -0.020530   0.004389  -4.678 3.52e-06 ***\n",
       "---\n",
       "Signif. codes:  0 '***' 0.001 '**' 0.01 '*' 0.05 '.' 0.1 ' ' 1\n",
       "\n",
       "Residual standard error: 2.188 on 654 degrees of freedom\n",
       "Multiple R-squared:  0.6374,\tAdjusted R-squared:  0.6346 \n",
       "F-statistic: 229.9 on 5 and 654 DF,  p-value: < 2.2e-16\n"
      ]
     },
     "metadata": {},
     "output_type": "display_data"
    }
   ],
   "source": [
    "# eliminate the variable with the highest P-value and repeat the process\n",
    "intrate1 <- lm(INTRATE ~ INFL + COMMPRI + PCE + PERSINC + HOUST, data=fred) # eliminate \"PROD\"\n",
    "summary(intrate1)"
   ]
  },
  {
   "cell_type": "markdown",
   "id": "cd0029da-b079-40c5-9540-8daa9fa5192d",
   "metadata": {},
   "source": [
    "The final model we get using the general-to-specific approach is\n",
    "\n",
    "$$ i_t = -0.24 + 0.72\\pi_t - 0.01P_t + 0.34C_t + 0.24Y_t - 0.02H_t $$\n",
    "\n",
    "Where\n",
    "\n",
    "$\\pi_t =$ Inflation at year $t$\n",
    "\n",
    "$P_t =$ Commodity prices at year $t$\n",
    "\n",
    "$C_t =$ Personal consumption expenditure at year $t$\n",
    "\n",
    "$Y_t =$ Personal income at year $t$\n",
    "\n",
    "$H_t =$ Housing starts at year $t$"
   ]
  },
  {
   "cell_type": "markdown",
   "id": "725e00de-19ee-4739-99c5-3178b7ebc161",
   "metadata": {},
   "source": [
    "__(b)__ Use specific-to-general to come to a model. Start by regressing the federal funds rate on only a constant and add 1 variable at a time. Is the model the same as in (a)?"
   ]
  },
  {
   "cell_type": "code",
   "execution_count": 8,
   "id": "3ec98b14-cdf4-48ad-9572-b5f49ae67083",
   "metadata": {},
   "outputs": [
    {
     "data": {
      "text/plain": [
       "\n",
       "Call:\n",
       "lm(formula = INTRATE ~ 1, data = fred)\n",
       "\n",
       "Residuals:\n",
       "    Min      1Q  Median      3Q     Max \n",
       "-5.2776 -2.3476 -0.1276  1.7749 13.7524 \n",
       "\n",
       "Coefficients:\n",
       "            Estimate Std. Error t value Pr(>|t|)    \n",
       "(Intercept)   5.3476     0.1409   37.96   <2e-16 ***\n",
       "---\n",
       "Signif. codes:  0 '***' 0.001 '**' 0.01 '*' 0.05 '.' 0.1 ' ' 1\n",
       "\n",
       "Residual standard error: 3.619 on 659 degrees of freedom\n"
      ]
     },
     "metadata": {},
     "output_type": "display_data"
    }
   ],
   "source": [
    "# start by regressing \"INTRATE\" on only a constant\n",
    "intrate2 <- lm(INTRATE ~ 1, data=fred)\n",
    "summary(intrate2)"
   ]
  },
  {
   "cell_type": "code",
   "execution_count": 12,
   "id": "1e51b86f-3af6-471b-81a1-46dc545be2d1",
   "metadata": {},
   "outputs": [
    {
     "data": {
      "text/plain": [
       "\n",
       "Call:\n",
       "lm(formula = INTRATE ~ INFL, data = fred)\n",
       "\n",
       "Residuals:\n",
       "    Min      1Q  Median      3Q     Max \n",
       "-5.9947 -1.5592  0.0603  1.4990  8.2910 \n",
       "\n",
       "Coefficients:\n",
       "            Estimate Std. Error t value Pr(>|t|)    \n",
       "(Intercept)  1.64209    0.15863   10.35   <2e-16 ***\n",
       "INFL         0.94534    0.03268   28.93   <2e-16 ***\n",
       "---\n",
       "Signif. codes:  0 '***' 0.001 '**' 0.01 '*' 0.05 '.' 0.1 ' ' 1\n",
       "\n",
       "Residual standard error: 2.403 on 658 degrees of freedom\n",
       "Multiple R-squared:  0.5598,\tAdjusted R-squared:  0.5591 \n",
       "F-statistic: 836.6 on 1 and 658 DF,  p-value: < 2.2e-16\n"
      ]
     },
     "metadata": {},
     "output_type": "display_data"
    }
   ],
   "source": [
    "# add the next variable in the dataframe and repeat the process\n",
    "intrate2 <- lm(INTRATE ~ INFL, data=fred)\n",
    "summary(intrate2)"
   ]
  },
  {
   "cell_type": "code",
   "execution_count": 13,
   "id": "0d7370df-e89b-4b43-9e16-bfb2a628323c",
   "metadata": {},
   "outputs": [
    {
     "data": {
      "text/plain": [
       "\n",
       "Call:\n",
       "lm(formula = INTRATE ~ INFL + PROD, data = fred)\n",
       "\n",
       "Residuals:\n",
       "    Min      1Q  Median      3Q     Max \n",
       "-5.1592 -1.6762  0.0141  1.3730  7.9203 \n",
       "\n",
       "Coefficients:\n",
       "            Estimate Std. Error t value Pr(>|t|)    \n",
       "(Intercept)  1.24890    0.17619   7.088 3.51e-12 ***\n",
       "INFL         0.97498    0.03273  29.785  < 2e-16 ***\n",
       "PROD         0.09472    0.01971   4.805 1.92e-06 ***\n",
       "---\n",
       "Signif. codes:  0 '***' 0.001 '**' 0.01 '*' 0.05 '.' 0.1 ' ' 1\n",
       "\n",
       "Residual standard error: 2.364 on 657 degrees of freedom\n",
       "Multiple R-squared:  0.5747,\tAdjusted R-squared:  0.5734 \n",
       "F-statistic: 443.9 on 2 and 657 DF,  p-value: < 2.2e-16\n"
      ]
     },
     "metadata": {},
     "output_type": "display_data"
    }
   ],
   "source": [
    "# add the next variable in the dataframe and repeat the process\n",
    "intrate2 <- lm(INTRATE ~ INFL + PROD, data=fred)\n",
    "summary(intrate2)"
   ]
  },
  {
   "cell_type": "code",
   "execution_count": 14,
   "id": "d3773973-0dda-4832-b367-84a9537e3420",
   "metadata": {},
   "outputs": [
    {
     "data": {
      "text/plain": [
       "\n",
       "Call:\n",
       "lm(formula = INTRATE ~ INFL + PROD + UNEMPL, data = fred)\n",
       "\n",
       "Residuals:\n",
       "    Min      1Q  Median      3Q     Max \n",
       "-5.1064 -1.6080 -0.0871  1.2663  8.8865 \n",
       "\n",
       "Coefficients:\n",
       "            Estimate Std. Error t value Pr(>|t|)    \n",
       "(Intercept)  1.20414    0.17217   6.994 6.61e-12 ***\n",
       "INFL         0.89127    0.03508  25.404  < 2e-16 ***\n",
       "PROD        -0.07989    0.03582  -2.230   0.0261 *  \n",
       "UNEMPL       0.49783    0.08613   5.780 1.15e-08 ***\n",
       "---\n",
       "Signif. codes:  0 '***' 0.001 '**' 0.01 '*' 0.05 '.' 0.1 ' ' 1\n",
       "\n",
       "Residual standard error: 2.308 on 656 degrees of freedom\n",
       "Multiple R-squared:  0.5953,\tAdjusted R-squared:  0.5935 \n",
       "F-statistic: 321.7 on 3 and 656 DF,  p-value: < 2.2e-16\n"
      ]
     },
     "metadata": {},
     "output_type": "display_data"
    }
   ],
   "source": [
    "# add the next variable in the dataframe and repeat the process\n",
    "intrate2 <- lm(INTRATE ~ INFL + PROD + UNEMPL, data=fred)\n",
    "summary(intrate2)"
   ]
  },
  {
   "cell_type": "code",
   "execution_count": 15,
   "id": "f280165f-b9b9-4ddb-9abf-3d2b24f5947a",
   "metadata": {},
   "outputs": [
    {
     "data": {
      "text/plain": [
       "\n",
       "Call:\n",
       "lm(formula = INTRATE ~ INFL + PROD + UNEMPL + COMMPRI, data = fred)\n",
       "\n",
       "Residuals:\n",
       "    Min      1Q  Median      3Q     Max \n",
       "-5.2604 -1.5909 -0.0619  1.3232  8.7780 \n",
       "\n",
       "Coefficients:\n",
       "             Estimate Std. Error t value Pr(>|t|)    \n",
       "(Intercept)  1.194349   0.171870   6.949 8.89e-12 ***\n",
       "INFL         0.900884   0.035347  25.487  < 2e-16 ***\n",
       "PROD        -0.041463   0.040741  -1.018   0.3092    \n",
       "UNEMPL       0.434899   0.091716   4.742 2.60e-06 ***\n",
       "COMMPRI     -0.006087   0.003098  -1.965   0.0498 *  \n",
       "---\n",
       "Signif. codes:  0 '***' 0.001 '**' 0.01 '*' 0.05 '.' 0.1 ' ' 1\n",
       "\n",
       "Residual standard error: 2.303 on 655 degrees of freedom\n",
       "Multiple R-squared:  0.5977,\tAdjusted R-squared:  0.5952 \n",
       "F-statistic: 243.3 on 4 and 655 DF,  p-value: < 2.2e-16\n"
      ]
     },
     "metadata": {},
     "output_type": "display_data"
    }
   ],
   "source": [
    "# add the next variable in the dataframe and repeat the process\n",
    "intrate2 <- lm(INTRATE ~ INFL + PROD + UNEMPL + COMMPRI, data=fred)\n",
    "summary(intrate2)"
   ]
  },
  {
   "cell_type": "code",
   "execution_count": 16,
   "id": "1f06afdc-75b3-454e-a09a-3b4e3753e633",
   "metadata": {},
   "outputs": [
    {
     "data": {
      "text/plain": [
       "\n",
       "Call:\n",
       "lm(formula = INTRATE ~ INFL + UNEMPL + COMMPRI + PCE, data = fred)\n",
       "\n",
       "Residuals:\n",
       "    Min      1Q  Median      3Q     Max \n",
       "-5.7901 -1.6664 -0.0672  1.5273  7.9057 \n",
       "\n",
       "Coefficients:\n",
       "             Estimate Std. Error t value Pr(>|t|)    \n",
       "(Intercept)  0.187215   0.239572   0.781  0.43482    \n",
       "INFL         0.729720   0.045579  16.010  < 2e-16 ***\n",
       "UNEMPL       0.139100   0.059730   2.329  0.02017 *  \n",
       "COMMPRI     -0.009967   0.002691  -3.704  0.00023 ***\n",
       "PCE          0.306432   0.054839   5.588 3.37e-08 ***\n",
       "---\n",
       "Signif. codes:  0 '***' 0.001 '**' 0.01 '*' 0.05 '.' 0.1 ' ' 1\n",
       "\n",
       "Residual standard error: 2.251 on 655 degrees of freedom\n",
       "Multiple R-squared:  0.6154,\tAdjusted R-squared:  0.613 \n",
       "F-statistic:   262 on 4 and 655 DF,  p-value: < 2.2e-16\n"
      ]
     },
     "metadata": {},
     "output_type": "display_data"
    }
   ],
   "source": [
    "# add the next variable in the dataframe and repeat the process\n",
    "intrate2 <- lm(INTRATE ~ INFL + UNEMPL + COMMPRI + PCE, data=fred) # eliminate \"PROD\" (p-value = 0.3092) \n",
    "summary(intrate2)"
   ]
  },
  {
   "cell_type": "code",
   "execution_count": 17,
   "id": "c5c0aa17-5bf3-4c06-8338-722018797d7c",
   "metadata": {},
   "outputs": [
    {
     "data": {
      "text/plain": [
       "\n",
       "Call:\n",
       "lm(formula = INTRATE ~ INFL + UNEMPL + COMMPRI + PCE + PERSINC, \n",
       "    data = fred)\n",
       "\n",
       "Residuals:\n",
       "    Min      1Q  Median      3Q     Max \n",
       "-6.6924 -1.4698 -0.1248  1.4841  7.8090 \n",
       "\n",
       "Coefficients:\n",
       "             Estimate Std. Error t value Pr(>|t|)    \n",
       "(Intercept)  0.063520   0.238067   0.267  0.78969    \n",
       "INFL         0.853378   0.053203  16.040  < 2e-16 ***\n",
       "UNEMPL       0.078693   0.060544   1.300  0.19414    \n",
       "COMMPRI     -0.008600   0.002673  -3.217  0.00136 ** \n",
       "PCE          0.185479   0.060834   3.049  0.00239 ** \n",
       "PERSINC      0.265829   0.061123   4.349 1.59e-05 ***\n",
       "---\n",
       "Signif. codes:  0 '***' 0.001 '**' 0.01 '*' 0.05 '.' 0.1 ' ' 1\n",
       "\n",
       "Residual standard error: 2.221 on 654 degrees of freedom\n",
       "Multiple R-squared:  0.6262,\tAdjusted R-squared:  0.6233 \n",
       "F-statistic: 219.1 on 5 and 654 DF,  p-value: < 2.2e-16\n"
      ]
     },
     "metadata": {},
     "output_type": "display_data"
    }
   ],
   "source": [
    "# add the next variable in the dataframe and repeat the process\n",
    "intrate2 <- lm(INTRATE ~ INFL + UNEMPL + COMMPRI + PCE + PERSINC, data=fred)\n",
    "summary(intrate2)"
   ]
  },
  {
   "cell_type": "code",
   "execution_count": 18,
   "id": "092ff1a1-c68c-4f6d-881d-9cc2105b994c",
   "metadata": {},
   "outputs": [
    {
     "data": {
      "text/plain": [
       "\n",
       "Call:\n",
       "lm(formula = INTRATE ~ INFL + COMMPRI + PCE + PERSINC + HOUST, \n",
       "    data = fred)\n",
       "\n",
       "Residuals:\n",
       "    Min      1Q  Median      3Q     Max \n",
       "-7.1631 -1.5244 -0.1125  1.3715  7.6725 \n",
       "\n",
       "Coefficients:\n",
       "             Estimate Std. Error t value Pr(>|t|)    \n",
       "(Intercept) -0.240119   0.230366  -1.042  0.29764    \n",
       "INFL         0.717527   0.057152  12.555  < 2e-16 ***\n",
       "COMMPRI     -0.007501   0.002640  -2.841  0.00464 ** \n",
       "PCE          0.340525   0.059156   5.756 1.32e-08 ***\n",
       "PERSINC      0.240242   0.059342   4.048 5.77e-05 ***\n",
       "HOUST       -0.020530   0.004389  -4.678 3.52e-06 ***\n",
       "---\n",
       "Signif. codes:  0 '***' 0.001 '**' 0.01 '*' 0.05 '.' 0.1 ' ' 1\n",
       "\n",
       "Residual standard error: 2.188 on 654 degrees of freedom\n",
       "Multiple R-squared:  0.6374,\tAdjusted R-squared:  0.6346 \n",
       "F-statistic: 229.9 on 5 and 654 DF,  p-value: < 2.2e-16\n"
      ]
     },
     "metadata": {},
     "output_type": "display_data"
    }
   ],
   "source": [
    "# add the next variable in the dataframe and repeat the process\n",
    "intrate2 <- lm(INTRATE ~ INFL + COMMPRI + PCE + PERSINC + HOUST, data=fred) # eliminate \"UNEMPL\" (p-value = 0.19414)\n",
    "summary(intrate2)"
   ]
  },
  {
   "cell_type": "markdown",
   "id": "089746b7-e22c-4f33-b3d1-e49efa56a8a3",
   "metadata": {},
   "source": [
    "The final model we get using the general-to-specific approach is\n",
    "\n",
    "$$ i_t = -0.24 + 0.72\\pi_t - 0.01P_t + 0.34C_t + 0.24Y_t - 0.02H_t $$\n",
    "\n",
    "As we can see, this model is the same as the model generated with the general-to-specific approach used in (a)."
   ]
  },
  {
   "cell_type": "markdown",
   "id": "02dd123f-e063-4a0d-8379-8640e2ba003c",
   "metadata": {},
   "source": [
    "__(c)__ Compare your model from (a) and the Taylor rule of equation (1). Consider $R^2$, AIC and BIC. Which of the models do you prefer?"
   ]
  },
  {
   "cell_type": "code",
   "execution_count": 20,
   "id": "134df77d-8884-4170-9d10-e00ea8f43704",
   "metadata": {},
   "outputs": [
    {
     "data": {
      "text/plain": [
       "\n",
       "Call:\n",
       "lm(formula = INTRATE ~ INFL + PROD, data = fred)\n",
       "\n",
       "Residuals:\n",
       "    Min      1Q  Median      3Q     Max \n",
       "-5.1592 -1.6762  0.0141  1.3730  7.9203 \n",
       "\n",
       "Coefficients:\n",
       "            Estimate Std. Error t value Pr(>|t|)    \n",
       "(Intercept)  1.24890    0.17619   7.088 3.51e-12 ***\n",
       "INFL         0.97498    0.03273  29.785  < 2e-16 ***\n",
       "PROD         0.09472    0.01971   4.805 1.92e-06 ***\n",
       "---\n",
       "Signif. codes:  0 '***' 0.001 '**' 0.01 '*' 0.05 '.' 0.1 ' ' 1\n",
       "\n",
       "Residual standard error: 2.364 on 657 degrees of freedom\n",
       "Multiple R-squared:  0.5747,\tAdjusted R-squared:  0.5734 \n",
       "F-statistic: 443.9 on 2 and 657 DF,  p-value: < 2.2e-16\n"
      ]
     },
     "metadata": {},
     "output_type": "display_data"
    }
   ],
   "source": [
    "# regress \"INFRATE\" on a constant, \"INFL\", and \"PROD\", like in equation (1)\n",
    "taylor <- lm(INTRATE ~ INFL + PROD, data=fred)\n",
    "summary(taylor)"
   ]
  },
  {
   "cell_type": "markdown",
   "id": "a028a2ea-aac5-420b-9eb1-aa29f1d4e18a",
   "metadata": {},
   "source": [
    "The model we get using the Taylor rule is\n",
    "\n",
    "$$ i_t = 1.25 + 0.97\\pi_t + 0.09Y_t $$\n",
    "\n",
    "Where\n",
    "\n",
    "$\\pi_t =$ Inflation at year $t$\n",
    "\n",
    "$Y_t =$ Production at year $t$"
   ]
  },
  {
   "cell_type": "code",
   "execution_count": 21,
   "id": "ebc99a5e-6c61-4aaf-8750-c1e6a69e6e39",
   "metadata": {},
   "outputs": [],
   "source": [
    "# get R squared, AIC, and BIC of the model in (a)\n",
    "intrate1_r2 <- summary(intrate1)$r.squared\n",
    "intrate1_aic <- AIC(intrate1)\n",
    "intrate1_bic <- BIC(intrate1)\n",
    "\n",
    "# get R squared, AIC, and BIC of the Taylor rule model\n",
    "taylor_r2 <- summary(taylor)$r.squared\n",
    "taylor_aic <- AIC(taylor)\n",
    "taylor_bic <- BIC(taylor)"
   ]
  },
  {
   "cell_type": "code",
   "execution_count": 23,
   "id": "37843d02-9ca9-4f2a-9db4-495d39c5d514",
   "metadata": {},
   "outputs": [
    {
     "name": "stdout",
     "output_type": "stream",
     "text": [
      "        R2      AIC      BIC\n",
      "1 0.637361 2914.423 2945.869\n"
     ]
    }
   ],
   "source": [
    "# display the results for the model in (a)\n",
    "results_table1 <- data.frame(\n",
    "  R2 = intrate1_r2,\n",
    "  AIC = intrate1_aic,\n",
    "  BIC = intrate1_bic\n",
    ")\n",
    "print(results_table1)"
   ]
  },
  {
   "cell_type": "code",
   "execution_count": 24,
   "id": "a7aadb8b-017d-449e-81e0-6526fa874488",
   "metadata": {},
   "outputs": [
    {
     "name": "stdout",
     "output_type": "stream",
     "text": [
      "         R2      AIC      BIC\n",
      "1 0.5747014 3013.616 3031.585\n"
     ]
    }
   ],
   "source": [
    "# display the results for the Taylor rule model\n",
    "results_table2 <- data.frame(\n",
    "  R2 = taylor_r2,\n",
    "  AIC = taylor_aic,\n",
    "  BIC = taylor_bic\n",
    ")\n",
    "print(results_table2)"
   ]
  },
  {
   "cell_type": "markdown",
   "id": "caa1d59b-1600-4481-bd85-bb6264d5a0ac",
   "metadata": {},
   "source": [
    "As we can see, and based on the $R^2$, AIC, and BIC of the two regressions, the model from (a) would be preferable in this case, as it has a higher $R^2$, and lower AIC and BIC."
   ]
  },
  {
   "cell_type": "markdown",
   "id": "c052db02-b5b9-4382-89bd-ec15433c5d8d",
   "metadata": {},
   "source": [
    "__(d)__ Test the Taylor rule of equation (1) using the RESET test, Chow break and forecast test (with in both tests as break date January 1980) and a Jarque-Bera test. What do you conclude?"
   ]
  },
  {
   "cell_type": "code",
   "execution_count": 50,
   "id": "2865208e-2781-4f63-b057-1a453a88fb11",
   "metadata": {},
   "outputs": [
    {
     "data": {
      "text/plain": [
       "\n",
       "\tRESET test\n",
       "\n",
       "data:  taylor\n",
       "RESET = 2.2578, df1 = 2, df2 = 655, p-value = 0.1054\n"
      ]
     },
     "metadata": {},
     "output_type": "display_data"
    }
   ],
   "source": [
    "# perform the RESET test on the Taylor rule regression of (c)\n",
    "taylor_reset <- resettest(taylor)\n",
    "taylor_reset"
   ]
  },
  {
   "cell_type": "markdown",
   "id": "20165da3-cb7c-4df8-9c58-c753df23dec5",
   "metadata": {},
   "source": [
    "F-test for the Chow Break Statistic:\n",
    "\n",
    "$$F = \\frac{(SSR_{\\text{pooled}} - (SSR_1 + SSR_2)) \\ \\big/ \\ k}{(SSR_1 + SSR_2) \\ \\big/ \\ (n_1 + n_2 - 2k)}$$"
   ]
  },
  {
   "cell_type": "code",
   "execution_count": 41,
   "id": "6da4ec0d-14a5-453c-b2d3-de6ee0a4932b",
   "metadata": {},
   "outputs": [
    {
     "data": {
      "text/html": [
       "<table class=\"dataframe\">\n",
       "<caption>A tibble: 6 × 9</caption>\n",
       "<thead>\n",
       "\t<tr><th scope=col>OBS</th><th scope=col>INTRATE</th><th scope=col>INFL</th><th scope=col>PROD</th><th scope=col>UNEMPL</th><th scope=col>COMMPRI</th><th scope=col>PCE</th><th scope=col>PERSINC</th><th scope=col>HOUST</th></tr>\n",
       "\t<tr><th scope=col>&lt;date&gt;</th><th scope=col>&lt;dbl&gt;</th><th scope=col>&lt;dbl&gt;</th><th scope=col>&lt;dbl&gt;</th><th scope=col>&lt;dbl&gt;</th><th scope=col>&lt;dbl&gt;</th><th scope=col>&lt;dbl&gt;</th><th scope=col>&lt;dbl&gt;</th><th scope=col>&lt;dbl&gt;</th></tr>\n",
       "</thead>\n",
       "<tbody>\n",
       "\t<tr><td>1960-01-01</td><td>3.99</td><td>1.24095</td><td>10.03653</td><td>3.41845</td><td>  7.95262</td><td>5.70962</td><td>1.68419</td><td>-11.88896</td></tr>\n",
       "\t<tr><td>1960-02-01</td><td>3.97</td><td>1.41379</td><td> 6.96248</td><td>3.46575</td><td> -8.55856</td><td>5.06452</td><td>1.33094</td><td> -9.83803</td></tr>\n",
       "\t<tr><td>1960-03-01</td><td>3.84</td><td>1.51881</td><td> 4.49681</td><td>2.71993</td><td>-16.83599</td><td>5.55733</td><td>0.89195</td><td>-31.54321</td></tr>\n",
       "\t<tr><td>1960-04-01</td><td>3.92</td><td>1.93237</td><td> 1.50624</td><td>2.79820</td><td> -5.03145</td><td>7.77351</td><td>0.67636</td><td>-18.93082</td></tr>\n",
       "\t<tr><td>1960-05-01</td><td>3.85</td><td>1.82507</td><td>-0.11398</td><td>1.72552</td><td>-12.44240</td><td>4.39179</td><td>0.33667</td><td>-15.15354</td></tr>\n",
       "\t<tr><td>1960-06-01</td><td>3.32</td><td>1.71762</td><td>-1.48262</td><td>1.24443</td><td>-24.31655</td><td>3.73509</td><td>0.06719</td><td>-17.03260</td></tr>\n",
       "</tbody>\n",
       "</table>\n"
      ],
      "text/latex": [
       "A tibble: 6 × 9\n",
       "\\begin{tabular}{lllllllll}\n",
       " OBS & INTRATE & INFL & PROD & UNEMPL & COMMPRI & PCE & PERSINC & HOUST\\\\\n",
       " <date> & <dbl> & <dbl> & <dbl> & <dbl> & <dbl> & <dbl> & <dbl> & <dbl>\\\\\n",
       "\\hline\n",
       "\t 1960-01-01 & 3.99 & 1.24095 & 10.03653 & 3.41845 &   7.95262 & 5.70962 & 1.68419 & -11.88896\\\\\n",
       "\t 1960-02-01 & 3.97 & 1.41379 &  6.96248 & 3.46575 &  -8.55856 & 5.06452 & 1.33094 &  -9.83803\\\\\n",
       "\t 1960-03-01 & 3.84 & 1.51881 &  4.49681 & 2.71993 & -16.83599 & 5.55733 & 0.89195 & -31.54321\\\\\n",
       "\t 1960-04-01 & 3.92 & 1.93237 &  1.50624 & 2.79820 &  -5.03145 & 7.77351 & 0.67636 & -18.93082\\\\\n",
       "\t 1960-05-01 & 3.85 & 1.82507 & -0.11398 & 1.72552 & -12.44240 & 4.39179 & 0.33667 & -15.15354\\\\\n",
       "\t 1960-06-01 & 3.32 & 1.71762 & -1.48262 & 1.24443 & -24.31655 & 3.73509 & 0.06719 & -17.03260\\\\\n",
       "\\end{tabular}\n"
      ],
      "text/markdown": [
       "\n",
       "A tibble: 6 × 9\n",
       "\n",
       "| OBS &lt;date&gt; | INTRATE &lt;dbl&gt; | INFL &lt;dbl&gt; | PROD &lt;dbl&gt; | UNEMPL &lt;dbl&gt; | COMMPRI &lt;dbl&gt; | PCE &lt;dbl&gt; | PERSINC &lt;dbl&gt; | HOUST &lt;dbl&gt; |\n",
       "|---|---|---|---|---|---|---|---|---|\n",
       "| 1960-01-01 | 3.99 | 1.24095 | 10.03653 | 3.41845 |   7.95262 | 5.70962 | 1.68419 | -11.88896 |\n",
       "| 1960-02-01 | 3.97 | 1.41379 |  6.96248 | 3.46575 |  -8.55856 | 5.06452 | 1.33094 |  -9.83803 |\n",
       "| 1960-03-01 | 3.84 | 1.51881 |  4.49681 | 2.71993 | -16.83599 | 5.55733 | 0.89195 | -31.54321 |\n",
       "| 1960-04-01 | 3.92 | 1.93237 |  1.50624 | 2.79820 |  -5.03145 | 7.77351 | 0.67636 | -18.93082 |\n",
       "| 1960-05-01 | 3.85 | 1.82507 | -0.11398 | 1.72552 | -12.44240 | 4.39179 | 0.33667 | -15.15354 |\n",
       "| 1960-06-01 | 3.32 | 1.71762 | -1.48262 | 1.24443 | -24.31655 | 3.73509 | 0.06719 | -17.03260 |\n",
       "\n"
      ],
      "text/plain": [
       "  OBS        INTRATE INFL    PROD     UNEMPL  COMMPRI   PCE     PERSINC\n",
       "1 1960-01-01 3.99    1.24095 10.03653 3.41845   7.95262 5.70962 1.68419\n",
       "2 1960-02-01 3.97    1.41379  6.96248 3.46575  -8.55856 5.06452 1.33094\n",
       "3 1960-03-01 3.84    1.51881  4.49681 2.71993 -16.83599 5.55733 0.89195\n",
       "4 1960-04-01 3.92    1.93237  1.50624 2.79820  -5.03145 7.77351 0.67636\n",
       "5 1960-05-01 3.85    1.82507 -0.11398 1.72552 -12.44240 4.39179 0.33667\n",
       "6 1960-06-01 3.32    1.71762 -1.48262 1.24443 -24.31655 3.73509 0.06719\n",
       "  HOUST    \n",
       "1 -11.88896\n",
       "2  -9.83803\n",
       "3 -31.54321\n",
       "4 -18.93082\n",
       "5 -15.15354\n",
       "6 -17.03260"
      ]
     },
     "metadata": {},
     "output_type": "display_data"
    }
   ],
   "source": [
    "# convert \"OBS\" column of \"fred\" to <date> format\n",
    "fred <- fred %>%\n",
    "  mutate(OBS=ym(OBS))\n",
    "head(fred)"
   ]
  },
  {
   "cell_type": "code",
   "execution_count": 44,
   "id": "782ec173-8014-498f-a91f-4bb6015db0b8",
   "metadata": {},
   "outputs": [],
   "source": [
    "# store the sum of square residuals of \"taylor\"\n",
    "ssr_taylor <- sum((resid(taylor))^2)\n",
    "\n",
    "# run a regression from 1960 to 1979 and store the sum of square residuals\n",
    "taylor1 <- lm(INTRATE ~ INFL + PROD, data=(fred %>% filter(between(OBS, as.Date('1960-01-01'), as.Date('1979-12-01')))))\n",
    "ssr_taylor1 <- sum((resid(taylor1))^2)\n",
    "\n",
    "# run a regression from 1980 to 2014 and store the sum of square residuals\n",
    "taylor2 <- lm(INTRATE ~ INFL + PROD, data=(fred %>% filter(between(OBS, as.Date('1980-01-01'), as.Date('2014-12-01')))))\n",
    "ssr_taylor2 <- sum((resid(taylor2))^2)\n",
    "\n",
    "# get the rest of variables we need for computing the Chow Break Test\n",
    "k = length(coef(taylor))\n",
    "n1 = nrow(fred %>% filter(between(OBS, as.Date('1960-01-01'), as.Date('1979-12-01'))))\n",
    "n2 = nrow(fred %>% filter(between(OBS, as.Date('1980-01-01'), as.Date('2014-12-01'))))"
   ]
  },
  {
   "cell_type": "code",
   "execution_count": 48,
   "id": "937effae-2c77-496f-a7a7-7a75ddf60da7",
   "metadata": {},
   "outputs": [
    {
     "data": {
      "text/html": [
       "28.735013728565"
      ],
      "text/latex": [
       "28.735013728565"
      ],
      "text/markdown": [
       "28.735013728565"
      ],
      "text/plain": [
       "[1] 28.73501"
      ]
     },
     "metadata": {},
     "output_type": "display_data"
    }
   ],
   "source": [
    "# perform the Chow break test following the formula above\n",
    "taylor_cb = ((ssr_taylor-(ssr_taylor1+ssr_taylor2))/k)/((ssr_taylor1+ssr_taylor2)/(n1+n2-2*k))\n",
    "taylor_cb"
   ]
  },
  {
   "cell_type": "markdown",
   "id": "55840a41-e970-48e2-b5b5-c268dfe8967a",
   "metadata": {},
   "source": [
    "F-test for the Chow forecast test:\n",
    "\n",
    "$$F = \\frac{(SSR_{\\text{pooled}} - SSR_1) \\ \\big/ \\ n_2}{SSR_1 \\ \\big/ \\ (n_1 - k)}$$"
   ]
  },
  {
   "cell_type": "code",
   "execution_count": 51,
   "id": "26394de9-0058-4fbf-9fb2-2b91eb69a90b",
   "metadata": {},
   "outputs": [
    {
     "data": {
      "text/html": [
       "5.51051800432241"
      ],
      "text/latex": [
       "5.51051800432241"
      ],
      "text/markdown": [
       "5.51051800432241"
      ],
      "text/plain": [
       "[1] 5.510518"
      ]
     },
     "metadata": {},
     "output_type": "display_data"
    }
   ],
   "source": [
    "# perform the Chow forecast test following the formula above\n",
    "taylor_cf = ((ssr_taylor-ssr_taylor1)/n2)/(ssr_taylor1/(n1-k))\n",
    "taylor_cf"
   ]
  },
  {
   "cell_type": "code",
   "execution_count": 57,
   "id": "8bfb66dc-29ae-4beb-b49a-0ab9234468a5",
   "metadata": {},
   "outputs": [
    {
     "data": {
      "text/plain": [
       "\n",
       "\tJarque Bera Test\n",
       "\n",
       "data:  resid(taylor)\n",
       "X-squared = 12.444, df = 2, p-value = 0.001985\n"
      ]
     },
     "metadata": {},
     "output_type": "display_data"
    }
   ],
   "source": [
    "# perform the Jarque-Bera test\n",
    "taylor_jb <- jarque.bera.test(resid(taylor))\n",
    "taylor_jb"
   ]
  },
  {
   "cell_type": "code",
   "execution_count": 66,
   "id": "0b68c6ba-1473-4690-bc01-11674e0903d9",
   "metadata": {},
   "outputs": [
    {
     "name": "stdout",
     "output_type": "stream",
     "text": [
      "  Chow_break_test Chow_forecast_test Jarque.Bera_test\n",
      "1        28.73501           5.510518      0.001985228\n"
     ]
    }
   ],
   "source": [
    "# display the results\n",
    "results_table3 <- data.frame(\n",
    "  'Chow_break_test' = taylor_cb,\n",
    "  'Chow_forecast_test' = taylor_cf,\n",
    "  'Jarque-Bera_test' = taylor_jb$p.value\n",
    ")\n",
    "print(results_table3)"
   ]
  },
  {
   "cell_type": "markdown",
   "id": "cb4e4e30-7533-4823-a396-012a194922e3",
   "metadata": {},
   "source": [
    "Looking at the values from the Chow break and forecast tests, and the Jarque-Bera test, we can draw some conclusions from the model using the Taylor rule of equation (1):\n",
    "\n",
    "1. There is strong evidence of a break around 1980, given the high value of the Chow break test, well above the critical value for a 5% significance level\n",
    "\n",
    "2. Although lower than the break test, the Chow forecast test's value of 5.51 also points to the fact that the predicitve capabilities of the model are low for observations from 1980 onwards\n",
    "\n",
    "3. The model's residuals are not normally distributed, given the low value of the Jarque-Bera test\n",
    "\n",
    "From these three tests, we can conclude that there was likely a change in monetary policy between the pre-1980 and post-1980 periods."
   ]
  }
 ],
 "metadata": {
  "kernelspec": {
   "display_name": "R",
   "language": "R",
   "name": "ir"
  },
  "language_info": {
   "codemirror_mode": "r",
   "file_extension": ".r",
   "mimetype": "text/x-r-source",
   "name": "R",
   "pygments_lexer": "r",
   "version": "4.4.3"
  }
 },
 "nbformat": 4,
 "nbformat_minor": 5
}
