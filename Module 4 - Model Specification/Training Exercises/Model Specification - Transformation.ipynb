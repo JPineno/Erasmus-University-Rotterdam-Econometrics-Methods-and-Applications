{
 "cells": [
  {
   "cell_type": "markdown",
   "id": "4e78c3f5-5dd2-4859-afe6-8a206123f79c",
   "metadata": {},
   "source": [
    "# <u>Training Exercices - Model Specification: Transformation<u>\n",
    "\n",
    "__<u>Jorge Pineño Pérez<u>__ / Module 4 - Model Specification"
   ]
  },
  {
   "cell_type": "code",
   "execution_count": 1,
   "id": "6f4c35ab-95aa-4b94-b51c-02195b02ef64",
   "metadata": {
    "scrolled": true
   },
   "outputs": [
    {
     "name": "stderr",
     "output_type": "stream",
     "text": [
      "Installing package into 'C:/Users/USER/AppData/Local/R/win-library/4.4'\n",
      "(as 'lib' is unspecified)\n",
      "\n"
     ]
    },
    {
     "name": "stdout",
     "output_type": "stream",
     "text": [
      "package 'readxl' successfully unpacked and MD5 sums checked\n",
      "\n",
      "The downloaded binary packages are in\n",
      "\tC:\\Users\\USER\\AppData\\Local\\Temp\\Rtmp04Tt7p\\downloaded_packages\n"
     ]
    },
    {
     "name": "stderr",
     "output_type": "stream",
     "text": [
      "Installing package into 'C:/Users/USER/AppData/Local/R/win-library/4.4'\n",
      "(as 'lib' is unspecified)\n",
      "\n"
     ]
    },
    {
     "name": "stdout",
     "output_type": "stream",
     "text": [
      "package 'dplyr' successfully unpacked and MD5 sums checked\n",
      "\n",
      "The downloaded binary packages are in\n",
      "\tC:\\Users\\USER\\AppData\\Local\\Temp\\Rtmp04Tt7p\\downloaded_packages\n"
     ]
    },
    {
     "name": "stderr",
     "output_type": "stream",
     "text": [
      "\n",
      "Adjuntando el paquete: 'dplyr'\n",
      "\n",
      "\n",
      "The following objects are masked from 'package:stats':\n",
      "\n",
      "    filter, lag\n",
      "\n",
      "\n",
      "The following objects are masked from 'package:base':\n",
      "\n",
      "    intersect, setdiff, setequal, union\n",
      "\n",
      "\n"
     ]
    }
   ],
   "source": [
    "# package imports\n",
    "install.packages(\"readxl\")\n",
    "install.packages(\"dplyr\")\n",
    "library(readxl)\n",
    "library(dplyr)"
   ]
  },
  {
   "cell_type": "markdown",
   "id": "e91a6b69-499f-48b1-964c-07f834b48dd7",
   "metadata": {},
   "source": [
    "__<u>Training Exercise 3.3<u>__"
   ]
  },
  {
   "cell_type": "code",
   "execution_count": 2,
   "id": "3541c199-d995-4bb4-93cc-d64a76172398",
   "metadata": {},
   "outputs": [
    {
     "data": {
      "text/html": [
       "<table class=\"dataframe\">\n",
       "<caption>A tibble: 6 × 10</caption>\n",
       "<thead>\n",
       "\t<tr><th scope=col>Year</th><th scope=col>Index</th><th scope=col>Dividends</th><th scope=col>Riskfree</th><th scope=col>LogEqPrem</th><th scope=col>BookMarket</th><th scope=col>NTIS</th><th scope=col>DivPrice</th><th scope=col>EarnPrice</th><th scope=col>Inflation</th></tr>\n",
       "\t<tr><th scope=col>&lt;dbl&gt;</th><th scope=col>&lt;dbl&gt;</th><th scope=col>&lt;dbl&gt;</th><th scope=col>&lt;dbl&gt;</th><th scope=col>&lt;dbl&gt;</th><th scope=col>&lt;dbl&gt;</th><th scope=col>&lt;dbl&gt;</th><th scope=col>&lt;dbl&gt;</th><th scope=col>&lt;dbl&gt;</th><th scope=col>&lt;dbl&gt;</th></tr>\n",
       "</thead>\n",
       "<tbody>\n",
       "\t<tr><td>1927</td><td>17.66</td><td>0.77</td><td>0.0317</td><td> 0.28082317</td><td>0.3746886</td><td> 0.073954730</td><td>-3.132667</td><td>-2.766942</td><td>-0.021175602</td></tr>\n",
       "\t<tr><td>1928</td><td>24.35</td><td>0.85</td><td>0.0426</td><td> 0.31382421</td><td>0.2596667</td><td> 0.042639369</td><td>-3.355051</td><td>-2.870448</td><td>-0.009793164</td></tr>\n",
       "\t<tr><td>1929</td><td>21.45</td><td>0.97</td><td>0.0303</td><td>-0.11242845</td><td>0.3384578</td><td> 0.165576428</td><td>-3.096184</td><td>-2.589490</td><td> 0.001829714</td></tr>\n",
       "\t<tr><td>1930</td><td>15.34</td><td>0.98</td><td>0.0148</td><td>-0.28802484</td><td>0.5547454</td><td> 0.131524740</td><td>-2.750667</td><td>-2.760923</td><td>-0.060665091</td></tr>\n",
       "\t<tr><td>1931</td><td> 8.12</td><td>0.82</td><td>0.0241</td><td>-0.56374238</td><td>1.1707317</td><td>-0.011031583</td><td>-2.292781</td><td>-2.588626</td><td>-0.095711494</td></tr>\n",
       "\t<tr><td>1932</td><td> 6.89</td><td>0.50</td><td>0.0004</td><td>-0.09460234</td><td>1.4420843</td><td>-0.003958787</td><td>-2.623218</td><td>-2.821669</td><td>-0.103577705</td></tr>\n",
       "</tbody>\n",
       "</table>\n"
      ],
      "text/latex": [
       "A tibble: 6 × 10\n",
       "\\begin{tabular}{llllllllll}\n",
       " Year & Index & Dividends & Riskfree & LogEqPrem & BookMarket & NTIS & DivPrice & EarnPrice & Inflation\\\\\n",
       " <dbl> & <dbl> & <dbl> & <dbl> & <dbl> & <dbl> & <dbl> & <dbl> & <dbl> & <dbl>\\\\\n",
       "\\hline\n",
       "\t 1927 & 17.66 & 0.77 & 0.0317 &  0.28082317 & 0.3746886 &  0.073954730 & -3.132667 & -2.766942 & -0.021175602\\\\\n",
       "\t 1928 & 24.35 & 0.85 & 0.0426 &  0.31382421 & 0.2596667 &  0.042639369 & -3.355051 & -2.870448 & -0.009793164\\\\\n",
       "\t 1929 & 21.45 & 0.97 & 0.0303 & -0.11242845 & 0.3384578 &  0.165576428 & -3.096184 & -2.589490 &  0.001829714\\\\\n",
       "\t 1930 & 15.34 & 0.98 & 0.0148 & -0.28802484 & 0.5547454 &  0.131524740 & -2.750667 & -2.760923 & -0.060665091\\\\\n",
       "\t 1931 &  8.12 & 0.82 & 0.0241 & -0.56374238 & 1.1707317 & -0.011031583 & -2.292781 & -2.588626 & -0.095711494\\\\\n",
       "\t 1932 &  6.89 & 0.50 & 0.0004 & -0.09460234 & 1.4420843 & -0.003958787 & -2.623218 & -2.821669 & -0.103577705\\\\\n",
       "\\end{tabular}\n"
      ],
      "text/markdown": [
       "\n",
       "A tibble: 6 × 10\n",
       "\n",
       "| Year &lt;dbl&gt; | Index &lt;dbl&gt; | Dividends &lt;dbl&gt; | Riskfree &lt;dbl&gt; | LogEqPrem &lt;dbl&gt; | BookMarket &lt;dbl&gt; | NTIS &lt;dbl&gt; | DivPrice &lt;dbl&gt; | EarnPrice &lt;dbl&gt; | Inflation &lt;dbl&gt; |\n",
       "|---|---|---|---|---|---|---|---|---|---|\n",
       "| 1927 | 17.66 | 0.77 | 0.0317 |  0.28082317 | 0.3746886 |  0.073954730 | -3.132667 | -2.766942 | -0.021175602 |\n",
       "| 1928 | 24.35 | 0.85 | 0.0426 |  0.31382421 | 0.2596667 |  0.042639369 | -3.355051 | -2.870448 | -0.009793164 |\n",
       "| 1929 | 21.45 | 0.97 | 0.0303 | -0.11242845 | 0.3384578 |  0.165576428 | -3.096184 | -2.589490 |  0.001829714 |\n",
       "| 1930 | 15.34 | 0.98 | 0.0148 | -0.28802484 | 0.5547454 |  0.131524740 | -2.750667 | -2.760923 | -0.060665091 |\n",
       "| 1931 |  8.12 | 0.82 | 0.0241 | -0.56374238 | 1.1707317 | -0.011031583 | -2.292781 | -2.588626 | -0.095711494 |\n",
       "| 1932 |  6.89 | 0.50 | 0.0004 | -0.09460234 | 1.4420843 | -0.003958787 | -2.623218 | -2.821669 | -0.103577705 |\n",
       "\n"
      ],
      "text/plain": [
       "  Year Index Dividends Riskfree LogEqPrem   BookMarket NTIS         DivPrice \n",
       "1 1927 17.66 0.77      0.0317    0.28082317 0.3746886   0.073954730 -3.132667\n",
       "2 1928 24.35 0.85      0.0426    0.31382421 0.2596667   0.042639369 -3.355051\n",
       "3 1929 21.45 0.97      0.0303   -0.11242845 0.3384578   0.165576428 -3.096184\n",
       "4 1930 15.34 0.98      0.0148   -0.28802484 0.5547454   0.131524740 -2.750667\n",
       "5 1931  8.12 0.82      0.0241   -0.56374238 1.1707317  -0.011031583 -2.292781\n",
       "6 1932  6.89 0.50      0.0004   -0.09460234 1.4420843  -0.003958787 -2.623218\n",
       "  EarnPrice Inflation   \n",
       "1 -2.766942 -0.021175602\n",
       "2 -2.870448 -0.009793164\n",
       "3 -2.589490  0.001829714\n",
       "4 -2.760923 -0.060665091\n",
       "5 -2.588626 -0.095711494\n",
       "6 -2.821669 -0.103577705"
      ]
     },
     "metadata": {},
     "output_type": "display_data"
    }
   ],
   "source": [
    "# import the stock index dataframe\n",
    "stocks <- read_excel('TrainExer3-3.xlsx')\n",
    "head(stocks)"
   ]
  },
  {
   "cell_type": "markdown",
   "id": "7129a78e-c061-4271-a23a-662d0f044101",
   "metadata": {},
   "source": [
    "__(b)__"
   ]
  },
  {
   "cell_type": "code",
   "execution_count": 8,
   "id": "4a868a18-d99a-4330-ad00-fab32b4d7fff",
   "metadata": {},
   "outputs": [
    {
     "data": {
      "text/html": [
       "<table class=\"dataframe\">\n",
       "<caption>A tibble: 6 × 11</caption>\n",
       "<thead>\n",
       "\t<tr><th scope=col>Year</th><th scope=col>Index</th><th scope=col>Dividends</th><th scope=col>Riskfree</th><th scope=col>LogEqPrem</th><th scope=col>BookMarket</th><th scope=col>NTIS</th><th scope=col>DivPrice</th><th scope=col>EarnPrice</th><th scope=col>Inflation</th><th scope=col>ChangeLogIndex</th></tr>\n",
       "\t<tr><th scope=col>&lt;dbl&gt;</th><th scope=col>&lt;dbl&gt;</th><th scope=col>&lt;dbl&gt;</th><th scope=col>&lt;dbl&gt;</th><th scope=col>&lt;dbl&gt;</th><th scope=col>&lt;dbl&gt;</th><th scope=col>&lt;dbl&gt;</th><th scope=col>&lt;dbl&gt;</th><th scope=col>&lt;dbl&gt;</th><th scope=col>&lt;dbl&gt;</th><th scope=col>&lt;dbl&gt;</th></tr>\n",
       "</thead>\n",
       "<tbody>\n",
       "\t<tr><td>1927</td><td>17.66</td><td>0.77</td><td>0.0317</td><td> 0.28082317</td><td>0.3746886</td><td> 0.073954730</td><td>-3.132667</td><td>-2.766942</td><td>-0.021175602</td><td>        NA</td></tr>\n",
       "\t<tr><td>1928</td><td>24.35</td><td>0.85</td><td>0.0426</td><td> 0.31382421</td><td>0.2596667</td><td> 0.042639369</td><td>-3.355051</td><td>-2.870448</td><td>-0.009793164</td><td> 0.3212297</td></tr>\n",
       "\t<tr><td>1929</td><td>21.45</td><td>0.97</td><td>0.0303</td><td>-0.11242845</td><td>0.3384578</td><td> 0.165576428</td><td>-3.096184</td><td>-2.589490</td><td> 0.001829714</td><td>-0.1268072</td></tr>\n",
       "\t<tr><td>1930</td><td>15.34</td><td>0.98</td><td>0.0148</td><td>-0.28802484</td><td>0.5547454</td><td> 0.131524740</td><td>-2.750667</td><td>-2.760923</td><td>-0.060665091</td><td>-0.3352608</td></tr>\n",
       "\t<tr><td>1931</td><td> 8.12</td><td>0.82</td><td>0.0241</td><td>-0.56374238</td><td>1.1707317</td><td>-0.011031583</td><td>-2.292781</td><td>-2.588626</td><td>-0.095711494</td><td>-0.6361336</td></tr>\n",
       "\t<tr><td>1932</td><td> 6.89</td><td>0.50</td><td>0.0004</td><td>-0.09460234</td><td>1.4420843</td><td>-0.003958787</td><td>-2.623218</td><td>-2.821669</td><td>-0.103577705</td><td>-0.1642591</td></tr>\n",
       "</tbody>\n",
       "</table>\n"
      ],
      "text/latex": [
       "A tibble: 6 × 11\n",
       "\\begin{tabular}{lllllllllll}\n",
       " Year & Index & Dividends & Riskfree & LogEqPrem & BookMarket & NTIS & DivPrice & EarnPrice & Inflation & ChangeLogIndex\\\\\n",
       " <dbl> & <dbl> & <dbl> & <dbl> & <dbl> & <dbl> & <dbl> & <dbl> & <dbl> & <dbl> & <dbl>\\\\\n",
       "\\hline\n",
       "\t 1927 & 17.66 & 0.77 & 0.0317 &  0.28082317 & 0.3746886 &  0.073954730 & -3.132667 & -2.766942 & -0.021175602 &         NA\\\\\n",
       "\t 1928 & 24.35 & 0.85 & 0.0426 &  0.31382421 & 0.2596667 &  0.042639369 & -3.355051 & -2.870448 & -0.009793164 &  0.3212297\\\\\n",
       "\t 1929 & 21.45 & 0.97 & 0.0303 & -0.11242845 & 0.3384578 &  0.165576428 & -3.096184 & -2.589490 &  0.001829714 & -0.1268072\\\\\n",
       "\t 1930 & 15.34 & 0.98 & 0.0148 & -0.28802484 & 0.5547454 &  0.131524740 & -2.750667 & -2.760923 & -0.060665091 & -0.3352608\\\\\n",
       "\t 1931 &  8.12 & 0.82 & 0.0241 & -0.56374238 & 1.1707317 & -0.011031583 & -2.292781 & -2.588626 & -0.095711494 & -0.6361336\\\\\n",
       "\t 1932 &  6.89 & 0.50 & 0.0004 & -0.09460234 & 1.4420843 & -0.003958787 & -2.623218 & -2.821669 & -0.103577705 & -0.1642591\\\\\n",
       "\\end{tabular}\n"
      ],
      "text/markdown": [
       "\n",
       "A tibble: 6 × 11\n",
       "\n",
       "| Year &lt;dbl&gt; | Index &lt;dbl&gt; | Dividends &lt;dbl&gt; | Riskfree &lt;dbl&gt; | LogEqPrem &lt;dbl&gt; | BookMarket &lt;dbl&gt; | NTIS &lt;dbl&gt; | DivPrice &lt;dbl&gt; | EarnPrice &lt;dbl&gt; | Inflation &lt;dbl&gt; | ChangeLogIndex &lt;dbl&gt; |\n",
       "|---|---|---|---|---|---|---|---|---|---|---|\n",
       "| 1927 | 17.66 | 0.77 | 0.0317 |  0.28082317 | 0.3746886 |  0.073954730 | -3.132667 | -2.766942 | -0.021175602 |         NA |\n",
       "| 1928 | 24.35 | 0.85 | 0.0426 |  0.31382421 | 0.2596667 |  0.042639369 | -3.355051 | -2.870448 | -0.009793164 |  0.3212297 |\n",
       "| 1929 | 21.45 | 0.97 | 0.0303 | -0.11242845 | 0.3384578 |  0.165576428 | -3.096184 | -2.589490 |  0.001829714 | -0.1268072 |\n",
       "| 1930 | 15.34 | 0.98 | 0.0148 | -0.28802484 | 0.5547454 |  0.131524740 | -2.750667 | -2.760923 | -0.060665091 | -0.3352608 |\n",
       "| 1931 |  8.12 | 0.82 | 0.0241 | -0.56374238 | 1.1707317 | -0.011031583 | -2.292781 | -2.588626 | -0.095711494 | -0.6361336 |\n",
       "| 1932 |  6.89 | 0.50 | 0.0004 | -0.09460234 | 1.4420843 | -0.003958787 | -2.623218 | -2.821669 | -0.103577705 | -0.1642591 |\n",
       "\n"
      ],
      "text/plain": [
       "  Year Index Dividends Riskfree LogEqPrem   BookMarket NTIS         DivPrice \n",
       "1 1927 17.66 0.77      0.0317    0.28082317 0.3746886   0.073954730 -3.132667\n",
       "2 1928 24.35 0.85      0.0426    0.31382421 0.2596667   0.042639369 -3.355051\n",
       "3 1929 21.45 0.97      0.0303   -0.11242845 0.3384578   0.165576428 -3.096184\n",
       "4 1930 15.34 0.98      0.0148   -0.28802484 0.5547454   0.131524740 -2.750667\n",
       "5 1931  8.12 0.82      0.0241   -0.56374238 1.1707317  -0.011031583 -2.292781\n",
       "6 1932  6.89 0.50      0.0004   -0.09460234 1.4420843  -0.003958787 -2.623218\n",
       "  EarnPrice Inflation    ChangeLogIndex\n",
       "1 -2.766942 -0.021175602         NA    \n",
       "2 -2.870448 -0.009793164  0.3212297    \n",
       "3 -2.589490  0.001829714 -0.1268072    \n",
       "4 -2.760923 -0.060665091 -0.3352608    \n",
       "5 -2.588626 -0.095711494 -0.6361336    \n",
       "6 -2.821669 -0.103577705 -0.1642591    "
      ]
     },
     "metadata": {},
     "output_type": "display_data"
    }
   ],
   "source": [
    "# create a new column in the dataframe for the change in the log of \"Index\"\n",
    "stocks1 <- stocks %>% mutate(ChangeLogIndex=c(NA, diff(log(Index))))\n",
    "head(stocks1)"
   ]
  },
  {
   "cell_type": "code",
   "execution_count": 9,
   "id": "b8a868a0-0df0-425e-9773-61fad21e974d",
   "metadata": {},
   "outputs": [
    {
     "data": {
      "text/html": [
       "<table class=\"dataframe\">\n",
       "<caption>A tibble: 6 × 12</caption>\n",
       "<thead>\n",
       "\t<tr><th scope=col>Year</th><th scope=col>Index</th><th scope=col>Dividends</th><th scope=col>Riskfree</th><th scope=col>LogEqPrem</th><th scope=col>BookMarket</th><th scope=col>NTIS</th><th scope=col>DivPrice</th><th scope=col>EarnPrice</th><th scope=col>Inflation</th><th scope=col>ChangeLogIndex</th><th scope=col>BookMarket2</th></tr>\n",
       "\t<tr><th scope=col>&lt;dbl&gt;</th><th scope=col>&lt;dbl&gt;</th><th scope=col>&lt;dbl&gt;</th><th scope=col>&lt;dbl&gt;</th><th scope=col>&lt;dbl&gt;</th><th scope=col>&lt;dbl&gt;</th><th scope=col>&lt;dbl&gt;</th><th scope=col>&lt;dbl&gt;</th><th scope=col>&lt;dbl&gt;</th><th scope=col>&lt;dbl&gt;</th><th scope=col>&lt;dbl&gt;</th><th scope=col>&lt;dbl&gt;</th></tr>\n",
       "</thead>\n",
       "<tbody>\n",
       "\t<tr><td>1927</td><td>17.66</td><td>0.77</td><td>0.0317</td><td> 0.28082317</td><td>0.3746886</td><td> 0.073954730</td><td>-3.132667</td><td>-2.766942</td><td>-0.021175602</td><td>        NA</td><td>0.14039154</td></tr>\n",
       "\t<tr><td>1928</td><td>24.35</td><td>0.85</td><td>0.0426</td><td> 0.31382421</td><td>0.2596667</td><td> 0.042639369</td><td>-3.355051</td><td>-2.870448</td><td>-0.009793164</td><td> 0.3212297</td><td>0.06742678</td></tr>\n",
       "\t<tr><td>1929</td><td>21.45</td><td>0.97</td><td>0.0303</td><td>-0.11242845</td><td>0.3384578</td><td> 0.165576428</td><td>-3.096184</td><td>-2.589490</td><td> 0.001829714</td><td>-0.1268072</td><td>0.11455370</td></tr>\n",
       "\t<tr><td>1930</td><td>15.34</td><td>0.98</td><td>0.0148</td><td>-0.28802484</td><td>0.5547454</td><td> 0.131524740</td><td>-2.750667</td><td>-2.760923</td><td>-0.060665091</td><td>-0.3352608</td><td>0.30774247</td></tr>\n",
       "\t<tr><td>1931</td><td> 8.12</td><td>0.82</td><td>0.0241</td><td>-0.56374238</td><td>1.1707317</td><td>-0.011031583</td><td>-2.292781</td><td>-2.588626</td><td>-0.095711494</td><td>-0.6361336</td><td>1.37061273</td></tr>\n",
       "\t<tr><td>1932</td><td> 6.89</td><td>0.50</td><td>0.0004</td><td>-0.09460234</td><td>1.4420843</td><td>-0.003958787</td><td>-2.623218</td><td>-2.821669</td><td>-0.103577705</td><td>-0.1642591</td><td>2.07960713</td></tr>\n",
       "</tbody>\n",
       "</table>\n"
      ],
      "text/latex": [
       "A tibble: 6 × 12\n",
       "\\begin{tabular}{llllllllllll}\n",
       " Year & Index & Dividends & Riskfree & LogEqPrem & BookMarket & NTIS & DivPrice & EarnPrice & Inflation & ChangeLogIndex & BookMarket2\\\\\n",
       " <dbl> & <dbl> & <dbl> & <dbl> & <dbl> & <dbl> & <dbl> & <dbl> & <dbl> & <dbl> & <dbl> & <dbl>\\\\\n",
       "\\hline\n",
       "\t 1927 & 17.66 & 0.77 & 0.0317 &  0.28082317 & 0.3746886 &  0.073954730 & -3.132667 & -2.766942 & -0.021175602 &         NA & 0.14039154\\\\\n",
       "\t 1928 & 24.35 & 0.85 & 0.0426 &  0.31382421 & 0.2596667 &  0.042639369 & -3.355051 & -2.870448 & -0.009793164 &  0.3212297 & 0.06742678\\\\\n",
       "\t 1929 & 21.45 & 0.97 & 0.0303 & -0.11242845 & 0.3384578 &  0.165576428 & -3.096184 & -2.589490 &  0.001829714 & -0.1268072 & 0.11455370\\\\\n",
       "\t 1930 & 15.34 & 0.98 & 0.0148 & -0.28802484 & 0.5547454 &  0.131524740 & -2.750667 & -2.760923 & -0.060665091 & -0.3352608 & 0.30774247\\\\\n",
       "\t 1931 &  8.12 & 0.82 & 0.0241 & -0.56374238 & 1.1707317 & -0.011031583 & -2.292781 & -2.588626 & -0.095711494 & -0.6361336 & 1.37061273\\\\\n",
       "\t 1932 &  6.89 & 0.50 & 0.0004 & -0.09460234 & 1.4420843 & -0.003958787 & -2.623218 & -2.821669 & -0.103577705 & -0.1642591 & 2.07960713\\\\\n",
       "\\end{tabular}\n"
      ],
      "text/markdown": [
       "\n",
       "A tibble: 6 × 12\n",
       "\n",
       "| Year &lt;dbl&gt; | Index &lt;dbl&gt; | Dividends &lt;dbl&gt; | Riskfree &lt;dbl&gt; | LogEqPrem &lt;dbl&gt; | BookMarket &lt;dbl&gt; | NTIS &lt;dbl&gt; | DivPrice &lt;dbl&gt; | EarnPrice &lt;dbl&gt; | Inflation &lt;dbl&gt; | ChangeLogIndex &lt;dbl&gt; | BookMarket2 &lt;dbl&gt; |\n",
       "|---|---|---|---|---|---|---|---|---|---|---|---|\n",
       "| 1927 | 17.66 | 0.77 | 0.0317 |  0.28082317 | 0.3746886 |  0.073954730 | -3.132667 | -2.766942 | -0.021175602 |         NA | 0.14039154 |\n",
       "| 1928 | 24.35 | 0.85 | 0.0426 |  0.31382421 | 0.2596667 |  0.042639369 | -3.355051 | -2.870448 | -0.009793164 |  0.3212297 | 0.06742678 |\n",
       "| 1929 | 21.45 | 0.97 | 0.0303 | -0.11242845 | 0.3384578 |  0.165576428 | -3.096184 | -2.589490 |  0.001829714 | -0.1268072 | 0.11455370 |\n",
       "| 1930 | 15.34 | 0.98 | 0.0148 | -0.28802484 | 0.5547454 |  0.131524740 | -2.750667 | -2.760923 | -0.060665091 | -0.3352608 | 0.30774247 |\n",
       "| 1931 |  8.12 | 0.82 | 0.0241 | -0.56374238 | 1.1707317 | -0.011031583 | -2.292781 | -2.588626 | -0.095711494 | -0.6361336 | 1.37061273 |\n",
       "| 1932 |  6.89 | 0.50 | 0.0004 | -0.09460234 | 1.4420843 | -0.003958787 | -2.623218 | -2.821669 | -0.103577705 | -0.1642591 | 2.07960713 |\n",
       "\n"
      ],
      "text/plain": [
       "  Year Index Dividends Riskfree LogEqPrem   BookMarket NTIS         DivPrice \n",
       "1 1927 17.66 0.77      0.0317    0.28082317 0.3746886   0.073954730 -3.132667\n",
       "2 1928 24.35 0.85      0.0426    0.31382421 0.2596667   0.042639369 -3.355051\n",
       "3 1929 21.45 0.97      0.0303   -0.11242845 0.3384578   0.165576428 -3.096184\n",
       "4 1930 15.34 0.98      0.0148   -0.28802484 0.5547454   0.131524740 -2.750667\n",
       "5 1931  8.12 0.82      0.0241   -0.56374238 1.1707317  -0.011031583 -2.292781\n",
       "6 1932  6.89 0.50      0.0004   -0.09460234 1.4420843  -0.003958787 -2.623218\n",
       "  EarnPrice Inflation    ChangeLogIndex BookMarket2\n",
       "1 -2.766942 -0.021175602         NA     0.14039154 \n",
       "2 -2.870448 -0.009793164  0.3212297     0.06742678 \n",
       "3 -2.589490  0.001829714 -0.1268072     0.11455370 \n",
       "4 -2.760923 -0.060665091 -0.3352608     0.30774247 \n",
       "5 -2.588626 -0.095711494 -0.6361336     1.37061273 \n",
       "6 -2.821669 -0.103577705 -0.1642591     2.07960713 "
      ]
     },
     "metadata": {},
     "output_type": "display_data"
    }
   ],
   "source": [
    "# create a new column in the dataframe for the square of \"BookMarket\"\n",
    "stocks1 <- stocks1 %>% mutate(BookMarket2=c(BookMarket^2))\n",
    "head(stocks1)"
   ]
  },
  {
   "cell_type": "code",
   "execution_count": 14,
   "id": "de1fcb5d-ea47-4da1-bf4d-1ab4d19182a0",
   "metadata": {},
   "outputs": [
    {
     "data": {
      "text/plain": [
       "\n",
       "Call:\n",
       "lm(formula = ChangeLogIndex ~ BookMarket + BookMarket2, data = stocks1)\n",
       "\n",
       "Residuals:\n",
       "     Min       1Q   Median       3Q      Max \n",
       "-0.58262 -0.10271  0.03059  0.14504  0.36806 \n",
       "\n",
       "Coefficients:\n",
       "            Estimate Std. Error t value Pr(>|t|)\n",
       "(Intercept)  0.05633    0.08900   0.633    0.528\n",
       "BookMarket   0.23684    0.28699   0.825    0.412\n",
       "BookMarket2 -0.34668    0.21266  -1.630    0.107\n",
       "\n",
       "Residual standard error: 0.1894 on 83 degrees of freedom\n",
       "  (1 observation deleted due to missingness)\n",
       "Multiple R-squared:  0.1085,\tAdjusted R-squared:  0.08701 \n",
       "F-statistic:  5.05 on 2 and 83 DF,  p-value: 0.008517\n"
      ]
     },
     "metadata": {},
     "output_type": "display_data"
    }
   ],
   "source": [
    "# regress \"ChangeLogIndex\" on a constant, \"BookMarket\", and \"BookMarket2\",\n",
    "# and check the p-value of \"BookMarket2\" to see if there is a quadratic relationship\n",
    "cl_index <- lm(ChangeLogIndex ~ BookMarket + BookMarket2, data=stocks1)\n",
    "summary(cl_index)"
   ]
  },
  {
   "cell_type": "markdown",
   "id": "f2500a7a-c5c7-496b-80d8-c7b55aabe333",
   "metadata": {},
   "source": [
    "__(c)__"
   ]
  },
  {
   "cell_type": "code",
   "execution_count": 19,
   "id": "b34393f3-1b8c-4d98-a4e4-c2151d89d78d",
   "metadata": {},
   "outputs": [
    {
     "data": {
      "text/html": [
       "<table class=\"dataframe\">\n",
       "<caption>A tibble: 6 × 13</caption>\n",
       "<thead>\n",
       "\t<tr><th scope=col>Year</th><th scope=col>Index</th><th scope=col>Dividends</th><th scope=col>Riskfree</th><th scope=col>LogEqPrem</th><th scope=col>BookMarket</th><th scope=col>NTIS</th><th scope=col>DivPrice</th><th scope=col>EarnPrice</th><th scope=col>Inflation</th><th scope=col>ChangeLogIndex</th><th scope=col>BookMarket2</th><th scope=col>D1980</th></tr>\n",
       "\t<tr><th scope=col>&lt;dbl&gt;</th><th scope=col>&lt;dbl&gt;</th><th scope=col>&lt;dbl&gt;</th><th scope=col>&lt;dbl&gt;</th><th scope=col>&lt;dbl&gt;</th><th scope=col>&lt;dbl&gt;</th><th scope=col>&lt;dbl&gt;</th><th scope=col>&lt;dbl&gt;</th><th scope=col>&lt;dbl&gt;</th><th scope=col>&lt;dbl&gt;</th><th scope=col>&lt;dbl&gt;</th><th scope=col>&lt;dbl&gt;</th><th scope=col>&lt;dbl&gt;</th></tr>\n",
       "</thead>\n",
       "<tbody>\n",
       "\t<tr><td>1927</td><td>17.66</td><td>0.77</td><td>0.0317</td><td> 0.28082317</td><td>0.3746886</td><td> 0.073954730</td><td>-3.132667</td><td>-2.766942</td><td>-0.021175602</td><td>        NA</td><td>0.14039154</td><td>0</td></tr>\n",
       "\t<tr><td>1928</td><td>24.35</td><td>0.85</td><td>0.0426</td><td> 0.31382421</td><td>0.2596667</td><td> 0.042639369</td><td>-3.355051</td><td>-2.870448</td><td>-0.009793164</td><td> 0.3212297</td><td>0.06742678</td><td>0</td></tr>\n",
       "\t<tr><td>1929</td><td>21.45</td><td>0.97</td><td>0.0303</td><td>-0.11242845</td><td>0.3384578</td><td> 0.165576428</td><td>-3.096184</td><td>-2.589490</td><td> 0.001829714</td><td>-0.1268072</td><td>0.11455370</td><td>0</td></tr>\n",
       "\t<tr><td>1930</td><td>15.34</td><td>0.98</td><td>0.0148</td><td>-0.28802484</td><td>0.5547454</td><td> 0.131524740</td><td>-2.750667</td><td>-2.760923</td><td>-0.060665091</td><td>-0.3352608</td><td>0.30774247</td><td>0</td></tr>\n",
       "\t<tr><td>1931</td><td> 8.12</td><td>0.82</td><td>0.0241</td><td>-0.56374238</td><td>1.1707317</td><td>-0.011031583</td><td>-2.292781</td><td>-2.588626</td><td>-0.095711494</td><td>-0.6361336</td><td>1.37061273</td><td>0</td></tr>\n",
       "\t<tr><td>1932</td><td> 6.89</td><td>0.50</td><td>0.0004</td><td>-0.09460234</td><td>1.4420843</td><td>-0.003958787</td><td>-2.623218</td><td>-2.821669</td><td>-0.103577705</td><td>-0.1642591</td><td>2.07960713</td><td>0</td></tr>\n",
       "</tbody>\n",
       "</table>\n"
      ],
      "text/latex": [
       "A tibble: 6 × 13\n",
       "\\begin{tabular}{lllllllllllll}\n",
       " Year & Index & Dividends & Riskfree & LogEqPrem & BookMarket & NTIS & DivPrice & EarnPrice & Inflation & ChangeLogIndex & BookMarket2 & D1980\\\\\n",
       " <dbl> & <dbl> & <dbl> & <dbl> & <dbl> & <dbl> & <dbl> & <dbl> & <dbl> & <dbl> & <dbl> & <dbl> & <dbl>\\\\\n",
       "\\hline\n",
       "\t 1927 & 17.66 & 0.77 & 0.0317 &  0.28082317 & 0.3746886 &  0.073954730 & -3.132667 & -2.766942 & -0.021175602 &         NA & 0.14039154 & 0\\\\\n",
       "\t 1928 & 24.35 & 0.85 & 0.0426 &  0.31382421 & 0.2596667 &  0.042639369 & -3.355051 & -2.870448 & -0.009793164 &  0.3212297 & 0.06742678 & 0\\\\\n",
       "\t 1929 & 21.45 & 0.97 & 0.0303 & -0.11242845 & 0.3384578 &  0.165576428 & -3.096184 & -2.589490 &  0.001829714 & -0.1268072 & 0.11455370 & 0\\\\\n",
       "\t 1930 & 15.34 & 0.98 & 0.0148 & -0.28802484 & 0.5547454 &  0.131524740 & -2.750667 & -2.760923 & -0.060665091 & -0.3352608 & 0.30774247 & 0\\\\\n",
       "\t 1931 &  8.12 & 0.82 & 0.0241 & -0.56374238 & 1.1707317 & -0.011031583 & -2.292781 & -2.588626 & -0.095711494 & -0.6361336 & 1.37061273 & 0\\\\\n",
       "\t 1932 &  6.89 & 0.50 & 0.0004 & -0.09460234 & 1.4420843 & -0.003958787 & -2.623218 & -2.821669 & -0.103577705 & -0.1642591 & 2.07960713 & 0\\\\\n",
       "\\end{tabular}\n"
      ],
      "text/markdown": [
       "\n",
       "A tibble: 6 × 13\n",
       "\n",
       "| Year &lt;dbl&gt; | Index &lt;dbl&gt; | Dividends &lt;dbl&gt; | Riskfree &lt;dbl&gt; | LogEqPrem &lt;dbl&gt; | BookMarket &lt;dbl&gt; | NTIS &lt;dbl&gt; | DivPrice &lt;dbl&gt; | EarnPrice &lt;dbl&gt; | Inflation &lt;dbl&gt; | ChangeLogIndex &lt;dbl&gt; | BookMarket2 &lt;dbl&gt; | D1980 &lt;dbl&gt; |\n",
       "|---|---|---|---|---|---|---|---|---|---|---|---|---|\n",
       "| 1927 | 17.66 | 0.77 | 0.0317 |  0.28082317 | 0.3746886 |  0.073954730 | -3.132667 | -2.766942 | -0.021175602 |         NA | 0.14039154 | 0 |\n",
       "| 1928 | 24.35 | 0.85 | 0.0426 |  0.31382421 | 0.2596667 |  0.042639369 | -3.355051 | -2.870448 | -0.009793164 |  0.3212297 | 0.06742678 | 0 |\n",
       "| 1929 | 21.45 | 0.97 | 0.0303 | -0.11242845 | 0.3384578 |  0.165576428 | -3.096184 | -2.589490 |  0.001829714 | -0.1268072 | 0.11455370 | 0 |\n",
       "| 1930 | 15.34 | 0.98 | 0.0148 | -0.28802484 | 0.5547454 |  0.131524740 | -2.750667 | -2.760923 | -0.060665091 | -0.3352608 | 0.30774247 | 0 |\n",
       "| 1931 |  8.12 | 0.82 | 0.0241 | -0.56374238 | 1.1707317 | -0.011031583 | -2.292781 | -2.588626 | -0.095711494 | -0.6361336 | 1.37061273 | 0 |\n",
       "| 1932 |  6.89 | 0.50 | 0.0004 | -0.09460234 | 1.4420843 | -0.003958787 | -2.623218 | -2.821669 | -0.103577705 | -0.1642591 | 2.07960713 | 0 |\n",
       "\n"
      ],
      "text/plain": [
       "  Year Index Dividends Riskfree LogEqPrem   BookMarket NTIS         DivPrice \n",
       "1 1927 17.66 0.77      0.0317    0.28082317 0.3746886   0.073954730 -3.132667\n",
       "2 1928 24.35 0.85      0.0426    0.31382421 0.2596667   0.042639369 -3.355051\n",
       "3 1929 21.45 0.97      0.0303   -0.11242845 0.3384578   0.165576428 -3.096184\n",
       "4 1930 15.34 0.98      0.0148   -0.28802484 0.5547454   0.131524740 -2.750667\n",
       "5 1931  8.12 0.82      0.0241   -0.56374238 1.1707317  -0.011031583 -2.292781\n",
       "6 1932  6.89 0.50      0.0004   -0.09460234 1.4420843  -0.003958787 -2.623218\n",
       "  EarnPrice Inflation    ChangeLogIndex BookMarket2 D1980\n",
       "1 -2.766942 -0.021175602         NA     0.14039154  0    \n",
       "2 -2.870448 -0.009793164  0.3212297     0.06742678  0    \n",
       "3 -2.589490  0.001829714 -0.1268072     0.11455370  0    \n",
       "4 -2.760923 -0.060665091 -0.3352608     0.30774247  0    \n",
       "5 -2.588626 -0.095711494 -0.6361336     1.37061273  0    \n",
       "6 -2.821669 -0.103577705 -0.1642591     2.07960713  0    "
      ]
     },
     "metadata": {},
     "output_type": "display_data"
    }
   ],
   "source": [
    "# fill the dummy variable column with 1s from 1980 onwards \n",
    "stocks1 <- stocks1 %>% mutate(D1980=ifelse(Year>=1980,1,0))\n",
    "head(stocks1)"
   ]
  },
  {
   "cell_type": "code",
   "execution_count": 24,
   "id": "d1fdfa17-e96f-46b0-b8d1-7530e96f6d3f",
   "metadata": {},
   "outputs": [
    {
     "data": {
      "text/plain": [
       "\n",
       "Call:\n",
       "lm(formula = ChangeLogIndex ~ BookMarket * D1980, data = stocks1)\n",
       "\n",
       "Residuals:\n",
       "     Min       1Q   Median       3Q      Max \n",
       "-0.56995 -0.09623  0.03898  0.12909  0.40199 \n",
       "\n",
       "Coefficients:\n",
       "                 Estimate Std. Error t value Pr(>|t|)    \n",
       "(Intercept)       0.30734    0.08844   3.475 0.000819 ***\n",
       "BookMarket       -0.39428    0.12223  -3.226 0.001805 ** \n",
       "D1980            -0.21925    0.11021  -1.989 0.049986 *  \n",
       "BookMarket:D1980  0.38289    0.18823   2.034 0.045161 *  \n",
       "---\n",
       "Signif. codes:  0 '***' 0.001 '**' 0.01 '*' 0.05 '.' 0.1 ' ' 1\n",
       "\n",
       "Residual standard error: 0.1887 on 82 degrees of freedom\n",
       "  (1 observation deleted due to missingness)\n",
       "Multiple R-squared:  0.1256,\tAdjusted R-squared:  0.09366 \n",
       "F-statistic: 3.928 on 3 and 82 DF,  p-value: 0.01132\n"
      ]
     },
     "metadata": {},
     "output_type": "display_data"
    }
   ],
   "source": [
    "# regress \"ChangeLogIndex\" on a constant, \"BookMarket\", and the interaction of\n",
    "# \"BookMarket\" and \"D1980\", and check the p-value of \"BookMarket:D1980\"\n",
    "# to see if the relationship is stable over the pre- and post-1980 period,\n",
    "# knowing that: small p-value -> not stable relationship\n",
    "cl_index1 <- lm(ChangeLogIndex ~ BookMarket*D1980, data=stocks1)\n",
    "summary(cl_index1)"
   ]
  }
 ],
 "metadata": {
  "kernelspec": {
   "display_name": "R",
   "language": "R",
   "name": "ir"
  },
  "language_info": {
   "codemirror_mode": "r",
   "file_extension": ".r",
   "mimetype": "text/x-r-source",
   "name": "R",
   "pygments_lexer": "r",
   "version": "4.4.3"
  }
 },
 "nbformat": 4,
 "nbformat_minor": 5
}
