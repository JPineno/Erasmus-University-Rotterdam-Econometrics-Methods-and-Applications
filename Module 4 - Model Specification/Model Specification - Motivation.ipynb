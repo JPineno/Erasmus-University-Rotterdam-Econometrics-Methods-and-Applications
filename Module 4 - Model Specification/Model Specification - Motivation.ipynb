{
 "cells": [
  {
   "cell_type": "markdown",
   "id": "4e78c3f5-5dd2-4859-afe6-8a206123f79c",
   "metadata": {},
   "source": [
    "# <u>Training Exercices - Model Specification: Motivation<u>\n",
    "\n",
    "__<u>Jorge Pineño Pérez<u>__ / Module 4 - Model Specification"
   ]
  },
  {
   "cell_type": "code",
   "execution_count": 5,
   "id": "6f4c35ab-95aa-4b94-b51c-02195b02ef64",
   "metadata": {
    "scrolled": true
   },
   "outputs": [
    {
     "name": "stderr",
     "output_type": "stream",
     "text": [
      "Warning message:\n",
      "\"package 'readxl' is in use and will not be installed\"\n",
      "Installing package into 'C:/Users/USER/AppData/Local/R/win-library/4.4'\n",
      "(as 'lib' is unspecified)\n",
      "\n"
     ]
    },
    {
     "name": "stdout",
     "output_type": "stream",
     "text": [
      "package 'dplyr' successfully unpacked and MD5 sums checked\n",
      "\n",
      "The downloaded binary packages are in\n",
      "\tC:\\Users\\USER\\AppData\\Local\\Temp\\RtmpaMsyxG\\downloaded_packages\n"
     ]
    },
    {
     "name": "stderr",
     "output_type": "stream",
     "text": [
      "\n",
      "Adjuntando el paquete: 'dplyr'\n",
      "\n",
      "\n",
      "The following objects are masked from 'package:stats':\n",
      "\n",
      "    filter, lag\n",
      "\n",
      "\n",
      "The following objects are masked from 'package:base':\n",
      "\n",
      "    intersect, setdiff, setequal, union\n",
      "\n",
      "\n"
     ]
    }
   ],
   "source": [
    "# package imports\n",
    "install.packages(\"readxl\")\n",
    "install.packages(\"dplyr\")\n",
    "library(readxl)\n",
    "library(dplyr)"
   ]
  },
  {
   "cell_type": "markdown",
   "id": "e91a6b69-499f-48b1-964c-07f834b48dd7",
   "metadata": {},
   "source": [
    "__<u>Training Exercise 3.1<u>__"
   ]
  },
  {
   "cell_type": "code",
   "execution_count": 4,
   "id": "3541c199-d995-4bb4-93cc-d64a76172398",
   "metadata": {},
   "outputs": [
    {
     "data": {
      "text/html": [
       "<table class=\"dataframe\">\n",
       "<caption>A tibble: 6 × 10</caption>\n",
       "<thead>\n",
       "\t<tr><th scope=col>Year</th><th scope=col>Index</th><th scope=col>Dividends</th><th scope=col>Riskfree</th><th scope=col>LogEqPrem</th><th scope=col>BookMarket</th><th scope=col>NTIS</th><th scope=col>DivPrice</th><th scope=col>EarnPrice</th><th scope=col>Inflation</th></tr>\n",
       "\t<tr><th scope=col>&lt;dbl&gt;</th><th scope=col>&lt;dbl&gt;</th><th scope=col>&lt;dbl&gt;</th><th scope=col>&lt;dbl&gt;</th><th scope=col>&lt;dbl&gt;</th><th scope=col>&lt;dbl&gt;</th><th scope=col>&lt;dbl&gt;</th><th scope=col>&lt;dbl&gt;</th><th scope=col>&lt;dbl&gt;</th><th scope=col>&lt;dbl&gt;</th></tr>\n",
       "</thead>\n",
       "<tbody>\n",
       "\t<tr><td>1927</td><td>17.66</td><td>0.77</td><td>0.0317</td><td> 0.28082317</td><td>0.3746886</td><td> 0.073954730</td><td>-3.132667</td><td>-2.766942</td><td>-0.021175602</td></tr>\n",
       "\t<tr><td>1928</td><td>24.35</td><td>0.85</td><td>0.0426</td><td> 0.31382421</td><td>0.2596667</td><td> 0.042639369</td><td>-3.355051</td><td>-2.870448</td><td>-0.009793164</td></tr>\n",
       "\t<tr><td>1929</td><td>21.45</td><td>0.97</td><td>0.0303</td><td>-0.11242845</td><td>0.3384578</td><td> 0.165576428</td><td>-3.096184</td><td>-2.589490</td><td> 0.001829714</td></tr>\n",
       "\t<tr><td>1930</td><td>15.34</td><td>0.98</td><td>0.0148</td><td>-0.28802484</td><td>0.5547454</td><td> 0.131524740</td><td>-2.750667</td><td>-2.760923</td><td>-0.060665091</td></tr>\n",
       "\t<tr><td>1931</td><td> 8.12</td><td>0.82</td><td>0.0241</td><td>-0.56374238</td><td>1.1707317</td><td>-0.011031583</td><td>-2.292781</td><td>-2.588626</td><td>-0.095711494</td></tr>\n",
       "\t<tr><td>1932</td><td> 6.89</td><td>0.50</td><td>0.0004</td><td>-0.09460234</td><td>1.4420843</td><td>-0.003958787</td><td>-2.623218</td><td>-2.821669</td><td>-0.103577705</td></tr>\n",
       "</tbody>\n",
       "</table>\n"
      ],
      "text/latex": [
       "A tibble: 6 × 10\n",
       "\\begin{tabular}{llllllllll}\n",
       " Year & Index & Dividends & Riskfree & LogEqPrem & BookMarket & NTIS & DivPrice & EarnPrice & Inflation\\\\\n",
       " <dbl> & <dbl> & <dbl> & <dbl> & <dbl> & <dbl> & <dbl> & <dbl> & <dbl> & <dbl>\\\\\n",
       "\\hline\n",
       "\t 1927 & 17.66 & 0.77 & 0.0317 &  0.28082317 & 0.3746886 &  0.073954730 & -3.132667 & -2.766942 & -0.021175602\\\\\n",
       "\t 1928 & 24.35 & 0.85 & 0.0426 &  0.31382421 & 0.2596667 &  0.042639369 & -3.355051 & -2.870448 & -0.009793164\\\\\n",
       "\t 1929 & 21.45 & 0.97 & 0.0303 & -0.11242845 & 0.3384578 &  0.165576428 & -3.096184 & -2.589490 &  0.001829714\\\\\n",
       "\t 1930 & 15.34 & 0.98 & 0.0148 & -0.28802484 & 0.5547454 &  0.131524740 & -2.750667 & -2.760923 & -0.060665091\\\\\n",
       "\t 1931 &  8.12 & 0.82 & 0.0241 & -0.56374238 & 1.1707317 & -0.011031583 & -2.292781 & -2.588626 & -0.095711494\\\\\n",
       "\t 1932 &  6.89 & 0.50 & 0.0004 & -0.09460234 & 1.4420843 & -0.003958787 & -2.623218 & -2.821669 & -0.103577705\\\\\n",
       "\\end{tabular}\n"
      ],
      "text/markdown": [
       "\n",
       "A tibble: 6 × 10\n",
       "\n",
       "| Year &lt;dbl&gt; | Index &lt;dbl&gt; | Dividends &lt;dbl&gt; | Riskfree &lt;dbl&gt; | LogEqPrem &lt;dbl&gt; | BookMarket &lt;dbl&gt; | NTIS &lt;dbl&gt; | DivPrice &lt;dbl&gt; | EarnPrice &lt;dbl&gt; | Inflation &lt;dbl&gt; |\n",
       "|---|---|---|---|---|---|---|---|---|---|\n",
       "| 1927 | 17.66 | 0.77 | 0.0317 |  0.28082317 | 0.3746886 |  0.073954730 | -3.132667 | -2.766942 | -0.021175602 |\n",
       "| 1928 | 24.35 | 0.85 | 0.0426 |  0.31382421 | 0.2596667 |  0.042639369 | -3.355051 | -2.870448 | -0.009793164 |\n",
       "| 1929 | 21.45 | 0.97 | 0.0303 | -0.11242845 | 0.3384578 |  0.165576428 | -3.096184 | -2.589490 |  0.001829714 |\n",
       "| 1930 | 15.34 | 0.98 | 0.0148 | -0.28802484 | 0.5547454 |  0.131524740 | -2.750667 | -2.760923 | -0.060665091 |\n",
       "| 1931 |  8.12 | 0.82 | 0.0241 | -0.56374238 | 1.1707317 | -0.011031583 | -2.292781 | -2.588626 | -0.095711494 |\n",
       "| 1932 |  6.89 | 0.50 | 0.0004 | -0.09460234 | 1.4420843 | -0.003958787 | -2.623218 | -2.821669 | -0.103577705 |\n",
       "\n"
      ],
      "text/plain": [
       "  Year Index Dividends Riskfree LogEqPrem   BookMarket NTIS         DivPrice \n",
       "1 1927 17.66 0.77      0.0317    0.28082317 0.3746886   0.073954730 -3.132667\n",
       "2 1928 24.35 0.85      0.0426    0.31382421 0.2596667   0.042639369 -3.355051\n",
       "3 1929 21.45 0.97      0.0303   -0.11242845 0.3384578   0.165576428 -3.096184\n",
       "4 1930 15.34 0.98      0.0148   -0.28802484 0.5547454   0.131524740 -2.750667\n",
       "5 1931  8.12 0.82      0.0241   -0.56374238 1.1707317  -0.011031583 -2.292781\n",
       "6 1932  6.89 0.50      0.0004   -0.09460234 1.4420843  -0.003958787 -2.623218\n",
       "  EarnPrice Inflation   \n",
       "1 -2.766942 -0.021175602\n",
       "2 -2.870448 -0.009793164\n",
       "3 -2.589490  0.001829714\n",
       "4 -2.760923 -0.060665091\n",
       "5 -2.588626 -0.095711494\n",
       "6 -2.821669 -0.103577705"
      ]
     },
     "metadata": {},
     "output_type": "display_data"
    }
   ],
   "source": [
    "# import the stock index dataframe\n",
    "stocks <- read_excel('TrainExer3-1.xlsx')\n",
    "head(stocks)"
   ]
  },
  {
   "cell_type": "markdown",
   "id": "7129a78e-c061-4271-a23a-662d0f044101",
   "metadata": {},
   "source": [
    "__(a)__"
   ]
  },
  {
   "cell_type": "code",
   "execution_count": 6,
   "id": "4a868a18-d99a-4330-ad00-fab32b4d7fff",
   "metadata": {},
   "outputs": [
    {
     "data": {
      "text/html": [
       "<table class=\"dataframe\">\n",
       "<caption>A tibble: 6 × 11</caption>\n",
       "<thead>\n",
       "\t<tr><th scope=col>Year</th><th scope=col>Index</th><th scope=col>Dividends</th><th scope=col>Riskfree</th><th scope=col>LogEqPrem</th><th scope=col>BookMarket</th><th scope=col>NTIS</th><th scope=col>DivPrice</th><th scope=col>EarnPrice</th><th scope=col>Inflation</th><th scope=col>ChangeLogIndex</th></tr>\n",
       "\t<tr><th scope=col>&lt;dbl&gt;</th><th scope=col>&lt;dbl&gt;</th><th scope=col>&lt;dbl&gt;</th><th scope=col>&lt;dbl&gt;</th><th scope=col>&lt;dbl&gt;</th><th scope=col>&lt;dbl&gt;</th><th scope=col>&lt;dbl&gt;</th><th scope=col>&lt;dbl&gt;</th><th scope=col>&lt;dbl&gt;</th><th scope=col>&lt;dbl&gt;</th><th scope=col>&lt;dbl&gt;</th></tr>\n",
       "</thead>\n",
       "<tbody>\n",
       "\t<tr><td>1927</td><td>17.66</td><td>0.77</td><td>0.0317</td><td> 0.28082317</td><td>0.3746886</td><td> 0.073954730</td><td>-3.132667</td><td>-2.766942</td><td>-0.021175602</td><td>        NA</td></tr>\n",
       "\t<tr><td>1928</td><td>24.35</td><td>0.85</td><td>0.0426</td><td> 0.31382421</td><td>0.2596667</td><td> 0.042639369</td><td>-3.355051</td><td>-2.870448</td><td>-0.009793164</td><td> 0.3212297</td></tr>\n",
       "\t<tr><td>1929</td><td>21.45</td><td>0.97</td><td>0.0303</td><td>-0.11242845</td><td>0.3384578</td><td> 0.165576428</td><td>-3.096184</td><td>-2.589490</td><td> 0.001829714</td><td>-0.1268072</td></tr>\n",
       "\t<tr><td>1930</td><td>15.34</td><td>0.98</td><td>0.0148</td><td>-0.28802484</td><td>0.5547454</td><td> 0.131524740</td><td>-2.750667</td><td>-2.760923</td><td>-0.060665091</td><td>-0.3352608</td></tr>\n",
       "\t<tr><td>1931</td><td> 8.12</td><td>0.82</td><td>0.0241</td><td>-0.56374238</td><td>1.1707317</td><td>-0.011031583</td><td>-2.292781</td><td>-2.588626</td><td>-0.095711494</td><td>-0.6361336</td></tr>\n",
       "\t<tr><td>1932</td><td> 6.89</td><td>0.50</td><td>0.0004</td><td>-0.09460234</td><td>1.4420843</td><td>-0.003958787</td><td>-2.623218</td><td>-2.821669</td><td>-0.103577705</td><td>-0.1642591</td></tr>\n",
       "</tbody>\n",
       "</table>\n"
      ],
      "text/latex": [
       "A tibble: 6 × 11\n",
       "\\begin{tabular}{lllllllllll}\n",
       " Year & Index & Dividends & Riskfree & LogEqPrem & BookMarket & NTIS & DivPrice & EarnPrice & Inflation & ChangeLogIndex\\\\\n",
       " <dbl> & <dbl> & <dbl> & <dbl> & <dbl> & <dbl> & <dbl> & <dbl> & <dbl> & <dbl> & <dbl>\\\\\n",
       "\\hline\n",
       "\t 1927 & 17.66 & 0.77 & 0.0317 &  0.28082317 & 0.3746886 &  0.073954730 & -3.132667 & -2.766942 & -0.021175602 &         NA\\\\\n",
       "\t 1928 & 24.35 & 0.85 & 0.0426 &  0.31382421 & 0.2596667 &  0.042639369 & -3.355051 & -2.870448 & -0.009793164 &  0.3212297\\\\\n",
       "\t 1929 & 21.45 & 0.97 & 0.0303 & -0.11242845 & 0.3384578 &  0.165576428 & -3.096184 & -2.589490 &  0.001829714 & -0.1268072\\\\\n",
       "\t 1930 & 15.34 & 0.98 & 0.0148 & -0.28802484 & 0.5547454 &  0.131524740 & -2.750667 & -2.760923 & -0.060665091 & -0.3352608\\\\\n",
       "\t 1931 &  8.12 & 0.82 & 0.0241 & -0.56374238 & 1.1707317 & -0.011031583 & -2.292781 & -2.588626 & -0.095711494 & -0.6361336\\\\\n",
       "\t 1932 &  6.89 & 0.50 & 0.0004 & -0.09460234 & 1.4420843 & -0.003958787 & -2.623218 & -2.821669 & -0.103577705 & -0.1642591\\\\\n",
       "\\end{tabular}\n"
      ],
      "text/markdown": [
       "\n",
       "A tibble: 6 × 11\n",
       "\n",
       "| Year &lt;dbl&gt; | Index &lt;dbl&gt; | Dividends &lt;dbl&gt; | Riskfree &lt;dbl&gt; | LogEqPrem &lt;dbl&gt; | BookMarket &lt;dbl&gt; | NTIS &lt;dbl&gt; | DivPrice &lt;dbl&gt; | EarnPrice &lt;dbl&gt; | Inflation &lt;dbl&gt; | ChangeLogIndex &lt;dbl&gt; |\n",
       "|---|---|---|---|---|---|---|---|---|---|---|\n",
       "| 1927 | 17.66 | 0.77 | 0.0317 |  0.28082317 | 0.3746886 |  0.073954730 | -3.132667 | -2.766942 | -0.021175602 |         NA |\n",
       "| 1928 | 24.35 | 0.85 | 0.0426 |  0.31382421 | 0.2596667 |  0.042639369 | -3.355051 | -2.870448 | -0.009793164 |  0.3212297 |\n",
       "| 1929 | 21.45 | 0.97 | 0.0303 | -0.11242845 | 0.3384578 |  0.165576428 | -3.096184 | -2.589490 |  0.001829714 | -0.1268072 |\n",
       "| 1930 | 15.34 | 0.98 | 0.0148 | -0.28802484 | 0.5547454 |  0.131524740 | -2.750667 | -2.760923 | -0.060665091 | -0.3352608 |\n",
       "| 1931 |  8.12 | 0.82 | 0.0241 | -0.56374238 | 1.1707317 | -0.011031583 | -2.292781 | -2.588626 | -0.095711494 | -0.6361336 |\n",
       "| 1932 |  6.89 | 0.50 | 0.0004 | -0.09460234 | 1.4420843 | -0.003958787 | -2.623218 | -2.821669 | -0.103577705 | -0.1642591 |\n",
       "\n"
      ],
      "text/plain": [
       "  Year Index Dividends Riskfree LogEqPrem   BookMarket NTIS         DivPrice \n",
       "1 1927 17.66 0.77      0.0317    0.28082317 0.3746886   0.073954730 -3.132667\n",
       "2 1928 24.35 0.85      0.0426    0.31382421 0.2596667   0.042639369 -3.355051\n",
       "3 1929 21.45 0.97      0.0303   -0.11242845 0.3384578   0.165576428 -3.096184\n",
       "4 1930 15.34 0.98      0.0148   -0.28802484 0.5547454   0.131524740 -2.750667\n",
       "5 1931  8.12 0.82      0.0241   -0.56374238 1.1707317  -0.011031583 -2.292781\n",
       "6 1932  6.89 0.50      0.0004   -0.09460234 1.4420843  -0.003958787 -2.623218\n",
       "  EarnPrice Inflation    ChangeLogIndex\n",
       "1 -2.766942 -0.021175602         NA    \n",
       "2 -2.870448 -0.009793164  0.3212297    \n",
       "3 -2.589490  0.001829714 -0.1268072    \n",
       "4 -2.760923 -0.060665091 -0.3352608    \n",
       "5 -2.588626 -0.095711494 -0.6361336    \n",
       "6 -2.821669 -0.103577705 -0.1642591    "
      ]
     },
     "metadata": {},
     "output_type": "display_data"
    }
   ],
   "source": [
    "# create a new column in the dataframe for the change in the log of \"Index\"\n",
    "stocks1 <- stocks %>% mutate(ChangeLogIndex=c(NA, diff(log(Index))))\n",
    "head(stocks1)"
   ]
  },
  {
   "cell_type": "code",
   "execution_count": 7,
   "id": "089e719d-f15b-47e5-a021-59a6181b7c3e",
   "metadata": {},
   "outputs": [
    {
     "data": {
      "text/plain": [
       "\n",
       "Call:\n",
       "lm(formula = ChangeLogIndex ~ BookMarket, data = stocks1)\n",
       "\n",
       "Residuals:\n",
       "     Min       1Q   Median       3Q      Max \n",
       "-0.58713 -0.09314  0.02152  0.13721  0.38236 \n",
       "\n",
       "Coefficients:\n",
       "            Estimate Std. Error t value Pr(>|t|)    \n",
       "(Intercept)  0.17695    0.04994   3.543 0.000648 ***\n",
       "BookMarket  -0.21332    0.07896  -2.702 0.008347 ** \n",
       "---\n",
       "Signif. codes:  0 '***' 0.001 '**' 0.01 '*' 0.05 '.' 0.1 ' ' 1\n",
       "\n",
       "Residual standard error: 0.1912 on 84 degrees of freedom\n",
       "  (1 observation deleted due to missingness)\n",
       "Multiple R-squared:  0.07994,\tAdjusted R-squared:  0.06899 \n",
       "F-statistic: 7.299 on 1 and 84 DF,  p-value: 0.008347\n"
      ]
     },
     "metadata": {},
     "output_type": "display_data"
    }
   ],
   "source": [
    "# regress \"ChangeLogIndex\" on a constant and \"BookMarket\",\n",
    "# and check that we get intercept=0.177, and coeff=-0.213\n",
    "clog_index <- lm(ChangeLogIndex ~ BookMarket, data = stocks1)\n",
    "summary(clog_index)"
   ]
  },
  {
   "cell_type": "markdown",
   "id": "68ad351a-872b-4e26-8417-4d1f9be78c94",
   "metadata": {},
   "source": [
    "__(b)__"
   ]
  },
  {
   "cell_type": "code",
   "execution_count": 8,
   "id": "3555d5d8-152e-4c7e-8e36-543e51f67dfc",
   "metadata": {},
   "outputs": [
    {
     "data": {
      "text/plain": [
       "\n",
       "Call:\n",
       "lm(formula = Index ~ BookMarket, data = stocks1)\n",
       "\n",
       "Residuals:\n",
       "   Min     1Q Median     3Q    Max \n",
       "-694.8 -252.2 -115.2  234.8 1183.7 \n",
       "\n",
       "Coefficients:\n",
       "            Estimate Std. Error t value Pr(>|t|)    \n",
       "(Intercept)  1035.35      95.02  10.896   <2e-16 ***\n",
       "BookMarket  -1217.68     150.80  -8.075    4e-12 ***\n",
       "---\n",
       "Signif. codes:  0 '***' 0.001 '**' 0.01 '*' 0.05 '.' 0.1 ' ' 1\n",
       "\n",
       "Residual standard error: 366.5 on 85 degrees of freedom\n",
       "Multiple R-squared:  0.4341,\tAdjusted R-squared:  0.4274 \n",
       "F-statistic:  65.2 on 1 and 85 DF,  p-value: 4.003e-12\n"
      ]
     },
     "metadata": {},
     "output_type": "display_data"
    }
   ],
   "source": [
    "# regress \"Index\" on a constant and \"BookMarket\",\n",
    "# and check the p-value (Pr(>|t|)) of the coeff of \"BookMarket\"\n",
    "bm_index <- lm(Index ~ BookMarket, data = stocks1)\n",
    "summary(bm_index)"
   ]
  },
  {
   "cell_type": "markdown",
   "id": "9021c9a5-5fd5-4893-a856-8cf214e7142b",
   "metadata": {},
   "source": [
    "__(c)__"
   ]
  },
  {
   "cell_type": "code",
   "execution_count": 20,
   "id": "b8ea9ba5-23c3-4789-aed3-ba139e014fc5",
   "metadata": {},
   "outputs": [],
   "source": [
    "# extract the residuals from both regressions\n",
    "resid_clog <- residuals(clog_index)\n",
    "resid_bm <- residuals(bm_index)"
   ]
  },
  {
   "cell_type": "code",
   "execution_count": 39,
   "id": "54b27e4c-1d1f-401a-887d-6bce37851e2e",
   "metadata": {},
   "outputs": [
    {
     "data": {
      "image/png": "[encoded data removed]",
      "text/plain": [
       "Plot with title \"Residuals Change in Log Model\""
      ]
     },
     "metadata": {
      "image/png": {
       "height": 420,
       "width": 420
      }
     },
     "output_type": "display_data"
    }
   ],
   "source": [
    "# make a scatter plot with the residuals from the change in log model\n",
    "plot(resid_clog, stocks1[['ChangeLogIndex']][1:length(resid_clog)], # adjust the length because of the first NA value\n",
    "     xlab = 'Residuals (e)', \n",
    "     ylab = 'Change in Log SP500 Index', \n",
    "     main = 'Residuals Change in Log Model',\n",
    "     pch = 19, col = 'blue')"
   ]
  },
  {
   "cell_type": "code",
   "execution_count": 40,
   "id": "4109ba24-a718-45b8-adea-02f0678aa6c8",
   "metadata": {},
   "outputs": [
    {
     "data": {
      "image/png": "[encoded data removed]",
      "text/plain": [
       "Plot with title \"Residuals Change in Regular Model\""
      ]
     },
     "metadata": {
      "image/png": {
       "height": 420,
       "width": 420
      }
     },
     "output_type": "display_data"
    }
   ],
   "source": [
    "# make a scatter plot with the residuals from the regular model\n",
    "plot(resid_bm, stocks1[['Index']],\n",
    "     xlab = 'Residuals (e)', \n",
    "     ylab = 'SP500 Index', \n",
    "     main = 'Residuals Change in Regular Model',\n",
    "     pch = 19, col = 'blue')"
   ]
  }
 ],
 "metadata": {
  "kernelspec": {
   "display_name": "R",
   "language": "R",
   "name": "ir"
  },
  "language_info": {
   "codemirror_mode": "r",
   "file_extension": ".r",
   "mimetype": "text/x-r-source",
   "name": "R",
   "pygments_lexer": "r",
   "version": "4.4.3"
  }
 },
 "nbformat": 4,
 "nbformat_minor": 5
}
