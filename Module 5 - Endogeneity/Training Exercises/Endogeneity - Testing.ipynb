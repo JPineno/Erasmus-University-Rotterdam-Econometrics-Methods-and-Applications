{
 "cells": [
  {
   "cell_type": "markdown",
   "id": "4e78c3f5-5dd2-4859-afe6-8a206123f79c",
   "metadata": {},
   "source": [
    "# <u>Training Exercices - Endogeneity: Testing<u>\n",
    "\n",
    "__<u>Jorge Pineño Pérez<u>__ / Module 5 - Endogeneity"
   ]
  },
  {
   "cell_type": "code",
   "execution_count": 1,
   "id": "6f4c35ab-95aa-4b94-b51c-02195b02ef64",
   "metadata": {
    "scrolled": true
   },
   "outputs": [
    {
     "name": "stderr",
     "output_type": "stream",
     "text": [
      "Installing package into 'C:/Users/USER/AppData/Local/R/win-library/4.4'\n",
      "(as 'lib' is unspecified)\n",
      "\n"
     ]
    },
    {
     "name": "stdout",
     "output_type": "stream",
     "text": [
      "package 'readxl' successfully unpacked and MD5 sums checked\n",
      "\n",
      "The downloaded binary packages are in\n",
      "\tC:\\Users\\USER\\AppData\\Local\\Temp\\Rtmp8CqSuA\\downloaded_packages\n"
     ]
    },
    {
     "name": "stderr",
     "output_type": "stream",
     "text": [
      "Installing package into 'C:/Users/USER/AppData/Local/R/win-library/4.4'\n",
      "(as 'lib' is unspecified)\n",
      "\n"
     ]
    },
    {
     "name": "stdout",
     "output_type": "stream",
     "text": [
      "package 'dplyr' successfully unpacked and MD5 sums checked\n",
      "\n",
      "The downloaded binary packages are in\n",
      "\tC:\\Users\\USER\\AppData\\Local\\Temp\\Rtmp8CqSuA\\downloaded_packages\n"
     ]
    },
    {
     "name": "stderr",
     "output_type": "stream",
     "text": [
      "\n",
      "Adjuntando el paquete: 'dplyr'\n",
      "\n",
      "\n",
      "The following objects are masked from 'package:stats':\n",
      "\n",
      "    filter, lag\n",
      "\n",
      "\n",
      "The following objects are masked from 'package:base':\n",
      "\n",
      "    intersect, setdiff, setequal, union\n",
      "\n",
      "\n"
     ]
    }
   ],
   "source": [
    "# package imports\n",
    "install.packages(\"readxl\")\n",
    "install.packages(\"dplyr\")\n",
    "library(readxl)\n",
    "library(dplyr)"
   ]
  },
  {
   "cell_type": "markdown",
   "id": "e91a6b69-499f-48b1-964c-07f834b48dd7",
   "metadata": {},
   "source": [
    "__<u>Training Exercise 4.4<u>__"
   ]
  },
  {
   "cell_type": "code",
   "execution_count": 30,
   "id": "3541c199-d995-4bb4-93cc-d64a76172398",
   "metadata": {},
   "outputs": [
    {
     "data": {
      "text/html": [
       "<table class=\"dataframe\">\n",
       "<caption>A tibble: 6 × 7</caption>\n",
       "<thead>\n",
       "\t<tr><th scope=col>OBS</th><th scope=col>GC</th><th scope=col>PG</th><th scope=col>RI</th><th scope=col>RPN</th><th scope=col>RPT</th><th scope=col>RPU</th></tr>\n",
       "\t<tr><th scope=col>&lt;chr&gt;</th><th scope=col>&lt;dbl&gt;</th><th scope=col>&lt;dbl&gt;</th><th scope=col>&lt;dbl&gt;</th><th scope=col>&lt;dbl&gt;</th><th scope=col>&lt;dbl&gt;</th><th scope=col>&lt;dbl&gt;</th></tr>\n",
       "</thead>\n",
       "<tbody>\n",
       "\t<tr><td>1970</td><td>6.714227</td><td>-0.10094651</td><td>2.943489</td><td>0.3118717</td><td>-0.09737416</td><td>-0.2180022</td></tr>\n",
       "\t<tr><td>1971</td><td>6.765328</td><td>-0.13722132</td><td>2.985432</td><td>0.3096610</td><td>-0.06899287</td><td>-0.2047944</td></tr>\n",
       "\t<tr><td>1972</td><td>6.830206</td><td>-0.15666032</td><td>3.033986</td><td>0.2689674</td><td>-0.06167182</td><td>-0.2333631</td></tr>\n",
       "\t<tr><td>1973</td><td>6.847757</td><td>-0.12389238</td><td>3.093292</td><td>0.2104507</td><td>-0.11188828</td><td>-0.2321934</td></tr>\n",
       "\t<tr><td>1974</td><td>6.697846</td><td> 0.07443991</td><td>3.079637</td><td>0.1607933</td><td>-0.19415601</td><td>-0.2951473</td></tr>\n",
       "\t<tr><td>1975</td><td>6.732342</td><td> 0.05303518</td><td>3.089182</td><td>0.1562727</td><td>-0.21251253</td><td>-0.2056396</td></tr>\n",
       "</tbody>\n",
       "</table>\n"
      ],
      "text/latex": [
       "A tibble: 6 × 7\n",
       "\\begin{tabular}{lllllll}\n",
       " OBS & GC & PG & RI & RPN & RPT & RPU\\\\\n",
       " <chr> & <dbl> & <dbl> & <dbl> & <dbl> & <dbl> & <dbl>\\\\\n",
       "\\hline\n",
       "\t 1970 & 6.714227 & -0.10094651 & 2.943489 & 0.3118717 & -0.09737416 & -0.2180022\\\\\n",
       "\t 1971 & 6.765328 & -0.13722132 & 2.985432 & 0.3096610 & -0.06899287 & -0.2047944\\\\\n",
       "\t 1972 & 6.830206 & -0.15666032 & 3.033986 & 0.2689674 & -0.06167182 & -0.2333631\\\\\n",
       "\t 1973 & 6.847757 & -0.12389238 & 3.093292 & 0.2104507 & -0.11188828 & -0.2321934\\\\\n",
       "\t 1974 & 6.697846 &  0.07443991 & 3.079637 & 0.1607933 & -0.19415601 & -0.2951473\\\\\n",
       "\t 1975 & 6.732342 &  0.05303518 & 3.089182 & 0.1562727 & -0.21251253 & -0.2056396\\\\\n",
       "\\end{tabular}\n"
      ],
      "text/markdown": [
       "\n",
       "A tibble: 6 × 7\n",
       "\n",
       "| OBS &lt;chr&gt; | GC &lt;dbl&gt; | PG &lt;dbl&gt; | RI &lt;dbl&gt; | RPN &lt;dbl&gt; | RPT &lt;dbl&gt; | RPU &lt;dbl&gt; |\n",
       "|---|---|---|---|---|---|---|\n",
       "| 1970 | 6.714227 | -0.10094651 | 2.943489 | 0.3118717 | -0.09737416 | -0.2180022 |\n",
       "| 1971 | 6.765328 | -0.13722132 | 2.985432 | 0.3096610 | -0.06899287 | -0.2047944 |\n",
       "| 1972 | 6.830206 | -0.15666032 | 3.033986 | 0.2689674 | -0.06167182 | -0.2333631 |\n",
       "| 1973 | 6.847757 | -0.12389238 | 3.093292 | 0.2104507 | -0.11188828 | -0.2321934 |\n",
       "| 1974 | 6.697846 |  0.07443991 | 3.079637 | 0.1607933 | -0.19415601 | -0.2951473 |\n",
       "| 1975 | 6.732342 |  0.05303518 | 3.089182 | 0.1562727 | -0.21251253 | -0.2056396 |\n",
       "\n"
      ],
      "text/plain": [
       "  OBS  GC       PG          RI       RPN       RPT         RPU       \n",
       "1 1970 6.714227 -0.10094651 2.943489 0.3118717 -0.09737416 -0.2180022\n",
       "2 1971 6.765328 -0.13722132 2.985432 0.3096610 -0.06899287 -0.2047944\n",
       "3 1972 6.830206 -0.15666032 3.033986 0.2689674 -0.06167182 -0.2333631\n",
       "4 1973 6.847757 -0.12389238 3.093292 0.2104507 -0.11188828 -0.2321934\n",
       "5 1974 6.697846  0.07443991 3.079637 0.1607933 -0.19415601 -0.2951473\n",
       "6 1975 6.732342  0.05303518 3.089182 0.1562727 -0.21251253 -0.2056396"
      ]
     },
     "metadata": {},
     "output_type": "display_data"
    }
   ],
   "source": [
    "# import the gasoline market dataframe\n",
    "gas <- read_excel('TrainExer44.xls')\n",
    "head(gas)"
   ]
  },
  {
   "cell_type": "markdown",
   "id": "2d0866ad-cfcf-4513-a256-4cb8ce798b2d",
   "metadata": {},
   "source": [
    "__(b)__"
   ]
  },
  {
   "cell_type": "code",
   "execution_count": 31,
   "id": "f6f2e00e-279a-4205-9bf8-a4db2ccbfd72",
   "metadata": {},
   "outputs": [
    {
     "data": {
      "text/plain": [
       "\n",
       "Call:\n",
       "lm(formula = PG ~ RI + RPT + RPN + RPU, data = gas)\n",
       "\n",
       "Residuals:\n",
       "      Min        1Q    Median        3Q       Max \n",
       "-0.160161 -0.036024 -0.002891  0.034824  0.175059 \n",
       "\n",
       "Coefficients:\n",
       "            Estimate Std. Error t value Pr(>|t|)    \n",
       "(Intercept)   7.7410     0.8337   9.285 1.40e-09 ***\n",
       "RI           -2.2984     0.2471  -9.303 1.35e-09 ***\n",
       "RPT          -0.8080     0.1912  -4.225 0.000277 ***\n",
       "RPN          -3.5279     0.3520 -10.023 3.06e-10 ***\n",
       "RPU           0.2331     0.1831   1.273 0.214765    \n",
       "---\n",
       "Signif. codes:  0 '***' 0.001 '**' 0.01 '*' 0.05 '.' 0.1 ' ' 1\n",
       "\n",
       "Residual standard error: 0.07269 on 25 degrees of freedom\n",
       "Multiple R-squared:  0.8868,\tAdjusted R-squared:  0.8687 \n",
       "F-statistic: 48.97 on 4 and 25 DF,  p-value: 1.797e-11\n"
      ]
     },
     "metadata": {},
     "output_type": "display_data"
    }
   ],
   "source": [
    "# regress PG (X) on a constant, RI, RPT, RPN, and RPU (Z), to get the explained part\n",
    "PG_model <- lm(PG ~ RI + RPT + RPN + RPU, data=gas)\n",
    "summary(PG_model)"
   ]
  },
  {
   "cell_type": "code",
   "execution_count": 32,
   "id": "ca079746-1e7e-46bf-ba88-6346e073f035",
   "metadata": {},
   "outputs": [
    {
     "data": {
      "text/plain": [
       "\n",
       "Call:\n",
       "lm(formula = GC ~ PG_fitted + RI, data = gas)\n",
       "\n",
       "Residuals:\n",
       "      Min        1Q    Median        3Q       Max \n",
       "-0.054154 -0.025003 -0.008033  0.012243  0.090373 \n",
       "\n",
       "Coefficients:\n",
       "            Estimate Std. Error t value Pr(>|t|)    \n",
       "(Intercept)  5.01370    0.13386   37.46  < 2e-16 ***\n",
       "PG_fitted   -0.54445    0.04618  -11.79 3.72e-12 ***\n",
       "RI           0.56466    0.04050   13.94 7.46e-14 ***\n",
       "---\n",
       "Signif. codes:  0 '***' 0.001 '**' 0.01 '*' 0.05 '.' 0.1 ' ' 1\n",
       "\n",
       "Residual standard error: 0.03833 on 27 degrees of freedom\n",
       "Multiple R-squared:  0.9668,\tAdjusted R-squared:  0.9644 \n",
       "F-statistic: 393.3 on 2 and 27 DF,  p-value: < 2.2e-16\n"
      ]
     },
     "metadata": {},
     "output_type": "display_data"
    }
   ],
   "source": [
    "# add PG_fitted to the tibble\n",
    "gas$PG_fitted <- fitted(PG_model)\n",
    "\n",
    "# regress GC on PG_fitted and RI, which will give the estimate of beta_2 as the coefficient of PG_fitted\n",
    "GC_model <- lm(GC ~ PG_fitted + RI, data=gas)\n",
    "summary(GC_model)"
   ]
  },
  {
   "cell_type": "markdown",
   "id": "284992b0-9c9d-4d1a-98d9-6d1eb266a617",
   "metadata": {},
   "source": [
    "__(c)__"
   ]
  },
  {
   "cell_type": "code",
   "execution_count": 33,
   "id": "d6555f43-8171-4f60-b73d-750a1dd33beb",
   "metadata": {},
   "outputs": [
    {
     "data": {
      "text/plain": [
       "\n",
       "Call:\n",
       "lm(formula = e2SLS ~ RI + RPT + RPN + RPU, data = gas)\n",
       "\n",
       "Residuals:\n",
       "      Min        1Q    Median        3Q       Max \n",
       "-0.067822 -0.020037 -0.005752  0.022093  0.084996 \n",
       "\n",
       "Coefficients:\n",
       "            Estimate Std. Error t value Pr(>|t|)\n",
       "(Intercept) -0.20975    0.44738  -0.469    0.643\n",
       "RI           0.06041    0.13258   0.456    0.653\n",
       "RPT         -0.05120    0.10261  -0.499    0.622\n",
       "RPN          0.02041    0.18887   0.108    0.915\n",
       "RPU         -0.07023    0.09826  -0.715    0.481\n",
       "\n",
       "Residual standard error: 0.03901 on 25 degrees of freedom\n",
       "Multiple R-squared:  0.04093,\tAdjusted R-squared:  -0.1125 \n",
       "F-statistic: 0.2667 on 4 and 25 DF,  p-value: 0.8965\n"
      ]
     },
     "metadata": {},
     "output_type": "display_data"
    }
   ],
   "source": [
    "# calculate the errors of the 2SLS\n",
    "e2SLS <- resid(GC_model)\n",
    "\n",
    "# regress the e2SLS on the instruments (Z) RI, RPT, RPN, and RPU\n",
    "e2SLS_model <- lm(e2SLS ~ RI + RPT + RPN + RPU, data=gas)\n",
    "summary(e2SLS_model)"
   ]
  },
  {
   "cell_type": "code",
   "execution_count": 34,
   "id": "d8564086-e8b4-417a-98b1-95ecfac421fb",
   "metadata": {},
   "outputs": [
    {
     "data": {
      "text/html": [
       "1.22794915630171"
      ],
      "text/latex": [
       "1.22794915630171"
      ],
      "text/markdown": [
       "1.22794915630171"
      ],
      "text/plain": [
       "[1] 1.227949"
      ]
     },
     "metadata": {},
     "output_type": "display_data"
    }
   ],
   "source": [
    "# compute the Sargan test statistic as n*R-squared,\n",
    "# knowing that the cirtical value (5%) chi-squared distribution\n",
    "# with (5-3)df is 5.99, and with anything below that, the null hypothesis\n",
    "# is not rejected, and the instruments seem to therefore be valid\n",
    "sargan <- nobs(e2SLS_model) * summary(e2SLS_model)$r.squared\n",
    "sargan"
   ]
  }
 ],
 "metadata": {
  "kernelspec": {
   "display_name": "R",
   "language": "R",
   "name": "ir"
  },
  "language_info": {
   "codemirror_mode": "r",
   "file_extension": ".r",
   "mimetype": "text/x-r-source",
   "name": "R",
   "pygments_lexer": "r",
   "version": "4.4.3"
  }
 },
 "nbformat": 4,
 "nbformat_minor": 5
}
