{
 "cells": [
  {
   "cell_type": "markdown",
   "id": "4e78c3f5-5dd2-4859-afe6-8a206123f79c",
   "metadata": {},
   "source": [
    "# <u>Training Exercices - Endogeneity: Application<u>\n",
    "\n",
    "__<u>Jorge Pineño Pérez<u>__ / Module 5 - Endogeneity"
   ]
  },
  {
   "cell_type": "code",
   "execution_count": 1,
   "id": "6f4c35ab-95aa-4b94-b51c-02195b02ef64",
   "metadata": {
    "scrolled": true
   },
   "outputs": [
    {
     "name": "stderr",
     "output_type": "stream",
     "text": [
      "Installing package into 'C:/Users/USER/AppData/Local/R/win-library/4.4'\n",
      "(as 'lib' is unspecified)\n",
      "\n"
     ]
    },
    {
     "name": "stdout",
     "output_type": "stream",
     "text": [
      "package 'readxl' successfully unpacked and MD5 sums checked\n",
      "\n",
      "The downloaded binary packages are in\n",
      "\tC:\\Users\\USER\\AppData\\Local\\Temp\\RtmpMdPOff\\downloaded_packages\n"
     ]
    },
    {
     "name": "stderr",
     "output_type": "stream",
     "text": [
      "Installing package into 'C:/Users/USER/AppData/Local/R/win-library/4.4'\n",
      "(as 'lib' is unspecified)\n",
      "\n"
     ]
    },
    {
     "name": "stdout",
     "output_type": "stream",
     "text": [
      "package 'dplyr' successfully unpacked and MD5 sums checked\n",
      "\n",
      "The downloaded binary packages are in\n",
      "\tC:\\Users\\USER\\AppData\\Local\\Temp\\RtmpMdPOff\\downloaded_packages\n"
     ]
    },
    {
     "name": "stderr",
     "output_type": "stream",
     "text": [
      "\n",
      "Adjuntando el paquete: 'dplyr'\n",
      "\n",
      "\n",
      "The following objects are masked from 'package:stats':\n",
      "\n",
      "    filter, lag\n",
      "\n",
      "\n",
      "The following objects are masked from 'package:base':\n",
      "\n",
      "    intersect, setdiff, setequal, union\n",
      "\n",
      "\n"
     ]
    }
   ],
   "source": [
    "# package imports\n",
    "install.packages(\"readxl\")\n",
    "install.packages(\"dplyr\")\n",
    "library(readxl)\n",
    "library(dplyr)"
   ]
  },
  {
   "cell_type": "markdown",
   "id": "e91a6b69-499f-48b1-964c-07f834b48dd7",
   "metadata": {},
   "source": [
    "__<u>Training Exercise 4.5<u>__"
   ]
  },
  {
   "cell_type": "code",
   "execution_count": 2,
   "id": "3541c199-d995-4bb4-93cc-d64a76172398",
   "metadata": {},
   "outputs": [
    {
     "data": {
      "text/html": [
       "<table class=\"dataframe\">\n",
       "<caption>A tibble: 6 × 4</caption>\n",
       "<thead>\n",
       "\t<tr><th scope=col>GPA</th><th scope=col>PARTICIPATION</th><th scope=col>GENDER</th><th scope=col>EMAIL</th></tr>\n",
       "\t<tr><th scope=col>&lt;dbl&gt;</th><th scope=col>&lt;dbl&gt;</th><th scope=col>&lt;dbl&gt;</th><th scope=col>&lt;dbl&gt;</th></tr>\n",
       "</thead>\n",
       "<tbody>\n",
       "\t<tr><td>7.386898</td><td>1</td><td>0</td><td>1</td></tr>\n",
       "\t<tr><td>6.493597</td><td>1</td><td>1</td><td>1</td></tr>\n",
       "\t<tr><td>4.956625</td><td>0</td><td>1</td><td>1</td></tr>\n",
       "\t<tr><td>7.442979</td><td>1</td><td>1</td><td>0</td></tr>\n",
       "\t<tr><td>6.281521</td><td>0</td><td>1</td><td>1</td></tr>\n",
       "\t<tr><td>5.391270</td><td>0</td><td>0</td><td>1</td></tr>\n",
       "</tbody>\n",
       "</table>\n"
      ],
      "text/latex": [
       "A tibble: 6 × 4\n",
       "\\begin{tabular}{llll}\n",
       " GPA & PARTICIPATION & GENDER & EMAIL\\\\\n",
       " <dbl> & <dbl> & <dbl> & <dbl>\\\\\n",
       "\\hline\n",
       "\t 7.386898 & 1 & 0 & 1\\\\\n",
       "\t 6.493597 & 1 & 1 & 1\\\\\n",
       "\t 4.956625 & 0 & 1 & 1\\\\\n",
       "\t 7.442979 & 1 & 1 & 0\\\\\n",
       "\t 6.281521 & 0 & 1 & 1\\\\\n",
       "\t 5.391270 & 0 & 0 & 1\\\\\n",
       "\\end{tabular}\n"
      ],
      "text/markdown": [
       "\n",
       "A tibble: 6 × 4\n",
       "\n",
       "| GPA &lt;dbl&gt; | PARTICIPATION &lt;dbl&gt; | GENDER &lt;dbl&gt; | EMAIL &lt;dbl&gt; |\n",
       "|---|---|---|---|\n",
       "| 7.386898 | 1 | 0 | 1 |\n",
       "| 6.493597 | 1 | 1 | 1 |\n",
       "| 4.956625 | 0 | 1 | 1 |\n",
       "| 7.442979 | 1 | 1 | 0 |\n",
       "| 6.281521 | 0 | 1 | 1 |\n",
       "| 5.391270 | 0 | 0 | 1 |\n",
       "\n"
      ],
      "text/plain": [
       "  GPA      PARTICIPATION GENDER EMAIL\n",
       "1 7.386898 1             0      1    \n",
       "2 6.493597 1             1      1    \n",
       "3 4.956625 0             1      1    \n",
       "4 7.442979 1             1      0    \n",
       "5 6.281521 0             1      1    \n",
       "6 5.391270 0             0      1    "
      ]
     },
     "metadata": {},
     "output_type": "display_data"
    }
   ],
   "source": [
    "# import the Engineering MOOC dataframe\n",
    "mooc <- read_excel('TrainExer45.xls')\n",
    "head(mooc)"
   ]
  },
  {
   "cell_type": "markdown",
   "id": "2d0866ad-cfcf-4513-a256-4cb8ce798b2d",
   "metadata": {},
   "source": [
    "__(a)__"
   ]
  },
  {
   "cell_type": "code",
   "execution_count": 3,
   "id": "f6f2e00e-279a-4205-9bf8-a4db2ccbfd72",
   "metadata": {},
   "outputs": [
    {
     "data": {
      "text/plain": [
       "\n",
       "Call:\n",
       "lm(formula = GPA ~ GENDER + PARTICIPATION, data = mooc)\n",
       "\n",
       "Residuals:\n",
       "     Min       1Q   Median       3Q      Max \n",
       "-2.00981 -0.48166  0.01022  0.47071  1.80200 \n",
       "\n",
       "Coefficients:\n",
       "              Estimate Std. Error t value Pr(>|t|)    \n",
       "(Intercept)    5.77111    0.03397 169.874  < 2e-16 ***\n",
       "GENDER        -0.21376    0.04431  -4.824 1.63e-06 ***\n",
       "PARTICIPATION  0.82437    0.04686  17.593  < 2e-16 ***\n",
       "---\n",
       "Signif. codes:  0 '***' 0.001 '**' 0.01 '*' 0.05 '.' 0.1 ' ' 1\n",
       "\n",
       "Residual standard error: 0.6985 on 997 degrees of freedom\n",
       "Multiple R-squared:  0.2441,\tAdjusted R-squared:  0.2426 \n",
       "F-statistic:   161 on 2 and 997 DF,  p-value: < 2.2e-16\n"
      ]
     },
     "metadata": {},
     "output_type": "display_data"
    }
   ],
   "source": [
    "# regress GPA on a constant, \"GENDER\", and \"PARTICIPATION\", and check that we get\n",
    "# R-squared = 0.24, and a t-statistic of 17.59 for the coefficient of \"PARTICIPATION\"\n",
    "gpa_ols <- lm(GPA ~ GENDER + PARTICIPATION, data=mooc)\n",
    "summary(gpa_ols)"
   ]
  },
  {
   "cell_type": "markdown",
   "id": "735a47f8-924d-4cb6-bb71-64534adc5713",
   "metadata": {},
   "source": [
    "__(b)__"
   ]
  },
  {
   "cell_type": "code",
   "execution_count": 4,
   "id": "275d2347-3bd4-4fd1-90a6-a3a4245262e6",
   "metadata": {},
   "outputs": [
    {
     "data": {
      "text/plain": [
       "\n",
       "Call:\n",
       "lm(formula = PARTICIPATION ~ GENDER + EMAIL, data = mooc)\n",
       "\n",
       "Residuals:\n",
       "    Min      1Q  Median      3Q     Max \n",
       "-0.5625 -0.1496 -0.1011  0.4375  0.8989 \n",
       "\n",
       "Coefficients:\n",
       "            Estimate Std. Error t value Pr(>|t|)    \n",
       "(Intercept)  0.10112    0.02290   4.415 1.12e-05 ***\n",
       "GENDER       0.04846    0.02690   1.801   0.0719 .  \n",
       "EMAIL        0.41290    0.02690  15.349  < 2e-16 ***\n",
       "---\n",
       "Signif. codes:  0 '***' 0.001 '**' 0.01 '*' 0.05 '.' 0.1 ' ' 1\n",
       "\n",
       "Residual standard error: 0.4246 on 997 degrees of freedom\n",
       "Multiple R-squared:  0.1956,\tAdjusted R-squared:  0.194 \n",
       "F-statistic: 121.2 on 2 and 997 DF,  p-value: < 2.2e-16\n"
      ]
     },
     "metadata": {},
     "output_type": "display_data"
    }
   ],
   "source": [
    "# perform the first-stage regression of \"PARTICIPATION\" on \"GENDER\" and \"EMAIL\"\n",
    "part_fs <- lm(PARTICIPATION ~ GENDER + EMAIL, data=mooc)\n",
    "summary(part_fs)"
   ]
  },
  {
   "cell_type": "code",
   "execution_count": 5,
   "id": "d0e44ead-8707-4414-bc83-84c43772c3ee",
   "metadata": {},
   "outputs": [
    {
     "data": {
      "text/html": [
       "<table class=\"dataframe\">\n",
       "<caption>A tibble: 6 × 6</caption>\n",
       "<thead>\n",
       "\t<tr><th scope=col>GPA</th><th scope=col>PARTICIPATION</th><th scope=col>GENDER</th><th scope=col>EMAIL</th><th scope=col>fitted_part</th><th scope=col>residuals_gpa</th></tr>\n",
       "\t<tr><th scope=col>&lt;dbl&gt;</th><th scope=col>&lt;dbl&gt;</th><th scope=col>&lt;dbl&gt;</th><th scope=col>&lt;dbl&gt;</th><th scope=col>&lt;dbl&gt;</th><th scope=col>&lt;dbl&gt;</th></tr>\n",
       "</thead>\n",
       "<tbody>\n",
       "\t<tr><td>7.386898</td><td>1</td><td>0</td><td>1</td><td>0.5140228</td><td> 0.7914183</td></tr>\n",
       "\t<tr><td>6.493597</td><td>1</td><td>1</td><td>1</td><td>0.5624784</td><td> 0.1118752</td></tr>\n",
       "\t<tr><td>4.956625</td><td>0</td><td>1</td><td>1</td><td>0.5624784</td><td>-0.6007279</td></tr>\n",
       "\t<tr><td>7.442979</td><td>1</td><td>1</td><td>0</td><td>0.1495790</td><td> 1.0612579</td></tr>\n",
       "\t<tr><td>6.281521</td><td>0</td><td>1</td><td>1</td><td>0.5624784</td><td> 0.7241681</td></tr>\n",
       "\t<tr><td>5.391270</td><td>0</td><td>0</td><td>1</td><td>0.5140228</td><td>-0.3798420</td></tr>\n",
       "</tbody>\n",
       "</table>\n"
      ],
      "text/latex": [
       "A tibble: 6 × 6\n",
       "\\begin{tabular}{llllll}\n",
       " GPA & PARTICIPATION & GENDER & EMAIL & fitted\\_part & residuals\\_gpa\\\\\n",
       " <dbl> & <dbl> & <dbl> & <dbl> & <dbl> & <dbl>\\\\\n",
       "\\hline\n",
       "\t 7.386898 & 1 & 0 & 1 & 0.5140228 &  0.7914183\\\\\n",
       "\t 6.493597 & 1 & 1 & 1 & 0.5624784 &  0.1118752\\\\\n",
       "\t 4.956625 & 0 & 1 & 1 & 0.5624784 & -0.6007279\\\\\n",
       "\t 7.442979 & 1 & 1 & 0 & 0.1495790 &  1.0612579\\\\\n",
       "\t 6.281521 & 0 & 1 & 1 & 0.5624784 &  0.7241681\\\\\n",
       "\t 5.391270 & 0 & 0 & 1 & 0.5140228 & -0.3798420\\\\\n",
       "\\end{tabular}\n"
      ],
      "text/markdown": [
       "\n",
       "A tibble: 6 × 6\n",
       "\n",
       "| GPA &lt;dbl&gt; | PARTICIPATION &lt;dbl&gt; | GENDER &lt;dbl&gt; | EMAIL &lt;dbl&gt; | fitted_part &lt;dbl&gt; | residuals_gpa &lt;dbl&gt; |\n",
       "|---|---|---|---|---|---|\n",
       "| 7.386898 | 1 | 0 | 1 | 0.5140228 |  0.7914183 |\n",
       "| 6.493597 | 1 | 1 | 1 | 0.5624784 |  0.1118752 |\n",
       "| 4.956625 | 0 | 1 | 1 | 0.5624784 | -0.6007279 |\n",
       "| 7.442979 | 1 | 1 | 0 | 0.1495790 |  1.0612579 |\n",
       "| 6.281521 | 0 | 1 | 1 | 0.5624784 |  0.7241681 |\n",
       "| 5.391270 | 0 | 0 | 1 | 0.5140228 | -0.3798420 |\n",
       "\n"
      ],
      "text/plain": [
       "  GPA      PARTICIPATION GENDER EMAIL fitted_part residuals_gpa\n",
       "1 7.386898 1             0      1     0.5140228    0.7914183   \n",
       "2 6.493597 1             1      1     0.5624784    0.1118752   \n",
       "3 4.956625 0             1      1     0.5624784   -0.6007279   \n",
       "4 7.442979 1             1      0     0.1495790    1.0612579   \n",
       "5 6.281521 0             1      1     0.5624784    0.7241681   \n",
       "6 5.391270 0             0      1     0.5140228   -0.3798420   "
      ]
     },
     "metadata": {},
     "output_type": "display_data"
    }
   ],
   "source": [
    "# add the residuals of \"gpa_ols\" and the fitted values of \"part_fs\"\n",
    "# to the tibble to be able to perform the second-stage regression\n",
    "mooc <- mooc %>% mutate(fitted_part = fitted(part_fs), residuals_gpa = resid(gpa_ols))\n",
    "head(mooc)"
   ]
  },
  {
   "cell_type": "code",
   "execution_count": 13,
   "id": "6e968ba9-43f7-4fc0-94df-f3d4629881a9",
   "metadata": {},
   "outputs": [
    {
     "data": {
      "text/plain": [
       "\n",
       "Call:\n",
       "lm(formula = GPA ~ GENDER + fitted_part, data = mooc)\n",
       "\n",
       "Residuals:\n",
       "     Min       1Q   Median       3Q      Max \n",
       "-2.07155 -0.57838 -0.05513  0.59162  2.23636 \n",
       "\n",
       "Coefficients:\n",
       "            Estimate Std. Error t value Pr(>|t|)    \n",
       "(Intercept)  5.94787    0.05117 116.239  < 2e-16 ***\n",
       "GENDER      -0.17276    0.05121  -3.373 0.000771 ***\n",
       "fitted_part  0.24050    0.12246   1.964 0.049819 *  \n",
       "---\n",
       "Signif. codes:  0 '***' 0.001 '**' 0.01 '*' 0.05 '.' 0.1 ' ' 1\n",
       "\n",
       "Residual standard error: 0.7981 on 997 degrees of freedom\n",
       "Multiple R-squared:  0.01325,\tAdjusted R-squared:  0.01127 \n",
       "F-statistic: 6.694 on 2 and 997 DF,  p-value: 0.001294\n"
      ]
     },
     "metadata": {},
     "output_type": "display_data"
    }
   ],
   "source": [
    "# regress gpa on a constant, \"GENDER\", and \"fitted_part\", and check that\n",
    "# we get R-squared = 0.013, and the coefficient of \"fitted_part\" = 2.24\n",
    "gpa_2SLS <- lm(GPA ~ GENDER + fitted_part, data=mooc)\n",
    "summary(gpa_2SLS)"
   ]
  }
 ],
 "metadata": {
  "kernelspec": {
   "display_name": "R",
   "language": "R",
   "name": "ir"
  },
  "language_info": {
   "codemirror_mode": "r",
   "file_extension": ".r",
   "mimetype": "text/x-r-source",
   "name": "R",
   "pygments_lexer": "r",
   "version": "4.4.3"
  }
 },
 "nbformat": 4,
 "nbformat_minor": 5
}
