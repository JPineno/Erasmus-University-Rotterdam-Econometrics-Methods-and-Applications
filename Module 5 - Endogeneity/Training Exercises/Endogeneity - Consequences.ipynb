{
 "cells": [
  {
   "cell_type": "markdown",
   "id": "4e78c3f5-5dd2-4859-afe6-8a206123f79c",
   "metadata": {},
   "source": [
    "# <u>Training Exercices - Endogeneity: Consequences<u>\n",
    "\n",
    "__<u>Jorge Pineño Pérez<u>__ / Module 5 - Endogeneity"
   ]
  },
  {
   "cell_type": "code",
   "execution_count": 1,
   "id": "6f4c35ab-95aa-4b94-b51c-02195b02ef64",
   "metadata": {
    "scrolled": true
   },
   "outputs": [
    {
     "name": "stderr",
     "output_type": "stream",
     "text": [
      "Installing package into 'C:/Users/USER/AppData/Local/R/win-library/4.4'\n",
      "(as 'lib' is unspecified)\n",
      "\n"
     ]
    },
    {
     "name": "stdout",
     "output_type": "stream",
     "text": [
      "package 'readxl' successfully unpacked and MD5 sums checked\n"
     ]
    },
    {
     "name": "stderr",
     "output_type": "stream",
     "text": [
      "Warning message:\n",
      "\"cannot remove prior installation of package 'readxl'\"\n",
      "Warning message in file.copy(savedcopy, lib, recursive = TRUE):\n",
      "\"problema al copiar C:\\Users\\USER\\AppData\\Local\\R\\win-library\\4.4\\00LOCK\\readxl\\libs\\x64\\readxl.dll  a C:\\Users\\USER\\AppData\\Local\\R\\win-library\\4.4\\readxl\\libs\\x64\\readxl.dll: Permission denied\"\n",
      "Warning message:\n",
      "\"restored 'readxl'\"\n"
     ]
    },
    {
     "name": "stdout",
     "output_type": "stream",
     "text": [
      "\n",
      "The downloaded binary packages are in\n",
      "\tC:\\Users\\USER\\AppData\\Local\\Temp\\RtmpEnS1h5\\downloaded_packages\n"
     ]
    },
    {
     "name": "stderr",
     "output_type": "stream",
     "text": [
      "Installing package into 'C:/Users/USER/AppData/Local/R/win-library/4.4'\n",
      "(as 'lib' is unspecified)\n",
      "\n"
     ]
    },
    {
     "name": "stdout",
     "output_type": "stream",
     "text": [
      "package 'dplyr' successfully unpacked and MD5 sums checked\n"
     ]
    },
    {
     "name": "stderr",
     "output_type": "stream",
     "text": [
      "Warning message:\n",
      "\"cannot remove prior installation of package 'dplyr'\"\n",
      "Warning message in file.copy(savedcopy, lib, recursive = TRUE):\n",
      "\"problema al copiar C:\\Users\\USER\\AppData\\Local\\R\\win-library\\4.4\\00LOCK\\dplyr\\libs\\x64\\dplyr.dll  a C:\\Users\\USER\\AppData\\Local\\R\\win-library\\4.4\\dplyr\\libs\\x64\\dplyr.dll: Permission denied\"\n",
      "Warning message:\n",
      "\"restored 'dplyr'\"\n"
     ]
    },
    {
     "name": "stdout",
     "output_type": "stream",
     "text": [
      "\n",
      "The downloaded binary packages are in\n",
      "\tC:\\Users\\USER\\AppData\\Local\\Temp\\RtmpEnS1h5\\downloaded_packages\n"
     ]
    },
    {
     "name": "stderr",
     "output_type": "stream",
     "text": [
      "\n",
      "Adjuntando el paquete: 'dplyr'\n",
      "\n",
      "\n",
      "The following objects are masked from 'package:stats':\n",
      "\n",
      "    filter, lag\n",
      "\n",
      "\n",
      "The following objects are masked from 'package:base':\n",
      "\n",
      "    intersect, setdiff, setequal, union\n",
      "\n",
      "\n"
     ]
    }
   ],
   "source": [
    "# package imports\n",
    "install.packages(\"readxl\")\n",
    "install.packages(\"dplyr\")\n",
    "library(readxl)\n",
    "library(dplyr)"
   ]
  },
  {
   "cell_type": "markdown",
   "id": "e91a6b69-499f-48b1-964c-07f834b48dd7",
   "metadata": {},
   "source": [
    "__<u>Training Exercise 4.2<u>__"
   ]
  },
  {
   "cell_type": "code",
   "execution_count": 5,
   "id": "3541c199-d995-4bb4-93cc-d64a76172398",
   "metadata": {},
   "outputs": [
    {
     "data": {
      "text/html": [
       "<table class=\"dataframe\">\n",
       "<caption>A tibble: 6 × 20</caption>\n",
       "<thead>\n",
       "\t<tr><th scope=col>PRICE0</th><th scope=col>PRICE1</th><th scope=col>PRICE5</th><th scope=col>PRICE10</th><th scope=col>SALES0_0</th><th scope=col>SALES0_1</th><th scope=col>SALES0_5</th><th scope=col>SALES0_10</th><th scope=col>SALES1_0</th><th scope=col>SALES1_1</th><th scope=col>SALES1_5</th><th scope=col>SALES1_10</th><th scope=col>SALES5_0</th><th scope=col>SALES5_1</th><th scope=col>SALES5_5</th><th scope=col>SALES5_10</th><th scope=col>SALES10_0</th><th scope=col>SALES10_1</th><th scope=col>SALES10_5</th><th scope=col>SALES10_10</th></tr>\n",
       "\t<tr><th scope=col>&lt;dbl&gt;</th><th scope=col>&lt;dbl&gt;</th><th scope=col>&lt;dbl&gt;</th><th scope=col>&lt;dbl&gt;</th><th scope=col>&lt;dbl&gt;</th><th scope=col>&lt;dbl&gt;</th><th scope=col>&lt;dbl&gt;</th><th scope=col>&lt;dbl&gt;</th><th scope=col>&lt;dbl&gt;</th><th scope=col>&lt;dbl&gt;</th><th scope=col>&lt;dbl&gt;</th><th scope=col>&lt;dbl&gt;</th><th scope=col>&lt;dbl&gt;</th><th scope=col>&lt;dbl&gt;</th><th scope=col>&lt;dbl&gt;</th><th scope=col>&lt;dbl&gt;</th><th scope=col>&lt;dbl&gt;</th><th scope=col>&lt;dbl&gt;</th><th scope=col>&lt;dbl&gt;</th><th scope=col>&lt;dbl&gt;</th></tr>\n",
       "</thead>\n",
       "<tbody>\n",
       "\t<tr><td>4.910058</td><td>4.910058</td><td> 4.910058</td><td> 4.910058</td><td>94.63940</td><td>94.63940</td><td>94.63940</td><td>94.63940</td><td>94.63940</td><td>94.63940</td><td>94.63940</td><td>94.63940</td><td>94.63940</td><td>94.63940</td><td>94.63940</td><td>94.63940</td><td> 94.63940</td><td> 94.63940</td><td>94.63940</td><td>94.63940</td></tr>\n",
       "\t<tr><td>3.216531</td><td>3.216531</td><td> 3.216531</td><td> 3.216531</td><td>97.30212</td><td>97.30212</td><td>97.30212</td><td>97.30212</td><td>97.30212</td><td>97.30212</td><td>97.30212</td><td>97.30212</td><td>97.30212</td><td>97.30212</td><td>97.30212</td><td>97.30212</td><td> 97.30212</td><td> 97.30212</td><td>97.30212</td><td>97.30212</td></tr>\n",
       "\t<tr><td>5.978282</td><td>6.978282</td><td>10.978282</td><td>15.978282</td><td>94.50512</td><td>93.50512</td><td>89.50512</td><td>84.50512</td><td>95.50512</td><td>94.50512</td><td>90.50512</td><td>85.50512</td><td>99.50512</td><td>98.50512</td><td>94.50512</td><td>89.50512</td><td>104.50512</td><td>103.50512</td><td>99.50512</td><td>94.50512</td></tr>\n",
       "\t<tr><td>4.042785</td><td>4.042785</td><td> 4.042785</td><td> 4.042785</td><td>96.10561</td><td>96.10561</td><td>96.10561</td><td>96.10561</td><td>96.10561</td><td>96.10561</td><td>96.10561</td><td>96.10561</td><td>96.10561</td><td>96.10561</td><td>96.10561</td><td>96.10561</td><td> 96.10561</td><td> 96.10561</td><td>96.10561</td><td>96.10561</td></tr>\n",
       "\t<tr><td>4.017662</td><td>4.017662</td><td> 4.017662</td><td> 4.017662</td><td>95.12334</td><td>95.12334</td><td>95.12334</td><td>95.12334</td><td>95.12334</td><td>95.12334</td><td>95.12334</td><td>95.12334</td><td>95.12334</td><td>95.12334</td><td>95.12334</td><td>95.12334</td><td> 95.12334</td><td> 95.12334</td><td>95.12334</td><td>95.12334</td></tr>\n",
       "\t<tr><td>6.107970</td><td>6.107970</td><td> 6.107970</td><td> 6.107970</td><td>94.54308</td><td>94.54308</td><td>94.54308</td><td>94.54308</td><td>94.54308</td><td>94.54308</td><td>94.54308</td><td>94.54308</td><td>94.54308</td><td>94.54308</td><td>94.54308</td><td>94.54308</td><td> 94.54308</td><td> 94.54308</td><td>94.54308</td><td>94.54308</td></tr>\n",
       "</tbody>\n",
       "</table>\n"
      ],
      "text/latex": [
       "A tibble: 6 × 20\n",
       "\\begin{tabular}{llllllllllllllllllll}\n",
       " PRICE0 & PRICE1 & PRICE5 & PRICE10 & SALES0\\_0 & SALES0\\_1 & SALES0\\_5 & SALES0\\_10 & SALES1\\_0 & SALES1\\_1 & SALES1\\_5 & SALES1\\_10 & SALES5\\_0 & SALES5\\_1 & SALES5\\_5 & SALES5\\_10 & SALES10\\_0 & SALES10\\_1 & SALES10\\_5 & SALES10\\_10\\\\\n",
       " <dbl> & <dbl> & <dbl> & <dbl> & <dbl> & <dbl> & <dbl> & <dbl> & <dbl> & <dbl> & <dbl> & <dbl> & <dbl> & <dbl> & <dbl> & <dbl> & <dbl> & <dbl> & <dbl> & <dbl>\\\\\n",
       "\\hline\n",
       "\t 4.910058 & 4.910058 &  4.910058 &  4.910058 & 94.63940 & 94.63940 & 94.63940 & 94.63940 & 94.63940 & 94.63940 & 94.63940 & 94.63940 & 94.63940 & 94.63940 & 94.63940 & 94.63940 &  94.63940 &  94.63940 & 94.63940 & 94.63940\\\\\n",
       "\t 3.216531 & 3.216531 &  3.216531 &  3.216531 & 97.30212 & 97.30212 & 97.30212 & 97.30212 & 97.30212 & 97.30212 & 97.30212 & 97.30212 & 97.30212 & 97.30212 & 97.30212 & 97.30212 &  97.30212 &  97.30212 & 97.30212 & 97.30212\\\\\n",
       "\t 5.978282 & 6.978282 & 10.978282 & 15.978282 & 94.50512 & 93.50512 & 89.50512 & 84.50512 & 95.50512 & 94.50512 & 90.50512 & 85.50512 & 99.50512 & 98.50512 & 94.50512 & 89.50512 & 104.50512 & 103.50512 & 99.50512 & 94.50512\\\\\n",
       "\t 4.042785 & 4.042785 &  4.042785 &  4.042785 & 96.10561 & 96.10561 & 96.10561 & 96.10561 & 96.10561 & 96.10561 & 96.10561 & 96.10561 & 96.10561 & 96.10561 & 96.10561 & 96.10561 &  96.10561 &  96.10561 & 96.10561 & 96.10561\\\\\n",
       "\t 4.017662 & 4.017662 &  4.017662 &  4.017662 & 95.12334 & 95.12334 & 95.12334 & 95.12334 & 95.12334 & 95.12334 & 95.12334 & 95.12334 & 95.12334 & 95.12334 & 95.12334 & 95.12334 &  95.12334 &  95.12334 & 95.12334 & 95.12334\\\\\n",
       "\t 6.107970 & 6.107970 &  6.107970 &  6.107970 & 94.54308 & 94.54308 & 94.54308 & 94.54308 & 94.54308 & 94.54308 & 94.54308 & 94.54308 & 94.54308 & 94.54308 & 94.54308 & 94.54308 &  94.54308 &  94.54308 & 94.54308 & 94.54308\\\\\n",
       "\\end{tabular}\n"
      ],
      "text/markdown": [
       "\n",
       "A tibble: 6 × 20\n",
       "\n",
       "| PRICE0 &lt;dbl&gt; | PRICE1 &lt;dbl&gt; | PRICE5 &lt;dbl&gt; | PRICE10 &lt;dbl&gt; | SALES0_0 &lt;dbl&gt; | SALES0_1 &lt;dbl&gt; | SALES0_5 &lt;dbl&gt; | SALES0_10 &lt;dbl&gt; | SALES1_0 &lt;dbl&gt; | SALES1_1 &lt;dbl&gt; | SALES1_5 &lt;dbl&gt; | SALES1_10 &lt;dbl&gt; | SALES5_0 &lt;dbl&gt; | SALES5_1 &lt;dbl&gt; | SALES5_5 &lt;dbl&gt; | SALES5_10 &lt;dbl&gt; | SALES10_0 &lt;dbl&gt; | SALES10_1 &lt;dbl&gt; | SALES10_5 &lt;dbl&gt; | SALES10_10 &lt;dbl&gt; |\n",
       "|---|---|---|---|---|---|---|---|---|---|---|---|---|---|---|---|---|---|---|---|\n",
       "| 4.910058 | 4.910058 |  4.910058 |  4.910058 | 94.63940 | 94.63940 | 94.63940 | 94.63940 | 94.63940 | 94.63940 | 94.63940 | 94.63940 | 94.63940 | 94.63940 | 94.63940 | 94.63940 |  94.63940 |  94.63940 | 94.63940 | 94.63940 |\n",
       "| 3.216531 | 3.216531 |  3.216531 |  3.216531 | 97.30212 | 97.30212 | 97.30212 | 97.30212 | 97.30212 | 97.30212 | 97.30212 | 97.30212 | 97.30212 | 97.30212 | 97.30212 | 97.30212 |  97.30212 |  97.30212 | 97.30212 | 97.30212 |\n",
       "| 5.978282 | 6.978282 | 10.978282 | 15.978282 | 94.50512 | 93.50512 | 89.50512 | 84.50512 | 95.50512 | 94.50512 | 90.50512 | 85.50512 | 99.50512 | 98.50512 | 94.50512 | 89.50512 | 104.50512 | 103.50512 | 99.50512 | 94.50512 |\n",
       "| 4.042785 | 4.042785 |  4.042785 |  4.042785 | 96.10561 | 96.10561 | 96.10561 | 96.10561 | 96.10561 | 96.10561 | 96.10561 | 96.10561 | 96.10561 | 96.10561 | 96.10561 | 96.10561 |  96.10561 |  96.10561 | 96.10561 | 96.10561 |\n",
       "| 4.017662 | 4.017662 |  4.017662 |  4.017662 | 95.12334 | 95.12334 | 95.12334 | 95.12334 | 95.12334 | 95.12334 | 95.12334 | 95.12334 | 95.12334 | 95.12334 | 95.12334 | 95.12334 |  95.12334 |  95.12334 | 95.12334 | 95.12334 |\n",
       "| 6.107970 | 6.107970 |  6.107970 |  6.107970 | 94.54308 | 94.54308 | 94.54308 | 94.54308 | 94.54308 | 94.54308 | 94.54308 | 94.54308 | 94.54308 | 94.54308 | 94.54308 | 94.54308 |  94.54308 |  94.54308 | 94.54308 | 94.54308 |\n",
       "\n"
      ],
      "text/plain": [
       "  PRICE0   PRICE1   PRICE5    PRICE10   SALES0_0 SALES0_1 SALES0_5 SALES0_10\n",
       "1 4.910058 4.910058  4.910058  4.910058 94.63940 94.63940 94.63940 94.63940 \n",
       "2 3.216531 3.216531  3.216531  3.216531 97.30212 97.30212 97.30212 97.30212 \n",
       "3 5.978282 6.978282 10.978282 15.978282 94.50512 93.50512 89.50512 84.50512 \n",
       "4 4.042785 4.042785  4.042785  4.042785 96.10561 96.10561 96.10561 96.10561 \n",
       "5 4.017662 4.017662  4.017662  4.017662 95.12334 95.12334 95.12334 95.12334 \n",
       "6 6.107970 6.107970  6.107970  6.107970 94.54308 94.54308 94.54308 94.54308 \n",
       "  SALES1_0 SALES1_1 SALES1_5 SALES1_10 SALES5_0 SALES5_1 SALES5_5 SALES5_10\n",
       "1 94.63940 94.63940 94.63940 94.63940  94.63940 94.63940 94.63940 94.63940 \n",
       "2 97.30212 97.30212 97.30212 97.30212  97.30212 97.30212 97.30212 97.30212 \n",
       "3 95.50512 94.50512 90.50512 85.50512  99.50512 98.50512 94.50512 89.50512 \n",
       "4 96.10561 96.10561 96.10561 96.10561  96.10561 96.10561 96.10561 96.10561 \n",
       "5 95.12334 95.12334 95.12334 95.12334  95.12334 95.12334 95.12334 95.12334 \n",
       "6 94.54308 94.54308 94.54308 94.54308  94.54308 94.54308 94.54308 94.54308 \n",
       "  SALES10_0 SALES10_1 SALES10_5 SALES10_10\n",
       "1  94.63940  94.63940 94.63940  94.63940  \n",
       "2  97.30212  97.30212 97.30212  97.30212  \n",
       "3 104.50512 103.50512 99.50512  94.50512  \n",
       "4  96.10561  96.10561 96.10561  96.10561  \n",
       "5  95.12334  95.12334 95.12334  95.12334  \n",
       "6  94.54308  94.54308 94.54308  94.54308  "
      ]
     },
     "metadata": {},
     "output_type": "display_data"
    }
   ],
   "source": [
    "# import the sales dataframe\n",
    "sal_p <- read_excel('TrainExer42.xls')\n",
    "head(sal_p)"
   ]
  },
  {
   "cell_type": "markdown",
   "id": "2d0866ad-cfcf-4513-a256-4cb8ce798b2d",
   "metadata": {},
   "source": [
    "__(a)__"
   ]
  },
  {
   "cell_type": "code",
   "execution_count": 8,
   "id": "0578c1cb-464b-4f08-8c8d-d75bf657e5e2",
   "metadata": {},
   "outputs": [
    {
     "data": {
      "text/plain": [
       "\n",
       "Call:\n",
       "lm(formula = SALES0_0 ~ PRICE0, data = sal_p)\n",
       "\n",
       "Residuals:\n",
       "     Min       1Q   Median       3Q      Max \n",
       "-1.53708 -0.31008  0.03496  0.32612  1.53896 \n",
       "\n",
       "Coefficients:\n",
       "            Estimate Std. Error t value Pr(>|t|)    \n",
       "(Intercept) 99.86202    0.16089  620.68   <2e-16 ***\n",
       "PRICE0      -0.97580    0.03152  -30.96   <2e-16 ***\n",
       "---\n",
       "Signif. codes:  0 '***' 0.001 '**' 0.01 '*' 0.05 '.' 0.1 ' ' 1\n",
       "\n",
       "Residual standard error: 0.5246 on 248 degrees of freedom\n",
       "Multiple R-squared:  0.7944,\tAdjusted R-squared:  0.7936 \n",
       "F-statistic: 958.5 on 1 and 248 DF,  p-value: < 2.2e-16\n"
      ]
     },
     "metadata": {},
     "output_type": "display_data"
    }
   ],
   "source": [
    "# regress \"SALES0_0\" on a constant and \"PRICE0\"\n",
    "sales00 <- lm(SALES0_0 ~ PRICE0, data=sal_p)\n",
    "summary(sales00)"
   ]
  },
  {
   "cell_type": "code",
   "execution_count": 9,
   "id": "009c7a29-8e5f-47dd-b989-6b3e944852dc",
   "metadata": {},
   "outputs": [
    {
     "data": {
      "text/plain": [
       "\n",
       "Call:\n",
       "lm(formula = SALES0_1 ~ PRICE1, data = sal_p)\n",
       "\n",
       "Residuals:\n",
       "     Min       1Q   Median       3Q      Max \n",
       "-1.52249 -0.30255  0.04277  0.33053  1.54516 \n",
       "\n",
       "Coefficients:\n",
       "            Estimate Std. Error t value Pr(>|t|)    \n",
       "(Intercept) 99.80846    0.15644  638.01   <2e-16 ***\n",
       "PRICE1      -0.96590    0.02989  -32.31   <2e-16 ***\n",
       "---\n",
       "Signif. codes:  0 '***' 0.001 '**' 0.01 '*' 0.05 '.' 0.1 ' ' 1\n",
       "\n",
       "Residual standard error: 0.5239 on 248 degrees of freedom\n",
       "Multiple R-squared:  0.8081,\tAdjusted R-squared:  0.8073 \n",
       "F-statistic:  1044 on 1 and 248 DF,  p-value: < 2.2e-16\n"
      ]
     },
     "metadata": {},
     "output_type": "display_data"
    }
   ],
   "source": [
    "# regress \"SALES0_1\" on a constant and \"PRICE1\"\n",
    "sales01 <- lm(SALES0_1 ~ PRICE1, data=sal_p)\n",
    "summary(sales01)"
   ]
  },
  {
   "cell_type": "code",
   "execution_count": 10,
   "id": "c2429a88-4d2c-478b-8ef1-46b7ad387c12",
   "metadata": {},
   "outputs": [
    {
     "data": {
      "text/plain": [
       "\n",
       "Call:\n",
       "lm(formula = SALES0_5 ~ PRICE5, data = sal_p)\n",
       "\n",
       "Residuals:\n",
       "     Min       1Q   Median       3Q      Max \n",
       "-1.51833 -0.30892  0.02791  0.32059  1.55555 \n",
       "\n",
       "Coefficients:\n",
       "            Estimate Std. Error t value Pr(>|t|)    \n",
       "(Intercept) 99.83325    0.10019  996.40   <2e-16 ***\n",
       "PRICE5      -0.97325    0.01691  -57.57   <2e-16 ***\n",
       "---\n",
       "Signif. codes:  0 '***' 0.001 '**' 0.01 '*' 0.05 '.' 0.1 ' ' 1\n",
       "\n",
       "Residual standard error: 0.5226 on 248 degrees of freedom\n",
       "Multiple R-squared:  0.9304,\tAdjusted R-squared:  0.9301 \n",
       "F-statistic:  3314 on 1 and 248 DF,  p-value: < 2.2e-16\n"
      ]
     },
     "metadata": {},
     "output_type": "display_data"
    }
   ],
   "source": [
    "# regress \"SALES0_5\" on a constant and \"PRICE5\"\n",
    "sales05 <- lm(SALES0_5 ~ PRICE5, data=sal_p)\n",
    "summary(sales05)"
   ]
  },
  {
   "cell_type": "code",
   "execution_count": 11,
   "id": "00ad213c-2daa-4c29-8641-b4c410216811",
   "metadata": {},
   "outputs": [
    {
     "data": {
      "text/plain": [
       "\n",
       "Call:\n",
       "lm(formula = SALES0_10 ~ PRICE10, data = sal_p)\n",
       "\n",
       "Residuals:\n",
       "     Min       1Q   Median       3Q      Max \n",
       "-1.52874 -0.31964  0.02457  0.31535  1.55505 \n",
       "\n",
       "Coefficients:\n",
       "             Estimate Std. Error t value Pr(>|t|)    \n",
       "(Intercept) 99.889756   0.068129  1466.2   <2e-16 ***\n",
       "PRICE10     -0.984965   0.009616  -102.4   <2e-16 ***\n",
       "---\n",
       "Signif. codes:  0 '***' 0.001 '**' 0.01 '*' 0.05 '.' 0.1 ' ' 1\n",
       "\n",
       "Residual standard error: 0.5227 on 248 degrees of freedom\n",
       "Multiple R-squared:  0.9769,\tAdjusted R-squared:  0.9768 \n",
       "F-statistic: 1.049e+04 on 1 and 248 DF,  p-value: < 2.2e-16\n"
      ]
     },
     "metadata": {},
     "output_type": "display_data"
    }
   ],
   "source": [
    "# regress \"SALES0_10\" on a constant and \"PRICE10\"\n",
    "sales010 <- lm(SALES0_10 ~ PRICE10, data=sal_p)\n",
    "summary(sales010)"
   ]
  },
  {
   "cell_type": "code",
   "execution_count": 48,
   "id": "bb8d14e5-67d5-4ca4-92fe-b69119a0de68",
   "metadata": {},
   "outputs": [
    {
     "data": {
      "text/html": [
       "<table class=\"dataframe\">\n",
       "<caption>A data.frame: 1 × 8</caption>\n",
       "<thead>\n",
       "\t<tr><th scope=col>price0</th><th scope=col>R2_price0</th><th scope=col>price1</th><th scope=col>R2_price1</th><th scope=col>price5</th><th scope=col>R2_price5</th><th scope=col>price10</th><th scope=col>R2_price10</th></tr>\n",
       "\t<tr><th scope=col>&lt;dbl&gt;</th><th scope=col>&lt;dbl&gt;</th><th scope=col>&lt;dbl&gt;</th><th scope=col>&lt;dbl&gt;</th><th scope=col>&lt;dbl&gt;</th><th scope=col>&lt;dbl&gt;</th><th scope=col>&lt;dbl&gt;</th><th scope=col>&lt;dbl&gt;</th></tr>\n",
       "</thead>\n",
       "<tbody>\n",
       "\t<tr><td>-0.9758003</td><td>0.794443</td><td>-0.9658955</td><td>0.8080797</td><td>-0.9732528</td><td>0.930382</td><td>-0.9849649</td><td>0.9769073</td></tr>\n",
       "</tbody>\n",
       "</table>\n"
      ],
      "text/latex": [
       "A data.frame: 1 × 8\n",
       "\\begin{tabular}{llllllll}\n",
       " price0 & R2\\_price0 & price1 & R2\\_price1 & price5 & R2\\_price5 & price10 & R2\\_price10\\\\\n",
       " <dbl> & <dbl> & <dbl> & <dbl> & <dbl> & <dbl> & <dbl> & <dbl>\\\\\n",
       "\\hline\n",
       "\t -0.9758003 & 0.794443 & -0.9658955 & 0.8080797 & -0.9732528 & 0.930382 & -0.9849649 & 0.9769073\\\\\n",
       "\\end{tabular}\n"
      ],
      "text/markdown": [
       "\n",
       "A data.frame: 1 × 8\n",
       "\n",
       "| price0 &lt;dbl&gt; | R2_price0 &lt;dbl&gt; | price1 &lt;dbl&gt; | R2_price1 &lt;dbl&gt; | price5 &lt;dbl&gt; | R2_price5 &lt;dbl&gt; | price10 &lt;dbl&gt; | R2_price10 &lt;dbl&gt; |\n",
       "|---|---|---|---|---|---|---|---|\n",
       "| -0.9758003 | 0.794443 | -0.9658955 | 0.8080797 | -0.9732528 | 0.930382 | -0.9849649 | 0.9769073 |\n",
       "\n"
      ],
      "text/plain": [
       "  price0     R2_price0 price1     R2_price1 price5     R2_price5 price10   \n",
       "1 -0.9758003 0.794443  -0.9658955 0.8080797 -0.9732528 0.930382  -0.9849649\n",
       "  R2_price10\n",
       "1 0.9769073 "
      ]
     },
     "metadata": {},
     "output_type": "display_data"
    }
   ],
   "source": [
    "# display the price coefficients and R squared for these 4 scenarios\n",
    "results1 <- data.frame(\n",
    "    price0 = summary(sales00)$coefficients['PRICE0', 'Estimate'],\n",
    "    R2_price0 = summary(sales00)$r.squared,\n",
    "    price1 = summary(sales01)$coefficients['PRICE1', 'Estimate'],\n",
    "    R2_price1 = summary(sales01)$r.squared,\n",
    "    price5 = summary(sales05)$coefficients['PRICE5', 'Estimate'],\n",
    "    R2_price5 = summary(sales05)$r.squared,\n",
    "    price10 = summary(sales010)$coefficients['PRICE10', 'Estimate'],\n",
    "    R2_price10 = summary(sales010)$r.squared\n",
    ")\n",
    "results1"
   ]
  },
  {
   "cell_type": "markdown",
   "id": "c92b3b44-090e-4773-8460-528683bf7413",
   "metadata": {},
   "source": [
    "__(b)__"
   ]
  },
  {
   "cell_type": "code",
   "execution_count": 37,
   "id": "430e6c10-8c0e-428c-a9d9-80b1146fb562",
   "metadata": {},
   "outputs": [
    {
     "data": {
      "text/plain": [
       "\n",
       "Call:\n",
       "lm(formula = SALES1_0 ~ PRICE0, data = sal_p)\n",
       "\n",
       "Residuals:\n",
       "     Min       1Q   Median       3Q      Max \n",
       "-1.64997 -0.39597 -0.00097  0.35805  1.83820 \n",
       "\n",
       "Coefficients:\n",
       "            Estimate Std. Error t value Pr(>|t|)    \n",
       "(Intercept) 99.94849    0.19677  507.94   <2e-16 ***\n",
       "PRICE0      -0.96909    0.03855  -25.14   <2e-16 ***\n",
       "---\n",
       "Signif. codes:  0 '***' 0.001 '**' 0.01 '*' 0.05 '.' 0.1 ' ' 1\n",
       "\n",
       "Residual standard error: 0.6416 on 248 degrees of freedom\n",
       "Multiple R-squared:  0.7182,\tAdjusted R-squared:  0.717 \n",
       "F-statistic:   632 on 1 and 248 DF,  p-value: < 2.2e-16\n"
      ]
     },
     "metadata": {},
     "output_type": "display_data"
    }
   ],
   "source": [
    "# regress \"SALES1_0\" on a constant and \"PRICE0\"\n",
    "sales10 <- lm(SALES1_0 ~ PRICE0, data=sal_p)\n",
    "summary(sales10)"
   ]
  },
  {
   "cell_type": "code",
   "execution_count": 38,
   "id": "7e6afefc-b9b3-4b77-be1b-6ec18729ce86",
   "metadata": {},
   "outputs": [
    {
     "data": {
      "text/plain": [
       "\n",
       "Call:\n",
       "lm(formula = SALES5_0 ~ PRICE0, data = sal_p)\n",
       "\n",
       "Residuals:\n",
       "    Min      1Q  Median      3Q     Max \n",
       "-2.1015 -0.8819 -0.4786 -0.0794  5.3589 \n",
       "\n",
       "Coefficients:\n",
       "            Estimate Std. Error t value Pr(>|t|)    \n",
       "(Intercept) 100.2943     0.5387 186.176   <2e-16 ***\n",
       "PRICE0       -0.9422     0.1055  -8.928   <2e-16 ***\n",
       "---\n",
       "Signif. codes:  0 '***' 0.001 '**' 0.01 '*' 0.05 '.' 0.1 ' ' 1\n",
       "\n",
       "Residual standard error: 1.757 on 248 degrees of freedom\n",
       "Multiple R-squared:  0.2432,\tAdjusted R-squared:  0.2402 \n",
       "F-statistic: 79.71 on 1 and 248 DF,  p-value: < 2.2e-16\n"
      ]
     },
     "metadata": {},
     "output_type": "display_data"
    }
   ],
   "source": [
    "# regress \"SALES5_0\" on a constant and \"PRICE0\"\n",
    "sales50 <- lm(SALES5_0 ~ PRICE0, data=sal_p)\n",
    "summary(sales50)"
   ]
  },
  {
   "cell_type": "code",
   "execution_count": 39,
   "id": "f7e64fb8-1be1-49c0-a9b6-d6c45ac1d3af",
   "metadata": {},
   "outputs": [
    {
     "data": {
      "text/plain": [
       "\n",
       "Call:\n",
       "lm(formula = SALES10_0 ~ PRICE0, data = sal_p)\n",
       "\n",
       "Residuals:\n",
       "    Min      1Q  Median      3Q     Max \n",
       "-2.6660 -1.4752 -1.0976 -0.6753  9.7599 \n",
       "\n",
       "Coefficients:\n",
       "            Estimate Std. Error t value Pr(>|t|)    \n",
       "(Intercept) 100.7267     1.0271  98.071  < 2e-16 ***\n",
       "PRICE0       -0.9087     0.2012  -4.516 9.75e-06 ***\n",
       "---\n",
       "Signif. codes:  0 '***' 0.001 '**' 0.01 '*' 0.05 '.' 0.1 ' ' 1\n",
       "\n",
       "Residual standard error: 3.349 on 248 degrees of freedom\n",
       "Multiple R-squared:  0.07599,\tAdjusted R-squared:  0.07226 \n",
       "F-statistic: 20.39 on 1 and 248 DF,  p-value: 9.748e-06\n"
      ]
     },
     "metadata": {},
     "output_type": "display_data"
    }
   ],
   "source": [
    "# regress \"SALES10_0\" on a constant and \"PRICE0\"\n",
    "sales100 <- lm(SALES10_0 ~ PRICE0, data=sal_p)\n",
    "summary(sales100)"
   ]
  },
  {
   "cell_type": "code",
   "execution_count": 49,
   "id": "0941b1c7-f937-49dd-bda6-f4be3699393b",
   "metadata": {},
   "outputs": [
    {
     "data": {
      "text/html": [
       "<table class=\"dataframe\">\n",
       "<caption>A data.frame: 1 × 8</caption>\n",
       "<thead>\n",
       "\t<tr><th scope=col>price0</th><th scope=col>R2_price0</th><th scope=col>price1</th><th scope=col>R2_price1</th><th scope=col>price5</th><th scope=col>R2_price5</th><th scope=col>price10</th><th scope=col>R2_price10</th></tr>\n",
       "\t<tr><th scope=col>&lt;dbl&gt;</th><th scope=col>&lt;dbl&gt;</th><th scope=col>&lt;dbl&gt;</th><th scope=col>&lt;dbl&gt;</th><th scope=col>&lt;dbl&gt;</th><th scope=col>&lt;dbl&gt;</th><th scope=col>&lt;dbl&gt;</th><th scope=col>&lt;dbl&gt;</th></tr>\n",
       "</thead>\n",
       "<tbody>\n",
       "\t<tr><td>-0.9758003</td><td>0.794443</td><td>-0.9690863</td><td>0.7181813</td><td>-0.9422303</td><td>0.2432422</td><td>-0.9086602</td><td>0.07598765</td></tr>\n",
       "</tbody>\n",
       "</table>\n"
      ],
      "text/latex": [
       "A data.frame: 1 × 8\n",
       "\\begin{tabular}{llllllll}\n",
       " price0 & R2\\_price0 & price1 & R2\\_price1 & price5 & R2\\_price5 & price10 & R2\\_price10\\\\\n",
       " <dbl> & <dbl> & <dbl> & <dbl> & <dbl> & <dbl> & <dbl> & <dbl>\\\\\n",
       "\\hline\n",
       "\t -0.9758003 & 0.794443 & -0.9690863 & 0.7181813 & -0.9422303 & 0.2432422 & -0.9086602 & 0.07598765\\\\\n",
       "\\end{tabular}\n"
      ],
      "text/markdown": [
       "\n",
       "A data.frame: 1 × 8\n",
       "\n",
       "| price0 &lt;dbl&gt; | R2_price0 &lt;dbl&gt; | price1 &lt;dbl&gt; | R2_price1 &lt;dbl&gt; | price5 &lt;dbl&gt; | R2_price5 &lt;dbl&gt; | price10 &lt;dbl&gt; | R2_price10 &lt;dbl&gt; |\n",
       "|---|---|---|---|---|---|---|---|\n",
       "| -0.9758003 | 0.794443 | -0.9690863 | 0.7181813 | -0.9422303 | 0.2432422 | -0.9086602 | 0.07598765 |\n",
       "\n"
      ],
      "text/plain": [
       "  price0     R2_price0 price1     R2_price1 price5     R2_price5 price10   \n",
       "1 -0.9758003 0.794443  -0.9690863 0.7181813 -0.9422303 0.2432422 -0.9086602\n",
       "  R2_price10\n",
       "1 0.07598765"
      ]
     },
     "metadata": {},
     "output_type": "display_data"
    }
   ],
   "source": [
    "# display the price coefficients and R squared for these 4 scenarios\n",
    "results2 <- data.frame(\n",
    "    price0 = summary(sales00)$coefficients['PRICE0', 'Estimate'],\n",
    "    R2_price0 = summary(sales00)$r.squared,\n",
    "    price1 = summary(sales10)$coefficients['PRICE0', 'Estimate'],\n",
    "    R2_price1 = summary(sales10)$r.squared,\n",
    "    price5 = summary(sales50)$coefficients['PRICE0', 'Estimate'],\n",
    "    R2_price5 = summary(sales50)$r.squared,\n",
    "    price10 = summary(sales100)$coefficients['PRICE0', 'Estimate'],\n",
    "    R2_price10 = summary(sales100)$r.squared\n",
    ")\n",
    "results2"
   ]
  },
  {
   "cell_type": "markdown",
   "id": "e8d333b6-cf1c-4ad2-9524-5a23c69b5f0f",
   "metadata": {},
   "source": [
    "__(c)__"
   ]
  },
  {
   "cell_type": "code",
   "execution_count": 42,
   "id": "8fc49bb6-6157-4fe9-8eb1-d1555fb70e08",
   "metadata": {},
   "outputs": [
    {
     "data": {
      "text/plain": [
       "\n",
       "Call:\n",
       "lm(formula = SALES1_1 ~ PRICE1, data = sal_p)\n",
       "\n",
       "Residuals:\n",
       "     Min       1Q   Median       3Q      Max \n",
       "-1.56532 -0.39473 -0.01803  0.39986  1.72987 \n",
       "\n",
       "Coefficients:\n",
       "            Estimate Std. Error t value Pr(>|t|)    \n",
       "(Intercept) 99.45787    0.18721  531.25   <2e-16 ***\n",
       "PRICE1      -0.87389    0.03577  -24.43   <2e-16 ***\n",
       "---\n",
       "Signif. codes:  0 '***' 0.001 '**' 0.01 '*' 0.05 '.' 0.1 ' ' 1\n",
       "\n",
       "Residual standard error: 0.6269 on 248 degrees of freedom\n",
       "Multiple R-squared:  0.7064,\tAdjusted R-squared:  0.7053 \n",
       "F-statistic: 596.8 on 1 and 248 DF,  p-value: < 2.2e-16\n"
      ]
     },
     "metadata": {},
     "output_type": "display_data"
    }
   ],
   "source": [
    "# regress \"SALES1_1\" on a constant and \"PRICE1\"\n",
    "sales11 <- lm(SALES1_1 ~ PRICE1, data=sal_p)\n",
    "summary(sales11)"
   ]
  },
  {
   "cell_type": "code",
   "execution_count": 43,
   "id": "d703fbb4-78cf-4b94-b92a-a96394321058",
   "metadata": {},
   "outputs": [
    {
     "data": {
      "text/plain": [
       "\n",
       "Call:\n",
       "lm(formula = SALES5_5 ~ PRICE5, data = sal_p)\n",
       "\n",
       "Residuals:\n",
       "    Min      1Q  Median      3Q     Max \n",
       "-3.2138 -0.6495 -0.0715  0.7339  2.3907 \n",
       "\n",
       "Coefficients:\n",
       "            Estimate Std. Error t value Pr(>|t|)    \n",
       "(Intercept) 96.51479    0.19664 490.830  < 2e-16 ***\n",
       "PRICE5      -0.27289    0.03318  -8.225  1.1e-14 ***\n",
       "---\n",
       "Signif. codes:  0 '***' 0.001 '**' 0.01 '*' 0.05 '.' 0.1 ' ' 1\n",
       "\n",
       "Residual standard error: 1.026 on 248 degrees of freedom\n",
       "Multiple R-squared:  0.2143,\tAdjusted R-squared:  0.2111 \n",
       "F-statistic: 67.65 on 1 and 248 DF,  p-value: 1.105e-14\n"
      ]
     },
     "metadata": {},
     "output_type": "display_data"
    }
   ],
   "source": [
    "# regress \"SALES5_5\" on a constant and \"PRICE5\"\n",
    "sales55 <- lm(SALES5_5 ~ PRICE5, data=sal_p)\n",
    "summary(sales55)"
   ]
  },
  {
   "cell_type": "code",
   "execution_count": 44,
   "id": "93e75c18-383e-4b77-b401-c924149c3a0b",
   "metadata": {},
   "outputs": [
    {
     "data": {
      "text/plain": [
       "\n",
       "Call:\n",
       "lm(formula = SALES10_10 ~ PRICE10, data = sal_p)\n",
       "\n",
       "Residuals:\n",
       "    Min      1Q  Median      3Q     Max \n",
       "-3.6904 -0.6895 -0.0072  0.8388  2.7582 \n",
       "\n",
       "Coefficients:\n",
       "            Estimate Std. Error t value Pr(>|t|)    \n",
       "(Intercept) 95.51483    0.14589  654.69  < 2e-16 ***\n",
       "PRICE10     -0.08504    0.02059   -4.13 4.97e-05 ***\n",
       "---\n",
       "Signif. codes:  0 '***' 0.001 '**' 0.01 '*' 0.05 '.' 0.1 ' ' 1\n",
       "\n",
       "Residual standard error: 1.119 on 248 degrees of freedom\n",
       "Multiple R-squared:  0.06434,\tAdjusted R-squared:  0.06057 \n",
       "F-statistic: 17.05 on 1 and 248 DF,  p-value: 4.97e-05\n"
      ]
     },
     "metadata": {},
     "output_type": "display_data"
    }
   ],
   "source": [
    "# regress \"SALES10_10\" on a constant and \"PRICE10\"\n",
    "sales1010 <- lm(SALES10_10 ~ PRICE10, data=sal_p)\n",
    "summary(sales1010)"
   ]
  },
  {
   "cell_type": "code",
   "execution_count": 50,
   "id": "9db86890-2c4a-4b8d-9fb4-0ce8c1930227",
   "metadata": {},
   "outputs": [
    {
     "data": {
      "text/html": [
       "<table class=\"dataframe\">\n",
       "<caption>A data.frame: 1 × 8</caption>\n",
       "<thead>\n",
       "\t<tr><th scope=col>price00</th><th scope=col>R2_price00</th><th scope=col>price11</th><th scope=col>R2_price11</th><th scope=col>price55</th><th scope=col>R2_price55</th><th scope=col>price1010</th><th scope=col>R2_price1010</th></tr>\n",
       "\t<tr><th scope=col>&lt;dbl&gt;</th><th scope=col>&lt;dbl&gt;</th><th scope=col>&lt;dbl&gt;</th><th scope=col>&lt;dbl&gt;</th><th scope=col>&lt;dbl&gt;</th><th scope=col>&lt;dbl&gt;</th><th scope=col>&lt;dbl&gt;</th><th scope=col>&lt;dbl&gt;</th></tr>\n",
       "</thead>\n",
       "<tbody>\n",
       "\t<tr><td>-0.9758003</td><td>0.794443</td><td>-0.8738919</td><td>0.7064448</td><td>-0.2728864</td><td>0.2143157</td><td>-0.08503897</td><td>0.06433937</td></tr>\n",
       "</tbody>\n",
       "</table>\n"
      ],
      "text/latex": [
       "A data.frame: 1 × 8\n",
       "\\begin{tabular}{llllllll}\n",
       " price00 & R2\\_price00 & price11 & R2\\_price11 & price55 & R2\\_price55 & price1010 & R2\\_price1010\\\\\n",
       " <dbl> & <dbl> & <dbl> & <dbl> & <dbl> & <dbl> & <dbl> & <dbl>\\\\\n",
       "\\hline\n",
       "\t -0.9758003 & 0.794443 & -0.8738919 & 0.7064448 & -0.2728864 & 0.2143157 & -0.08503897 & 0.06433937\\\\\n",
       "\\end{tabular}\n"
      ],
      "text/markdown": [
       "\n",
       "A data.frame: 1 × 8\n",
       "\n",
       "| price00 &lt;dbl&gt; | R2_price00 &lt;dbl&gt; | price11 &lt;dbl&gt; | R2_price11 &lt;dbl&gt; | price55 &lt;dbl&gt; | R2_price55 &lt;dbl&gt; | price1010 &lt;dbl&gt; | R2_price1010 &lt;dbl&gt; |\n",
       "|---|---|---|---|---|---|---|---|\n",
       "| -0.9758003 | 0.794443 | -0.8738919 | 0.7064448 | -0.2728864 | 0.2143157 | -0.08503897 | 0.06433937 |\n",
       "\n"
      ],
      "text/plain": [
       "  price00    R2_price00 price11    R2_price11 price55    R2_price55 price1010  \n",
       "1 -0.9758003 0.794443   -0.8738919 0.7064448  -0.2728864 0.2143157  -0.08503897\n",
       "  R2_price1010\n",
       "1 0.06433937  "
      ]
     },
     "metadata": {},
     "output_type": "display_data"
    }
   ],
   "source": [
    "# display the price coefficients and R squared for these 4 scenarios\n",
    "results3 <- data.frame(\n",
    "    price00 = summary(sales00)$coefficients['PRICE0', 'Estimate'],\n",
    "    R2_price00 = summary(sales00)$r.squared,\n",
    "    price11 = summary(sales11)$coefficients['PRICE1', 'Estimate'],\n",
    "    R2_price11 = summary(sales11)$r.squared,\n",
    "    price55 = summary(sales55)$coefficients['PRICE5', 'Estimate'],\n",
    "    R2_price55 = summary(sales55)$r.squared,\n",
    "    price1010 = summary(sales1010)$coefficients['PRICE10', 'Estimate'],\n",
    "    R2_price1010 = summary(sales1010)$r.squared\n",
    ")\n",
    "results3"
   ]
  }
 ],
 "metadata": {
  "kernelspec": {
   "display_name": "R",
   "language": "R",
   "name": "ir"
  },
  "language_info": {
   "codemirror_mode": "r",
   "file_extension": ".r",
   "mimetype": "text/x-r-source",
   "name": "R",
   "pygments_lexer": "r",
   "version": "4.4.3"
  }
 },
 "nbformat": 4,
 "nbformat_minor": 5
}
