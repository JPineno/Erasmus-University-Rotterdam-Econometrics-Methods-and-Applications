{
 "cells": [
  {
   "cell_type": "markdown",
   "id": "4e78c3f5-5dd2-4859-afe6-8a206123f79c",
   "metadata": {},
   "source": [
    "# <u>Test Exercice 4 - Endogeneity<u>\n",
    "\n",
    "__<u>Jorge Pineño Pérez<u>__ / Module 5 - Endogeneity"
   ]
  },
  {
   "cell_type": "markdown",
   "id": "bd7ebc1b-3f57-4ee9-abea-3614ead1c0c7",
   "metadata": {},
   "source": [
    "A challenging and very relevant economic problem is the measurement of the returns to schooling. In this question we will use the following variables on 3010 US men:\n",
    "\n",
    "- `logw`: log wage\n",
    "- `educ`: number of years of schooling\n",
    "- `age`: age of the individual in years\n",
    "- `exper`: working experience in years\n",
    "- `smsa`: summy indicating whether the individual lived in the south\n",
    "- `nearc`: dummy indicating whether the individual lived near a 4-year college\n",
    "- `dadeduc`: education of the individual's father (in years)\n",
    "- `momeduc`: education of the individual's mother (in years)\n",
    "\n",
    "This data is a selection of the data used by D. Card (1995)"
   ]
  },
  {
   "cell_type": "code",
   "execution_count": 22,
   "id": "11e789ef-d10f-4ae0-9c80-e1c72555a188",
   "metadata": {
    "scrolled": true
   },
   "outputs": [
    {
     "name": "stderr",
     "output_type": "stream",
     "text": [
      "Warning message:\n",
      "\"package 'readxl' is in use and will not be installed\"\n",
      "Warning message:\n",
      "\"package 'dplyr' is in use and will not be installed\"\n",
      "Warning message:\n",
      "\"package 'car' is in use and will not be installed\"\n",
      "Installing package into 'C:/Users/USER/AppData/Local/R/win-library/4.4'\n",
      "(as 'lib' is unspecified)\n",
      "\n",
      "also installing the dependency 'sandwich'\n",
      "\n",
      "\n"
     ]
    },
    {
     "name": "stdout",
     "output_type": "stream",
     "text": [
      "package 'sandwich' successfully unpacked and MD5 sums checked\n",
      "package 'AER' successfully unpacked and MD5 sums checked\n",
      "\n",
      "The downloaded binary packages are in\n",
      "\tC:\\Users\\USER\\AppData\\Local\\Temp\\RtmpmAQo52\\downloaded_packages\n"
     ]
    },
    {
     "name": "stderr",
     "output_type": "stream",
     "text": [
      "Cargando paquete requerido: lmtest\n",
      "\n",
      "Cargando paquete requerido: zoo\n",
      "\n",
      "\n",
      "Adjuntando el paquete: 'zoo'\n",
      "\n",
      "\n",
      "The following objects are masked from 'package:base':\n",
      "\n",
      "    as.Date, as.Date.numeric\n",
      "\n",
      "\n",
      "Cargando paquete requerido: sandwich\n",
      "\n",
      "Cargando paquete requerido: survival\n",
      "\n"
     ]
    }
   ],
   "source": [
    "# import packages\n",
    "install.packages(\"readxl\")\n",
    "install.packages(\"dplyr\")\n",
    "install.packages(\"car\")\n",
    "install.packages(\"AER\")\n",
    "library(readxl)\n",
    "library(dplyr)\n",
    "library(car)\n",
    "library(AER)"
   ]
  },
  {
   "cell_type": "code",
   "execution_count": 3,
   "id": "da7aa091-b598-4fb1-b0b8-3fcd9f90265a",
   "metadata": {},
   "outputs": [
    {
     "data": {
      "text/html": [
       "<table class=\"dataframe\">\n",
       "<caption>A tibble: 6 × 9</caption>\n",
       "<thead>\n",
       "\t<tr><th scope=col>logw</th><th scope=col>educ</th><th scope=col>age</th><th scope=col>exper</th><th scope=col>smsa</th><th scope=col>south</th><th scope=col>nearc</th><th scope=col>daded</th><th scope=col>momed</th></tr>\n",
       "\t<tr><th scope=col>&lt;dbl&gt;</th><th scope=col>&lt;dbl&gt;</th><th scope=col>&lt;dbl&gt;</th><th scope=col>&lt;dbl&gt;</th><th scope=col>&lt;dbl&gt;</th><th scope=col>&lt;dbl&gt;</th><th scope=col>&lt;dbl&gt;</th><th scope=col>&lt;dbl&gt;</th><th scope=col>&lt;dbl&gt;</th></tr>\n",
       "</thead>\n",
       "<tbody>\n",
       "\t<tr><td>6.306275</td><td> 7</td><td>29</td><td>16</td><td>1</td><td>0</td><td>0</td><td> 9.94</td><td>10.25</td></tr>\n",
       "\t<tr><td>6.175867</td><td>12</td><td>27</td><td> 9</td><td>1</td><td>0</td><td>0</td><td> 8.00</td><td> 8.00</td></tr>\n",
       "\t<tr><td>6.580639</td><td>12</td><td>34</td><td>16</td><td>1</td><td>0</td><td>0</td><td>14.00</td><td>12.00</td></tr>\n",
       "\t<tr><td>5.521461</td><td>11</td><td>27</td><td>10</td><td>1</td><td>0</td><td>1</td><td>11.00</td><td>12.00</td></tr>\n",
       "\t<tr><td>6.591674</td><td>12</td><td>34</td><td>16</td><td>1</td><td>0</td><td>1</td><td> 8.00</td><td> 7.00</td></tr>\n",
       "\t<tr><td>6.214608</td><td>12</td><td>26</td><td> 8</td><td>1</td><td>0</td><td>1</td><td> 9.00</td><td>12.00</td></tr>\n",
       "</tbody>\n",
       "</table>\n"
      ],
      "text/latex": [
       "A tibble: 6 × 9\n",
       "\\begin{tabular}{lllllllll}\n",
       " logw & educ & age & exper & smsa & south & nearc & daded & momed\\\\\n",
       " <dbl> & <dbl> & <dbl> & <dbl> & <dbl> & <dbl> & <dbl> & <dbl> & <dbl>\\\\\n",
       "\\hline\n",
       "\t 6.306275 &  7 & 29 & 16 & 1 & 0 & 0 &  9.94 & 10.25\\\\\n",
       "\t 6.175867 & 12 & 27 &  9 & 1 & 0 & 0 &  8.00 &  8.00\\\\\n",
       "\t 6.580639 & 12 & 34 & 16 & 1 & 0 & 0 & 14.00 & 12.00\\\\\n",
       "\t 5.521461 & 11 & 27 & 10 & 1 & 0 & 1 & 11.00 & 12.00\\\\\n",
       "\t 6.591674 & 12 & 34 & 16 & 1 & 0 & 1 &  8.00 &  7.00\\\\\n",
       "\t 6.214608 & 12 & 26 &  8 & 1 & 0 & 1 &  9.00 & 12.00\\\\\n",
       "\\end{tabular}\n"
      ],
      "text/markdown": [
       "\n",
       "A tibble: 6 × 9\n",
       "\n",
       "| logw &lt;dbl&gt; | educ &lt;dbl&gt; | age &lt;dbl&gt; | exper &lt;dbl&gt; | smsa &lt;dbl&gt; | south &lt;dbl&gt; | nearc &lt;dbl&gt; | daded &lt;dbl&gt; | momed &lt;dbl&gt; |\n",
       "|---|---|---|---|---|---|---|---|---|\n",
       "| 6.306275 |  7 | 29 | 16 | 1 | 0 | 0 |  9.94 | 10.25 |\n",
       "| 6.175867 | 12 | 27 |  9 | 1 | 0 | 0 |  8.00 |  8.00 |\n",
       "| 6.580639 | 12 | 34 | 16 | 1 | 0 | 0 | 14.00 | 12.00 |\n",
       "| 5.521461 | 11 | 27 | 10 | 1 | 0 | 1 | 11.00 | 12.00 |\n",
       "| 6.591674 | 12 | 34 | 16 | 1 | 0 | 1 |  8.00 |  7.00 |\n",
       "| 6.214608 | 12 | 26 |  8 | 1 | 0 | 1 |  9.00 | 12.00 |\n",
       "\n"
      ],
      "text/plain": [
       "  logw     educ age exper smsa south nearc daded momed\n",
       "1 6.306275  7   29  16    1    0     0      9.94 10.25\n",
       "2 6.175867 12   27   9    1    0     0      8.00  8.00\n",
       "3 6.580639 12   34  16    1    0     0     14.00 12.00\n",
       "4 5.521461 11   27  10    1    0     1     11.00 12.00\n",
       "5 6.591674 12   34  16    1    0     1      8.00  7.00\n",
       "6 6.214608 12   26   8    1    0     1      9.00 12.00"
      ]
     },
     "metadata": {},
     "output_type": "display_data"
    }
   ],
   "source": [
    "# import the dataframe\n",
    "retsed <- read_excel('TestExer4_Wage-round1.xls')\n",
    "head(retsed)"
   ]
  },
  {
   "cell_type": "markdown",
   "id": "944609f7-4714-436d-b8ea-e0c1301cbc91",
   "metadata": {},
   "source": [
    "__(a)__ Use OLS to estimate the parameters of the model\n",
    "\n",
    "$$ \\text{logw} = \\beta_1 + \\beta_2\\text{educ} + \\beta_3\\text{exper} + \\beta_4\\text{exper}^2 + \\beta_5\\text{smsa} + \\beta_6\\text{south} + \\epsilon $$\n",
    "\n",
    "Give an interpretation to the estimated $\\beta_2$ coefficient."
   ]
  },
  {
   "cell_type": "code",
   "execution_count": 4,
   "id": "f4977f47-f57c-4632-a253-9a69e8e379d7",
   "metadata": {},
   "outputs": [
    {
     "data": {
      "text/html": [
       "<table class=\"dataframe\">\n",
       "<caption>A tibble: 6 × 10</caption>\n",
       "<thead>\n",
       "\t<tr><th scope=col>logw</th><th scope=col>educ</th><th scope=col>age</th><th scope=col>exper</th><th scope=col>smsa</th><th scope=col>south</th><th scope=col>nearc</th><th scope=col>daded</th><th scope=col>momed</th><th scope=col>exper2</th></tr>\n",
       "\t<tr><th scope=col>&lt;dbl&gt;</th><th scope=col>&lt;dbl&gt;</th><th scope=col>&lt;dbl&gt;</th><th scope=col>&lt;dbl&gt;</th><th scope=col>&lt;dbl&gt;</th><th scope=col>&lt;dbl&gt;</th><th scope=col>&lt;dbl&gt;</th><th scope=col>&lt;dbl&gt;</th><th scope=col>&lt;dbl&gt;</th><th scope=col>&lt;dbl&gt;</th></tr>\n",
       "</thead>\n",
       "<tbody>\n",
       "\t<tr><td>6.306275</td><td> 7</td><td>29</td><td>16</td><td>1</td><td>0</td><td>0</td><td> 9.94</td><td>10.25</td><td>256</td></tr>\n",
       "\t<tr><td>6.175867</td><td>12</td><td>27</td><td> 9</td><td>1</td><td>0</td><td>0</td><td> 8.00</td><td> 8.00</td><td> 81</td></tr>\n",
       "\t<tr><td>6.580639</td><td>12</td><td>34</td><td>16</td><td>1</td><td>0</td><td>0</td><td>14.00</td><td>12.00</td><td>256</td></tr>\n",
       "\t<tr><td>5.521461</td><td>11</td><td>27</td><td>10</td><td>1</td><td>0</td><td>1</td><td>11.00</td><td>12.00</td><td>100</td></tr>\n",
       "\t<tr><td>6.591674</td><td>12</td><td>34</td><td>16</td><td>1</td><td>0</td><td>1</td><td> 8.00</td><td> 7.00</td><td>256</td></tr>\n",
       "\t<tr><td>6.214608</td><td>12</td><td>26</td><td> 8</td><td>1</td><td>0</td><td>1</td><td> 9.00</td><td>12.00</td><td> 64</td></tr>\n",
       "</tbody>\n",
       "</table>\n"
      ],
      "text/latex": [
       "A tibble: 6 × 10\n",
       "\\begin{tabular}{llllllllll}\n",
       " logw & educ & age & exper & smsa & south & nearc & daded & momed & exper2\\\\\n",
       " <dbl> & <dbl> & <dbl> & <dbl> & <dbl> & <dbl> & <dbl> & <dbl> & <dbl> & <dbl>\\\\\n",
       "\\hline\n",
       "\t 6.306275 &  7 & 29 & 16 & 1 & 0 & 0 &  9.94 & 10.25 & 256\\\\\n",
       "\t 6.175867 & 12 & 27 &  9 & 1 & 0 & 0 &  8.00 &  8.00 &  81\\\\\n",
       "\t 6.580639 & 12 & 34 & 16 & 1 & 0 & 0 & 14.00 & 12.00 & 256\\\\\n",
       "\t 5.521461 & 11 & 27 & 10 & 1 & 0 & 1 & 11.00 & 12.00 & 100\\\\\n",
       "\t 6.591674 & 12 & 34 & 16 & 1 & 0 & 1 &  8.00 &  7.00 & 256\\\\\n",
       "\t 6.214608 & 12 & 26 &  8 & 1 & 0 & 1 &  9.00 & 12.00 &  64\\\\\n",
       "\\end{tabular}\n"
      ],
      "text/markdown": [
       "\n",
       "A tibble: 6 × 10\n",
       "\n",
       "| logw &lt;dbl&gt; | educ &lt;dbl&gt; | age &lt;dbl&gt; | exper &lt;dbl&gt; | smsa &lt;dbl&gt; | south &lt;dbl&gt; | nearc &lt;dbl&gt; | daded &lt;dbl&gt; | momed &lt;dbl&gt; | exper2 &lt;dbl&gt; |\n",
       "|---|---|---|---|---|---|---|---|---|---|\n",
       "| 6.306275 |  7 | 29 | 16 | 1 | 0 | 0 |  9.94 | 10.25 | 256 |\n",
       "| 6.175867 | 12 | 27 |  9 | 1 | 0 | 0 |  8.00 |  8.00 |  81 |\n",
       "| 6.580639 | 12 | 34 | 16 | 1 | 0 | 0 | 14.00 | 12.00 | 256 |\n",
       "| 5.521461 | 11 | 27 | 10 | 1 | 0 | 1 | 11.00 | 12.00 | 100 |\n",
       "| 6.591674 | 12 | 34 | 16 | 1 | 0 | 1 |  8.00 |  7.00 | 256 |\n",
       "| 6.214608 | 12 | 26 |  8 | 1 | 0 | 1 |  9.00 | 12.00 |  64 |\n",
       "\n"
      ],
      "text/plain": [
       "  logw     educ age exper smsa south nearc daded momed exper2\n",
       "1 6.306275  7   29  16    1    0     0      9.94 10.25 256   \n",
       "2 6.175867 12   27   9    1    0     0      8.00  8.00  81   \n",
       "3 6.580639 12   34  16    1    0     0     14.00 12.00 256   \n",
       "4 5.521461 11   27  10    1    0     1     11.00 12.00 100   \n",
       "5 6.591674 12   34  16    1    0     1      8.00  7.00 256   \n",
       "6 6.214608 12   26   8    1    0     1      9.00 12.00  64   "
      ]
     },
     "metadata": {},
     "output_type": "display_data"
    }
   ],
   "source": [
    "# add the square of \"exper\" to the dataframe\n",
    "retsed <- retsed %>% mutate(exper2 = exper^2)\n",
    "head(retsed)"
   ]
  },
  {
   "cell_type": "code",
   "execution_count": 5,
   "id": "2512ab10-cd68-4190-8e75-55326f0b4891",
   "metadata": {},
   "outputs": [
    {
     "data": {
      "text/plain": [
       "\n",
       "Call:\n",
       "lm(formula = logw ~ educ + exper + exper2 + smsa + south, data = retsed)\n",
       "\n",
       "Residuals:\n",
       "     Min       1Q   Median       3Q      Max \n",
       "-1.71487 -0.22987  0.02268  0.24898  1.38552 \n",
       "\n",
       "Coefficients:\n",
       "              Estimate Std. Error t value Pr(>|t|)    \n",
       "(Intercept)  4.6110144  0.0678950  67.914  < 2e-16 ***\n",
       "educ         0.0815797  0.0034990  23.315  < 2e-16 ***\n",
       "exper        0.0838357  0.0067735  12.377  < 2e-16 ***\n",
       "exper2      -0.0022021  0.0003238  -6.800 1.26e-11 ***\n",
       "smsa         0.1508006  0.0158360   9.523  < 2e-16 ***\n",
       "south       -0.1751761  0.0146486 -11.959  < 2e-16 ***\n",
       "---\n",
       "Signif. codes:  0 '***' 0.001 '**' 0.01 '*' 0.05 '.' 0.1 ' ' 1\n",
       "\n",
       "Residual standard error: 0.3813 on 3004 degrees of freedom\n",
       "Multiple R-squared:  0.2632,\tAdjusted R-squared:  0.2619 \n",
       "F-statistic: 214.6 on 5 and 3004 DF,  p-value: < 2.2e-16\n"
      ]
     },
     "metadata": {},
     "output_type": "display_data"
    }
   ],
   "source": [
    "# regress \"logw\" on the above variables\n",
    "ols1 <- lm(logw ~ educ + exper + exper2 + smsa + south, data=retsed)\n",
    "summary(ols1)"
   ]
  },
  {
   "cell_type": "markdown",
   "id": "85fe6a58-1345-4352-83cb-f5987305c087",
   "metadata": {},
   "source": [
    "The estimated $\\beta_2 = 0.08$ coefficient represents the percentage change in wage of an individual for each additional year of schooling, all other variables constant."
   ]
  },
  {
   "cell_type": "markdown",
   "id": "53fda971-459a-46b9-933d-82fe3e91ee3e",
   "metadata": {},
   "source": [
    "__(b)__ OLS may be inconsistent in this case as `educ` and `exper` may be endogenous. Give a reason why this may be the case. Also indicate whether the estimate in part (a) is still useful"
   ]
  },
  {
   "cell_type": "markdown",
   "id": "289567f9-e655-413b-980a-aa18a945825d",
   "metadata": {},
   "source": [
    "That `educ` and `exper` may be endogeneous variables means that they may be affected by an ommitted third variable, which also affects `logwage`. In addition to this, there could be strategic behaviour from the part of workers, which are influenced by the higher wages to, for example, stay more years in school.\n",
    "\n",
    "If there is in fact endogeneity, the OLS estimate in part (a) will not be consistent, i.e. it will not converge to the true value of `logwage` when $n \\to \\infty$."
   ]
  },
  {
   "cell_type": "markdown",
   "id": "b93be3a3-6fae-4a76-a568-565874e315fc",
   "metadata": {},
   "source": [
    "__(c)__ Give a motivation why $\\text{age}$ and $\\text{age}^2$ can be used as instruments for $\\text{exper}$ and $\\text{exper}^2$."
   ]
  },
  {
   "cell_type": "markdown",
   "id": "39d98190-956c-4210-9342-1c5e1acc29e5",
   "metadata": {},
   "source": [
    "For the variables $\\text{age}$ and $\\text{age}^2$ to be used as instruments, they need to have two characteristics: \n",
    "\n",
    "1. They have to be correlated with $\\text{exper}$ and $\\text{exper}^2$. In this case, it makes sense intuitively that an older worker will have more experience than a younger one, everything else equal.\n",
    "2. They have to not be correlated with $\\text{logwage}$. In the case of age, there may be instances of older workers earning higher wages in more senior positions, but this may not be the case always."
   ]
  },
  {
   "cell_type": "markdown",
   "id": "af0eae52-d1e6-4844-b5c4-0bd8812c88c8",
   "metadata": {},
   "source": [
    "__(d)__ Run the first-stage regression for $\\text{educ}$ for the two-stage least squares estimation of the parameters in the model above when $\\text{age}$, $\\text{age}^2$ , $\\text{nearc}$, $\\text{dadeduc}$, and $\\text{momeduc}$ are used as additional instruments. What do you conclude about the suitability of these instruments for schooling?"
   ]
  },
  {
   "cell_type": "code",
   "execution_count": 6,
   "id": "eff73713-d34d-4a49-a2bb-d74c93ccfd4a",
   "metadata": {},
   "outputs": [
    {
     "data": {
      "text/plain": [
       "\n",
       "Call:\n",
       "lm(formula = educ ~ age + age2 + nearc + daded + momed, data = retsed)\n",
       "\n",
       "Residuals:\n",
       "     Min       1Q   Median       3Q      Max \n",
       "-11.4573  -1.4968  -0.2734   1.6843   7.5636 \n",
       "\n",
       "Coefficients:\n",
       "             Estimate Std. Error t value Pr(>|t|)    \n",
       "(Intercept) -5.923273   4.010502  -1.477 0.139796    \n",
       "age          0.992550   0.281060   3.531 0.000419 ***\n",
       "age2        -0.017075   0.004878  -3.500 0.000472 ***\n",
       "nearc        0.528751   0.092698   5.704 1.28e-08 ***\n",
       "daded        0.202048   0.015665  12.898  < 2e-16 ***\n",
       "momed        0.248379   0.017036  14.580  < 2e-16 ***\n",
       "---\n",
       "Signif. codes:  0 '***' 0.001 '**' 0.01 '*' 0.05 '.' 0.1 ' ' 1\n",
       "\n",
       "Residual standard error: 2.346 on 3004 degrees of freedom\n",
       "Multiple R-squared:  0.233,\tAdjusted R-squared:  0.2317 \n",
       "F-statistic: 182.5 on 5 and 3004 DF,  p-value: < 2.2e-16\n"
      ]
     },
     "metadata": {},
     "output_type": "display_data"
    }
   ],
   "source": [
    "# add the square of age to the tribble\n",
    "retsed <- retsed %>% mutate(age2 = age^2)\n",
    "\n",
    "# regress \"educ\" on the instruments \"age\", \"age2\", \"nearc\", \"daded\",\n",
    "# and \"momed\", and the exogenous variables\n",
    "educ1 <- lm(educ ~ age + age2 + nearc + daded + momed, data=retsed)\n",
    "summary(educ1)"
   ]
  },
  {
   "cell_type": "code",
   "execution_count": 21,
   "id": "9246d8b8-d735-4571-aafd-ba0e3d9819c1",
   "metadata": {},
   "outputs": [
    {
     "data": {
      "text/html": [
       "<table class=\"dataframe\">\n",
       "<caption>A anova: 1 × 6</caption>\n",
       "<thead>\n",
       "\t<tr><th></th><th scope=col>Res.Df</th><th scope=col>RSS</th><th scope=col>Df</th><th scope=col>Sum of Sq</th><th scope=col>F</th><th scope=col>Pr(&gt;F)</th></tr>\n",
       "\t<tr><th></th><th scope=col>&lt;dbl&gt;</th><th scope=col>&lt;dbl&gt;</th><th scope=col>&lt;dbl&gt;</th><th scope=col>&lt;dbl&gt;</th><th scope=col>&lt;dbl&gt;</th><th scope=col>&lt;dbl&gt;</th></tr>\n",
       "</thead>\n",
       "<tbody>\n",
       "\t<tr><th scope=row>2</th><td>3004</td><td>16538.05</td><td>3</td><td>4947.122</td><td>299.5346</td><td>4.105402e-170</td></tr>\n",
       "</tbody>\n",
       "</table>\n"
      ],
      "text/latex": [
       "A anova: 1 × 6\n",
       "\\begin{tabular}{r|llllll}\n",
       "  & Res.Df & RSS & Df & Sum of Sq & F & Pr(>F)\\\\\n",
       "  & <dbl> & <dbl> & <dbl> & <dbl> & <dbl> & <dbl>\\\\\n",
       "\\hline\n",
       "\t2 & 3004 & 16538.05 & 3 & 4947.122 & 299.5346 & 4.105402e-170\\\\\n",
       "\\end{tabular}\n"
      ],
      "text/markdown": [
       "\n",
       "A anova: 1 × 6\n",
       "\n",
       "| <!--/--> | Res.Df &lt;dbl&gt; | RSS &lt;dbl&gt; | Df &lt;dbl&gt; | Sum of Sq &lt;dbl&gt; | F &lt;dbl&gt; | Pr(&gt;F) &lt;dbl&gt; |\n",
       "|---|---|---|---|---|---|---|\n",
       "| 2 | 3004 | 16538.05 | 3 | 4947.122 | 299.5346 | 4.105402e-170 |\n",
       "\n"
      ],
      "text/plain": [
       "  Res.Df RSS      Df Sum of Sq F        Pr(>F)       \n",
       "2 3004   16538.05 3  4947.122  299.5346 4.105402e-170"
      ]
     },
     "metadata": {},
     "output_type": "display_data"
    }
   ],
   "source": [
    "# test correlation between \"educ\" and the exogenous variables\n",
    "# by performing the F-test on the intruments (if the coefficient of the\n",
    "# instruments = 0, then the fitted values of \"educ\" would be almost perfectly\n",
    "# correlated with the exogenous variables)\n",
    "educ1_F <- linearHypothesis(educ1, c(\"nearc=0\", \"daded=0\", \"momed=0\"))\n",
    "educ1_F[2,]"
   ]
  },
  {
   "cell_type": "markdown",
   "id": "bef0fd5c-5b31-4c55-9ffe-f3eed30b6aca",
   "metadata": {},
   "source": [
    "As we can see from the result above, he P-value for the alternative hypothesis is extremely small, which suggests strong evidence agains the null. This means that the instruments are very likely to not be correlated with the potentially endogenous variable $\\text{educ}$"
   ]
  },
  {
   "cell_type": "markdown",
   "id": "53ae8de9-484d-4239-89a8-b659a0814d28",
   "metadata": {},
   "source": [
    "__(e)__ Estimate the parameters of the model for log wage using two-stage least squares where you correct for the endogeneity of education __and__ experience. Compare your result to the estimate in part (a)."
   ]
  },
  {
   "cell_type": "code",
   "execution_count": 24,
   "id": "94ede6a4-e4bf-4ac8-8ffe-3cb1f501aa7c",
   "metadata": {},
   "outputs": [
    {
     "data": {
      "text/plain": [
       "\n",
       "Call:\n",
       "ivreg(formula = logw ~ educ + exper + exper2 + smsa + south | \n",
       "    smsa + south + age + age2 + nearc + daded + momed, data = retsed)\n",
       "\n",
       "Residuals:\n",
       "    Min      1Q  Median      3Q     Max \n",
       "-1.7494 -0.2360  0.0266  0.2498  1.3468 \n",
       "\n",
       "Coefficients:\n",
       "              Estimate Std. Error t value Pr(>|t|)    \n",
       "(Intercept)  4.4169039  0.1154208  38.268  < 2e-16 ***\n",
       "educ         0.0998429  0.0065738  15.188  < 2e-16 ***\n",
       "exper        0.0728669  0.0167134   4.360 1.35e-05 ***\n",
       "exper2      -0.0016393  0.0008381  -1.956   0.0506 .  \n",
       "smsa         0.1349370  0.0167695   8.047 1.21e-15 ***\n",
       "south       -0.1589869  0.0156854 -10.136  < 2e-16 ***\n",
       "---\n",
       "Signif. codes:  0 '***' 0.001 '**' 0.01 '*' 0.05 '.' 0.1 ' ' 1\n",
       "\n",
       "Residual standard error: 0.3844 on 3004 degrees of freedom\n",
       "Multiple R-Squared: 0.2512,\tAdjusted R-squared: 0.2499 \n",
       "Wald test: 175.9 on 5 and 3004 DF,  p-value: < 2.2e-16 \n"
      ]
     },
     "metadata": {},
     "output_type": "display_data"
    }
   ],
   "source": [
    "# perform the 2SLS regression to get the parameters\n",
    "# of the model, using ivreg(), which automatically\n",
    "# performs the two stages, first regressing the endogenous\n",
    "# variables on the instruments, and then regressing \"logw\"\n",
    "# on their fitted values\n",
    "twosls1 <- ivreg(\n",
    "    logw ~ educ + exper + exper2 + smsa + south | # 2sls equation, same as (a)\n",
    "    smsa + south + age + age2 + nearc + daded + momed, # include exogenous variables and instruments\n",
    "    data = retsed\n",
    ")\n",
    "\n",
    "summary(twosls1)"
   ]
  },
  {
   "cell_type": "markdown",
   "id": "50896cef-6231-4896-a485-bc099b751532",
   "metadata": {},
   "source": [
    "After performing the 2SLS regression, this is the model:\n",
    "\n",
    "$$ \\text{logw} = 4.42 + 0.1\\text{educ} + 0.07\\text{exper} - 0.00\\text{exper}^2 + 0.13\\text{smsa} - 0.16\\text{south} $$\n",
    "\n",
    "We can compare this regression to the first one, performed in part (a):\n",
    "\n",
    "$$ \\text{logw} = 4.61 + 0.08\\text{educ} + 0.08\\text{exper} - 0.00\\text{exper}^2 + 0.15\\text{smsa} - 0.18\\text{south} $$\n",
    "\n",
    "As we can see, the model in (a) gave higher coefficients to all variables, except $\\text{educ}$."
   ]
  },
  {
   "cell_type": "markdown",
   "id": "e7c89962-e89f-408b-b91a-ec82a5bb3e8a",
   "metadata": {},
   "source": [
    "__(f)__ Perform the Sargan test for validity of the instruments. What is your conclusion?"
   ]
  },
  {
   "cell_type": "code",
   "execution_count": 38,
   "id": "d61f0b86-3bd8-44fc-9e64-9346d63a72f7",
   "metadata": {},
   "outputs": [
    {
     "data": {
      "text/html": [
       "<style>\n",
       ".dl-inline {width: auto; margin:0; padding: 0}\n",
       ".dl-inline>dt, .dl-inline>dd {float: none; width: auto; display: inline-block}\n",
       ".dl-inline>dt::after {content: \":\\0020\"; padding-right: .5ex}\n",
       ".dl-inline>dt:not(:first-of-type) {padding-left: .5ex}\n",
       "</style><dl class=dl-inline><dt>df1</dt><dd>2</dd><dt>df2</dt><dd>&lt;NA&gt;</dd><dt>statistic</dt><dd>3.70238864316247</dd><dt>p-value</dt><dd>0.157049486669761</dd></dl>\n"
      ],
      "text/latex": [
       "\\begin{description*}\n",
       "\\item[df1] 2\n",
       "\\item[df2] <NA>\n",
       "\\item[statistic] 3.70238864316247\n",
       "\\item[p-value] 0.157049486669761\n",
       "\\end{description*}\n"
      ],
      "text/markdown": [
       "df1\n",
       ":   2df2\n",
       ":   &lt;NA&gt;statistic\n",
       ":   3.70238864316247p-value\n",
       ":   0.157049486669761\n",
       "\n"
      ],
      "text/plain": [
       "      df1       df2 statistic   p-value \n",
       "2.0000000        NA 3.7023886 0.1570495 "
      ]
     },
     "metadata": {},
     "output_type": "display_data"
    }
   ],
   "source": [
    "# use diagnostics=TRUE to see the results of the Sargan\n",
    "# test, i.e. test the null hypothesis that the instruments\n",
    "# are valid (uncorrelated with the error term)\n",
    "summary(twosls1, diagnostics = TRUE)$diagnostics[\"Sargan\", ]"
   ]
  },
  {
   "cell_type": "markdown",
   "id": "4d1c45b2-f370-46c3-85a8-8bb5cb655d19",
   "metadata": {},
   "source": [
    "From the fact that the $\\text{p-value of the Sargan test} = 0.16 > 0.05$, we fail to reject the null hypothesis (all instruments are valid), and we can conclude that the instruments $\\text{age}, \\text{age}^2, \\text{nearc}, \\text{dadeduc}$, and $\\text{momeduc}$ are likely valid."
   ]
  }
 ],
 "metadata": {
  "kernelspec": {
   "display_name": "R",
   "language": "R",
   "name": "ir"
  },
  "language_info": {
   "codemirror_mode": "r",
   "file_extension": ".r",
   "mimetype": "text/x-r-source",
   "name": "R",
   "pygments_lexer": "r",
   "version": "4.4.3"
  }
 },
 "nbformat": 4,
 "nbformat_minor": 5
}
