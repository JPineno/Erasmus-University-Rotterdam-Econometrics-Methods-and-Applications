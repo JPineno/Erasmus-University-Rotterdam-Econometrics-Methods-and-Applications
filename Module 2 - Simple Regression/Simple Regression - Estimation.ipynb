{
 "cells": [
  {
   "cell_type": "markdown",
   "id": "4e78c3f5-5dd2-4859-afe6-8a206123f79c",
   "metadata": {},
   "source": [
    "# <u>Training Exercices - Simple Regression: Estimation<u>\n",
    "\n",
    "__<u>Jorge Pineño Pérez<u>__ / Module 2 - Simple Regression"
   ]
  },
  {
   "cell_type": "markdown",
   "id": "e91a6b69-499f-48b1-964c-07f834b48dd7",
   "metadata": {},
   "source": [
    "__<u>Training Exercise 1.3<u>__"
   ]
  },
  {
   "cell_type": "code",
   "execution_count": 3,
   "id": "42f98a4e-cd4f-455c-91dd-cdd816bb0997",
   "metadata": {},
   "outputs": [],
   "source": [
    "# imports\n",
    "import numpy as np\n",
    "import pandas as pd\n",
    "import matplotlib.pyplot as plt"
   ]
  },
  {
   "cell_type": "code",
   "execution_count": 4,
   "id": "3541c199-d995-4bb4-93cc-d64a76172398",
   "metadata": {},
   "outputs": [
    {
     "data": {
      "text/html": [
       "<div>\n",
       "<style scoped>\n",
       "    .dataframe tbody tr th:only-of-type {\n",
       "        vertical-align: middle;\n",
       "    }\n",
       "\n",
       "    .dataframe tbody tr th {\n",
       "        vertical-align: top;\n",
       "    }\n",
       "\n",
       "    .dataframe thead th {\n",
       "        text-align: right;\n",
       "    }\n",
       "</style>\n",
       "<table border=\"1\" class=\"dataframe\">\n",
       "  <thead>\n",
       "    <tr style=\"text-align: right;\">\n",
       "      <th></th>\n",
       "      <th>Game</th>\n",
       "      <th>Year</th>\n",
       "      <th>Winning time men</th>\n",
       "    </tr>\n",
       "  </thead>\n",
       "  <tbody>\n",
       "    <tr>\n",
       "      <th>0</th>\n",
       "      <td>1</td>\n",
       "      <td>1948</td>\n",
       "      <td>10.3</td>\n",
       "    </tr>\n",
       "    <tr>\n",
       "      <th>1</th>\n",
       "      <td>2</td>\n",
       "      <td>1952</td>\n",
       "      <td>10.4</td>\n",
       "    </tr>\n",
       "    <tr>\n",
       "      <th>2</th>\n",
       "      <td>3</td>\n",
       "      <td>1956</td>\n",
       "      <td>10.5</td>\n",
       "    </tr>\n",
       "    <tr>\n",
       "      <th>3</th>\n",
       "      <td>4</td>\n",
       "      <td>1960</td>\n",
       "      <td>10.2</td>\n",
       "    </tr>\n",
       "    <tr>\n",
       "      <th>4</th>\n",
       "      <td>5</td>\n",
       "      <td>1964</td>\n",
       "      <td>10.0</td>\n",
       "    </tr>\n",
       "  </tbody>\n",
       "</table>\n",
       "</div>"
      ],
      "text/plain": [
       "   Game  Year  Winning time men\n",
       "0     1  1948              10.3\n",
       "1     2  1952              10.4\n",
       "2     3  1956              10.5\n",
       "3     4  1960              10.2\n",
       "4     5  1964              10.0"
      ]
     },
     "execution_count": 4,
     "metadata": {},
     "output_type": "execute_result"
    }
   ],
   "source": [
    "# import our dataset\n",
    "games = pd.read_excel('TrainExer13.xls')\n",
    "games.head()"
   ]
  },
  {
   "cell_type": "code",
   "execution_count": 5,
   "id": "83b4c257-2cbe-4020-9150-0adc37b14b99",
   "metadata": {},
   "outputs": [
    {
     "data": {
      "text/html": [
       "<div>\n",
       "<style scoped>\n",
       "    .dataframe tbody tr th:only-of-type {\n",
       "        vertical-align: middle;\n",
       "    }\n",
       "\n",
       "    .dataframe tbody tr th {\n",
       "        vertical-align: top;\n",
       "    }\n",
       "\n",
       "    .dataframe thead th {\n",
       "        text-align: right;\n",
       "    }\n",
       "</style>\n",
       "<table border=\"1\" class=\"dataframe\">\n",
       "  <thead>\n",
       "    <tr style=\"text-align: right;\">\n",
       "      <th></th>\n",
       "      <th>G</th>\n",
       "      <th>Year</th>\n",
       "      <th>W</th>\n",
       "    </tr>\n",
       "  </thead>\n",
       "  <tbody>\n",
       "    <tr>\n",
       "      <th>0</th>\n",
       "      <td>1</td>\n",
       "      <td>1948</td>\n",
       "      <td>10.30</td>\n",
       "    </tr>\n",
       "    <tr>\n",
       "      <th>1</th>\n",
       "      <td>2</td>\n",
       "      <td>1952</td>\n",
       "      <td>10.40</td>\n",
       "    </tr>\n",
       "    <tr>\n",
       "      <th>2</th>\n",
       "      <td>3</td>\n",
       "      <td>1956</td>\n",
       "      <td>10.50</td>\n",
       "    </tr>\n",
       "    <tr>\n",
       "      <th>3</th>\n",
       "      <td>4</td>\n",
       "      <td>1960</td>\n",
       "      <td>10.20</td>\n",
       "    </tr>\n",
       "    <tr>\n",
       "      <th>4</th>\n",
       "      <td>5</td>\n",
       "      <td>1964</td>\n",
       "      <td>10.00</td>\n",
       "    </tr>\n",
       "    <tr>\n",
       "      <th>5</th>\n",
       "      <td>6</td>\n",
       "      <td>1968</td>\n",
       "      <td>9.95</td>\n",
       "    </tr>\n",
       "    <tr>\n",
       "      <th>6</th>\n",
       "      <td>7</td>\n",
       "      <td>1972</td>\n",
       "      <td>10.14</td>\n",
       "    </tr>\n",
       "    <tr>\n",
       "      <th>7</th>\n",
       "      <td>8</td>\n",
       "      <td>1976</td>\n",
       "      <td>10.06</td>\n",
       "    </tr>\n",
       "    <tr>\n",
       "      <th>8</th>\n",
       "      <td>9</td>\n",
       "      <td>1980</td>\n",
       "      <td>10.25</td>\n",
       "    </tr>\n",
       "    <tr>\n",
       "      <th>9</th>\n",
       "      <td>10</td>\n",
       "      <td>1984</td>\n",
       "      <td>9.99</td>\n",
       "    </tr>\n",
       "    <tr>\n",
       "      <th>10</th>\n",
       "      <td>11</td>\n",
       "      <td>1988</td>\n",
       "      <td>9.92</td>\n",
       "    </tr>\n",
       "    <tr>\n",
       "      <th>11</th>\n",
       "      <td>12</td>\n",
       "      <td>1992</td>\n",
       "      <td>9.96</td>\n",
       "    </tr>\n",
       "    <tr>\n",
       "      <th>12</th>\n",
       "      <td>13</td>\n",
       "      <td>1996</td>\n",
       "      <td>9.84</td>\n",
       "    </tr>\n",
       "    <tr>\n",
       "      <th>13</th>\n",
       "      <td>14</td>\n",
       "      <td>2000</td>\n",
       "      <td>9.87</td>\n",
       "    </tr>\n",
       "    <tr>\n",
       "      <th>14</th>\n",
       "      <td>15</td>\n",
       "      <td>2004</td>\n",
       "      <td>9.85</td>\n",
       "    </tr>\n",
       "  </tbody>\n",
       "</table>\n",
       "</div>"
      ],
      "text/plain": [
       "     G  Year      W\n",
       "0    1  1948  10.30\n",
       "1    2  1952  10.40\n",
       "2    3  1956  10.50\n",
       "3    4  1960  10.20\n",
       "4    5  1964  10.00\n",
       "5    6  1968   9.95\n",
       "6    7  1972  10.14\n",
       "7    8  1976  10.06\n",
       "8    9  1980  10.25\n",
       "9   10  1984   9.99\n",
       "10  11  1988   9.92\n",
       "11  12  1992   9.96\n",
       "12  13  1996   9.84\n",
       "13  14  2000   9.87\n",
       "14  15  2004   9.85"
      ]
     },
     "execution_count": 5,
     "metadata": {},
     "output_type": "execute_result"
    }
   ],
   "source": [
    "# change column names\n",
    "games = games.rename(columns={'Game': 'G', 'Winning time men': 'W'})\n",
    "games"
   ]
  },
  {
   "cell_type": "markdown",
   "id": "944609f7-4714-436d-b8ea-e0c1301cbc91",
   "metadata": {},
   "source": [
    "Model for a trend in winning times:\n",
    "\n",
    "$$W_i = \\alpha + \\beta G_i + \\epsilon_i$$\n",
    "\n",
    "__(a)__"
   ]
  },
  {
   "cell_type": "code",
   "execution_count": 7,
   "id": "19650fbf-5d92-4007-8465-916e3728d038",
   "metadata": {},
   "outputs": [
    {
     "data": {
      "text/plain": [
       "-7.0"
      ]
     },
     "execution_count": 7,
     "metadata": {},
     "output_type": "execute_result"
    }
   ],
   "source": [
    "games.loc[0, 'G']-games['G'].mean()"
   ]
  },
  {
   "cell_type": "code",
   "execution_count": 8,
   "id": "de9942d7-90bd-4674-a3a4-81f5c5746003",
   "metadata": {},
   "outputs": [
    {
     "data": {
      "text/plain": [
       "-0.03800000000000015"
      ]
     },
     "execution_count": 8,
     "metadata": {},
     "output_type": "execute_result"
    }
   ],
   "source": [
    "# we compute beta by using the expressions shown in the slides\n",
    "num = []\n",
    "den = []\n",
    "\n",
    "for i in range(len(games)):\n",
    "    num1i = games.loc[i, 'G']-games['G'].mean()\n",
    "    num2i = games.loc[i, 'W']-games['W'].mean()\n",
    "    deni = (games.loc[i, 'G']-games['G'].mean())**2\n",
    "    num.append(num1i*num2i)\n",
    "    den.append(deni)\n",
    "\n",
    "beta = np.sum(num)/np.sum(den)\n",
    "beta"
   ]
  },
  {
   "cell_type": "code",
   "execution_count": 9,
   "id": "e7a04141-37e5-4ebc-8bea-e807a4e47e80",
   "metadata": {},
   "outputs": [
    {
     "data": {
      "text/plain": [
       "10.386000000000001"
      ]
     },
     "execution_count": 9,
     "metadata": {},
     "output_type": "execute_result"
    }
   ],
   "source": [
    "# we compute alpha by using the expressions shown in the slides\n",
    "alpha = games['W'].mean() - beta*games['G'].mean()\n",
    "alpha"
   ]
  },
  {
   "cell_type": "code",
   "execution_count": 10,
   "id": "4007dae5-fe26-4260-a2c1-060ac30ab3ff",
   "metadata": {},
   "outputs": [
    {
     "data": {
      "text/plain": [
       "(-0.03800000000000015, 10.386000000000001)"
      ]
     },
     "execution_count": 10,
     "metadata": {},
     "output_type": "execute_result"
    }
   ],
   "source": [
    "beta, alpha"
   ]
  },
  {
   "cell_type": "code",
   "execution_count": 34,
   "id": "ceaeb325-e6a2-43ca-8864-7b915f95cb5b",
   "metadata": {},
   "outputs": [
    {
     "data": {
      "text/plain": [
       "0.6733728599027355"
      ]
     },
     "execution_count": 34,
     "metadata": {},
     "output_type": "execute_result"
    }
   ],
   "source": [
    "# we can now get R-squared by using the expression in the slides\n",
    "num = []\n",
    "den = []\n",
    "\n",
    "for i in range(len(games)):\n",
    "    numi = (games.loc[i, 'W']-alpha-beta*games.loc[i, 'G'])**2\n",
    "    deni = (games.loc[i, 'W']-games['W'].mean())**2\n",
    "    num.append(numi)\n",
    "    den.append(deni)\n",
    "\n",
    "R2 = 1-(np.sum(num)/np.sum(den))\n",
    "R2"
   ]
  },
  {
   "cell_type": "code",
   "execution_count": 40,
   "id": "34a1175c-fff2-4150-8037-e57bde46f17a",
   "metadata": {},
   "outputs": [
    {
     "data": {
      "text/plain": [
       "0.12282570515227721"
      ]
     },
     "execution_count": 40,
     "metadata": {},
     "output_type": "execute_result"
    }
   ],
   "source": [
    "# and finally, s (error standard deviation)\n",
    "s2 = (1/(len(games)-2))*np.sum(num)\n",
    "s = np.sqrt(s2)\n",
    "s"
   ]
  },
  {
   "cell_type": "markdown",
   "id": "eb93b454-7aaf-4997-9d44-065b8629ce0c",
   "metadata": {},
   "source": [
    "__(b)__\n",
    "\n",
    "(...)\n",
    "\n",
    "__(c)__\n",
    "\n",
    "(...)"
   ]
  }
 ],
 "metadata": {
  "kernelspec": {
   "display_name": "Python 3 (ipykernel)",
   "language": "python",
   "name": "python3"
  },
  "language_info": {
   "codemirror_mode": {
    "name": "ipython",
    "version": 3
   },
   "file_extension": ".py",
   "mimetype": "text/x-python",
   "name": "python",
   "nbconvert_exporter": "python",
   "pygments_lexer": "ipython3",
   "version": "3.12.0"
  }
 },
 "nbformat": 4,
 "nbformat_minor": 5
}
