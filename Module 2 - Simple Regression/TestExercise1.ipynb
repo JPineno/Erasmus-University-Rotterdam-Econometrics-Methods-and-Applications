{
 "cells": [
  {
   "cell_type": "markdown",
   "id": "4e78c3f5-5dd2-4859-afe6-8a206123f79c",
   "metadata": {},
   "source": [
    "# <u>Test Exercice 1 - Simple Regression<u>\n",
    "\n",
    "__<u>Jorge Pineño Pérez<u>__ / Module 2 - Simple Regression"
   ]
  },
  {
   "cell_type": "markdown",
   "id": "bec2fd5b-01e1-481f-890a-06458061f84c",
   "metadata": {},
   "source": [
    "This exercise considers an example of data that do not satisfy all the standard assumptions of simple regression.\n",
    "In the considered case, one particular observation lies far off from the others, that is, it is an outlier. This violates assumptions $A3$ and $A4$, which state that all error terms $\\epsilon_i$ are drawn from one and the same distribution with mean zero and fixed variance $\\sigma^2$. The dataset contains twenty weekly observations on sales and advertising of a department store. The question of interest lies in estimating the effect of advertising on sales. One of the weeks was special, as the store was also open in the evenings during this week, but this aspect will first be ignored in the analysis."
   ]
  },
  {
   "cell_type": "code",
   "execution_count": 4,
   "id": "42f98a4e-cd4f-455c-91dd-cdd816bb0997",
   "metadata": {},
   "outputs": [],
   "source": [
    "# package imports\n",
    "import numpy as np\n",
    "import pandas as pd\n",
    "import matplotlib.pyplot as plt"
   ]
  },
  {
   "cell_type": "code",
   "execution_count": 5,
   "id": "3541c199-d995-4bb4-93cc-d64a76172398",
   "metadata": {},
   "outputs": [
    {
     "data": {
      "text/html": [
       "<div>\n",
       "<style scoped>\n",
       "    .dataframe tbody tr th:only-of-type {\n",
       "        vertical-align: middle;\n",
       "    }\n",
       "\n",
       "    .dataframe tbody tr th {\n",
       "        vertical-align: top;\n",
       "    }\n",
       "\n",
       "    .dataframe thead th {\n",
       "        text-align: right;\n",
       "    }\n",
       "</style>\n",
       "<table border=\"1\" class=\"dataframe\">\n",
       "  <thead>\n",
       "    <tr style=\"text-align: right;\">\n",
       "      <th></th>\n",
       "      <th>Observation</th>\n",
       "      <th>Advertising</th>\n",
       "      <th>Sales</th>\n",
       "    </tr>\n",
       "  </thead>\n",
       "  <tbody>\n",
       "    <tr>\n",
       "      <th>0</th>\n",
       "      <td>1</td>\n",
       "      <td>12</td>\n",
       "      <td>24</td>\n",
       "    </tr>\n",
       "    <tr>\n",
       "      <th>1</th>\n",
       "      <td>2</td>\n",
       "      <td>12</td>\n",
       "      <td>27</td>\n",
       "    </tr>\n",
       "    <tr>\n",
       "      <th>2</th>\n",
       "      <td>3</td>\n",
       "      <td>9</td>\n",
       "      <td>25</td>\n",
       "    </tr>\n",
       "    <tr>\n",
       "      <th>3</th>\n",
       "      <td>4</td>\n",
       "      <td>11</td>\n",
       "      <td>27</td>\n",
       "    </tr>\n",
       "    <tr>\n",
       "      <th>4</th>\n",
       "      <td>5</td>\n",
       "      <td>6</td>\n",
       "      <td>23</td>\n",
       "    </tr>\n",
       "  </tbody>\n",
       "</table>\n",
       "</div>"
      ],
      "text/plain": [
       "   Observation  Advertising  Sales\n",
       "0            1           12     24\n",
       "1            2           12     27\n",
       "2            3            9     25\n",
       "3            4           11     27\n",
       "4            5            6     23"
      ]
     },
     "execution_count": 5,
     "metadata": {},
     "output_type": "execute_result"
    }
   ],
   "source": [
    "# dataset import\n",
    "sales = pd.read_excel('TestExer-1-sales-round1.xls')\n",
    "sales.head()"
   ]
  },
  {
   "cell_type": "code",
   "execution_count": 6,
   "id": "83b4c257-2cbe-4020-9150-0adc37b14b99",
   "metadata": {},
   "outputs": [
    {
     "data": {
      "text/html": [
       "<div>\n",
       "<style scoped>\n",
       "    .dataframe tbody tr th:only-of-type {\n",
       "        vertical-align: middle;\n",
       "    }\n",
       "\n",
       "    .dataframe tbody tr th {\n",
       "        vertical-align: top;\n",
       "    }\n",
       "\n",
       "    .dataframe thead th {\n",
       "        text-align: right;\n",
       "    }\n",
       "</style>\n",
       "<table border=\"1\" class=\"dataframe\">\n",
       "  <thead>\n",
       "    <tr style=\"text-align: right;\">\n",
       "      <th></th>\n",
       "      <th>Obs</th>\n",
       "      <th>Ad</th>\n",
       "      <th>S</th>\n",
       "    </tr>\n",
       "  </thead>\n",
       "  <tbody>\n",
       "    <tr>\n",
       "      <th>0</th>\n",
       "      <td>1</td>\n",
       "      <td>12</td>\n",
       "      <td>24</td>\n",
       "    </tr>\n",
       "    <tr>\n",
       "      <th>1</th>\n",
       "      <td>2</td>\n",
       "      <td>12</td>\n",
       "      <td>27</td>\n",
       "    </tr>\n",
       "    <tr>\n",
       "      <th>2</th>\n",
       "      <td>3</td>\n",
       "      <td>9</td>\n",
       "      <td>25</td>\n",
       "    </tr>\n",
       "    <tr>\n",
       "      <th>3</th>\n",
       "      <td>4</td>\n",
       "      <td>11</td>\n",
       "      <td>27</td>\n",
       "    </tr>\n",
       "    <tr>\n",
       "      <th>4</th>\n",
       "      <td>5</td>\n",
       "      <td>6</td>\n",
       "      <td>23</td>\n",
       "    </tr>\n",
       "    <tr>\n",
       "      <th>5</th>\n",
       "      <td>6</td>\n",
       "      <td>9</td>\n",
       "      <td>25</td>\n",
       "    </tr>\n",
       "    <tr>\n",
       "      <th>6</th>\n",
       "      <td>7</td>\n",
       "      <td>15</td>\n",
       "      <td>27</td>\n",
       "    </tr>\n",
       "    <tr>\n",
       "      <th>7</th>\n",
       "      <td>8</td>\n",
       "      <td>6</td>\n",
       "      <td>25</td>\n",
       "    </tr>\n",
       "    <tr>\n",
       "      <th>8</th>\n",
       "      <td>9</td>\n",
       "      <td>11</td>\n",
       "      <td>26</td>\n",
       "    </tr>\n",
       "    <tr>\n",
       "      <th>9</th>\n",
       "      <td>10</td>\n",
       "      <td>16</td>\n",
       "      <td>27</td>\n",
       "    </tr>\n",
       "    <tr>\n",
       "      <th>10</th>\n",
       "      <td>11</td>\n",
       "      <td>11</td>\n",
       "      <td>25</td>\n",
       "    </tr>\n",
       "    <tr>\n",
       "      <th>11</th>\n",
       "      <td>12</td>\n",
       "      <td>6</td>\n",
       "      <td>50</td>\n",
       "    </tr>\n",
       "    <tr>\n",
       "      <th>12</th>\n",
       "      <td>13</td>\n",
       "      <td>13</td>\n",
       "      <td>26</td>\n",
       "    </tr>\n",
       "    <tr>\n",
       "      <th>13</th>\n",
       "      <td>14</td>\n",
       "      <td>11</td>\n",
       "      <td>23</td>\n",
       "    </tr>\n",
       "    <tr>\n",
       "      <th>14</th>\n",
       "      <td>15</td>\n",
       "      <td>13</td>\n",
       "      <td>26</td>\n",
       "    </tr>\n",
       "    <tr>\n",
       "      <th>15</th>\n",
       "      <td>16</td>\n",
       "      <td>7</td>\n",
       "      <td>23</td>\n",
       "    </tr>\n",
       "    <tr>\n",
       "      <th>16</th>\n",
       "      <td>17</td>\n",
       "      <td>8</td>\n",
       "      <td>23</td>\n",
       "    </tr>\n",
       "    <tr>\n",
       "      <th>17</th>\n",
       "      <td>18</td>\n",
       "      <td>8</td>\n",
       "      <td>24</td>\n",
       "    </tr>\n",
       "    <tr>\n",
       "      <th>18</th>\n",
       "      <td>19</td>\n",
       "      <td>12</td>\n",
       "      <td>26</td>\n",
       "    </tr>\n",
       "    <tr>\n",
       "      <th>19</th>\n",
       "      <td>20</td>\n",
       "      <td>9</td>\n",
       "      <td>24</td>\n",
       "    </tr>\n",
       "  </tbody>\n",
       "</table>\n",
       "</div>"
      ],
      "text/plain": [
       "    Obs  Ad   S\n",
       "0     1  12  24\n",
       "1     2  12  27\n",
       "2     3   9  25\n",
       "3     4  11  27\n",
       "4     5   6  23\n",
       "5     6   9  25\n",
       "6     7  15  27\n",
       "7     8   6  25\n",
       "8     9  11  26\n",
       "9    10  16  27\n",
       "10   11  11  25\n",
       "11   12   6  50\n",
       "12   13  13  26\n",
       "13   14  11  23\n",
       "14   15  13  26\n",
       "15   16   7  23\n",
       "16   17   8  23\n",
       "17   18   8  24\n",
       "18   19  12  26\n",
       "19   20   9  24"
      ]
     },
     "execution_count": 6,
     "metadata": {},
     "output_type": "execute_result"
    }
   ],
   "source": [
    "# change column names\n",
    "sales = sales.rename(columns={'Observation': 'Obs', 'Advertising': 'Ad', 'Sales': 'S'})\n",
    "sales"
   ]
  },
  {
   "cell_type": "markdown",
   "id": "944609f7-4714-436d-b8ea-e0c1301cbc91",
   "metadata": {},
   "source": [
    "__(a)__ Make the scatter diagram with sales on the vertical axis and advertising on the horizontal axis. What do you\n",
    "expect to find if you would fit a regression line to these data?\r"
   ]
  },
  {
   "cell_type": "code",
   "execution_count": 8,
   "id": "de9942d7-90bd-4674-a3a4-81f5c5746003",
   "metadata": {},
   "outputs": [
    {
     "data": {
      "image/png": "[encoded data removed]",
      "text/plain": [
       "<Figure size 800x500 with 1 Axes>"
      ]
     },
     "metadata": {},
     "output_type": "display_data"
    }
   ],
   "source": [
    "# make a scatter diagram with sales on the y-axis, and advertising on the x-axis\n",
    "plt.figure(figsize=(8, 5))\n",
    "plt.scatter(sales['Ad'], sales['S'])\n",
    "plt.title('Sales vs Advertising', fontsize=16)\n",
    "plt.xlabel('Sales')\n",
    "plt.ylabel('Advertising')\n",
    "plt.grid(True, linestyle='--', alpha=0.5)"
   ]
  },
  {
   "cell_type": "markdown",
   "id": "f2858702-e603-40e9-8c54-d557668d1ebf",
   "metadata": {},
   "source": [
    "If we were to fit a regression to these data, the presence of the value $(Sales=6, Advertising=50)$ would probably cause the intercept to be higher than expected, so the line in the graph would be more horizontal than it would be without that value, or even have a negative slope."
   ]
  },
  {
   "cell_type": "markdown",
   "id": "725e00de-19ee-4739-99c5-3178b7ebc161",
   "metadata": {},
   "source": [
    "__(b)__ Estimate the coefficients $a$ and $b$ in the simple regression model with sales as dependent variable and advertising as explanatory factor. Also compute the standard error and t-value of $b$. Is $b$ significantly different from 0?"
   ]
  },
  {
   "cell_type": "markdown",
   "id": "a0f7e293-4b2e-499c-8a87-e43bc24edb25",
   "metadata": {},
   "source": [
    "We can find the coefficients $a$ and $b$ by following the least squares criterion, by which we solve $\\frac{\\partial S}{\\partial a} = 0$ and $\\frac{\\partial S}{\\partial b} = 0$, and get these expressions:\n",
    "\n",
    "$$b = \\frac{\\sum_{i=1}^n (x_i-\\bar{x})(y_i-\\bar{y})}{\\sum_{i=1}^n (x_i-\\bar{x})}$$\n",
    "$$a = \\bar{y} - b\\bar{x}$$"
   ]
  },
  {
   "cell_type": "code",
   "execution_count": 16,
   "id": "6ce59d3e-5333-4859-9fd3-5f49746fd2b4",
   "metadata": {},
   "outputs": [
    {
     "data": {
      "text/plain": [
       "-0.32457496136012354"
      ]
     },
     "execution_count": 16,
     "metadata": {},
     "output_type": "execute_result"
    }
   ],
   "source": [
    "# get b first, by following the expression above\n",
    "num = []\n",
    "den = []\n",
    "\n",
    "for i in range(len(sales)):\n",
    "    num1i = sales.loc[i, 'Ad']-sales['Ad'].mean()\n",
    "    num2i = sales.loc[i, 'S']-sales['S'].mean()\n",
    "    deni = (sales.loc[i, 'Ad']-sales['Ad'].mean())**2\n",
    "    num.append(num1i*num2i)\n",
    "    den.append(deni)\n",
    "\n",
    "b = np.sum(num)/np.sum(den)\n",
    "b"
   ]
  },
  {
   "cell_type": "code",
   "execution_count": 18,
   "id": "f90e2e2d-24d0-4f34-94c0-43e03b1a498c",
   "metadata": {},
   "outputs": [
    {
     "data": {
      "text/plain": [
       "29.626893353941266"
      ]
     },
     "execution_count": 18,
     "metadata": {},
     "output_type": "execute_result"
    }
   ],
   "source": [
    "# get a, by following the expression above\n",
    "a = sales['S'].mean() - b*sales['Ad'].mean()\n",
    "a"
   ]
  },
  {
   "cell_type": "markdown",
   "id": "53c00f46-6e47-4370-8d4b-0291687b32ce",
   "metadata": {},
   "source": [
    "We have found that $a = 29.6269$, and $b = -0.3246$, so we can express the model as:\n",
    "\n",
    "$$y_i = 29.6269 - 0.3246x_i + \\epsilon_i$$\n",
    "\n",
    "With this, we can now compute $s$ (the standard error), and the t-value of $b$, by using the following expressions:\n",
    "\n",
    "$$e = y_i - a - bx_i$$\n",
    "$$s^2 = \\frac{1}{n-2} \\sum_{i=1}^n e_i^2$$\n",
    "$$s = \\sqrt{s^2}$$\n",
    "$$t_b = \\frac{b}{s_b}, \\space where \\space s_b = \\sqrt{\\frac{s^2}{\\sum_{i=1}^n (x_i-\\bar{x})^2}}$$"
   ]
  },
  {
   "cell_type": "code",
   "execution_count": 21,
   "id": "c103450b-07eb-44c7-bcc2-7c9678e02bb2",
   "metadata": {},
   "outputs": [
    {
     "data": {
      "text/plain": [
       "613.1598145285935"
      ]
     },
     "execution_count": 21,
     "metadata": {},
     "output_type": "execute_result"
    }
   ],
   "source": [
    "# get the sum of e squared with the expression above\n",
    "e2 = []\n",
    "\n",
    "for i in range(len(sales)):\n",
    "    ei2 = (sales.loc[i, 'S']-a-b*sales.loc[i, 'Ad'])**2\n",
    "    e2.append(ei2)\n",
    "\n",
    "sume2 = np.sum(e2)\n",
    "sume2"
   ]
  },
  {
   "cell_type": "code",
   "execution_count": 67,
   "id": "f506934d-24cb-421e-bd7e-e382efb5aee3",
   "metadata": {},
   "outputs": [
    {
     "data": {
      "text/plain": [
       "0.45891097580291074"
      ]
     },
     "execution_count": 67,
     "metadata": {},
     "output_type": "execute_result"
    }
   ],
   "source": [
    "# get sb with the expression above\n",
    "s2 = (1/(len(sales)-2))*sume2\n",
    "sb = np.sqrt((s2)/(np.sum((sales['Ad'] - sales['Ad'].mean())**2)))\n",
    "sb"
   ]
  },
  {
   "cell_type": "code",
   "execution_count": 71,
   "id": "fa3488cf-6219-4e3f-9662-2d8fd299ab59",
   "metadata": {},
   "outputs": [
    {
     "data": {
      "text/plain": [
       "-0.7072721692747643"
      ]
     },
     "execution_count": 71,
     "metadata": {},
     "output_type": "execute_result"
    }
   ],
   "source": [
    "# get the t-value of b with the expression above\n",
    "tb = b/sb\n",
    "tb"
   ]
  },
  {
   "cell_type": "markdown",
   "id": "b9800023-39d6-4e4e-9637-6dd2391ef511",
   "metadata": {},
   "source": [
    "From these results, we can say that $b$ is not significantly different from 0, as $|t_b| < 2$, which means that, as a rule of thumb, the p-value will be larger than 0.05, and therefore the null hypothesis cannot be rejected."
   ]
  },
  {
   "cell_type": "markdown",
   "id": "02dd123f-e063-4a0d-8379-8640e2ba003c",
   "metadata": {},
   "source": [
    "__(c)__ Compute the residuals and draw a histogram of these residuals. What conclusion do you draw from this histogram?"
   ]
  },
  {
   "cell_type": "code",
   "execution_count": 75,
   "id": "b0b000b0-424e-4b5b-9480-26f3ec5bbb97",
   "metadata": {},
   "outputs": [
    {
     "data": {
      "text/plain": [
       "[-1.731993817619784,\n",
       " 1.268006182380216,\n",
       " -1.7057187017001545,\n",
       " 0.9434312210200924,\n",
       " -4.679443585780525,\n",
       " -1.7057187017001545,\n",
       " 2.241731066460587,\n",
       " -2.6794435857805254,\n",
       " -0.05656877897990764,\n",
       " 2.56630602782071,\n",
       " -1.0565687789799076,\n",
       " 22.320556414219475,\n",
       " 0.5925811437403397,\n",
       " -3.0565687789799076,\n",
       " 0.5925811437403397,\n",
       " -4.354868624420401,\n",
       " -4.030293663060278,\n",
       " -3.030293663060278,\n",
       " 0.268006182380216,\n",
       " -2.7057187017001545]"
      ]
     },
     "execution_count": 75,
     "metadata": {},
     "output_type": "execute_result"
    }
   ],
   "source": [
    "# get residuals e from the expression shown in (b), and without summing their squares\n",
    "e = []\n",
    "\n",
    "for i in range(len(sales)):\n",
    "    ei = (sales.loc[i, 'S']-a-b*sales.loc[i, 'Ad'])\n",
    "    e.append(ei)\n",
    "\n",
    "e"
   ]
  },
  {
   "cell_type": "code",
   "execution_count": 77,
   "id": "82059d6f-f52d-467d-b1be-9ba522eaf929",
   "metadata": {},
   "outputs": [
    {
     "data": {
      "image/png": "[encoded data removed]",
      "text/plain": [
       "<Figure size 800x500 with 1 Axes>"
      ]
     },
     "metadata": {},
     "output_type": "display_data"
    }
   ],
   "source": [
    "# make a histogram with the values of the residuals\n",
    "plt.figure(figsize=(8, 5))\n",
    "plt.hist(e, edgecolor='black')\n",
    "plt.title('Residuals', fontsize=16)\n",
    "plt.ylabel('Frequency')\n",
    "plt.xlabel('$e_i$')\n",
    "plt.grid(True, axis='y', linestyle='--', alpha=0.5)"
   ]
  },
  {
   "cell_type": "markdown",
   "id": "a8308cab-f867-43ab-bf84-e454de90ae84",
   "metadata": {},
   "source": [
    "As a conclusion from the histogram, we can say that one of the values is probably an outlier in the data, i.e. an unusual value which stands out from the rest because of a special characteristic. "
   ]
  },
  {
   "cell_type": "markdown",
   "id": "c052db02-b5b9-4382-89bd-ec15433c5d8d",
   "metadata": {},
   "source": [
    "__(d)__ Apparently, the regression result of part (b) is not satisfactory. Once you realize that the large residual corresponds to the week with opening hours during the evening, how would you proceed to get a more satisfactory regression model?"
   ]
  },
  {
   "cell_type": "markdown",
   "id": "0f13f992-5dd7-4d01-89ca-39eed18391e7",
   "metadata": {},
   "source": [
    "Knowing that the unusually large residual value corresponds to the week in which the store opened in the evenings as well as in the mornings, as usual, a way to get a more satisfactory model would be to count the sales made only during the hours in which the store would normally be opened, and therefore have a unique set of hours across all observations."
   ]
  },
  {
   "cell_type": "markdown",
   "id": "5cb641ed-8a60-40fa-9e98-531dd81d6d7c",
   "metadata": {},
   "source": [
    "__(e)__ Delete this special week from the sample and use the remaining 19 weeks to estimate the coefficients $a$ and $b$ in the simple regression model with sales as dependent variable and advertising as explanatory factor. Also\n",
    "compute the standard error and t-value of $b$. Is $b$ significantly different from 0?"
   ]
  },
  {
   "cell_type": "code",
   "execution_count": 83,
   "id": "5f775cc0-7ec6-4fa8-86d7-330ca93db298",
   "metadata": {},
   "outputs": [
    {
     "data": {
      "text/html": [
       "<div>\n",
       "<style scoped>\n",
       "    .dataframe tbody tr th:only-of-type {\n",
       "        vertical-align: middle;\n",
       "    }\n",
       "\n",
       "    .dataframe tbody tr th {\n",
       "        vertical-align: top;\n",
       "    }\n",
       "\n",
       "    .dataframe thead th {\n",
       "        text-align: right;\n",
       "    }\n",
       "</style>\n",
       "<table border=\"1\" class=\"dataframe\">\n",
       "  <thead>\n",
       "    <tr style=\"text-align: right;\">\n",
       "      <th></th>\n",
       "      <th>Obs</th>\n",
       "      <th>Ad</th>\n",
       "      <th>S</th>\n",
       "    </tr>\n",
       "  </thead>\n",
       "  <tbody>\n",
       "    <tr>\n",
       "      <th>0</th>\n",
       "      <td>1</td>\n",
       "      <td>12</td>\n",
       "      <td>24</td>\n",
       "    </tr>\n",
       "    <tr>\n",
       "      <th>1</th>\n",
       "      <td>2</td>\n",
       "      <td>12</td>\n",
       "      <td>27</td>\n",
       "    </tr>\n",
       "    <tr>\n",
       "      <th>2</th>\n",
       "      <td>3</td>\n",
       "      <td>9</td>\n",
       "      <td>25</td>\n",
       "    </tr>\n",
       "    <tr>\n",
       "      <th>3</th>\n",
       "      <td>4</td>\n",
       "      <td>11</td>\n",
       "      <td>27</td>\n",
       "    </tr>\n",
       "    <tr>\n",
       "      <th>4</th>\n",
       "      <td>5</td>\n",
       "      <td>6</td>\n",
       "      <td>23</td>\n",
       "    </tr>\n",
       "    <tr>\n",
       "      <th>5</th>\n",
       "      <td>6</td>\n",
       "      <td>9</td>\n",
       "      <td>25</td>\n",
       "    </tr>\n",
       "    <tr>\n",
       "      <th>6</th>\n",
       "      <td>7</td>\n",
       "      <td>15</td>\n",
       "      <td>27</td>\n",
       "    </tr>\n",
       "    <tr>\n",
       "      <th>7</th>\n",
       "      <td>8</td>\n",
       "      <td>6</td>\n",
       "      <td>25</td>\n",
       "    </tr>\n",
       "    <tr>\n",
       "      <th>8</th>\n",
       "      <td>9</td>\n",
       "      <td>11</td>\n",
       "      <td>26</td>\n",
       "    </tr>\n",
       "    <tr>\n",
       "      <th>9</th>\n",
       "      <td>10</td>\n",
       "      <td>16</td>\n",
       "      <td>27</td>\n",
       "    </tr>\n",
       "    <tr>\n",
       "      <th>10</th>\n",
       "      <td>11</td>\n",
       "      <td>11</td>\n",
       "      <td>25</td>\n",
       "    </tr>\n",
       "    <tr>\n",
       "      <th>11</th>\n",
       "      <td>13</td>\n",
       "      <td>13</td>\n",
       "      <td>26</td>\n",
       "    </tr>\n",
       "    <tr>\n",
       "      <th>12</th>\n",
       "      <td>14</td>\n",
       "      <td>11</td>\n",
       "      <td>23</td>\n",
       "    </tr>\n",
       "    <tr>\n",
       "      <th>13</th>\n",
       "      <td>15</td>\n",
       "      <td>13</td>\n",
       "      <td>26</td>\n",
       "    </tr>\n",
       "    <tr>\n",
       "      <th>14</th>\n",
       "      <td>16</td>\n",
       "      <td>7</td>\n",
       "      <td>23</td>\n",
       "    </tr>\n",
       "    <tr>\n",
       "      <th>15</th>\n",
       "      <td>17</td>\n",
       "      <td>8</td>\n",
       "      <td>23</td>\n",
       "    </tr>\n",
       "    <tr>\n",
       "      <th>16</th>\n",
       "      <td>18</td>\n",
       "      <td>8</td>\n",
       "      <td>24</td>\n",
       "    </tr>\n",
       "    <tr>\n",
       "      <th>17</th>\n",
       "      <td>19</td>\n",
       "      <td>12</td>\n",
       "      <td>26</td>\n",
       "    </tr>\n",
       "    <tr>\n",
       "      <th>18</th>\n",
       "      <td>20</td>\n",
       "      <td>9</td>\n",
       "      <td>24</td>\n",
       "    </tr>\n",
       "  </tbody>\n",
       "</table>\n",
       "</div>"
      ],
      "text/plain": [
       "    Obs  Ad   S\n",
       "0     1  12  24\n",
       "1     2  12  27\n",
       "2     3   9  25\n",
       "3     4  11  27\n",
       "4     5   6  23\n",
       "5     6   9  25\n",
       "6     7  15  27\n",
       "7     8   6  25\n",
       "8     9  11  26\n",
       "9    10  16  27\n",
       "10   11  11  25\n",
       "11   13  13  26\n",
       "12   14  11  23\n",
       "13   15  13  26\n",
       "14   16   7  23\n",
       "15   17   8  23\n",
       "16   18   8  24\n",
       "17   19  12  26\n",
       "18   20   9  24"
      ]
     },
     "execution_count": 83,
     "metadata": {},
     "output_type": "execute_result"
    }
   ],
   "source": [
    "# delete the row 11 (observation 12) from the dataframe\n",
    "sales2 = sales.drop(11)\n",
    "sales2.reset_index(drop=True, inplace=True)\n",
    "sales2"
   ]
  },
  {
   "cell_type": "code",
   "execution_count": 85,
   "id": "17ae5fc6-e3d0-4238-abb4-136322526027",
   "metadata": {},
   "outputs": [
    {
     "data": {
      "image/png": "[encoded data removed]",
      "text/plain": [
       "<Figure size 800x500 with 1 Axes>"
      ]
     },
     "metadata": {},
     "output_type": "display_data"
    }
   ],
   "source": [
    "# plot after having removed the odd value\n",
    "plt.figure(figsize=(8, 5))\n",
    "plt.scatter(sales2['Ad'], sales2['S'])\n",
    "plt.title('Sales vs Advertising', fontsize=16)\n",
    "plt.xlabel('Sales')\n",
    "plt.ylabel('Advertising')\n",
    "plt.grid(True, linestyle='--', alpha=0.5)"
   ]
  },
  {
   "cell_type": "code",
   "execution_count": 87,
   "id": "c3be1cc9-41e6-4115-af7e-0ba252a1b897",
   "metadata": {},
   "outputs": [
    {
     "data": {
      "text/plain": [
       "0.3750000000000001"
      ]
     },
     "execution_count": 87,
     "metadata": {},
     "output_type": "execute_result"
    }
   ],
   "source": [
    "# get b, by following the expression shown in (b)\n",
    "num = []\n",
    "den = []\n",
    "\n",
    "for i in range(len(sales2)):\n",
    "    num1i = sales2.loc[i, 'Ad']-sales2['Ad'].mean()\n",
    "    num2i = sales2.loc[i, 'S']-sales2['S'].mean()\n",
    "    deni = (sales2.loc[i, 'Ad']-sales2['Ad'].mean())**2\n",
    "    num.append(num1i*num2i)\n",
    "    den.append(deni)\n",
    "\n",
    "b = np.sum(num)/np.sum(den)\n",
    "b"
   ]
  },
  {
   "cell_type": "code",
   "execution_count": 89,
   "id": "7a71b77d-c755-4fe5-b442-b6ab7d6f32ba",
   "metadata": {},
   "outputs": [
    {
     "data": {
      "text/plain": [
       "21.125"
      ]
     },
     "execution_count": 89,
     "metadata": {},
     "output_type": "execute_result"
    }
   ],
   "source": [
    "# get a, by following the expression shown in (a)\n",
    "a = sales2['S'].mean() - b*sales2['Ad'].mean()\n",
    "a"
   ]
  },
  {
   "cell_type": "markdown",
   "id": "718f42b6-bfe1-4e50-90d2-2933c9f3717f",
   "metadata": {},
   "source": [
    "After We have found that $a = 21.125$, and $b = 0.375$, so we can express the model as:\n",
    "\n",
    "$$y_i = 21.125 + 0.375x_i + \\epsilon_i$$\n",
    "\n",
    "We can now study whether $b$ is significantly different from 0 with this new dataframe"
   ]
  },
  {
   "cell_type": "code",
   "execution_count": 92,
   "id": "d2e9dd8d-e713-4e18-8f01-91a741a84441",
   "metadata": {},
   "outputs": [
    {
     "data": {
      "text/plain": [
       "18.875"
      ]
     },
     "execution_count": 92,
     "metadata": {},
     "output_type": "execute_result"
    }
   ],
   "source": [
    "# get the sum of e squared with the expression shown in (b)\n",
    "e2 = []\n",
    "\n",
    "for i in range(len(sales2)):\n",
    "    ei2 = (sales2.loc[i, 'S']-a-b*sales2.loc[i, 'Ad'])**2\n",
    "    e2.append(ei2)\n",
    "\n",
    "sume2 = np.sum(e2)\n",
    "sume2"
   ]
  },
  {
   "cell_type": "code",
   "execution_count": 94,
   "id": "96fcc294-3ade-4dbe-807a-e7df80b9c417",
   "metadata": {},
   "outputs": [
    {
     "data": {
      "text/plain": [
       "0.0881964241412493"
      ]
     },
     "execution_count": 94,
     "metadata": {},
     "output_type": "execute_result"
    }
   ],
   "source": [
    "# get sb with the expression above\n",
    "s2 = (1/(len(sales2)-2))*sume2\n",
    "sb = np.sqrt((s2)/(np.sum((sales2['Ad'] - sales2['Ad'].mean())**2)))\n",
    "sb"
   ]
  },
  {
   "cell_type": "code",
   "execution_count": 96,
   "id": "41c646a0-c164-4202-a945-39a17565b3d5",
   "metadata": {},
   "outputs": [
    {
     "data": {
      "text/plain": [
       "4.251873062329897"
      ]
     },
     "execution_count": 96,
     "metadata": {},
     "output_type": "execute_result"
    }
   ],
   "source": [
    "# get the t-value of b with the expression shown in (b)\n",
    "tb = b/sb\n",
    "tb"
   ]
  },
  {
   "cell_type": "markdown",
   "id": "a8192374-1315-49ce-ae53-2a415fdf3d9e",
   "metadata": {},
   "source": [
    "After removing the outlier, $b$ becomes significantly different from 0. The t-value is 4.25, which is well above the rule of thumb threshold of 2, indicating strong evidence against the null hypothesis."
   ]
  },
  {
   "cell_type": "markdown",
   "id": "1f1a4f83-a187-4f19-80d3-0a651083b77f",
   "metadata": {},
   "source": [
    "__(f)__ Discuss the differences between your findings in parts (b) and (e). Describe in words what you have learned from these results."
   ]
  },
  {
   "cell_type": "markdown",
   "id": "ff33973c-ab99-4c3d-b25a-775509de2403",
   "metadata": {},
   "source": [
    "In part (b), the regression coefficient was not significantly different from 0 due to the influence of an outlier, which distorted the results and increased the error variance. In part (e), after removing the outlier, the coefficient became statistically significant, revealing a positive relationship between advertising and sales. This shows how a single outlier can mask true effects in a regression analysis and highlights the importance of checking for unusual data points."
   ]
  }
 ],
 "metadata": {
  "kernelspec": {
   "display_name": "Python 3 (ipykernel)",
   "language": "python",
   "name": "python3"
  },
  "language_info": {
   "codemirror_mode": {
    "name": "ipython",
    "version": 3
   },
   "file_extension": ".py",
   "mimetype": "text/x-python",
   "name": "python",
   "nbconvert_exporter": "python",
   "pygments_lexer": "ipython3",
   "version": "3.12.0"
  }
 },
 "nbformat": 4,
 "nbformat_minor": 5
}
