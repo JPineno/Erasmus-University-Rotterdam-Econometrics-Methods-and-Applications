{
 "cells": [
  {
   "cell_type": "markdown",
   "id": "4e78c3f5-5dd2-4859-afe6-8a206123f79c",
   "metadata": {},
   "source": [
    "# <u>Test Exercice 6 - Time Series<u>\n",
    "\n",
    "__<u>Jorge Pineño Pérez<u>__ / Module 6 - Time Series"
   ]
  },
  {
   "cell_type": "markdown",
   "id": "ff74cf34-0b93-467a-8102-8443ffe3d5f3",
   "metadata": {},
   "source": [
    "This test exercise uses data that are available in the data file TestExer6. The question of interest is to model monthly inflation in the Euro area and to investigate whether inflation in the United States of America has predictive power for inflation in the Euro area. Monthly data on the consumer price index (CPI) for the Euro area and the USA are available from January 2000 until December 2011. The data for January 2000 until December 2010 are used for specification and estimation of models, and the data for 2011 are left out for forecast evaluation purposes."
   ]
  },
  {
   "cell_type": "code",
   "execution_count": 1,
   "id": "11e789ef-d10f-4ae0-9c80-e1c72555a188",
   "metadata": {
    "scrolled": true
   },
   "outputs": [
    {
     "name": "stderr",
     "output_type": "stream",
     "text": [
      "Installing package into 'C:/Users/USER/AppData/Local/R/win-library/4.4'\n",
      "(as 'lib' is unspecified)\n",
      "\n"
     ]
    },
    {
     "name": "stdout",
     "output_type": "stream",
     "text": [
      "package 'readxl' successfully unpacked and MD5 sums checked\n",
      "\n",
      "The downloaded binary packages are in\n",
      "\tC:\\Users\\USER\\AppData\\Local\\Temp\\RtmpmuZVcQ\\downloaded_packages\n"
     ]
    },
    {
     "name": "stderr",
     "output_type": "stream",
     "text": [
      "Installing package into 'C:/Users/USER/AppData/Local/R/win-library/4.4'\n",
      "(as 'lib' is unspecified)\n",
      "\n"
     ]
    },
    {
     "name": "stdout",
     "output_type": "stream",
     "text": [
      "package 'dplyr' successfully unpacked and MD5 sums checked\n",
      "\n",
      "The downloaded binary packages are in\n",
      "\tC:\\Users\\USER\\AppData\\Local\\Temp\\RtmpmuZVcQ\\downloaded_packages\n"
     ]
    },
    {
     "name": "stderr",
     "output_type": "stream",
     "text": [
      "Installing package into 'C:/Users/USER/AppData/Local/R/win-library/4.4'\n",
      "(as 'lib' is unspecified)\n",
      "\n"
     ]
    },
    {
     "name": "stdout",
     "output_type": "stream",
     "text": [
      "package 'tidyr' successfully unpacked and MD5 sums checked\n",
      "\n",
      "The downloaded binary packages are in\n",
      "\tC:\\Users\\USER\\AppData\\Local\\Temp\\RtmpmuZVcQ\\downloaded_packages\n"
     ]
    },
    {
     "name": "stderr",
     "output_type": "stream",
     "text": [
      "Installing package into 'C:/Users/USER/AppData/Local/R/win-library/4.4'\n",
      "(as 'lib' is unspecified)\n",
      "\n"
     ]
    },
    {
     "name": "stdout",
     "output_type": "stream",
     "text": [
      "package 'zoo' successfully unpacked and MD5 sums checked\n",
      "\n",
      "The downloaded binary packages are in\n",
      "\tC:\\Users\\USER\\AppData\\Local\\Temp\\RtmpmuZVcQ\\downloaded_packages\n"
     ]
    },
    {
     "name": "stderr",
     "output_type": "stream",
     "text": [
      "Installing package into 'C:/Users/USER/AppData/Local/R/win-library/4.4'\n",
      "(as 'lib' is unspecified)\n",
      "\n"
     ]
    },
    {
     "name": "stdout",
     "output_type": "stream",
     "text": [
      "package 'ggplot2' successfully unpacked and MD5 sums checked\n",
      "\n",
      "The downloaded binary packages are in\n",
      "\tC:\\Users\\USER\\AppData\\Local\\Temp\\RtmpmuZVcQ\\downloaded_packages\n"
     ]
    },
    {
     "name": "stderr",
     "output_type": "stream",
     "text": [
      "Installing package into 'C:/Users/USER/AppData/Local/R/win-library/4.4'\n",
      "(as 'lib' is unspecified)\n",
      "\n"
     ]
    },
    {
     "name": "stdout",
     "output_type": "stream",
     "text": [
      "package 'dynlm' successfully unpacked and MD5 sums checked\n",
      "\n",
      "The downloaded binary packages are in\n",
      "\tC:\\Users\\USER\\AppData\\Local\\Temp\\RtmpmuZVcQ\\downloaded_packages\n"
     ]
    },
    {
     "name": "stderr",
     "output_type": "stream",
     "text": [
      "\n",
      "Adjuntando el paquete: 'dplyr'\n",
      "\n",
      "\n",
      "The following objects are masked from 'package:stats':\n",
      "\n",
      "    filter, lag\n",
      "\n",
      "\n",
      "The following objects are masked from 'package:base':\n",
      "\n",
      "    intersect, setdiff, setequal, union\n",
      "\n",
      "\n",
      "\n",
      "Adjuntando el paquete: 'zoo'\n",
      "\n",
      "\n",
      "The following objects are masked from 'package:base':\n",
      "\n",
      "    as.Date, as.Date.numeric\n",
      "\n",
      "\n"
     ]
    }
   ],
   "source": [
    "# import packages\n",
    "install.packages(\"readxl\")\n",
    "install.packages(\"dplyr\")\n",
    "install.packages(\"tidyr\")\n",
    "install.packages(\"zoo\")\n",
    "install.packages(\"ggplot2\")\n",
    "install.packages(\"dynlm\")\n",
    "library(readxl)\n",
    "library(dplyr)\n",
    "library(ggplot2)\n",
    "library(zoo)\n",
    "library(tidyr)\n",
    "library(dynlm)"
   ]
  },
  {
   "cell_type": "code",
   "execution_count": 10,
   "id": "40ab45c1-d6ed-4738-8274-c67e38420866",
   "metadata": {},
   "outputs": [
    {
     "data": {
      "text/html": [
       "<table class=\"dataframe\">\n",
       "<caption>A tibble: 6 × 8</caption>\n",
       "<thead>\n",
       "\t<tr><th scope=col>YYYY-MM</th><th scope=col>TREND</th><th scope=col>CPI_EUR</th><th scope=col>CPI_USA</th><th scope=col>LOGPEUR</th><th scope=col>LOGPUSA</th><th scope=col>DPEUR</th><th scope=col>DPUSA</th></tr>\n",
       "\t<tr><th scope=col>&lt;chr&gt;</th><th scope=col>&lt;dbl&gt;</th><th scope=col>&lt;dbl&gt;</th><th scope=col>&lt;dbl&gt;</th><th scope=col>&lt;dbl&gt;</th><th scope=col>&lt;dbl&gt;</th><th scope=col>&lt;chr&gt;</th><th scope=col>&lt;chr&gt;</th></tr>\n",
       "</thead>\n",
       "<tbody>\n",
       "\t<tr><td>2000M01</td><td>1</td><td>105.1</td><td>107.6</td><td>4.654912</td><td>4.678421</td><td>NA                   </td><td>NA                   </td></tr>\n",
       "\t<tr><td>2000M02</td><td>2</td><td>105.4</td><td>108.3</td><td>4.657763</td><td>4.684905</td><td>2.85035822435642E-3  </td><td>6.4845062792606703E-3</td></tr>\n",
       "\t<tr><td>2000M03</td><td>3</td><td>105.8</td><td>109.1</td><td>4.661551</td><td>4.692265</td><td>3.78788331693691E-3  </td><td>7.35973883208007E-3  </td></tr>\n",
       "\t<tr><td>2000M04</td><td>4</td><td>105.9</td><td>109.2</td><td>4.662495</td><td>4.693181</td><td>9.4473318316179401E-4</td><td>9.1617047177994205E-4</td></tr>\n",
       "\t<tr><td>2000M05</td><td>5</td><td>106.0</td><td>109.3</td><td>4.663439</td><td>4.694096</td><td>9.4384150470627705E-4</td><td>9.1533187168835097E-4</td></tr>\n",
       "\t<tr><td>2000M06</td><td>6</td><td>106.4</td><td>109.9</td><td>4.667206</td><td>4.699571</td><td>3.7664827954770799E-3</td><td>5.4744662270831404E-3</td></tr>\n",
       "</tbody>\n",
       "</table>\n"
      ],
      "text/latex": [
       "A tibble: 6 × 8\n",
       "\\begin{tabular}{llllllll}\n",
       " YYYY-MM & TREND & CPI\\_EUR & CPI\\_USA & LOGPEUR & LOGPUSA & DPEUR & DPUSA\\\\\n",
       " <chr> & <dbl> & <dbl> & <dbl> & <dbl> & <dbl> & <chr> & <chr>\\\\\n",
       "\\hline\n",
       "\t 2000M01 & 1 & 105.1 & 107.6 & 4.654912 & 4.678421 & NA                    & NA                   \\\\\n",
       "\t 2000M02 & 2 & 105.4 & 108.3 & 4.657763 & 4.684905 & 2.85035822435642E-3   & 6.4845062792606703E-3\\\\\n",
       "\t 2000M03 & 3 & 105.8 & 109.1 & 4.661551 & 4.692265 & 3.78788331693691E-3   & 7.35973883208007E-3  \\\\\n",
       "\t 2000M04 & 4 & 105.9 & 109.2 & 4.662495 & 4.693181 & 9.4473318316179401E-4 & 9.1617047177994205E-4\\\\\n",
       "\t 2000M05 & 5 & 106.0 & 109.3 & 4.663439 & 4.694096 & 9.4384150470627705E-4 & 9.1533187168835097E-4\\\\\n",
       "\t 2000M06 & 6 & 106.4 & 109.9 & 4.667206 & 4.699571 & 3.7664827954770799E-3 & 5.4744662270831404E-3\\\\\n",
       "\\end{tabular}\n"
      ],
      "text/markdown": [
       "\n",
       "A tibble: 6 × 8\n",
       "\n",
       "| YYYY-MM &lt;chr&gt; | TREND &lt;dbl&gt; | CPI_EUR &lt;dbl&gt; | CPI_USA &lt;dbl&gt; | LOGPEUR &lt;dbl&gt; | LOGPUSA &lt;dbl&gt; | DPEUR &lt;chr&gt; | DPUSA &lt;chr&gt; |\n",
       "|---|---|---|---|---|---|---|---|\n",
       "| 2000M01 | 1 | 105.1 | 107.6 | 4.654912 | 4.678421 | NA                    | NA                    |\n",
       "| 2000M02 | 2 | 105.4 | 108.3 | 4.657763 | 4.684905 | 2.85035822435642E-3   | 6.4845062792606703E-3 |\n",
       "| 2000M03 | 3 | 105.8 | 109.1 | 4.661551 | 4.692265 | 3.78788331693691E-3   | 7.35973883208007E-3   |\n",
       "| 2000M04 | 4 | 105.9 | 109.2 | 4.662495 | 4.693181 | 9.4473318316179401E-4 | 9.1617047177994205E-4 |\n",
       "| 2000M05 | 5 | 106.0 | 109.3 | 4.663439 | 4.694096 | 9.4384150470627705E-4 | 9.1533187168835097E-4 |\n",
       "| 2000M06 | 6 | 106.4 | 109.9 | 4.667206 | 4.699571 | 3.7664827954770799E-3 | 5.4744662270831404E-3 |\n",
       "\n"
      ],
      "text/plain": [
       "  YYYY-MM TREND CPI_EUR CPI_USA LOGPEUR  LOGPUSA  DPEUR                \n",
       "1 2000M01 1     105.1   107.6   4.654912 4.678421 NA                   \n",
       "2 2000M02 2     105.4   108.3   4.657763 4.684905 2.85035822435642E-3  \n",
       "3 2000M03 3     105.8   109.1   4.661551 4.692265 3.78788331693691E-3  \n",
       "4 2000M04 4     105.9   109.2   4.662495 4.693181 9.4473318316179401E-4\n",
       "5 2000M05 5     106.0   109.3   4.663439 4.694096 9.4384150470627705E-4\n",
       "6 2000M06 6     106.4   109.9   4.667206 4.699571 3.7664827954770799E-3\n",
       "  DPUSA                \n",
       "1 NA                   \n",
       "2 6.4845062792606703E-3\n",
       "3 7.35973883208007E-3  \n",
       "4 9.1617047177994205E-4\n",
       "5 9.1533187168835097E-4\n",
       "6 5.4744662270831404E-3"
      ]
     },
     "metadata": {},
     "output_type": "display_data"
    }
   ],
   "source": [
    "# import the dataframe\n",
    "infl <- read_excel('TestExer-6-CPI-round1.xlsx')\n",
    "head(infl)"
   ]
  },
  {
   "cell_type": "code",
   "execution_count": 11,
   "id": "fb84683f-db79-400a-ad47-a707a284c114",
   "metadata": {},
   "outputs": [
    {
     "name": "stderr",
     "output_type": "stream",
     "text": [
      "Warning message:\n",
      "\"NAs introducidos por coerción\"\n",
      "Warning message:\n",
      "\"NAs introducidos por coerción\"\n"
     ]
    },
    {
     "data": {
      "text/html": [
       "<table class=\"dataframe\">\n",
       "<caption>A tibble: 6 × 8</caption>\n",
       "<thead>\n",
       "\t<tr><th scope=col>DATE</th><th scope=col>TREND</th><th scope=col>CPI_EUR</th><th scope=col>CPI_USA</th><th scope=col>LOGPEUR</th><th scope=col>LOGPUSA</th><th scope=col>DPEUR</th><th scope=col>DPUSA</th></tr>\n",
       "\t<tr><th scope=col>&lt;date&gt;</th><th scope=col>&lt;dbl&gt;</th><th scope=col>&lt;dbl&gt;</th><th scope=col>&lt;dbl&gt;</th><th scope=col>&lt;dbl&gt;</th><th scope=col>&lt;dbl&gt;</th><th scope=col>&lt;dbl&gt;</th><th scope=col>&lt;dbl&gt;</th></tr>\n",
       "</thead>\n",
       "<tbody>\n",
       "\t<tr><td>2000-01-01</td><td>1</td><td>105.1</td><td>107.6</td><td>4.654912</td><td>4.678421</td><td>          NA</td><td>          NA</td></tr>\n",
       "\t<tr><td>2000-02-01</td><td>2</td><td>105.4</td><td>108.3</td><td>4.657763</td><td>4.684905</td><td>0.0028503582</td><td>0.0064845063</td></tr>\n",
       "\t<tr><td>2000-03-01</td><td>3</td><td>105.8</td><td>109.1</td><td>4.661551</td><td>4.692265</td><td>0.0037878833</td><td>0.0073597388</td></tr>\n",
       "\t<tr><td>2000-04-01</td><td>4</td><td>105.9</td><td>109.2</td><td>4.662495</td><td>4.693181</td><td>0.0009447332</td><td>0.0009161705</td></tr>\n",
       "\t<tr><td>2000-05-01</td><td>5</td><td>106.0</td><td>109.3</td><td>4.663439</td><td>4.694096</td><td>0.0009438415</td><td>0.0009153319</td></tr>\n",
       "\t<tr><td>2000-06-01</td><td>6</td><td>106.4</td><td>109.9</td><td>4.667206</td><td>4.699571</td><td>0.0037664828</td><td>0.0054744662</td></tr>\n",
       "</tbody>\n",
       "</table>\n"
      ],
      "text/latex": [
       "A tibble: 6 × 8\n",
       "\\begin{tabular}{llllllll}\n",
       " DATE & TREND & CPI\\_EUR & CPI\\_USA & LOGPEUR & LOGPUSA & DPEUR & DPUSA\\\\\n",
       " <date> & <dbl> & <dbl> & <dbl> & <dbl> & <dbl> & <dbl> & <dbl>\\\\\n",
       "\\hline\n",
       "\t 2000-01-01 & 1 & 105.1 & 107.6 & 4.654912 & 4.678421 &           NA &           NA\\\\\n",
       "\t 2000-02-01 & 2 & 105.4 & 108.3 & 4.657763 & 4.684905 & 0.0028503582 & 0.0064845063\\\\\n",
       "\t 2000-03-01 & 3 & 105.8 & 109.1 & 4.661551 & 4.692265 & 0.0037878833 & 0.0073597388\\\\\n",
       "\t 2000-04-01 & 4 & 105.9 & 109.2 & 4.662495 & 4.693181 & 0.0009447332 & 0.0009161705\\\\\n",
       "\t 2000-05-01 & 5 & 106.0 & 109.3 & 4.663439 & 4.694096 & 0.0009438415 & 0.0009153319\\\\\n",
       "\t 2000-06-01 & 6 & 106.4 & 109.9 & 4.667206 & 4.699571 & 0.0037664828 & 0.0054744662\\\\\n",
       "\\end{tabular}\n"
      ],
      "text/markdown": [
       "\n",
       "A tibble: 6 × 8\n",
       "\n",
       "| DATE &lt;date&gt; | TREND &lt;dbl&gt; | CPI_EUR &lt;dbl&gt; | CPI_USA &lt;dbl&gt; | LOGPEUR &lt;dbl&gt; | LOGPUSA &lt;dbl&gt; | DPEUR &lt;dbl&gt; | DPUSA &lt;dbl&gt; |\n",
       "|---|---|---|---|---|---|---|---|\n",
       "| 2000-01-01 | 1 | 105.1 | 107.6 | 4.654912 | 4.678421 |           NA |           NA |\n",
       "| 2000-02-01 | 2 | 105.4 | 108.3 | 4.657763 | 4.684905 | 0.0028503582 | 0.0064845063 |\n",
       "| 2000-03-01 | 3 | 105.8 | 109.1 | 4.661551 | 4.692265 | 0.0037878833 | 0.0073597388 |\n",
       "| 2000-04-01 | 4 | 105.9 | 109.2 | 4.662495 | 4.693181 | 0.0009447332 | 0.0009161705 |\n",
       "| 2000-05-01 | 5 | 106.0 | 109.3 | 4.663439 | 4.694096 | 0.0009438415 | 0.0009153319 |\n",
       "| 2000-06-01 | 6 | 106.4 | 109.9 | 4.667206 | 4.699571 | 0.0037664828 | 0.0054744662 |\n",
       "\n"
      ],
      "text/plain": [
       "  DATE       TREND CPI_EUR CPI_USA LOGPEUR  LOGPUSA  DPEUR        DPUSA       \n",
       "1 2000-01-01 1     105.1   107.6   4.654912 4.678421           NA           NA\n",
       "2 2000-02-01 2     105.4   108.3   4.657763 4.684905 0.0028503582 0.0064845063\n",
       "3 2000-03-01 3     105.8   109.1   4.661551 4.692265 0.0037878833 0.0073597388\n",
       "4 2000-04-01 4     105.9   109.2   4.662495 4.693181 0.0009447332 0.0009161705\n",
       "5 2000-05-01 5     106.0   109.3   4.663439 4.694096 0.0009438415 0.0009153319\n",
       "6 2000-06-01 6     106.4   109.9   4.667206 4.699571 0.0037664828 0.0054744662"
      ]
     },
     "metadata": {},
     "output_type": "display_data"
    }
   ],
   "source": [
    "# change the name of the column \"YYYY-MM\" to \"DATE\", and change to a more convenient format\n",
    "infl <- rename(infl, 'DATE' = 'YYYY-MM')\n",
    "infl$DATE <- as.Date(paste0(sub(\"M\", \"-\", infl$DATE), \"-01\"))\n",
    "\n",
    "# change the type of the DPEUR and DPUSA for later use\n",
    "infl$DPEUR <- as.numeric(infl$DPEUR)\n",
    "infl$DPUSA <- as.numeric(infl$DPUSA)\n",
    "\n",
    "head(infl)"
   ]
  },
  {
   "cell_type": "code",
   "execution_count": 47,
   "id": "d31398ad-7a7d-4b19-a5a6-79389c284bb0",
   "metadata": {},
   "outputs": [
    {
     "data": {
      "text/plain": [
       "           TREND CPI_EUR CPI_USA  LOGPEUR  LOGPUSA        DPEUR        DPUSA\n",
       "2000-01-01     1   105.1   107.6 4.654912 4.678421           NA           NA\n",
       "2000-02-01     2   105.4   108.3 4.657763 4.684905 0.0028503582 0.0064845063\n",
       "2000-03-01     3   105.8   109.1 4.661551 4.692265 0.0037878833 0.0073597388\n",
       "2000-04-01     4   105.9   109.2 4.662495 4.693181 0.0009447332 0.0009161705\n",
       "2000-05-01     5   106.0   109.3 4.663439 4.694096 0.0009438415 0.0009153319\n",
       "2000-06-01     6   106.4   109.9 4.667206 4.699571 0.0037664828 0.0054744662"
      ]
     },
     "metadata": {},
     "output_type": "display_data"
    }
   ],
   "source": [
    "# convert the tibble to a zoo object (time-series) for later use\n",
    "infl_ts <- zoo(cbind(\n",
    "    TREND = infl$TREND,\n",
    "    CPI_EUR = infl$CPI_EUR,\n",
    "    CPI_USA = infl$CPI_USA,\n",
    "    LOGPEUR = infl$LOGPEUR,\n",
    "    LOGPUSA\t= infl$LOGPUSA,\n",
    "    DPEUR = infl$DPEUR,\n",
    "    DPUSA = infl$DPUSA\n",
    "), order.by=infl$DATE) # use 2000M01-2010M12 as estimation and test sample,\n",
    "                       # and 2011 as hold-out forecast evaluation sample\n",
    "head(infl_ts)"
   ]
  },
  {
   "cell_type": "markdown",
   "id": "a92d5c7e-ed46-4646-bba9-38edcf4c051b",
   "metadata": {},
   "source": [
    "__(a)__ Make time series plots of the CPI of the Euro area and the USA, and also of their logarithm log(CPI) and of the two monthly inflation series $\\text{DP} = \\Delta \\text{log(CPI)}$. What conclusions do you draw from these plots?"
   ]
  },
  {
   "cell_type": "code",
   "execution_count": 13,
   "id": "58f97c93-c712-4bb3-ae44-b5912e0a5b9f",
   "metadata": {},
   "outputs": [
    {
     "data": {
      "image/png": "[encoded data removed]",
      "text/plain": [
       "plot without title"
      ]
     },
     "metadata": {
      "image/png": {
       "height": 420,
       "width": 420
      }
     },
     "output_type": "display_data"
    }
   ],
   "source": [
    "# plot the European CPI (CPI_EUR) and the US one (CPI_USA)\n",
    "cpi_plot <- infl %>%\n",
    "  filter(DATE>=as.Date('2000-01-01'), DATE<=as.Date('2010-01-01')) %>%\n",
    "  pivot_longer(cols=c(CPI_EUR, CPI_USA), names_to='Region', values_to='CPI') %>%\n",
    "  ggplot(aes(x=DATE, y=CPI, color=Region)) +\n",
    "  geom_line() +\n",
    "  labs(title='Eurozone and US CPI, 2000 to 2010', x='Year', y='CPI') +\n",
    "  theme_minimal()\n",
    "show(cpi_plot)"
   ]
  },
  {
   "cell_type": "code",
   "execution_count": 14,
   "id": "07782c44-092e-4b93-bd2c-353da43377ab",
   "metadata": {},
   "outputs": [
    {
     "data": {
      "image/png": "[encoded data removed]",
      "text/plain": [
       "plot without title"
      ]
     },
     "metadata": {
      "image/png": {
       "height": 420,
       "width": 420
      }
     },
     "output_type": "display_data"
    }
   ],
   "source": [
    "# plot the log of European CPI (LOGPEUR) and the US one (LOGPUSA)\n",
    "log_cpi_plot <- infl %>%\n",
    "  filter(DATE>=as.Date('2000-01-01'), DATE<=as.Date('2010-01-01')) %>%\n",
    "  pivot_longer(cols=c(LOGPEUR, LOGPUSA), names_to='Region', values_to='LOGCPI') %>%\n",
    "  ggplot(aes(x=DATE, y=LOGCPI, color=Region)) +\n",
    "  geom_line() +\n",
    "  labs(title='Eurozone and US log(CPI), 2000 to 2010', x='Year', y='log(CPI)') +\n",
    "  theme_minimal()\n",
    "show(log_cpi_plot)"
   ]
  },
  {
   "cell_type": "code",
   "execution_count": 15,
   "id": "468e0e7d-c242-4a4b-bc02-b4931d525d02",
   "metadata": {},
   "outputs": [
    {
     "data": {
      "image/png": "[encoded data removed]",
      "text/plain": [
       "plot without title"
      ]
     },
     "metadata": {
      "image/png": {
       "height": 420,
       "width": 420
      }
     },
     "output_type": "display_data"
    }
   ],
   "source": [
    "# plot the two montly inflation series \"DP\" (change in log(CPI))\n",
    "log_cpi_plot <- infl %>%\n",
    "  filter(DATE>=as.Date('2000-01-01'), DATE<=as.Date('2010-01-01')) %>%\n",
    "  pivot_longer(cols=c(DPEUR, DPUSA), names_to='Region', values_to='DLOGCPI') %>% drop_na(DLOGCPI) %>%\n",
    "  ggplot(aes(x=DATE, y=DLOGCPI, color=Region)) +\n",
    "  geom_line() +\n",
    "  labs(title=expression('Eurozone and US ' * Delta * 'log(CPI), 2000 to 2010'), x='Year', y=expression(Delta * 'log(CPI)')) +\n",
    "  theme_minimal()\n",
    "show(log_cpi_plot)"
   ]
  },
  {
   "cell_type": "markdown",
   "id": "1624a943-dd15-481a-a62c-e4587ef64776",
   "metadata": {},
   "source": [
    "From these plots, we can draw 2 conclusions:\n",
    "\n",
    "1) The movements in CPI and in $\\text{log(CPI)}$ do appear graphically to happen in the US before than the Eurozone.\n",
    "2) After computing the change in $\\text{log(CPI)}$, the series appears to be stationary.\n",
    "\n",
    "__(b)__ Perform the Augmented Dickey-Fuller (ADF) test for the two $\\text{log(CPI)}$ series. In the ADF test equation, include a constant ($\\alpha$), a deterministic trend term ($\\beta t$), three lags of $\\text{DP} = \\Delta \\text{log(CPI)}$ and, of course, the variable of interest $\\text{log(CPI}_{t-1})$. Report the coefficient of $\\text{log(CPI}_{t-1})$ and its standard error and t-value, and draw your conclusion."
   ]
  },
  {
   "cell_type": "code",
   "execution_count": 24,
   "id": "4a17f2f0-8bfe-4ce0-99ba-2b8c98e97c7e",
   "metadata": {},
   "outputs": [
    {
     "data": {
      "text/plain": [
       "\n",
       "Time series regression with \"zoo\" data:\n",
       "Start = 2000-05-01, End = 2011-12-01\n",
       "\n",
       "Call:\n",
       "dynlm(formula = DPEUR ~ as.numeric(index(infl_ts)) + L(DPEUR, \n",
       "    1) + L(DPEUR, 2) + L(DPEUR, 3) + L(LOGPEUR, 1), data = infl_ts)\n",
       "\n",
       "Residuals:\n",
       "       Min         1Q     Median         3Q        Max \n",
       "-0.0112038 -0.0015158  0.0002863  0.0020075  0.0096613 \n",
       "\n",
       "Coefficients:\n",
       "                             Estimate Std. Error t value Pr(>|t|)   \n",
       "(Intercept)                 5.531e-01  1.961e-01   2.820  0.00553 **\n",
       "as.numeric(index(infl_ts))  7.748e-06  2.794e-06   2.773  0.00634 **\n",
       "L(DPEUR, 1)                 1.445e-01  8.677e-02   1.665  0.09826 . \n",
       "L(DPEUR, 2)                -9.071e-02  8.524e-02  -1.064  0.28917   \n",
       "L(DPEUR, 3)                -1.128e-01  8.574e-02  -1.315  0.19070   \n",
       "L(LOGPEUR, 1)              -1.365e-01  4.865e-02  -2.805  0.00578 **\n",
       "---\n",
       "Signif. codes:  0 '***' 0.001 '**' 0.01 '*' 0.05 '.' 0.1 ' ' 1\n",
       "\n",
       "Residual standard error: 0.003362 on 134 degrees of freedom\n",
       "  (1 observation deleted due to missingness)\n",
       "Multiple R-squared:  0.1195,\tAdjusted R-squared:  0.08662 \n",
       "F-statistic: 3.637 on 5 and 134 DF,  p-value: 0.004069\n"
      ]
     },
     "metadata": {},
     "output_type": "display_data"
    }
   ],
   "source": [
    "# perform the ADF test for \"LOGPEUR\", including a constant, a deterministic\n",
    "# trend term, three lags of \"DPEUR\", and a lag of \"LOGPEUR\", and check the coefficient of\n",
    "# the lag of \"LOGPEUR\", and its standard error and t-value\n",
    "adf_logpeur <- dynlm(DPEUR ~ as.numeric(index(infl_ts)) + L(DPEUR, 1) + L(DPEUR, 2) + L(DPEUR, 3) + L(LOGPEUR, 1),\n",
    "                     data = infl_ts)\n",
    "summary(adf_logpeur)"
   ]
  },
  {
   "cell_type": "code",
   "execution_count": 25,
   "id": "4f65461b-7e10-4e3f-892f-5ab22f502743",
   "metadata": {},
   "outputs": [
    {
     "data": {
      "text/plain": [
       "\n",
       "Time series regression with \"zoo\" data:\n",
       "Start = 2000-05-01, End = 2011-12-01\n",
       "\n",
       "Call:\n",
       "dynlm(formula = DPUSA ~ as.numeric(index(infl_ts)) + L(DPUSA, \n",
       "    1) + L(DPUSA, 2) + L(DPUSA, 3) + L(LOGPUSA, 1), data = infl_ts)\n",
       "\n",
       "Residuals:\n",
       "       Min         1Q     Median         3Q        Max \n",
       "-0.0131501 -0.0018609 -0.0001251  0.0019589  0.0088716 \n",
       "\n",
       "Coefficients:\n",
       "                             Estimate Std. Error t value Pr(>|t|)    \n",
       "(Intercept)                 2.950e-01  1.069e-01   2.759  0.00661 ** \n",
       "as.numeric(index(infl_ts))  4.972e-06  1.881e-06   2.643  0.00920 ** \n",
       "L(DPUSA, 1)                 6.092e-01  8.405e-02   7.248 3.03e-11 ***\n",
       "L(DPUSA, 2)                -1.509e-01  9.652e-02  -1.563  0.12031    \n",
       "L(DPUSA, 3)                -6.425e-03  8.624e-02  -0.075  0.94072    \n",
       "L(LOGPUSA, 1)              -7.432e-02  2.720e-02  -2.732  0.00714 ** \n",
       "---\n",
       "Signif. codes:  0 '***' 0.001 '**' 0.01 '*' 0.05 '.' 0.1 ' ' 1\n",
       "\n",
       "Residual standard error: 0.003506 on 134 degrees of freedom\n",
       "  (1 observation deleted due to missingness)\n",
       "Multiple R-squared:  0.326,\tAdjusted R-squared:  0.3009 \n",
       "F-statistic: 12.96 on 5 and 134 DF,  p-value: 2.736e-10\n"
      ]
     },
     "metadata": {},
     "output_type": "display_data"
    }
   ],
   "source": [
    "# perform the ADF test for \"LOGPUSA\", including a constant, a deterministic\n",
    "# trend term, three lags of \"DPUSA\", and a lag of \"LOGPUSA\", and check the coefficient of\n",
    "# the lag of \"LOGPUSA\", and its standard error and t-value\n",
    "adf_logpusa <- dynlm(DPUSA ~ as.numeric(index(infl_ts)) + L(DPUSA, 1) + L(DPUSA, 2) + L(DPUSA, 3) + L(LOGPUSA, 1),\n",
    "                     data = infl_ts)\n",
    "summary(adf_logpusa)"
   ]
  },
  {
   "cell_type": "markdown",
   "id": "22251d4d-521b-4f26-80dc-8b4d40750a7d",
   "metadata": {},
   "source": [
    "From our results, we conclude from the p-values of both lagged levels $(\\text{log(CPI}_{t-1}))$, which are below $0.05$, that the two series are stationary, therefore rejecting the null of a unit root."
   ]
  },
  {
   "cell_type": "markdown",
   "id": "91f7ab9c-9972-42bd-9337-adf0bb606f11",
   "metadata": {},
   "source": [
    "__(c)__ As the two series of $\\log(\\text{CPI})$ are not cointegrated (you need not check this), we continue by modelling the monthly inflation series $\\text{DPEUR} = \\Delta \\log(\\text{CPIEUR})$ for the Euro area. Determine the sample autocorrelations and the sample partial autocorrelations of this series to motivate the use of the following AR model:\n",
    "\n",
    "$$\\text{DPEUR}_t = \\alpha + \\beta_1 \\text{DPEUR}_{t-6} + \\beta_2 \\text{DPEUR}_{t-12} + \\varepsilon_t$$\n",
    "\n",
    "Estimate the parameters of this model using the sample from January 2000 to December 2010."
   ]
  },
  {
   "cell_type": "code",
   "execution_count": 22,
   "id": "1d44de03-209d-4aae-8534-457bcf1553c3",
   "metadata": {},
   "outputs": [
    {
     "data": {
      "text/plain": [
       "\n",
       "Time series regression with \"zoo\" data:\n",
       "Start = 2001-02-01, End = 2010-12-01\n",
       "\n",
       "Call:\n",
       "dynlm(formula = DPEUR ~ L(DPEUR, 6) + L(DPEUR, 12), data = infl_ts, \n",
       "    end = \"2010-12-01\")\n",
       "\n",
       "Residuals:\n",
       "       Min         1Q     Median         3Q        Max \n",
       "-0.0103343 -0.0017371 -0.0000475  0.0015321  0.0080904 \n",
       "\n",
       "Coefficients:\n",
       "              Estimate Std. Error t value Pr(>|t|)    \n",
       "(Intercept)  0.0003838  0.0002812   1.365   0.1749    \n",
       "L(DPEUR, 6)  0.1887496  0.0772890   2.442   0.0161 *  \n",
       "L(DPEUR, 12) 0.5979799  0.0835547   7.157 8.05e-11 ***\n",
       "---\n",
       "Signif. codes:  0 '***' 0.001 '**' 0.01 '*' 0.05 '.' 0.1 ' ' 1\n",
       "\n",
       "Residual standard error: 0.002569 on 116 degrees of freedom\n",
       "  (1 observation deleted due to missingness)\n",
       "Multiple R-squared:  0.4232,\tAdjusted R-squared:  0.4132 \n",
       "F-statistic: 42.55 on 2 and 116 DF,  p-value: 1.381e-14\n"
      ]
     },
     "metadata": {},
     "output_type": "display_data"
    }
   ],
   "source": [
    "# regress \"DPEUR\" on the variables above\n",
    "dpeur_ar <- dynlm(DPEUR ~ L(DPEUR, 6) + L(DPEUR, 12), data=infl_ts, end='2010-12-01')\n",
    "summary(dpeur_ar)"
   ]
  },
  {
   "cell_type": "markdown",
   "id": "935bbdf8-b0e4-4c5d-9348-8a963063162c",
   "metadata": {},
   "source": [
    "After estimating the parameters, the model is:\n",
    "\n",
    "$$ \\widehat{\\text{DPEUR}_t} = 0.00 + 0.19 \\text{DPEUR}_{t-6} + 0.61 \\text{DPEUR}_{t-12} $$"
   ]
  },
  {
   "cell_type": "markdown",
   "id": "a7a7a7cd-70b3-4f1b-b361-7e47a4651470",
   "metadata": {},
   "source": [
    "__(d)__ Extend the AR model of part (c) by adding lagged values of monthly inflation in the USA at lags 1, 6,\n",
    "and 12. Check that the coefficient at lag 6 is not significant, and estimate the ADL model\n",
    "\n",
    "$$ \\widehat{\\text{DPEUR}_t} = \\alpha + \\beta_1 \\text{DPEUR}_{t-6} + \\beta_2 \\text{DPEUR}_{t-12} + \\gamma_1 \\text{DPUSA}_{t-1} + \\gamma_2 \\text{DPUSA}_{t-12} + \\varepsilon_t $$\n",
    "\n",
    "Estimate the parameters of this model using the sample from January 2000 to December 2010."
   ]
  },
  {
   "cell_type": "code",
   "execution_count": 26,
   "id": "ca2659bf-2ade-432c-b190-3a3899942ab7",
   "metadata": {},
   "outputs": [
    {
     "data": {
      "text/plain": [
       "\n",
       "Time series regression with \"zoo\" data:\n",
       "Start = 2001-02-01, End = 2010-12-01\n",
       "\n",
       "Call:\n",
       "dynlm(formula = DPEUR ~ L(DPEUR, 6) + L(DPEUR, 12) + L(DPUSA, \n",
       "    1) + L(DPUSA, 6) + L(DPUSA, 12), data = infl_ts, end = \"2010-12-01\")\n",
       "\n",
       "Residuals:\n",
       "       Min         1Q     Median         3Q        Max \n",
       "-0.0065866 -0.0016535 -0.0000117  0.0012633  0.0082683 \n",
       "\n",
       "Coefficients:\n",
       "               Estimate Std. Error t value Pr(>|t|)    \n",
       "(Intercept)   0.0004407  0.0002853   1.545    0.125    \n",
       "L(DPEUR, 6)   0.2029831  0.0785535   2.584    0.011 *  \n",
       "L(DPEUR, 12)  0.6367563  0.0874784   7.279 4.78e-11 ***\n",
       "L(DPUSA, 1)   0.2264303  0.0511299   4.429 2.20e-05 ***\n",
       "L(DPUSA, 6)  -0.0560495  0.0547668  -1.023    0.308    \n",
       "L(DPUSA, 12) -0.2300590  0.0541714  -4.247 4.47e-05 ***\n",
       "---\n",
       "Signif. codes:  0 '***' 0.001 '**' 0.01 '*' 0.05 '.' 0.1 ' ' 1\n",
       "\n",
       "Residual standard error: 0.002272 on 113 degrees of freedom\n",
       "  (1 observation deleted due to missingness)\n",
       "Multiple R-squared:  0.5602,\tAdjusted R-squared:  0.5408 \n",
       "F-statistic: 28.79 on 5 and 113 DF,  p-value: < 2.2e-16\n"
      ]
     },
     "metadata": {},
     "output_type": "display_data"
    }
   ],
   "source": [
    "# regress \"DPEUR\" on the variables above\n",
    "dpeur_adl <- dynlm(DPEUR ~ L(DPEUR, 6) + L(DPEUR, 12) + L(DPUSA, 1) + L(DPUSA, 6) + L(DPUSA, 12),\n",
    "                   data=infl_ts, end='2010-12-01')\n",
    "summary(dpeur_adl)"
   ]
  },
  {
   "cell_type": "code",
   "execution_count": 27,
   "id": "7b6a57d3-a4f2-4b1b-b6de-85e3db38c2d0",
   "metadata": {},
   "outputs": [
    {
     "data": {
      "text/plain": [
       "\n",
       "Time series regression with \"zoo\" data:\n",
       "Start = 2001-02-01, End = 2010-12-01\n",
       "\n",
       "Call:\n",
       "dynlm(formula = DPEUR ~ L(DPEUR, 6) + L(DPEUR, 12) + L(DPUSA, \n",
       "    1) + L(DPUSA, 12), data = infl_ts, end = \"2010-12-01\")\n",
       "\n",
       "Residuals:\n",
       "       Min         1Q     Median         3Q        Max \n",
       "-0.0067809 -0.0016353  0.0000532  0.0013660  0.0082449 \n",
       "\n",
       "Coefficients:\n",
       "               Estimate Std. Error t value Pr(>|t|)    \n",
       "(Intercept)   0.0003391  0.0002676   1.267   0.2076    \n",
       "L(DPEUR, 6)   0.1687277  0.0710803   2.374   0.0193 *  \n",
       "L(DPEUR, 12)  0.6551636  0.0856272   7.651 6.93e-12 ***\n",
       "L(DPUSA, 1)   0.2326463  0.0507784   4.582 1.19e-05 ***\n",
       "L(DPUSA, 12) -0.2265061  0.0540712  -4.189 5.55e-05 ***\n",
       "---\n",
       "Signif. codes:  0 '***' 0.001 '**' 0.01 '*' 0.05 '.' 0.1 ' ' 1\n",
       "\n",
       "Residual standard error: 0.002273 on 114 degrees of freedom\n",
       "  (1 observation deleted due to missingness)\n",
       "Multiple R-squared:  0.5561,\tAdjusted R-squared:  0.5406 \n",
       "F-statistic: 35.71 on 4 and 114 DF,  p-value: < 2.2e-16\n"
      ]
     },
     "metadata": {},
     "output_type": "display_data"
    }
   ],
   "source": [
    "# eliminate lag 6, as it is not significant\n",
    "dpeur_adl <- dynlm(DPEUR ~ L(DPEUR, 6) + L(DPEUR, 12) + L(DPUSA, 1) + L(DPUSA, 12),\n",
    "                   data=infl_ts, end='2010-12-01')\n",
    "summary(dpeur_adl)"
   ]
  },
  {
   "cell_type": "markdown",
   "id": "5a71fce0-ae53-4028-83cf-8ae71a1ad0e5",
   "metadata": {},
   "source": [
    "After estimating the parameters, the model is:\n",
    "\n",
    "$$ \\widehat{\\text{DPEUR}_t} = 0.00 + 0.17 \\text{DPEUR}_{t-6} + 0.66 \\text{DPEUR}_{t-12} + 0.23 \\text{DPUSA}_{t-1} - 0.23 \\text{DPUSA}_{t-12} $$"
   ]
  },
  {
   "cell_type": "markdown",
   "id": "1120de3b-e6b2-42d0-89ad-e730e80717f8",
   "metadata": {},
   "source": [
    "__(e)__ Use the models of parts (c) and (d) to make two series of 12 monthly inflation forecasts for 2011. At each month, you should use the data that are then available, for example, to forecast inflation for September 2011 you can use the data up to and including August 2011. However, do not re-estimate the model and use the coefficients as obtained in parts (c) and (d). For each of the two forecast series, compute the values of the root mean squared error (RMSE), mean absolute error (MAE), and the sum of the forecast errors (SUM). Finally, give your interpretation of the outcomes."
   ]
  },
  {
   "cell_type": "code",
   "execution_count": 48,
   "id": "719b5b34-ed6e-4316-9f08-794391f8c7ea",
   "metadata": {},
   "outputs": [
    {
     "data": {
      "text/plain": [
       "   2011-01-01    2011-02-01    2011-03-01    2011-04-01    2011-05-01 \n",
       "-0.0054396535  0.0025329985  0.0074256837  0.0037085512  0.0009843440 \n",
       "   2011-06-01    2011-07-01    2011-08-01    2011-09-01    2011-10-01 \n",
       " 0.0015285649 -0.0031931243  0.0020170638  0.0047708356  0.0033328943 \n",
       "   2011-11-01    2011-12-01 \n",
       " 0.0008386676  0.0040106362 "
      ]
     },
     "metadata": {},
     "output_type": "display_data"
    }
   ],
   "source": [
    "# make 12 forecasts for each month of 2011 from the AR (c) model\n",
    "infl_ts <- transform(infl_ts,\n",
    "                     DPEUR_lag6 = stats::lag(DPEUR, -6), # create a DPEUR lag 6 column in the zoo object\n",
    "                     DPEUR_lag12 = stats::lag(DPEUR, -12)) # create a DPEUR lag 12 column in the zoo object\n",
    "\n",
    "dpeur_ar_fc <- coef(dpeur_ar)[1] + coef(dpeur_ar)[2] * infl_ts$DPEUR_lag6 + coef(dpeur_ar)[3] * infl_ts$DPEUR_lag12\n",
    "window(dpeur_ar_fc, start = as.Date('2011-01-01'), end = as.Date('2011-12-31'))"
   ]
  },
  {
   "cell_type": "code",
   "execution_count": 49,
   "id": "97c28be8-85a0-49bc-89fe-25c048ee5033",
   "metadata": {},
   "outputs": [
    {
     "data": {
      "text/plain": [
       "   2011-01-01    2011-02-01    2011-03-01    2011-04-01    2011-05-01 \n",
       "-0.0062192178  0.0036343690  0.0081137708  0.0058365577  0.0022699711 \n",
       "   2011-06-01    2011-07-01    2011-08-01    2011-09-01    2011-10-01 \n",
       " 0.0026582395 -0.0036430906  0.0018199295  0.0051123340  0.0036634088 \n",
       "   2011-11-01    2011-12-01 \n",
       " 0.0001922337  0.0036658403 "
      ]
     },
     "metadata": {},
     "output_type": "display_data"
    }
   ],
   "source": [
    "# make 12 forecasts for each month of 2011 from the ADL (d) model\n",
    "infl_ts <- transform(infl_ts,\n",
    "                     DPUSA_lag1 = stats::lag(DPUSA, -1), # create a DPUSA lag 1 column in the zoo object\n",
    "                     DPUSA_lag12 = stats::lag(DPUSA, -12)) # create a DPUSA lag 12 column in the zoo object\n",
    "\n",
    "dpeur_adl_fc <- coef(dpeur_adl)[1] + coef(dpeur_adl)[2] * infl_ts$DPEUR_lag6 + coef(dpeur_adl)[3] * infl_ts$DPEUR_lag12 + coef(dpeur_adl)[4] * infl_ts$DPUSA_lag1 + coef(dpeur_adl)[5] * infl_ts$DPUSA_lag12\n",
    "window(dpeur_adl_fc, start = as.Date('2011-01-01'), end = as.Date('2011-12-31'))"
   ]
  },
  {
   "cell_type": "code",
   "execution_count": 54,
   "id": "57f336c2-1302-4a87-81ed-13ac59cb9332",
   "metadata": {},
   "outputs": [
    {
     "data": {
      "text/html": [
       "<table class=\"dataframe\">\n",
       "<caption>A data.frame: 2 × 4</caption>\n",
       "<thead>\n",
       "\t<tr><th scope=col>Model</th><th scope=col>RMSE</th><th scope=col>MAE</th><th scope=col>Sum_Errors</th></tr>\n",
       "\t<tr><th scope=col>&lt;chr&gt;</th><th scope=col>&lt;dbl&gt;</th><th scope=col>&lt;dbl&gt;</th><th scope=col>&lt;dbl&gt;</th></tr>\n",
       "</thead>\n",
       "<tbody>\n",
       "\t<tr><td>AR </td><td>0.002324</td><td>0.001692</td><td>0.005065</td></tr>\n",
       "\t<tr><td>ADL</td><td>0.002111</td><td>0.001404</td><td>0.000478</td></tr>\n",
       "</tbody>\n",
       "</table>\n"
      ],
      "text/latex": [
       "A data.frame: 2 × 4\n",
       "\\begin{tabular}{llll}\n",
       " Model & RMSE & MAE & Sum\\_Errors\\\\\n",
       " <chr> & <dbl> & <dbl> & <dbl>\\\\\n",
       "\\hline\n",
       "\t AR  & 0.002324 & 0.001692 & 0.005065\\\\\n",
       "\t ADL & 0.002111 & 0.001404 & 0.000478\\\\\n",
       "\\end{tabular}\n"
      ],
      "text/markdown": [
       "\n",
       "A data.frame: 2 × 4\n",
       "\n",
       "| Model &lt;chr&gt; | RMSE &lt;dbl&gt; | MAE &lt;dbl&gt; | Sum_Errors &lt;dbl&gt; |\n",
       "|---|---|---|---|\n",
       "| AR  | 0.002324 | 0.001692 | 0.005065 |\n",
       "| ADL | 0.002111 | 0.001404 | 0.000478 |\n",
       "\n"
      ],
      "text/plain": [
       "  Model RMSE     MAE      Sum_Errors\n",
       "1 AR    0.002324 0.001692 0.005065  \n",
       "2 ADL   0.002111 0.001404 0.000478  "
      ]
     },
     "metadata": {},
     "output_type": "display_data"
    }
   ],
   "source": [
    "# compute the RMSE, MAE and SUM of the two forecasts done \n",
    "target_dates <- seq(as.Date('2011-01-01'), as.Date('2011-12-01'), by='month')\n",
    "\n",
    "actual <- infl_ts$DPEUR[index(infl_ts) %in% target_dates]\n",
    "forecast_ar <- dpeur_ar_fc[index(dpeur_ar_fc) %in% target_dates]\n",
    "forecast_adl <- dpeur_adl_fc[index(dpeur_adl_fc) %in% target_dates]\n",
    "\n",
    "errors_ar <- actual - forecast_ar\n",
    "errors_adl <- actual - forecast_adl\n",
    "\n",
    "rmse_ar <- sqrt(mean(errors_ar^2))\n",
    "rmse_adl <- sqrt(mean(errors_adl^2))\n",
    "\n",
    "mae_ar <- mean(abs(errors_ar))\n",
    "mae_adl <- mean(abs(errors_adl))\n",
    "\n",
    "sum_errors_ar <- sum(errors_ar)\n",
    "sum_errors_adl <- sum(errors_adl)\n",
    "\n",
    "# create a dataframe with the results\n",
    "results <- data.frame(Model = c('AR', 'ADL'),\n",
    "                      RMSE = c(rmse_ar, rmse_adl),\n",
    "                      MAE = c(mae_ar, mae_adl),\n",
    "                      Sum_Errors = c(sum_errors_ar, sum_errors_adl))\n",
    "results[ , -1] <- round(results[ , -1], 6)\n",
    "results"
   ]
  },
  {
   "cell_type": "markdown",
   "id": "16ce447b-af07-4a6d-bad8-814bef2c17c8",
   "metadata": {},
   "source": [
    "As we can see, the ADL model outperforms the AR model, having both a lower RMSE (0.002111 < 0.002324) and a lower MAE (0.001404 < 0.001692). This indicates that the ADL model produced forecasts that, on average, deviated less from the actual inflation values.\n",
    "\n",
    "The ADL model’s sum of errors is much closer to zero (0.000478 < 0.005065), suggesting that its forecasts were not only more accurate in size but also less biased on average, i.e. they did not consistently under or overestimate inflation."
   ]
  }
 ],
 "metadata": {
  "kernelspec": {
   "display_name": "R",
   "language": "R",
   "name": "ir"
  },
  "language_info": {
   "codemirror_mode": "r",
   "file_extension": ".r",
   "mimetype": "text/x-r-source",
   "name": "R",
   "pygments_lexer": "r",
   "version": "4.4.3"
  }
 },
 "nbformat": 4,
 "nbformat_minor": 5
}
