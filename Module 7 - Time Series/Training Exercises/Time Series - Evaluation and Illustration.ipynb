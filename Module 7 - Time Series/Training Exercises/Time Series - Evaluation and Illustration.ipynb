{
 "cells": [
  {
   "cell_type": "markdown",
   "id": "4e78c3f5-5dd2-4859-afe6-8a206123f79c",
   "metadata": {},
   "source": [
    "# <u>Training Exercices - Time Series: Evaluation and Illustration<u>\n",
    "\n",
    "__<u>Jorge Pineño Pérez<u>__ / Module 7 - Time Series"
   ]
  },
  {
   "cell_type": "code",
   "execution_count": 55,
   "id": "6f4c35ab-95aa-4b94-b51c-02195b02ef64",
   "metadata": {
    "scrolled": true
   },
   "outputs": [
    {
     "name": "stderr",
     "output_type": "stream",
     "text": [
      "Warning message:\n",
      "\"package 'readxl' is in use and will not be installed\"\n",
      "Warning message:\n",
      "\"package 'dplyr' is in use and will not be installed\"\n",
      "Warning message:\n",
      "\"package 'lmtest' is in use and will not be installed\"\n",
      "Warning message:\n",
      "\"package 'dynlm' is in use and will not be installed\"\n",
      "Warning message:\n",
      "\"package 'zoo' is in use and will not be installed\"\n",
      "Installing package into 'C:/Users/USER/AppData/Local/R/win-library/4.4'\n",
      "(as 'lib' is unspecified)\n",
      "\n",
      "also installing the dependencies 'urca', 'pracma'\n",
      "\n",
      "\n"
     ]
    },
    {
     "name": "stdout",
     "output_type": "stream",
     "text": [
      "package 'urca' successfully unpacked and MD5 sums checked\n",
      "package 'pracma' successfully unpacked and MD5 sums checked\n",
      "package 'egcm' successfully unpacked and MD5 sums checked\n",
      "\n",
      "The downloaded binary packages are in\n",
      "\tC:\\Users\\USER\\AppData\\Local\\Temp\\RtmpK0xz9f\\downloaded_packages\n"
     ]
    },
    {
     "name": "stderr",
     "output_type": "stream",
     "text": [
      "Cargando paquete requerido: xts\n",
      "\n",
      "\n",
      "######################### Warning from 'xts' package ##########################\n",
      "#                                                                             #\n",
      "# The dplyr lag() function breaks how base R's lag() function is supposed to  #\n",
      "# work, which breaks lag(my_xts). Calls to lag(my_xts) that you type or       #\n",
      "# source() into this session won't work correctly.                            #\n",
      "#                                                                             #\n",
      "# Use stats::lag() to make sure you're not using dplyr::lag(), or you can add #\n",
      "# conflictRules('dplyr', exclude = 'lag') to your .Rprofile to stop           #\n",
      "# dplyr from breaking base R's lag() function.                                #\n",
      "#                                                                             #\n",
      "# Code in packages is not affected. It's protected by R's namespace mechanism #\n",
      "# Set `options(xts.warn_dplyr_breaks_lag = FALSE)` to suppress this warning.  #\n",
      "#                                                                             #\n",
      "###############################################################################\n",
      "\n",
      "\n",
      "Adjuntando el paquete: 'xts'\n",
      "\n",
      "\n",
      "The following objects are masked from 'package:dplyr':\n",
      "\n",
      "    first, last\n",
      "\n",
      "\n"
     ]
    }
   ],
   "source": [
    "# package imports\n",
    "install.packages(\"readxl\")\n",
    "install.packages(\"dplyr\")\n",
    "install.packages(\"lmtest\")\n",
    "install.packages(\"dynlm\")\n",
    "install.packages(\"zoo\")\n",
    "install.packages(\"egcm\")\n",
    "library(readxl)\n",
    "library(dplyr)\n",
    "library(lmtest)\n",
    "library(dynlm)\n",
    "library(zoo)\n",
    "library(egcm)"
   ]
  },
  {
   "cell_type": "markdown",
   "id": "893e4b65-2b0a-4e9b-b028-91fdc82c1692",
   "metadata": {},
   "source": [
    "<u>__Training Exercise 6.4__<u>"
   ]
  },
  {
   "cell_type": "code",
   "execution_count": 2,
   "id": "3541c199-d995-4bb4-93cc-d64a76172398",
   "metadata": {},
   "outputs": [
    {
     "data": {
      "text/html": [
       "<table class=\"dataframe\">\n",
       "<caption>A tibble: 6 × 7</caption>\n",
       "<thead>\n",
       "\t<tr><th scope=col>YEAR</th><th scope=col>RPK1</th><th scope=col>RPK2</th><th scope=col>X1</th><th scope=col>X2</th><th scope=col>DX1</th><th scope=col>DX2</th></tr>\n",
       "\t<tr><th scope=col>&lt;dbl&gt;</th><th scope=col>&lt;dbl&gt;</th><th scope=col>&lt;dbl&gt;</th><th scope=col>&lt;dbl&gt;</th><th scope=col>&lt;dbl&gt;</th><th scope=col>&lt;dbl&gt;</th><th scope=col>&lt;dbl&gt;</th></tr>\n",
       "</thead>\n",
       "<tbody>\n",
       "\t<tr><td>1975</td><td>13.54875</td><td>11.09278</td><td>2.606294</td><td>2.406294</td><td>   NA</td><td>  NA</td></tr>\n",
       "\t<tr><td>1976</td><td>13.41394</td><td>11.09278</td><td>2.596294</td><td>2.406294</td><td>-0.01</td><td>0.00</td></tr>\n",
       "\t<tr><td>1977</td><td>13.41394</td><td>11.20426</td><td>2.596294</td><td>2.416294</td><td> 0.00</td><td>0.01</td></tr>\n",
       "\t<tr><td>1978</td><td>13.68492</td><td>11.20426</td><td>2.616294</td><td>2.416294</td><td> 0.02</td><td>0.00</td></tr>\n",
       "\t<tr><td>1979</td><td>14.24341</td><td>11.20426</td><td>2.656294</td><td>2.416294</td><td> 0.04</td><td>0.00</td></tr>\n",
       "\t<tr><td>1980</td><td>14.53115</td><td>11.66152</td><td>2.676294</td><td>2.456294</td><td> 0.02</td><td>0.04</td></tr>\n",
       "</tbody>\n",
       "</table>\n"
      ],
      "text/latex": [
       "A tibble: 6 × 7\n",
       "\\begin{tabular}{lllllll}\n",
       " YEAR & RPK1 & RPK2 & X1 & X2 & DX1 & DX2\\\\\n",
       " <dbl> & <dbl> & <dbl> & <dbl> & <dbl> & <dbl> & <dbl>\\\\\n",
       "\\hline\n",
       "\t 1975 & 13.54875 & 11.09278 & 2.606294 & 2.406294 &    NA &   NA\\\\\n",
       "\t 1976 & 13.41394 & 11.09278 & 2.596294 & 2.406294 & -0.01 & 0.00\\\\\n",
       "\t 1977 & 13.41394 & 11.20426 & 2.596294 & 2.416294 &  0.00 & 0.01\\\\\n",
       "\t 1978 & 13.68492 & 11.20426 & 2.616294 & 2.416294 &  0.02 & 0.00\\\\\n",
       "\t 1979 & 14.24341 & 11.20426 & 2.656294 & 2.416294 &  0.04 & 0.00\\\\\n",
       "\t 1980 & 14.53115 & 11.66152 & 2.676294 & 2.456294 &  0.02 & 0.04\\\\\n",
       "\\end{tabular}\n"
      ],
      "text/markdown": [
       "\n",
       "A tibble: 6 × 7\n",
       "\n",
       "| YEAR &lt;dbl&gt; | RPK1 &lt;dbl&gt; | RPK2 &lt;dbl&gt; | X1 &lt;dbl&gt; | X2 &lt;dbl&gt; | DX1 &lt;dbl&gt; | DX2 &lt;dbl&gt; |\n",
       "|---|---|---|---|---|---|---|\n",
       "| 1975 | 13.54875 | 11.09278 | 2.606294 | 2.406294 |    NA |   NA |\n",
       "| 1976 | 13.41394 | 11.09278 | 2.596294 | 2.406294 | -0.01 | 0.00 |\n",
       "| 1977 | 13.41394 | 11.20426 | 2.596294 | 2.416294 |  0.00 | 0.01 |\n",
       "| 1978 | 13.68492 | 11.20426 | 2.616294 | 2.416294 |  0.02 | 0.00 |\n",
       "| 1979 | 14.24341 | 11.20426 | 2.656294 | 2.416294 |  0.04 | 0.00 |\n",
       "| 1980 | 14.53115 | 11.66152 | 2.676294 | 2.456294 |  0.02 | 0.04 |\n",
       "\n"
      ],
      "text/plain": [
       "  YEAR RPK1     RPK2     X1       X2       DX1   DX2 \n",
       "1 1975 13.54875 11.09278 2.606294 2.406294    NA   NA\n",
       "2 1976 13.41394 11.09278 2.596294 2.406294 -0.01 0.00\n",
       "3 1977 13.41394 11.20426 2.596294 2.416294  0.00 0.01\n",
       "4 1978 13.68492 11.20426 2.616294 2.416294  0.02 0.00\n",
       "5 1979 14.24341 11.20426 2.656294 2.416294  0.04 0.00\n",
       "6 1980 14.53115 11.66152 2.676294 2.456294  0.02 0.04"
      ]
     },
     "metadata": {},
     "output_type": "display_data"
    }
   ],
   "source": [
    "# import the RPK dataframe\n",
    "RPK <- read_excel('TrainExer64.xlsx')\n",
    "head(RPK)"
   ]
  },
  {
   "cell_type": "code",
   "execution_count": 52,
   "id": "ecae3cca-ffb4-4054-89ec-2c4c35976ae1",
   "metadata": {},
   "outputs": [
    {
     "data": {
      "text/plain": [
       "           X1       X2   DX1  DX2\n",
       "1975 2.606294 2.406294    NA   NA\n",
       "1976 2.596294 2.406294 -0.01 0.00\n",
       "1977 2.596294 2.416294  0.00 0.01\n",
       "1978 2.616294 2.416294  0.02 0.00\n",
       "1979 2.656294 2.416294  0.04 0.00\n",
       "1980 2.676294 2.456294  0.02 0.04"
      ]
     },
     "metadata": {},
     "output_type": "display_data"
    }
   ],
   "source": [
    "# convert the tibble to a zoo object of time-series for later use\n",
    "RPK_ts <- zoo(cbind(\n",
    "    X1 = RPK$X1,\n",
    "    X2 = RPK$X2,\n",
    "    DX1 = RPK$DX1,\n",
    "    DX2 = RPK$DX2    \n",
    "), order.by=RPK$YEAR)\n",
    "head(RPK_ts)"
   ]
  },
  {
   "cell_type": "markdown",
   "id": "64631471-9531-4a03-9b3a-be32d30b01aa",
   "metadata": {},
   "source": [
    "__(a)__"
   ]
  },
  {
   "cell_type": "code",
   "execution_count": 9,
   "id": "5fc20eec-daea-45d8-bcd0-d1ce27e82c63",
   "metadata": {},
   "outputs": [
    {
     "data": {
      "text/html": [
       "<table class=\"dataframe\">\n",
       "<caption>A anova: 2 × 4</caption>\n",
       "<thead>\n",
       "\t<tr><th></th><th scope=col>Res.Df</th><th scope=col>Df</th><th scope=col>F</th><th scope=col>Pr(&gt;F)</th></tr>\n",
       "\t<tr><th></th><th scope=col>&lt;dbl&gt;</th><th scope=col>&lt;dbl&gt;</th><th scope=col>&lt;dbl&gt;</th><th scope=col>&lt;dbl&gt;</th></tr>\n",
       "</thead>\n",
       "<tbody>\n",
       "\t<tr><th scope=row>1</th><td>33</td><td>NA</td><td>      NA</td><td>      NA</td></tr>\n",
       "\t<tr><th scope=row>2</th><td>35</td><td>-2</td><td>2.149846</td><td>0.132539</td></tr>\n",
       "</tbody>\n",
       "</table>\n"
      ],
      "text/latex": [
       "A anova: 2 × 4\n",
       "\\begin{tabular}{r|llll}\n",
       "  & Res.Df & Df & F & Pr(>F)\\\\\n",
       "  & <dbl> & <dbl> & <dbl> & <dbl>\\\\\n",
       "\\hline\n",
       "\t1 & 33 & NA &       NA &       NA\\\\\n",
       "\t2 & 35 & -2 & 2.149846 & 0.132539\\\\\n",
       "\\end{tabular}\n"
      ],
      "text/markdown": [
       "\n",
       "A anova: 2 × 4\n",
       "\n",
       "| <!--/--> | Res.Df &lt;dbl&gt; | Df &lt;dbl&gt; | F &lt;dbl&gt; | Pr(&gt;F) &lt;dbl&gt; |\n",
       "|---|---|---|---|---|\n",
       "| 1 | 33 | NA |       NA |       NA |\n",
       "| 2 | 35 | -2 | 2.149846 | 0.132539 |\n",
       "\n"
      ],
      "text/plain": [
       "  Res.Df Df F        Pr(>F)  \n",
       "1 33     NA       NA       NA\n",
       "2 35     -2 2.149846 0.132539"
      ]
     },
     "metadata": {},
     "output_type": "display_data"
    }
   ],
   "source": [
    "# perform the Granger (F-)test of \"X2\" for \"X1\" including\n",
    "# a constant, and two lags of both \"X2\" and \"X1\", and check the\n",
    "# degrees of freedom (Df) and the p-value (Pr(>F))\n",
    "gt1 <- grangertest(DX1 ~ DX2, order=2, data=RPK)\n",
    "gt1"
   ]
  },
  {
   "cell_type": "code",
   "execution_count": 10,
   "id": "d5dcfcaa-fe8f-4cbc-828c-ab1d9d663b1c",
   "metadata": {},
   "outputs": [
    {
     "data": {
      "text/html": [
       "<table class=\"dataframe\">\n",
       "<caption>A anova: 2 × 4</caption>\n",
       "<thead>\n",
       "\t<tr><th></th><th scope=col>Res.Df</th><th scope=col>Df</th><th scope=col>F</th><th scope=col>Pr(&gt;F)</th></tr>\n",
       "\t<tr><th></th><th scope=col>&lt;dbl&gt;</th><th scope=col>&lt;dbl&gt;</th><th scope=col>&lt;dbl&gt;</th><th scope=col>&lt;dbl&gt;</th></tr>\n",
       "</thead>\n",
       "<tbody>\n",
       "\t<tr><th scope=row>1</th><td>33</td><td>NA</td><td>     NA</td><td>          NA</td></tr>\n",
       "\t<tr><th scope=row>2</th><td>35</td><td>-2</td><td>20.9781</td><td>1.321766e-06</td></tr>\n",
       "</tbody>\n",
       "</table>\n"
      ],
      "text/latex": [
       "A anova: 2 × 4\n",
       "\\begin{tabular}{r|llll}\n",
       "  & Res.Df & Df & F & Pr(>F)\\\\\n",
       "  & <dbl> & <dbl> & <dbl> & <dbl>\\\\\n",
       "\\hline\n",
       "\t1 & 33 & NA &      NA &           NA\\\\\n",
       "\t2 & 35 & -2 & 20.9781 & 1.321766e-06\\\\\n",
       "\\end{tabular}\n"
      ],
      "text/markdown": [
       "\n",
       "A anova: 2 × 4\n",
       "\n",
       "| <!--/--> | Res.Df &lt;dbl&gt; | Df &lt;dbl&gt; | F &lt;dbl&gt; | Pr(&gt;F) &lt;dbl&gt; |\n",
       "|---|---|---|---|---|\n",
       "| 1 | 33 | NA |      NA |           NA |\n",
       "| 2 | 35 | -2 | 20.9781 | 1.321766e-06 |\n",
       "\n"
      ],
      "text/plain": [
       "  Res.Df Df F       Pr(>F)      \n",
       "1 33     NA      NA           NA\n",
       "2 35     -2 20.9781 1.321766e-06"
      ]
     },
     "metadata": {},
     "output_type": "display_data"
    }
   ],
   "source": [
    "# perform the Granger (F-)test of \"X1\" for \"X2\" including\n",
    "# a constant, and two lags of both \"X2\" and \"X1\", and check the\n",
    "# degrees of freedom (Df) and the p-value (Pr(>F))\n",
    "gt2 <- grangertest(DX2 ~ DX1, order=2, data=RPK)\n",
    "gt2"
   ]
  },
  {
   "cell_type": "markdown",
   "id": "a3424af1-982b-4269-89a5-fc1b84557c44",
   "metadata": {},
   "source": [
    "__(b)__\n",
    "\n",
    "__(i)__"
   ]
  },
  {
   "cell_type": "code",
   "execution_count": 53,
   "id": "a646d7cf-ab02-44ae-9193-a7806b937e14",
   "metadata": {},
   "outputs": [
    {
     "data": {
      "text/plain": [
       "\n",
       "Time series regression with \"zoo\" data:\n",
       "Start = 1977, End = 2015\n",
       "\n",
       "Call:\n",
       "dynlm(formula = DX1 ~ index(RPK_ts) + L(X1, 1) + L(DX1, 1), data = RPK_ts)\n",
       "\n",
       "Residuals:\n",
       "      Min        1Q    Median        3Q       Max \n",
       "-0.019123 -0.006006 -0.001421  0.004739  0.022106 \n",
       "\n",
       "Coefficients:\n",
       "                Estimate Std. Error t value Pr(>|t|)    \n",
       "(Intercept)   -4.5563228  1.6210130  -2.811  0.00804 ** \n",
       "index(RPK_ts)  0.0025452  0.0009043   2.815  0.00796 ** \n",
       "L(X1, 1)      -0.1814847  0.0656510  -2.764  0.00904 ** \n",
       "L(DX1, 1)      0.7606219  0.1342284   5.667 2.12e-06 ***\n",
       "---\n",
       "Signif. codes:  0 '***' 0.001 '**' 0.01 '*' 0.05 '.' 0.1 ' ' 1\n",
       "\n",
       "Residual standard error: 0.01036 on 35 degrees of freedom\n",
       "  (1 observation deleted due to missingness)\n",
       "Multiple R-squared:  0.5137,\tAdjusted R-squared:  0.472 \n",
       "F-statistic: 12.32 on 3 and 35 DF,  p-value: 1.174e-05\n"
      ]
     },
     "metadata": {},
     "output_type": "display_data"
    }
   ],
   "source": [
    "# perform the ADF for \"DX1\", and check the coefficient\n",
    "# of the lagged value (L(X1, 1)), its std. error, and its t and p-values\n",
    "adf1 <- dynlm(DX1 ~ index(RPK_ts) + L(X1, 1) + L(DX1, 1), data=RPK_ts)\n",
    "summary(adf_1)"
   ]
  },
  {
   "cell_type": "markdown",
   "id": "038925d8-52fa-4895-af46-3055c328c0bb",
   "metadata": {},
   "source": [
    "__(ii)__"
   ]
  },
  {
   "cell_type": "code",
   "execution_count": 54,
   "id": "f9fda2a6-ef31-4475-9a01-5d15770211a3",
   "metadata": {},
   "outputs": [
    {
     "data": {
      "text/plain": [
       "\n",
       "Time series regression with \"zoo\" data:\n",
       "Start = 1977, End = 2015\n",
       "\n",
       "Call:\n",
       "dynlm(formula = DX2 ~ index(RPK_ts) + L(X2, 1) + L(DX2, 1), data = RPK_ts)\n",
       "\n",
       "Residuals:\n",
       "      Min        1Q    Median        3Q       Max \n",
       "-0.035897 -0.004838 -0.000094  0.004530  0.029455 \n",
       "\n",
       "Coefficients:\n",
       "               Estimate Std. Error t value Pr(>|t|)\n",
       "(Intercept)   -4.010123   2.920671  -1.373    0.178\n",
       "index(RPK_ts)  0.002214   0.001627   1.361    0.182\n",
       "L(X2, 1)      -0.150500   0.124649  -1.207    0.235\n",
       "L(DX2, 1)      0.187349   0.185459   1.010    0.319\n",
       "\n",
       "Residual standard error: 0.01206 on 35 degrees of freedom\n",
       "  (1 observation deleted due to missingness)\n",
       "Multiple R-squared:  0.1154,\tAdjusted R-squared:  0.03958 \n",
       "F-statistic: 1.522 on 3 and 35 DF,  p-value: 0.2259\n"
      ]
     },
     "metadata": {},
     "output_type": "display_data"
    }
   ],
   "source": [
    "# perform the ADF for \"DX2\", and check the coefficient\n",
    "# of the lagged value (L(X2, 1)), its std. error, and its t and p-values\n",
    "adf2 <- dynlm(DX2 ~ index(RPK_ts) + L(X2, 1) + L(DX2, 1), data=RPK_ts)\n",
    "summary(adf_2)"
   ]
  },
  {
   "cell_type": "markdown",
   "id": "c57ee13c-bb64-462c-b62e-6e038b1d02c1",
   "metadata": {},
   "source": [
    "__(c)__"
   ]
  },
  {
   "cell_type": "code",
   "execution_count": 59,
   "id": "09b0ba06-ec3e-4eb3-bec1-53eb7523909f",
   "metadata": {},
   "outputs": [
    {
     "data": {
      "text/plain": [
       "Y[i] =   0.9192 X[i] +   0.0116 + R[i], R[i] =   0.7735 R[i-1] + eps[i], eps ~ N(0,  0.0152^2)\n",
       "        (0.0174)        (0.0506)                (0.1259)\n",
       "\n",
       "R[2015] = -0.0111 (t = -0.588)\n",
       "\n",
       "WARNING: X and Y do not appear to be cointegrated.\n",
       "\n",
       "Unit Root Tests of Residuals\n",
       "                                                    Statistic    p-value\n",
       "  Augmented Dickey Fuller (ADF)                        -3.583    0.02322\n",
       "  Phillips-Perron (PP)                                -16.696    0.07353\n",
       "  Pantula, Gonzales-Farias and Fuller (PGFF)            0.610    0.13617\n",
       "  Elliott, Rothenberg and Stock DF-GLS (ERSD)          -2.909    0.02380\n",
       "  Johansen's Trace Test (JOT)                         -49.177    0.00010\n",
       "  Schmidt and Phillips Rho (SPR)                       -5.125    0.64659\n",
       "\n",
       "Variances\n",
       "  SD(diff(X))          =   0.014667\n",
       "  SD(diff(Y))          =   0.012362\n",
       "  SD(diff(residuals))  =   0.016504\n",
       "  SD(residuals)        =   0.018795\n",
       "  SD(innovations)      =   0.015160\n",
       "\n",
       "Half life       =   2.698445\n",
       "R[last]         =  -0.011055 (t=-0.59)"
      ]
     },
     "metadata": {},
     "output_type": "display_data"
    }
   ],
   "source": [
    "# perform the two-step Engle-Granger test, and check\n",
    "# the values of the regression of the first step, and\n",
    "# the t and p-value for the ADF in step two\n",
    "eg <- egcm(RPK_ts$X1, RPK_ts$X2)\n",
    "summary(eg)"
   ]
  },
  {
   "cell_type": "markdown",
   "id": "389b7e4f-981e-484c-b434-f4cd9604d2e7",
   "metadata": {},
   "source": [
    "__(d)__"
   ]
  },
  {
   "cell_type": "code",
   "execution_count": 62,
   "id": "a6a7f276-4897-44b0-beaf-2e47fd0bec69",
   "metadata": {},
   "outputs": [
    {
     "data": {
      "text/plain": [
       "\n",
       "Time series regression with \"zoo\" data:\n",
       "Start = 1977, End = 2015\n",
       "\n",
       "Call:\n",
       "dynlm(formula = DX1 ~ L(DX1, 1) + I(L(X2, 1) - 0.92 * L(X1, 1)), \n",
       "    data = RPK_ts)\n",
       "\n",
       "Residuals:\n",
       "       Min         1Q     Median         3Q        Max \n",
       "-0.0178807 -0.0051442 -0.0001095  0.0051187  0.0193354 \n",
       "\n",
       "Coefficients:\n",
       "                               Estimate Std. Error t value Pr(>|t|)    \n",
       "(Intercept)                   -0.004070   0.003283  -1.240 0.223159    \n",
       "L(DX1, 1)                      1.021536   0.137997   7.403  9.8e-09 ***\n",
       "I(L(X2, 1) - 0.92 * L(X1, 1))  0.462566   0.106704   4.335 0.000112 ***\n",
       "---\n",
       "Signif. codes:  0 '***' 0.001 '**' 0.01 '*' 0.05 '.' 0.1 ' ' 1\n",
       "\n",
       "Residual standard error: 0.009168 on 36 degrees of freedom\n",
       "  (1 observation deleted due to missingness)\n",
       "Multiple R-squared:  0.6082,\tAdjusted R-squared:  0.5864 \n",
       "F-statistic: 27.94 on 2 and 36 DF,  p-value: 4.741e-08\n"
      ]
     },
     "metadata": {},
     "output_type": "display_data"
    }
   ],
   "source": [
    "# estimate an ECM for \"DX1\"\n",
    "ecm1 <- dynlm(DX1 ~ L(DX1, 1) + I(L(X2, 1) - 0.92*L(X1, 1)), data=RPK_ts)\n",
    "summary(ecm1)"
   ]
  },
  {
   "cell_type": "code",
   "execution_count": 65,
   "id": "28313277-79ba-4235-96b6-e59f31990544",
   "metadata": {},
   "outputs": [
    {
     "data": {
      "text/plain": [
       "\n",
       "Time series regression with \"zoo\" data:\n",
       "Start = 1977, End = 2015\n",
       "\n",
       "Call:\n",
       "dynlm(formula = DX2 ~ L(DX2, 1) + I(L(X2, 1) - 0.92 * L(X1, 1)), \n",
       "    data = RPK_ts)\n",
       "\n",
       "Residuals:\n",
       "       Min         1Q     Median         3Q        Max \n",
       "-0.0148308 -0.0064739 -0.0005778  0.0072316  0.0170204 \n",
       "\n",
       "Coefficients:\n",
       "                              Estimate Std. Error t value Pr(>|t|)    \n",
       "(Intercept)                    0.01793    0.00241   7.440 8.77e-09 ***\n",
       "L(DX2, 1)                      0.05641    0.12556   0.449    0.656    \n",
       "I(L(X2, 1) - 0.92 * L(X1, 1)) -0.44340    0.07702  -5.757 1.47e-06 ***\n",
       "---\n",
       "Signif. codes:  0 '***' 0.001 '**' 0.01 '*' 0.05 '.' 0.1 ' ' 1\n",
       "\n",
       "Residual standard error: 0.009021 on 36 degrees of freedom\n",
       "  (1 observation deleted due to missingness)\n",
       "Multiple R-squared:  0.4913,\tAdjusted R-squared:  0.463 \n",
       "F-statistic: 17.38 on 2 and 36 DF,  p-value: 5.205e-06\n"
      ]
     },
     "metadata": {},
     "output_type": "display_data"
    }
   ],
   "source": [
    "# estimate an ECM for \"DX2\"\n",
    "ecm2 <- dynlm(DX2 ~ L(DX2, 1) + I(L(X2, 1) - 0.92*L(X1, 1)), data=RPK_ts)\n",
    "summary(ecm2)"
   ]
  }
 ],
 "metadata": {
  "kernelspec": {
   "display_name": "R",
   "language": "R",
   "name": "ir"
  },
  "language_info": {
   "codemirror_mode": "r",
   "file_extension": ".r",
   "mimetype": "text/x-r-source",
   "name": "R",
   "pygments_lexer": "r",
   "version": "4.4.3"
  }
 },
 "nbformat": 4,
 "nbformat_minor": 5
}
