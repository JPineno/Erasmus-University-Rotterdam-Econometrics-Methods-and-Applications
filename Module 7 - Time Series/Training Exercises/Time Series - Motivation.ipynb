{
 "cells": [
  {
   "cell_type": "markdown",
   "id": "4e78c3f5-5dd2-4859-afe6-8a206123f79c",
   "metadata": {},
   "source": [
    "# <u>Training Exercices - Time Series: Motivation<u>\n",
    "\n",
    "__<u>Jorge Pineño Pérez<u>__ / Module 7 - Time Series"
   ]
  },
  {
   "cell_type": "code",
   "execution_count": 40,
   "id": "6f4c35ab-95aa-4b94-b51c-02195b02ef64",
   "metadata": {
    "scrolled": true
   },
   "outputs": [
    {
     "name": "stderr",
     "output_type": "stream",
     "text": [
      "Warning message:\n",
      "\"package 'readxl' is in use and will not be installed\"\n",
      "Warning message:\n",
      "\"package 'dplyr' is in use and will not be installed\"\n"
     ]
    }
   ],
   "source": [
    "# package imports\n",
    "install.packages(\"readxl\")\n",
    "install.packages(\"dplyr\")\n",
    "library(readxl)\n",
    "library(dplyr)"
   ]
  },
  {
   "cell_type": "markdown",
   "id": "e91a6b69-499f-48b1-964c-07f834b48dd7",
   "metadata": {},
   "source": [
    "__<u>Training Exercise 6.1<u>__"
   ]
  },
  {
   "cell_type": "code",
   "execution_count": 41,
   "id": "3541c199-d995-4bb4-93cc-d64a76172398",
   "metadata": {},
   "outputs": [
    {
     "data": {
      "text/html": [
       "<table class=\"dataframe\">\n",
       "<caption>A tibble: 6 × 4</caption>\n",
       "<thead>\n",
       "\t<tr><th scope=col>EPSX</th><th scope=col>EPSY</th><th scope=col>X</th><th scope=col>Y</th></tr>\n",
       "\t<tr><th scope=col>&lt;dbl&gt;</th><th scope=col>&lt;dbl&gt;</th><th scope=col>&lt;dbl&gt;</th><th scope=col>&lt;dbl&gt;</th></tr>\n",
       "</thead>\n",
       "<tbody>\n",
       "\t<tr><td>-2.4472315</td><td>-1.4218348</td><td> 0.000000</td><td> 0.0000000</td></tr>\n",
       "\t<tr><td>-1.5404713</td><td>-0.6321228</td><td>-1.540471</td><td>-0.6321228</td></tr>\n",
       "\t<tr><td> 1.2849123</td><td>-1.9971816</td><td>-0.255559</td><td>-2.6293044</td></tr>\n",
       "\t<tr><td>-0.8544949</td><td> 0.1745875</td><td>-1.110054</td><td>-2.4547169</td></tr>\n",
       "\t<tr><td> 0.9598599</td><td>-2.0871108</td><td>-0.150194</td><td>-4.5418278</td></tr>\n",
       "\t<tr><td>-2.3164001</td><td> 1.0489761</td><td>-2.466594</td><td>-3.4928517</td></tr>\n",
       "</tbody>\n",
       "</table>\n"
      ],
      "text/latex": [
       "A tibble: 6 × 4\n",
       "\\begin{tabular}{llll}\n",
       " EPSX & EPSY & X & Y\\\\\n",
       " <dbl> & <dbl> & <dbl> & <dbl>\\\\\n",
       "\\hline\n",
       "\t -2.4472315 & -1.4218348 &  0.000000 &  0.0000000\\\\\n",
       "\t -1.5404713 & -0.6321228 & -1.540471 & -0.6321228\\\\\n",
       "\t  1.2849123 & -1.9971816 & -0.255559 & -2.6293044\\\\\n",
       "\t -0.8544949 &  0.1745875 & -1.110054 & -2.4547169\\\\\n",
       "\t  0.9598599 & -2.0871108 & -0.150194 & -4.5418278\\\\\n",
       "\t -2.3164001 &  1.0489761 & -2.466594 & -3.4928517\\\\\n",
       "\\end{tabular}\n"
      ],
      "text/markdown": [
       "\n",
       "A tibble: 6 × 4\n",
       "\n",
       "| EPSX &lt;dbl&gt; | EPSY &lt;dbl&gt; | X &lt;dbl&gt; | Y &lt;dbl&gt; |\n",
       "|---|---|---|---|\n",
       "| -2.4472315 | -1.4218348 |  0.000000 |  0.0000000 |\n",
       "| -1.5404713 | -0.6321228 | -1.540471 | -0.6321228 |\n",
       "|  1.2849123 | -1.9971816 | -0.255559 | -2.6293044 |\n",
       "| -0.8544949 |  0.1745875 | -1.110054 | -2.4547169 |\n",
       "|  0.9598599 | -2.0871108 | -0.150194 | -4.5418278 |\n",
       "| -2.3164001 |  1.0489761 | -2.466594 | -3.4928517 |\n",
       "\n"
      ],
      "text/plain": [
       "  EPSX       EPSY       X         Y         \n",
       "1 -2.4472315 -1.4218348  0.000000  0.0000000\n",
       "2 -1.5404713 -0.6321228 -1.540471 -0.6321228\n",
       "3  1.2849123 -1.9971816 -0.255559 -2.6293044\n",
       "4 -0.8544949  0.1745875 -1.110054 -2.4547169\n",
       "5  0.9598599 -2.0871108 -0.150194 -4.5418278\n",
       "6 -2.3164001  1.0489761 -2.466594 -3.4928517"
      ]
     },
     "metadata": {},
     "output_type": "display_data"
    }
   ],
   "source": [
    "# import the dataframe\n",
    "random <- read_excel('TrainExer61.xlsx')\n",
    "head(random)"
   ]
  },
  {
   "cell_type": "code",
   "execution_count": 42,
   "id": "33afb81b-4548-462c-bd81-fb232f102f8c",
   "metadata": {},
   "outputs": [
    {
     "data": {
      "text/html": [
       "<table class=\"dataframe\">\n",
       "<caption>A tibble: 6 × 5</caption>\n",
       "<thead>\n",
       "\t<tr><th scope=col>EPSX</th><th scope=col>EPSY</th><th scope=col>X</th><th scope=col>Y</th><th scope=col>t</th></tr>\n",
       "\t<tr><th scope=col>&lt;dbl&gt;</th><th scope=col>&lt;dbl&gt;</th><th scope=col>&lt;dbl&gt;</th><th scope=col>&lt;dbl&gt;</th><th scope=col>&lt;dbl&gt;</th></tr>\n",
       "</thead>\n",
       "<tbody>\n",
       "\t<tr><td>-2.4472315</td><td>-1.4218348</td><td> 0.000000</td><td> 0.0000000</td><td>0</td></tr>\n",
       "\t<tr><td>-1.5404713</td><td>-0.6321228</td><td>-1.540471</td><td>-0.6321228</td><td>1</td></tr>\n",
       "\t<tr><td> 1.2849123</td><td>-1.9971816</td><td>-0.255559</td><td>-2.6293044</td><td>2</td></tr>\n",
       "\t<tr><td>-0.8544949</td><td> 0.1745875</td><td>-1.110054</td><td>-2.4547169</td><td>3</td></tr>\n",
       "\t<tr><td> 0.9598599</td><td>-2.0871108</td><td>-0.150194</td><td>-4.5418278</td><td>4</td></tr>\n",
       "\t<tr><td>-2.3164001</td><td> 1.0489761</td><td>-2.466594</td><td>-3.4928517</td><td>5</td></tr>\n",
       "</tbody>\n",
       "</table>\n"
      ],
      "text/latex": [
       "A tibble: 6 × 5\n",
       "\\begin{tabular}{lllll}\n",
       " EPSX & EPSY & X & Y & t\\\\\n",
       " <dbl> & <dbl> & <dbl> & <dbl> & <dbl>\\\\\n",
       "\\hline\n",
       "\t -2.4472315 & -1.4218348 &  0.000000 &  0.0000000 & 0\\\\\n",
       "\t -1.5404713 & -0.6321228 & -1.540471 & -0.6321228 & 1\\\\\n",
       "\t  1.2849123 & -1.9971816 & -0.255559 & -2.6293044 & 2\\\\\n",
       "\t -0.8544949 &  0.1745875 & -1.110054 & -2.4547169 & 3\\\\\n",
       "\t  0.9598599 & -2.0871108 & -0.150194 & -4.5418278 & 4\\\\\n",
       "\t -2.3164001 &  1.0489761 & -2.466594 & -3.4928517 & 5\\\\\n",
       "\\end{tabular}\n"
      ],
      "text/markdown": [
       "\n",
       "A tibble: 6 × 5\n",
       "\n",
       "| EPSX &lt;dbl&gt; | EPSY &lt;dbl&gt; | X &lt;dbl&gt; | Y &lt;dbl&gt; | t &lt;dbl&gt; |\n",
       "|---|---|---|---|---|\n",
       "| -2.4472315 | -1.4218348 |  0.000000 |  0.0000000 | 0 |\n",
       "| -1.5404713 | -0.6321228 | -1.540471 | -0.6321228 | 1 |\n",
       "|  1.2849123 | -1.9971816 | -0.255559 | -2.6293044 | 2 |\n",
       "| -0.8544949 |  0.1745875 | -1.110054 | -2.4547169 | 3 |\n",
       "|  0.9598599 | -2.0871108 | -0.150194 | -4.5418278 | 4 |\n",
       "| -2.3164001 |  1.0489761 | -2.466594 | -3.4928517 | 5 |\n",
       "\n"
      ],
      "text/plain": [
       "  EPSX       EPSY       X         Y          t\n",
       "1 -2.4472315 -1.4218348  0.000000  0.0000000 0\n",
       "2 -1.5404713 -0.6321228 -1.540471 -0.6321228 1\n",
       "3  1.2849123 -1.9971816 -0.255559 -2.6293044 2\n",
       "4 -0.8544949  0.1745875 -1.110054 -2.4547169 3\n",
       "5  0.9598599 -2.0871108 -0.150194 -4.5418278 4\n",
       "6 -2.3164001  1.0489761 -2.466594 -3.4928517 5"
      ]
     },
     "metadata": {},
     "output_type": "display_data"
    }
   ],
   "source": [
    "# add a \"t\" column to the tibble\n",
    "random <- random %>% mutate(t = row_number() - 1)\n",
    "head(random)"
   ]
  },
  {
   "cell_type": "markdown",
   "id": "b6880d32-0fbe-4665-ad0a-fe5812c596c5",
   "metadata": {},
   "source": [
    "__(a)__"
   ]
  },
  {
   "cell_type": "code",
   "execution_count": 43,
   "id": "177d371a-6a45-4be2-b4e4-8cc7131caa4c",
   "metadata": {},
   "outputs": [
    {
     "data": {
      "image/png": "[encoded data removed]",
      "text/plain": [
       "Plot with title \"x[t] ~ \"vs\" ~ t\""
      ]
     },
     "metadata": {
      "image/png": {
       "height": 420,
       "width": 420
      }
     },
     "output_type": "display_data"
    }
   ],
   "source": [
    "# plot x_t against time t\n",
    "plot(random[['t']], random[['X']], col='blue',\n",
    "     main=expression(x[t] ~ \"vs\" ~ t),\n",
    "     xlab=expression(t),\n",
    "     ylab=expression(x[t]))"
   ]
  },
  {
   "cell_type": "code",
   "execution_count": 44,
   "id": "9522790d-3356-4259-82d8-7941e99cfbcf",
   "metadata": {},
   "outputs": [
    {
     "data": {
      "image/png": "[encoded data removed]",
      "text/plain": [
       "Plot with title \"y[t] ~ \"vs\" ~ t\""
      ]
     },
     "metadata": {
      "image/png": {
       "height": 420,
       "width": 420
      }
     },
     "output_type": "display_data"
    }
   ],
   "source": [
    "# plot y_t against time t\n",
    "plot(random[['t']], random[['Y']], col='blue',\n",
    "     main=expression(y[t] ~ \"vs\" ~ t),\n",
    "     xlab=expression(t),\n",
    "     ylab=expression(y[t]))"
   ]
  },
  {
   "cell_type": "code",
   "execution_count": 45,
   "id": "946315ee-e381-473a-b113-dab1c41e364b",
   "metadata": {},
   "outputs": [
    {
     "data": {
      "image/png": "[encoded data removed]",
      "text/plain": [
       "Plot with title \"y[t] ~ \"vs\" ~ x[t]\""
      ]
     },
     "metadata": {
      "image/png": {
       "height": 420,
       "width": 420
      }
     },
     "output_type": "display_data"
    }
   ],
   "source": [
    "# plot y_t against x_t\n",
    "plot(random[['Y']], random[['X']], col='blue',\n",
    "     main=expression(y[t] ~ \"vs\" ~ x[t]),\n",
    "     xlab=expression(x[t]),\n",
    "     ylab=expression(y[t]))"
   ]
  },
  {
   "cell_type": "markdown",
   "id": "144603ed-3ff1-463f-acc4-9ab9ffa3953b",
   "metadata": {},
   "source": [
    "__(b)__"
   ]
  },
  {
   "cell_type": "code",
   "execution_count": 46,
   "id": "9b830d65-e4c1-4a36-87c5-d812fe9f08b0",
   "metadata": {},
   "outputs": [
    {
     "data": {
      "text/plain": [
       "\n",
       "Call:\n",
       "lm(formula = EPSY ~ EPSX, data = random)\n",
       "\n",
       "Residuals:\n",
       "     Min       1Q   Median       3Q      Max \n",
       "-2.69468 -0.67538 -0.01086  0.66839  2.93055 \n",
       "\n",
       "Coefficients:\n",
       "            Estimate Std. Error t value Pr(>|t|)\n",
       "(Intercept)  0.03119    0.06446   0.484    0.629\n",
       "EPSX        -0.08791    0.06672  -1.318    0.189\n",
       "\n",
       "Residual standard error: 1.014 on 248 degrees of freedom\n",
       "Multiple R-squared:  0.006953,\tAdjusted R-squared:  0.002949 \n",
       "F-statistic: 1.736 on 1 and 248 DF,  p-value: 0.1888\n"
      ]
     },
     "metadata": {},
     "output_type": "display_data"
    }
   ],
   "source": [
    "# regress \"EPSY\" on a constant and \"EPSX\", and check\n",
    "# the t and p-values of the slope coefficient\n",
    "noise_reg <- lm(EPSY ~ EPSX, data=random)\n",
    "summary(noise_reg)"
   ]
  },
  {
   "cell_type": "markdown",
   "id": "047f9689-d7db-4428-b6ea-86afbd5d134d",
   "metadata": {},
   "source": [
    "__(c)__"
   ]
  },
  {
   "cell_type": "code",
   "execution_count": 47,
   "id": "8be11300-a671-445a-be83-718608b5ba2a",
   "metadata": {},
   "outputs": [
    {
     "data": {
      "text/html": [
       "<table class=\"dataframe\">\n",
       "<caption>A tibble: 6 × 11</caption>\n",
       "<thead>\n",
       "\t<tr><th scope=col>EPSX</th><th scope=col>EPSY</th><th scope=col>X</th><th scope=col>Y</th><th scope=col>t</th><th scope=col>EPSY_1</th><th scope=col>EPSY_2</th><th scope=col>EPSY_3</th><th scope=col>EPSX_1</th><th scope=col>EPSX_2</th><th scope=col>EPSX_3</th></tr>\n",
       "\t<tr><th scope=col>&lt;dbl&gt;</th><th scope=col>&lt;dbl&gt;</th><th scope=col>&lt;dbl&gt;</th><th scope=col>&lt;dbl&gt;</th><th scope=col>&lt;dbl&gt;</th><th scope=col>&lt;dbl&gt;</th><th scope=col>&lt;dbl&gt;</th><th scope=col>&lt;dbl&gt;</th><th scope=col>&lt;dbl&gt;</th><th scope=col>&lt;dbl&gt;</th><th scope=col>&lt;dbl&gt;</th></tr>\n",
       "</thead>\n",
       "<tbody>\n",
       "\t<tr><td>-2.4472315</td><td>-1.4218348</td><td> 0.000000</td><td> 0.0000000</td><td>0</td><td>        NA</td><td>        NA</td><td>        NA</td><td>        NA</td><td>        NA</td><td>       NA</td></tr>\n",
       "\t<tr><td>-1.5404713</td><td>-0.6321228</td><td>-1.540471</td><td>-0.6321228</td><td>1</td><td>-1.4218348</td><td>        NA</td><td>        NA</td><td>-2.4472315</td><td>        NA</td><td>       NA</td></tr>\n",
       "\t<tr><td> 1.2849123</td><td>-1.9971816</td><td>-0.255559</td><td>-2.6293044</td><td>2</td><td>-0.6321228</td><td>-1.4218348</td><td>        NA</td><td>-1.5404713</td><td>-2.4472315</td><td>       NA</td></tr>\n",
       "\t<tr><td>-0.8544949</td><td> 0.1745875</td><td>-1.110054</td><td>-2.4547169</td><td>3</td><td>-1.9971816</td><td>-0.6321228</td><td>-1.4218348</td><td> 1.2849123</td><td>-1.5404713</td><td>-2.447232</td></tr>\n",
       "\t<tr><td> 0.9598599</td><td>-2.0871108</td><td>-0.150194</td><td>-4.5418278</td><td>4</td><td> 0.1745875</td><td>-1.9971816</td><td>-0.6321228</td><td>-0.8544949</td><td> 1.2849123</td><td>-1.540471</td></tr>\n",
       "\t<tr><td>-2.3164001</td><td> 1.0489761</td><td>-2.466594</td><td>-3.4928517</td><td>5</td><td>-2.0871108</td><td> 0.1745875</td><td>-1.9971816</td><td> 0.9598599</td><td>-0.8544949</td><td> 1.284912</td></tr>\n",
       "</tbody>\n",
       "</table>\n"
      ],
      "text/latex": [
       "A tibble: 6 × 11\n",
       "\\begin{tabular}{lllllllllll}\n",
       " EPSX & EPSY & X & Y & t & EPSY\\_1 & EPSY\\_2 & EPSY\\_3 & EPSX\\_1 & EPSX\\_2 & EPSX\\_3\\\\\n",
       " <dbl> & <dbl> & <dbl> & <dbl> & <dbl> & <dbl> & <dbl> & <dbl> & <dbl> & <dbl> & <dbl>\\\\\n",
       "\\hline\n",
       "\t -2.4472315 & -1.4218348 &  0.000000 &  0.0000000 & 0 &         NA &         NA &         NA &         NA &         NA &        NA\\\\\n",
       "\t -1.5404713 & -0.6321228 & -1.540471 & -0.6321228 & 1 & -1.4218348 &         NA &         NA & -2.4472315 &         NA &        NA\\\\\n",
       "\t  1.2849123 & -1.9971816 & -0.255559 & -2.6293044 & 2 & -0.6321228 & -1.4218348 &         NA & -1.5404713 & -2.4472315 &        NA\\\\\n",
       "\t -0.8544949 &  0.1745875 & -1.110054 & -2.4547169 & 3 & -1.9971816 & -0.6321228 & -1.4218348 &  1.2849123 & -1.5404713 & -2.447232\\\\\n",
       "\t  0.9598599 & -2.0871108 & -0.150194 & -4.5418278 & 4 &  0.1745875 & -1.9971816 & -0.6321228 & -0.8544949 &  1.2849123 & -1.540471\\\\\n",
       "\t -2.3164001 &  1.0489761 & -2.466594 & -3.4928517 & 5 & -2.0871108 &  0.1745875 & -1.9971816 &  0.9598599 & -0.8544949 &  1.284912\\\\\n",
       "\\end{tabular}\n"
      ],
      "text/markdown": [
       "\n",
       "A tibble: 6 × 11\n",
       "\n",
       "| EPSX &lt;dbl&gt; | EPSY &lt;dbl&gt; | X &lt;dbl&gt; | Y &lt;dbl&gt; | t &lt;dbl&gt; | EPSY_1 &lt;dbl&gt; | EPSY_2 &lt;dbl&gt; | EPSY_3 &lt;dbl&gt; | EPSX_1 &lt;dbl&gt; | EPSX_2 &lt;dbl&gt; | EPSX_3 &lt;dbl&gt; |\n",
       "|---|---|---|---|---|---|---|---|---|---|---|\n",
       "| -2.4472315 | -1.4218348 |  0.000000 |  0.0000000 | 0 |         NA |         NA |         NA |         NA |         NA |        NA |\n",
       "| -1.5404713 | -0.6321228 | -1.540471 | -0.6321228 | 1 | -1.4218348 |         NA |         NA | -2.4472315 |         NA |        NA |\n",
       "|  1.2849123 | -1.9971816 | -0.255559 | -2.6293044 | 2 | -0.6321228 | -1.4218348 |         NA | -1.5404713 | -2.4472315 |        NA |\n",
       "| -0.8544949 |  0.1745875 | -1.110054 | -2.4547169 | 3 | -1.9971816 | -0.6321228 | -1.4218348 |  1.2849123 | -1.5404713 | -2.447232 |\n",
       "|  0.9598599 | -2.0871108 | -0.150194 | -4.5418278 | 4 |  0.1745875 | -1.9971816 | -0.6321228 | -0.8544949 |  1.2849123 | -1.540471 |\n",
       "| -2.3164001 |  1.0489761 | -2.466594 | -3.4928517 | 5 | -2.0871108 |  0.1745875 | -1.9971816 |  0.9598599 | -0.8544949 |  1.284912 |\n",
       "\n"
      ],
      "text/plain": [
       "  EPSX       EPSY       X         Y          t EPSY_1     EPSY_2     EPSY_3    \n",
       "1 -2.4472315 -1.4218348  0.000000  0.0000000 0         NA         NA         NA\n",
       "2 -1.5404713 -0.6321228 -1.540471 -0.6321228 1 -1.4218348         NA         NA\n",
       "3  1.2849123 -1.9971816 -0.255559 -2.6293044 2 -0.6321228 -1.4218348         NA\n",
       "4 -0.8544949  0.1745875 -1.110054 -2.4547169 3 -1.9971816 -0.6321228 -1.4218348\n",
       "5  0.9598599 -2.0871108 -0.150194 -4.5418278 4  0.1745875 -1.9971816 -0.6321228\n",
       "6 -2.3164001  1.0489761 -2.466594 -3.4928517 5 -2.0871108  0.1745875 -1.9971816\n",
       "  EPSX_1     EPSX_2     EPSX_3   \n",
       "1         NA         NA        NA\n",
       "2 -2.4472315         NA        NA\n",
       "3 -1.5404713 -2.4472315        NA\n",
       "4  1.2849123 -1.5404713 -2.447232\n",
       "5 -0.8544949  1.2849123 -1.540471\n",
       "6  0.9598599 -0.8544949  1.284912"
      ]
     },
     "metadata": {},
     "output_type": "display_data"
    }
   ],
   "source": [
    "# add 3 lagged values for \"EPSY\" and \"EPSX\" to our tibble\n",
    "random <- random %>% mutate(EPSY_1=lag(EPSY), EPSY_2=lag(EPSY_1), EPSY_3=lag(EPSY_2),\n",
    "                           EPSX_1=lag(EPSX), EPSX_2=lag(EPSX_1), EPSX_3=lag(EPSX_2))\n",
    "head(random)"
   ]
  },
  {
   "cell_type": "code",
   "execution_count": 48,
   "id": "3983763a-5b16-4fcb-82c7-a3470975dc09",
   "metadata": {},
   "outputs": [
    {
     "data": {
      "text/plain": [
       "\n",
       "Call:\n",
       "lm(formula = EPSY ~ EPSX + EPSY_1 + EPSY_2 + EPSY_3 + EPSX_1 + \n",
       "    EPSX_2 + EPSX_3, data = random)\n",
       "\n",
       "Residuals:\n",
       "    Min      1Q  Median      3Q     Max \n",
       "-2.6912 -0.6563 -0.0319  0.6930  2.9320 \n",
       "\n",
       "Coefficients:\n",
       "             Estimate Std. Error t value Pr(>|t|)\n",
       "(Intercept)  0.046154   0.066095   0.698    0.486\n",
       "EPSX        -0.097274   0.069233  -1.405    0.161\n",
       "EPSY_1       0.024786   0.064125   0.387    0.699\n",
       "EPSY_2      -0.015816   0.064698  -0.244    0.807\n",
       "EPSY_3      -0.047213   0.064340  -0.734    0.464\n",
       "EPSX_1       0.019901   0.070094   0.284    0.777\n",
       "EPSX_2      -0.059641   0.069598  -0.857    0.392\n",
       "EPSX_3       0.009456   0.068390   0.138    0.890\n",
       "\n",
       "Residual standard error: 1.015 on 239 degrees of freedom\n",
       "  (3 observations deleted due to missingness)\n",
       "Multiple R-squared:  0.01573,\tAdjusted R-squared:  -0.0131 \n",
       "F-statistic: 0.5457 on 7 and 239 DF,  p-value: 0.7992\n"
      ]
     },
     "metadata": {},
     "output_type": "display_data"
    }
   ],
   "source": [
    "# regress \"EPSY\" on a constant, \"EPSX\", and 3 lagged values\n",
    "# of \"EPSY\" and \"EPSX\", and check the F-statistic\n",
    "noise_reg_lag <- lm(EPSY ~ EPSX + EPSY_1 + EPSY_2 + EPSY_3 + EPSX_1 + EPSX_2 + EPSX_3, data=random)\n",
    "summary(noise_reg_lag)"
   ]
  },
  {
   "cell_type": "markdown",
   "id": "3334c8d1-dc5f-447f-809e-7eb827d4790a",
   "metadata": {},
   "source": [
    "__(d)__"
   ]
  },
  {
   "cell_type": "code",
   "execution_count": 49,
   "id": "0fe88ad9-dbb7-41d4-b2a5-bd300a978c95",
   "metadata": {},
   "outputs": [
    {
     "data": {
      "text/plain": [
       "\n",
       "Call:\n",
       "lm(formula = Y ~ X, data = random)\n",
       "\n",
       "Residuals:\n",
       "    Min      1Q  Median      3Q     Max \n",
       "-9.1194 -1.3637  0.4289  1.9913  5.5454 \n",
       "\n",
       "Coefficients:\n",
       "            Estimate Std. Error t value Pr(>|t|)    \n",
       "(Intercept) -2.48665    0.21425  -11.61   <2e-16 ***\n",
       "X           -0.51494    0.01559  -33.02   <2e-16 ***\n",
       "---\n",
       "Signif. codes:  0 '***' 0.001 '**' 0.01 '*' 0.05 '.' 0.1 ' ' 1\n",
       "\n",
       "Residual standard error: 2.792 on 248 degrees of freedom\n",
       "Multiple R-squared:  0.8147,\tAdjusted R-squared:  0.814 \n",
       "F-statistic:  1091 on 1 and 248 DF,  p-value: < 2.2e-16\n"
      ]
     },
     "metadata": {},
     "output_type": "display_data"
    }
   ],
   "source": [
    "# regress \"Y\" on a constant and \"X\", and check the t and\n",
    "# p-value of the slope coefficient\n",
    "yx_reg <- lm(Y ~ X, data=random)\n",
    "summary(yx_reg)"
   ]
  },
  {
   "cell_type": "markdown",
   "id": "e53bee14-5d0f-42c6-99a6-3f77f26cadc6",
   "metadata": {},
   "source": [
    "__(e)__"
   ]
  },
  {
   "cell_type": "code",
   "execution_count": 51,
   "id": "c192f141-8f80-41c3-813b-cb5ccea1d3c1",
   "metadata": {},
   "outputs": [
    {
     "data": {
      "text/html": [
       "<table class=\"dataframe\">\n",
       "<caption>A tibble: 6 × 2</caption>\n",
       "<thead>\n",
       "\t<tr><th scope=col>e</th><th scope=col>e_1</th></tr>\n",
       "\t<tr><th scope=col>&lt;dbl&gt;</th><th scope=col>&lt;dbl&gt;</th></tr>\n",
       "</thead>\n",
       "<tbody>\n",
       "\t<tr><td> 2.4866496</td><td>        NA</td></tr>\n",
       "\t<tr><td> 1.0612751</td><td> 2.4866496</td></tr>\n",
       "\t<tr><td>-0.2742526</td><td> 1.0612751</td></tr>\n",
       "\t<tr><td>-0.5396795</td><td>-0.2742526</td></tr>\n",
       "\t<tr><td>-2.1325192</td><td>-0.5396795</td></tr>\n",
       "\t<tr><td>-2.2763522</td><td>-2.1325192</td></tr>\n",
       "</tbody>\n",
       "</table>\n"
      ],
      "text/latex": [
       "A tibble: 6 × 2\n",
       "\\begin{tabular}{ll}\n",
       " e & e\\_1\\\\\n",
       " <dbl> & <dbl>\\\\\n",
       "\\hline\n",
       "\t  2.4866496 &         NA\\\\\n",
       "\t  1.0612751 &  2.4866496\\\\\n",
       "\t -0.2742526 &  1.0612751\\\\\n",
       "\t -0.5396795 & -0.2742526\\\\\n",
       "\t -2.1325192 & -0.5396795\\\\\n",
       "\t -2.2763522 & -2.1325192\\\\\n",
       "\\end{tabular}\n"
      ],
      "text/markdown": [
       "\n",
       "A tibble: 6 × 2\n",
       "\n",
       "| e &lt;dbl&gt; | e_1 &lt;dbl&gt; |\n",
       "|---|---|\n",
       "|  2.4866496 |         NA |\n",
       "|  1.0612751 |  2.4866496 |\n",
       "| -0.2742526 |  1.0612751 |\n",
       "| -0.5396795 | -0.2742526 |\n",
       "| -2.1325192 | -0.5396795 |\n",
       "| -2.2763522 | -2.1325192 |\n",
       "\n"
      ],
      "text/plain": [
       "  e          e_1       \n",
       "1  2.4866496         NA\n",
       "2  1.0612751  2.4866496\n",
       "3 -0.2742526  1.0612751\n",
       "4 -0.5396795 -0.2742526\n",
       "5 -2.1325192 -0.5396795\n",
       "6 -2.2763522 -2.1325192"
      ]
     },
     "metadata": {},
     "output_type": "display_data"
    }
   ],
   "source": [
    "# create a tibble with the residuals of the regression in (d)\n",
    "# and its one-period lagged value\n",
    "resid_d <- tibble(\n",
    "  e = resid(yx_reg),\n",
    "  e_1 = lag(e)\n",
    ")\n",
    "head(resid_d)"
   ]
  },
  {
   "cell_type": "code",
   "execution_count": 53,
   "id": "52763309-54cb-4604-9e3b-f7c1f5433033",
   "metadata": {},
   "outputs": [
    {
     "data": {
      "text/plain": [
       "\n",
       "Call:\n",
       "lm(formula = e ~ e_1, data = resid_d)\n",
       "\n",
       "Residuals:\n",
       "     Min       1Q   Median       3Q      Max \n",
       "-2.64297 -0.77036  0.02107  0.74356  2.83587 \n",
       "\n",
       "Coefficients:\n",
       "             Estimate Std. Error t value Pr(>|t|)    \n",
       "(Intercept) 0.0005562  0.0673863   0.008    0.993    \n",
       "e_1         0.9251405  0.0242365  38.171   <2e-16 ***\n",
       "---\n",
       "Signif. codes:  0 '***' 0.001 '**' 0.01 '*' 0.05 '.' 0.1 ' ' 1\n",
       "\n",
       "Residual standard error: 1.063 on 247 degrees of freedom\n",
       "  (1 observation deleted due to missingness)\n",
       "Multiple R-squared:  0.8551,\tAdjusted R-squared:  0.8545 \n",
       "F-statistic:  1457 on 1 and 247 DF,  p-value: < 2.2e-16\n"
      ]
     },
     "metadata": {},
     "output_type": "display_data"
    }
   ],
   "source": [
    "# regress the residuals of the regression in (d) on a constant\n",
    "# and the one-period lagged residual, knowing that, if the p-value of\n",
    "# the slope coefficient is very small, residuals are strongly correlated\n",
    "e_lag <- lm(e ~ e_1, data=resid_d)\n",
    "summary(e_lag)"
   ]
  }
 ],
 "metadata": {
  "kernelspec": {
   "display_name": "R",
   "language": "R",
   "name": "ir"
  },
  "language_info": {
   "codemirror_mode": "r",
   "file_extension": ".r",
   "mimetype": "text/x-r-source",
   "name": "R",
   "pygments_lexer": "r",
   "version": "4.4.3"
  }
 },
 "nbformat": 4,
 "nbformat_minor": 5
}
