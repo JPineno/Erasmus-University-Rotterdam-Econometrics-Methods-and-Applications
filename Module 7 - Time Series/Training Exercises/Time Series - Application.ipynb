{
 "cells": [
  {
   "cell_type": "markdown",
   "id": "b5fa1ca0-ed2d-4db7-ba1a-5b0999cddad5",
   "metadata": {},
   "source": [
    "# <u>Training Exercices - Time Series: Application<u>\n",
    "\n",
    "__<u>Jorge Pineño Pérez<u>__ / Module 7 - Time Series"
   ]
  },
  {
   "cell_type": "code",
   "execution_count": 169,
   "id": "690b76d8-9d9b-4f11-922c-ddf279fcc5d4",
   "metadata": {
    "scrolled": true
   },
   "outputs": [
    {
     "name": "stderr",
     "output_type": "stream",
     "text": [
      "Warning message:\n",
      "\"package 'readxl' is in use and will not be installed\"\n",
      "Warning message:\n",
      "\"package 'dplyr' is in use and will not be installed\"\n",
      "Warning message:\n",
      "\"package 'ggplot2' is in use and will not be installed\"\n",
      "Warning message:\n",
      "\"package 'zoo' is in use and will not be installed\"\n",
      "Warning message:\n",
      "\"package 'dynlm' is in use and will not be installed\"\n",
      "Warning message:\n",
      "\"package 'egcm' is in use and will not be installed\"\n",
      "Warning message:\n",
      "\"package 'lmtest' is in use and will not be installed\"\n",
      "Warning message:\n",
      "\"package 'car' is in use and will not be installed\"\n",
      "Installing package into 'C:/Users/USER/AppData/Local/R/win-library/4.4'\n",
      "(as 'lib' is unspecified)\n",
      "\n"
     ]
    },
    {
     "name": "stdout",
     "output_type": "stream",
     "text": [
      "package 'Metrics' successfully unpacked and MD5 sums checked\n",
      "\n",
      "The downloaded binary packages are in\n",
      "\tC:\\Users\\USER\\AppData\\Local\\Temp\\Rtmp0udfY0\\downloaded_packages\n"
     ]
    }
   ],
   "source": [
    "# package imports\n",
    "install.packages(\"readxl\")\n",
    "install.packages(\"dplyr\")\n",
    "install.packages(\"ggplot2\")\n",
    "install.packages(\"zoo\")\n",
    "install.packages(\"dynlm\")\n",
    "install.packages(\"egcm\")\n",
    "install.packages(\"lmtest\")\n",
    "install.packages(\"car\")\n",
    "install.packages(\"Metrics\")\n",
    "library(readxl)\n",
    "library(dplyr)\n",
    "library(ggplot2)\n",
    "library(zoo)\n",
    "library(dynlm)\n",
    "library(egcm)\n",
    "library(lmtest)\n",
    "library(car)\n",
    "library(Metrics)"
   ]
  },
  {
   "cell_type": "markdown",
   "id": "b6e547a2-6bab-4ef3-b5a4-c70af142390e",
   "metadata": {},
   "source": [
    "__<u>Training Exercise 6.5<u>__"
   ]
  },
  {
   "cell_type": "code",
   "execution_count": 10,
   "id": "9b919e65-e19a-43f9-9a73-97a2fb79c257",
   "metadata": {},
   "outputs": [
    {
     "data": {
      "text/html": [
       "<table class=\"dataframe\">\n",
       "<caption>A tibble: 6 × 5</caption>\n",
       "<thead>\n",
       "\t<tr><th scope=col>YEAR</th><th scope=col>LOGIP</th><th scope=col>LOGCLI</th><th scope=col>GIP</th><th scope=col>GCLI</th></tr>\n",
       "\t<tr><th scope=col>&lt;dbl&gt;</th><th scope=col>&lt;dbl&gt;</th><th scope=col>&lt;dbl&gt;</th><th scope=col>&lt;dbl&gt;</th><th scope=col>&lt;dbl&gt;</th></tr>\n",
       "</thead>\n",
       "<tbody>\n",
       "\t<tr><td>1960</td><td>3.207248</td><td>3.437208</td><td>-0.06361239</td><td>-0.01594930</td></tr>\n",
       "\t<tr><td>1961</td><td>3.325288</td><td>3.538057</td><td> 0.11803930</td><td> 0.10084875</td></tr>\n",
       "\t<tr><td>1962</td><td>3.359298</td><td>3.566712</td><td> 0.03401063</td><td> 0.02865526</td></tr>\n",
       "\t<tr><td>1963</td><td>3.425988</td><td>3.621671</td><td> 0.06668913</td><td> 0.05495888</td></tr>\n",
       "\t<tr><td>1964</td><td>3.511217</td><td>3.683867</td><td> 0.08522948</td><td> 0.06219621</td></tr>\n",
       "\t<tr><td>1965</td><td>3.603730</td><td>3.735286</td><td> 0.09251295</td><td> 0.05141891</td></tr>\n",
       "</tbody>\n",
       "</table>\n"
      ],
      "text/latex": [
       "A tibble: 6 × 5\n",
       "\\begin{tabular}{lllll}\n",
       " YEAR & LOGIP & LOGCLI & GIP & GCLI\\\\\n",
       " <dbl> & <dbl> & <dbl> & <dbl> & <dbl>\\\\\n",
       "\\hline\n",
       "\t 1960 & 3.207248 & 3.437208 & -0.06361239 & -0.01594930\\\\\n",
       "\t 1961 & 3.325288 & 3.538057 &  0.11803930 &  0.10084875\\\\\n",
       "\t 1962 & 3.359298 & 3.566712 &  0.03401063 &  0.02865526\\\\\n",
       "\t 1963 & 3.425988 & 3.621671 &  0.06668913 &  0.05495888\\\\\n",
       "\t 1964 & 3.511217 & 3.683867 &  0.08522948 &  0.06219621\\\\\n",
       "\t 1965 & 3.603730 & 3.735286 &  0.09251295 &  0.05141891\\\\\n",
       "\\end{tabular}\n"
      ],
      "text/markdown": [
       "\n",
       "A tibble: 6 × 5\n",
       "\n",
       "| YEAR &lt;dbl&gt; | LOGIP &lt;dbl&gt; | LOGCLI &lt;dbl&gt; | GIP &lt;dbl&gt; | GCLI &lt;dbl&gt; |\n",
       "|---|---|---|---|---|\n",
       "| 1960 | 3.207248 | 3.437208 | -0.06361239 | -0.01594930 |\n",
       "| 1961 | 3.325288 | 3.538057 |  0.11803930 |  0.10084875 |\n",
       "| 1962 | 3.359298 | 3.566712 |  0.03401063 |  0.02865526 |\n",
       "| 1963 | 3.425988 | 3.621671 |  0.06668913 |  0.05495888 |\n",
       "| 1964 | 3.511217 | 3.683867 |  0.08522948 |  0.06219621 |\n",
       "| 1965 | 3.603730 | 3.735286 |  0.09251295 |  0.05141891 |\n",
       "\n"
      ],
      "text/plain": [
       "  YEAR LOGIP    LOGCLI   GIP         GCLI       \n",
       "1 1960 3.207248 3.437208 -0.06361239 -0.01594930\n",
       "2 1961 3.325288 3.538057  0.11803930  0.10084875\n",
       "3 1962 3.359298 3.566712  0.03401063  0.02865526\n",
       "4 1963 3.425988 3.621671  0.06668913  0.05495888\n",
       "5 1964 3.511217 3.683867  0.08522948  0.06219621\n",
       "6 1965 3.603730 3.735286  0.09251295  0.05141891"
      ]
     },
     "metadata": {},
     "output_type": "display_data"
    }
   ],
   "source": [
    "# import the industrial production and composite leading index dataframe\n",
    "ind <- read_excel('TrainExer65.xlsx')\n",
    "head(ind)"
   ]
  },
  {
   "cell_type": "code",
   "execution_count": 33,
   "id": "6ab7b55f-00db-4069-a89e-7f955ecd948f",
   "metadata": {},
   "outputs": [
    {
     "data": {
      "text/plain": [
       "        LOGIP   LOGCLI         GIP        GCLI\n",
       "1960 3.207248 3.437208 -0.06361239 -0.01594930\n",
       "1961 3.325288 3.538057  0.11803930  0.10084875\n",
       "1962 3.359298 3.566712  0.03401063  0.02865526\n",
       "1963 3.425988 3.621671  0.06668913  0.05495888\n",
       "1964 3.511217 3.683867  0.08522948  0.06219621\n",
       "1965 3.603730 3.735286  0.09251295  0.05141891"
      ]
     },
     "metadata": {},
     "output_type": "display_data"
    }
   ],
   "source": [
    "# convert the tibble to a zoo object of time-series for later use\n",
    "ind_ts <- zoo(cbind(\n",
    "    LOGIP = ind$LOGIP,\n",
    "    LOGCLI = ind$LOGCLI,\n",
    "    GIP = ind$GIP,\n",
    "    GCLI = ind$GCLI    \n",
    "), order.by=ind$YEAR) # use 1960-2002 as estimation and test sample,\n",
    "                      # and 2003-2007 as hold-out forecast evaluation sample\n",
    "head(ind_ts)"
   ]
  },
  {
   "cell_type": "markdown",
   "id": "6359615a-4acb-4386-a0b0-5123d98d9ab3",
   "metadata": {},
   "source": [
    "__(a)__"
   ]
  },
  {
   "cell_type": "code",
   "execution_count": 17,
   "id": "cd16a7c2-672a-4e3e-82f9-12894fbd8676",
   "metadata": {},
   "outputs": [
    {
     "data": {
      "image/png": "[encoded data removed]",
      "text/plain": [
       "plot without title"
      ]
     },
     "metadata": {
      "image/png": {
       "height": 420,
       "width": 420
      }
     },
     "output_type": "display_data"
    }
   ],
   "source": [
    "# plot the logarithm of Industrial Production (LOGIP) against the Year\n",
    "ip_plot <- ind_ts %>%\n",
    "  filter(YEAR>=1960, YEAR<=2002) %>%\n",
    "  ggplot(aes(x=YEAR, y=LOGIP)) + geom_line() +\n",
    "  labs(title='log(IP) from 1960 to 2002', x='Year', y='log(IP)') +\n",
    "  theme_minimal()\n",
    "show(ip_plot)"
   ]
  },
  {
   "cell_type": "code",
   "execution_count": 15,
   "id": "94c08ee7-b10c-4177-9828-27db284b8cb2",
   "metadata": {},
   "outputs": [
    {
     "data": {
      "image/png": "[encoded data removed]",
      "text/plain": [
       "plot without title"
      ]
     },
     "metadata": {
      "image/png": {
       "height": 420,
       "width": 420
      }
     },
     "output_type": "display_data"
    }
   ],
   "source": [
    "# plot the logarithm of Composite Leading Index (LOGCLI) against the Year\n",
    "cli_plot <- ind_ts %>%\n",
    "  filter(YEAR>=1960, YEAR<=2002) %>%\n",
    "  ggplot(aes(x=YEAR, y=LOGCLI)) + geom_line() +\n",
    "  labs(title='log(CLI) from 1960 to 2002', x='Year', y='log(CLI)') +\n",
    "  theme_minimal()\n",
    "show(cli_plot)"
   ]
  },
  {
   "cell_type": "code",
   "execution_count": 21,
   "id": "44820b69-30d6-48b0-8268-dc6e473c4cd8",
   "metadata": {},
   "outputs": [
    {
     "data": {
      "image/png": "[encoded data removed]",
      "text/plain": [
       "plot without title"
      ]
     },
     "metadata": {
      "image/png": {
       "height": 420,
       "width": 420
      }
     },
     "output_type": "display_data"
    }
   ],
   "source": [
    "# plot the yearly growth of the logarithm\n",
    "# of IP (GIP) against the Year\n",
    "gip_plot <- ind_ts %>%\n",
    "  filter(YEAR>=1960, YEAR<=2002) %>%\n",
    "  ggplot(aes(x=YEAR, y=GIP)) + geom_line() +\n",
    "  labs(title='Yearly Growth of log(IP) from 1960 to 2002', x='Year', y=expression(Delta~'log(IP)')) +\n",
    "  theme_minimal()\n",
    "show(gip_plot)"
   ]
  },
  {
   "cell_type": "code",
   "execution_count": 22,
   "id": "5528afcd-7b26-4b69-a32e-bc676690ff48",
   "metadata": {},
   "outputs": [
    {
     "data": {
      "image/png": "[encoded data removed]",
      "text/plain": [
       "plot without title"
      ]
     },
     "metadata": {
      "image/png": {
       "height": 420,
       "width": 420
      }
     },
     "output_type": "display_data"
    }
   ],
   "source": [
    "# plot the yearly growth of the logarithm\n",
    "# of CLI (GCLI) against the Year\n",
    "gcli_plot <- ind_ts %>%\n",
    "  filter(YEAR>=1960, YEAR<=2002) %>%\n",
    "  ggplot(aes(x=YEAR, y=GCLI)) + geom_line() +\n",
    "  labs(title='Yearly Growth of log(CLI) from 1960 to 2002', x='Year', y=expression(Delta~'log(CLI)')) +\n",
    "  theme_minimal()\n",
    "show(gcli_plot)"
   ]
  },
  {
   "cell_type": "markdown",
   "id": "504c6e5d-b6ff-4f4c-9fb1-303b3d681faa",
   "metadata": {},
   "source": [
    "__(b)__"
   ]
  },
  {
   "cell_type": "markdown",
   "id": "7b53cad9-3352-4988-b29e-85b3fb2a3bc2",
   "metadata": {},
   "source": [
    "__(i)__"
   ]
  },
  {
   "cell_type": "code",
   "execution_count": 34,
   "id": "d79e613d-e6be-4649-b1a2-0b69c1a87a9c",
   "metadata": {},
   "outputs": [
    {
     "data": {
      "text/plain": [
       "\n",
       "Time series regression with \"zoo\" data:\n",
       "Start = 1962, End = 2007\n",
       "\n",
       "Call:\n",
       "dynlm(formula = GIP ~ index(ind_ts) + L(LOGIP, 1) + L(GIP, 2), \n",
       "    data = ind_ts)\n",
       "\n",
       "Residuals:\n",
       "      Min        1Q    Median        3Q       Max \n",
       "-0.101031 -0.017538  0.001109  0.028789  0.072853 \n",
       "\n",
       "Coefficients:\n",
       "                Estimate Std. Error t value Pr(>|t|)  \n",
       "(Intercept)   -11.954053   5.091582  -2.348   0.0237 *\n",
       "index(ind_ts)   0.006570   0.002762   2.378   0.0220 *\n",
       "L(LOGIP, 1)    -0.255898   0.096764  -2.645   0.0115 *\n",
       "L(GIP, 2)      -0.071475   0.135454  -0.528   0.6005  \n",
       "---\n",
       "Signif. codes:  0 '***' 0.001 '**' 0.01 '*' 0.05 '.' 0.1 ' ' 1\n",
       "\n",
       "Residual standard error: 0.03862 on 42 degrees of freedom\n",
       "Multiple R-squared:  0.2114,\tAdjusted R-squared:  0.1551 \n",
       "F-statistic: 3.754 on 3 and 42 DF,  p-value: 0.01779\n"
      ]
     },
     "metadata": {},
     "output_type": "display_data"
    }
   ],
   "source": [
    "# perform the ADF test for log(IP), including a constant, a deterministic\n",
    "# trend term, and two lags of \"GIP\", and check the coefficient of\n",
    "# \"L(LOGIP, 1)\", and its standard error and t-value\n",
    "adf_logip <- dynlm(GIP ~ index(ind_ts) + L(LOGIP, 1) + L(GIP, 2), data=ind_ts)\n",
    "summary(adf_logip)"
   ]
  },
  {
   "cell_type": "markdown",
   "id": "827a3bdc-ea93-449b-bbe9-f2ab3e278035",
   "metadata": {},
   "source": [
    "__(ii)__"
   ]
  },
  {
   "cell_type": "code",
   "execution_count": 35,
   "id": "74766e34-3658-43b6-8caf-8ccad014c4c0",
   "metadata": {},
   "outputs": [
    {
     "data": {
      "text/plain": [
       "\n",
       "Time series regression with \"zoo\" data:\n",
       "Start = 1962, End = 2007\n",
       "\n",
       "Call:\n",
       "dynlm(formula = GCLI ~ index(ind_ts) + L(LOGCLI, 1) + L(GCLI, \n",
       "    2), data = ind_ts)\n",
       "\n",
       "Residuals:\n",
       "      Min        1Q    Median        3Q       Max \n",
       "-0.152989 -0.026227  0.008325  0.033611  0.067824 \n",
       "\n",
       "Coefficients:\n",
       "               Estimate Std. Error t value Pr(>|t|)  \n",
       "(Intercept)   -5.489885   4.480277  -1.225   0.2273  \n",
       "index(ind_ts)  0.003031   0.002466   1.229   0.2259  \n",
       "L(LOGCLI, 1)  -0.121868   0.105480  -1.155   0.2545  \n",
       "L(GCLI, 2)    -0.311456   0.154275  -2.019   0.0499 *\n",
       "---\n",
       "Signif. codes:  0 '***' 0.001 '**' 0.01 '*' 0.05 '.' 0.1 ' ' 1\n",
       "\n",
       "Residual standard error: 0.04825 on 42 degrees of freedom\n",
       "Multiple R-squared:  0.1893,\tAdjusted R-squared:  0.1313 \n",
       "F-statistic: 3.268 on 3 and 42 DF,  p-value: 0.03046\n"
      ]
     },
     "metadata": {},
     "output_type": "display_data"
    }
   ],
   "source": [
    "# perform the ADF test for log(CLI), including a constant, a deterministic\n",
    "# trend term, and two lags of \"CLI\", and check the coefficient of\n",
    "# \"L(LOCLI, 1)\", and its standard error and t-value\n",
    "adf_logcli <- dynlm(GCLI ~ index(ind_ts) + L(LOGCLI, 1) + L(GCLI, 2), data=ind_ts)\n",
    "summary(adf_logcli)"
   ]
  },
  {
   "cell_type": "markdown",
   "id": "6700a1d5-b404-4079-8f75-82713e1e4dcb",
   "metadata": {},
   "source": [
    "__(c)__"
   ]
  },
  {
   "cell_type": "code",
   "execution_count": 38,
   "id": "dceba16f-49f3-44c3-afdd-0703b6873cb2",
   "metadata": {},
   "outputs": [
    {
     "data": {
      "text/plain": [
       "Y[i] =   0.8016 X[i] +   0.7580 + R[i], R[i] =   1.0000 R[i-1] + eps[i], eps ~ N(0,  0.0420^2)\n",
       "        (0.0295)        (0.1235)                (0.0736)\n",
       "\n",
       "R[2007] = 0.0872 (t = 1.075)\n",
       "\n",
       "WARNING: X and Y do not appear to be cointegrated.\n",
       "\n",
       "Unit Root Tests of Residuals\n",
       "                                                    Statistic    p-value\n",
       "  Augmented Dickey Fuller (ADF)                        -1.852    0.53727\n",
       "  Phillips-Perron (PP)                                 -6.744    0.60178\n",
       "  Pantula, Gonzales-Farias and Fuller (PGFF)            0.874    0.57253\n",
       "  Elliott, Rothenberg and Stock DF-GLS (ERSD)          -1.136    0.61008\n",
       "  Johansen's Trace Test (JOT)                         -27.134    0.01035\n",
       "  Schmidt and Phillips Rho (SPR)                        0.285    0.92835\n",
       "\n",
       "Variances\n",
       "  SD(diff(X))          =   0.043477\n",
       "  SD(diff(Y))          =   0.052423\n",
       "  SD(diff(residuals))  =   0.041986\n",
       "  SD(residuals)        =   0.081124\n",
       "  SD(innovations)      =   0.041986\n",
       "\n",
       "Half life       = Infinite\n",
       "R[last]         =   0.087222 (t=1.08)"
      ]
     },
     "metadata": {},
     "output_type": "display_data"
    }
   ],
   "source": [
    "# perform the Engle-Granger test for cointegration of log(IP) and log(CLI),\n",
    "# and check the t and p-value for the ADF in step two (errors), knowing that\n",
    "# if the p-value > 0.05, we will consider the 2 series to not be cointegrated\n",
    "eg <- egcm(ind_ts$LOGIP, ind_ts$LOGCLI)\n",
    "summary(eg)"
   ]
  },
  {
   "cell_type": "markdown",
   "id": "d233ae84-2465-4842-8d40-a37c6de6fc81",
   "metadata": {},
   "source": [
    "__(d)__"
   ]
  },
  {
   "cell_type": "code",
   "execution_count": 40,
   "id": "fb8b1635-93b2-4702-9a6b-cd979e0ba060",
   "metadata": {},
   "outputs": [
    {
     "data": {
      "text/html": [
       "<table class=\"dataframe\">\n",
       "<caption>A anova: 2 × 4</caption>\n",
       "<thead>\n",
       "\t<tr><th></th><th scope=col>Res.Df</th><th scope=col>Df</th><th scope=col>F</th><th scope=col>Pr(&gt;F)</th></tr>\n",
       "\t<tr><th></th><th scope=col>&lt;dbl&gt;</th><th scope=col>&lt;dbl&gt;</th><th scope=col>&lt;dbl&gt;</th><th scope=col>&lt;dbl&gt;</th></tr>\n",
       "</thead>\n",
       "<tbody>\n",
       "\t<tr><th scope=row>1</th><td>41</td><td>NA</td><td>      NA</td><td>        NA</td></tr>\n",
       "\t<tr><th scope=row>2</th><td>43</td><td>-2</td><td>3.135072</td><td>0.05408006</td></tr>\n",
       "</tbody>\n",
       "</table>\n"
      ],
      "text/latex": [
       "A anova: 2 × 4\n",
       "\\begin{tabular}{r|llll}\n",
       "  & Res.Df & Df & F & Pr(>F)\\\\\n",
       "  & <dbl> & <dbl> & <dbl> & <dbl>\\\\\n",
       "\\hline\n",
       "\t1 & 41 & NA &       NA &         NA\\\\\n",
       "\t2 & 43 & -2 & 3.135072 & 0.05408006\\\\\n",
       "\\end{tabular}\n"
      ],
      "text/markdown": [
       "\n",
       "A anova: 2 × 4\n",
       "\n",
       "| <!--/--> | Res.Df &lt;dbl&gt; | Df &lt;dbl&gt; | F &lt;dbl&gt; | Pr(&gt;F) &lt;dbl&gt; |\n",
       "|---|---|---|---|---|\n",
       "| 1 | 41 | NA |       NA |         NA |\n",
       "| 2 | 43 | -2 | 3.135072 | 0.05408006 |\n",
       "\n"
      ],
      "text/plain": [
       "  Res.Df Df F        Pr(>F)    \n",
       "1 41     NA       NA         NA\n",
       "2 43     -2 3.135072 0.05408006"
      ]
     },
     "metadata": {},
     "output_type": "display_data"
    }
   ],
   "source": [
    "# perform the Granger (F-)test of \"GIP\" for \"GCLI\" including\n",
    "# a constant, and two lags of both \"GIP\" and \"GCLI\", and check the\n",
    "# degrees of freedom (Df) and the p-value (Pr(>F))\n",
    "gt1 <- grangertest(GCLI ~ GIP, order=2, data=ind)\n",
    "gt1"
   ]
  },
  {
   "cell_type": "code",
   "execution_count": 41,
   "id": "a8937ec3-76c8-432a-9433-0cb66b772d2d",
   "metadata": {},
   "outputs": [
    {
     "data": {
      "text/html": [
       "<table class=\"dataframe\">\n",
       "<caption>A anova: 2 × 4</caption>\n",
       "<thead>\n",
       "\t<tr><th></th><th scope=col>Res.Df</th><th scope=col>Df</th><th scope=col>F</th><th scope=col>Pr(&gt;F)</th></tr>\n",
       "\t<tr><th></th><th scope=col>&lt;dbl&gt;</th><th scope=col>&lt;dbl&gt;</th><th scope=col>&lt;dbl&gt;</th><th scope=col>&lt;dbl&gt;</th></tr>\n",
       "</thead>\n",
       "<tbody>\n",
       "\t<tr><th scope=row>1</th><td>41</td><td>NA</td><td>      NA</td><td>          NA</td></tr>\n",
       "\t<tr><th scope=row>2</th><td>43</td><td>-2</td><td>13.27084</td><td>3.596215e-05</td></tr>\n",
       "</tbody>\n",
       "</table>\n"
      ],
      "text/latex": [
       "A anova: 2 × 4\n",
       "\\begin{tabular}{r|llll}\n",
       "  & Res.Df & Df & F & Pr(>F)\\\\\n",
       "  & <dbl> & <dbl> & <dbl> & <dbl>\\\\\n",
       "\\hline\n",
       "\t1 & 41 & NA &       NA &           NA\\\\\n",
       "\t2 & 43 & -2 & 13.27084 & 3.596215e-05\\\\\n",
       "\\end{tabular}\n"
      ],
      "text/markdown": [
       "\n",
       "A anova: 2 × 4\n",
       "\n",
       "| <!--/--> | Res.Df &lt;dbl&gt; | Df &lt;dbl&gt; | F &lt;dbl&gt; | Pr(&gt;F) &lt;dbl&gt; |\n",
       "|---|---|---|---|---|\n",
       "| 1 | 41 | NA |       NA |           NA |\n",
       "| 2 | 43 | -2 | 13.27084 | 3.596215e-05 |\n",
       "\n"
      ],
      "text/plain": [
       "  Res.Df Df F        Pr(>F)      \n",
       "1 41     NA       NA           NA\n",
       "2 43     -2 13.27084 3.596215e-05"
      ]
     },
     "metadata": {},
     "output_type": "display_data"
    }
   ],
   "source": [
    "# perform the Granger (F-)test of \"GCLI\" for \"GIP\" including\n",
    "# a constant, and two lags of both \"GIP\" and \"GCLI\", and check the\n",
    "# degrees of freedom (Df) and the p-value (Pr(>F))\n",
    "gt1 <- grangertest(GIP ~ GCLI, order=2, data=ind)\n",
    "gt1"
   ]
  },
  {
   "cell_type": "markdown",
   "id": "cec28842-7a6e-4237-b32a-c0ac4a817d99",
   "metadata": {},
   "source": [
    "__(e)__"
   ]
  },
  {
   "cell_type": "code",
   "execution_count": 46,
   "id": "84d23818-eeed-45b8-b5a5-48f91a610de8",
   "metadata": {},
   "outputs": [
    {
     "data": {
      "text/plain": [
       "\n",
       "z test of coefficients:\n",
       "\n",
       "            Estimate Std. Error z value  Pr(>|z|)    \n",
       "ar1        0.1791097  0.1493335  1.1994    0.2304    \n",
       "ar2       -0.2469331  0.1533933 -1.6098    0.1074    \n",
       "intercept  0.0300366  0.0058834  5.1053 3.302e-07 ***\n",
       "---\n",
       "Signif. codes:  0 '***' 0.001 '**' 0.01 '*' 0.05 '.' 0.1 ' ' 1\n"
      ]
     },
     "metadata": {},
     "output_type": "display_data"
    }
   ],
   "source": [
    "# show that the coefficients of both lags in an\n",
    "# AR(2) model for GIP are insignificant by checking\n",
    "# their p-values\n",
    "ins_coef <- arima(ind_ts$GIP, order=c(2, 0, 0))\n",
    "coeftest(ins_coef)"
   ]
  },
  {
   "cell_type": "code",
   "execution_count": 48,
   "id": "2c96260b-4724-476e-9305-ade1d8958295",
   "metadata": {},
   "outputs": [
    {
     "data": {
      "text/plain": [
       "\n",
       "z test of coefficients:\n",
       "\n",
       "           Estimate Std. Error z value  Pr(>|z|)    \n",
       "ar1       0.1245486  0.1488396  0.8368    0.4027    \n",
       "intercept 0.0299356  0.0073086  4.0960 4.204e-05 ***\n",
       "---\n",
       "Signif. codes:  0 '***' 0.001 '**' 0.01 '*' 0.05 '.' 0.1 ' ' 1\n"
      ]
     },
     "metadata": {},
     "output_type": "display_data"
    }
   ],
   "source": [
    "# show that even the slope coefficient in the\n",
    "# AR(1) model for GIP is insignificant\n",
    "ins_coef2 <- arima(ind_ts$GIP, order=c(1, 0, 0))\n",
    "coeftest(ins_coef2)"
   ]
  },
  {
   "cell_type": "code",
   "execution_count": 50,
   "id": "2094c801-03c4-4bf0-945c-8f37bf2f1393",
   "metadata": {},
   "outputs": [
    {
     "data": {
      "text/plain": [
       "\n",
       "Time series regression with \"zoo\" data:\n",
       "Start = 1961, End = 2007\n",
       "\n",
       "Call:\n",
       "dynlm(formula = GIP ~ L(GIP, 1), data = ind_ts)\n",
       "\n",
       "Residuals:\n",
       "      Min        1Q    Median        3Q       Max \n",
       "-0.122063 -0.019185  0.000218  0.025224  0.096638 \n",
       "\n",
       "Coefficients:\n",
       "            Estimate Std. Error t value Pr(>|t|)    \n",
       "(Intercept) 0.028730   0.007677   3.743 0.000514 ***\n",
       "L(GIP, 1)   0.115211   0.140942   0.817 0.417987    \n",
       "---\n",
       "Signif. codes:  0 '***' 0.001 '**' 0.01 '*' 0.05 '.' 0.1 ' ' 1\n",
       "\n",
       "Residual standard error: 0.04363 on 45 degrees of freedom\n",
       "Multiple R-squared:  0.01463,\tAdjusted R-squared:  -0.007265 \n",
       "F-statistic: 0.6682 on 1 and 45 DF,  p-value: 0.418\n"
      ]
     },
     "metadata": {},
     "output_type": "display_data"
    }
   ],
   "source": [
    "# fit an AR(1) model for \"GIP\"\n",
    "gip_ar1 <- dynlm(GIP ~ L(GIP, 1), data=ind_ts)\n",
    "summary(gip_ar1)"
   ]
  },
  {
   "cell_type": "code",
   "execution_count": 53,
   "id": "b343c0c4-f52b-414d-befb-990a0eab96a6",
   "metadata": {},
   "outputs": [
    {
     "data": {
      "text/plain": [
       "\n",
       "Call:\n",
       "lm(formula = GIP ~ 1, data = ind_ts)\n",
       "\n",
       "Residuals:\n",
       "      Min        1Q    Median        3Q       Max \n",
       "-0.118051 -0.020000  0.003399  0.029278  0.087798 \n",
       "\n",
       "Coefficients:\n",
       "            Estimate Std. Error t value Pr(>|t|)    \n",
       "(Intercept) 0.030241   0.006521   4.637 2.84e-05 ***\n",
       "---\n",
       "Signif. codes:  0 '***' 0.001 '**' 0.01 '*' 0.05 '.' 0.1 ' ' 1\n",
       "\n",
       "Residual standard error: 0.04518 on 47 degrees of freedom\n"
      ]
     },
     "metadata": {},
     "output_type": "display_data"
    }
   ],
   "source": [
    "# fit a simple model for \"GIP\" with just a constant\n",
    "gip_simpl <- lm(GIP ~ 1, data=ind_ts)\n",
    "summary(gip_simpl)"
   ]
  },
  {
   "cell_type": "code",
   "execution_count": 173,
   "id": "a5c8b83f-2ef4-4670-a93e-4cf3f30b20f7",
   "metadata": {},
   "outputs": [
    {
     "data": {
      "text/plain": [
       "      2003       2004       2005       2006       2007 \n",
       "0.03167795 0.03093410 0.03256469 0.03193803 0.03021371 "
      ]
     },
     "metadata": {},
     "output_type": "display_data"
    }
   ],
   "source": [
    "# make a forecast for 2003-2007 from the AR(1) model\n",
    "ind_ts$GIP_lag <- c(NA, head(ind_ts$GIP, -1)) # create a GIP lag column in the zoo object\n",
    "gip_ar1_fc <- coef(gip_ar1)[1] + coef(gip_ar1)[2] * ind_ts$GIP_lag\n",
    "gip_ar1_fc[index(gip_ar1_fc) %in% c(2003:2007)]"
   ]
  },
  {
   "cell_type": "code",
   "execution_count": 174,
   "id": "bd610ac0-1326-4723-8989-cd5484a0be0b",
   "metadata": {},
   "outputs": [
    {
     "data": {
      "text/plain": [
       "      2003       2004       2005       2006       2007 \n",
       "0.01913316 0.03328627 0.02784703 0.01288042 0.02036752 "
      ]
     },
     "metadata": {},
     "output_type": "display_data"
    }
   ],
   "source": [
    "# make a forecast for 2003-2007 from the simple model\n",
    "gip_simpl_fc <- coef(gip_simpl)[1] + resid(gip_simpl)\n",
    "gip_simpl_fc <- zoo(gip_simpl_fc, order.by=index(ind_ts)) # convertto a zoo object with the same index as ind_ts\n",
    "gip_simpl_fc[index(gip_simpl_fc) %in% c(2003:2007)]"
   ]
  },
  {
   "cell_type": "markdown",
   "id": "9f0fd130-50cc-400e-be19-ca9a4920900c",
   "metadata": {},
   "source": [
    "__(f)__"
   ]
  },
  {
   "cell_type": "code",
   "execution_count": 158,
   "id": "66e60c8f-ac66-463a-8061-6673c28dd47b",
   "metadata": {},
   "outputs": [
    {
     "data": {
      "text/plain": [
       "\n",
       "Time series regression with \"zoo\" data:\n",
       "Start = 1962, End = 2007\n",
       "\n",
       "Call:\n",
       "dynlm(formula = GIP ~ L(GIP, 1) + L(GIP, 2) + L(GCLI, 1) + L(GCLI, \n",
       "    2), data = ind_ts)\n",
       "\n",
       "Residuals:\n",
       "      Min        1Q    Median        3Q       Max \n",
       "-0.062848 -0.018311 -0.007739  0.026068  0.063187 \n",
       "\n",
       "Coefficients:\n",
       "            Estimate Std. Error t value Pr(>|t|)    \n",
       "(Intercept)  0.01478    0.00726   2.036   0.0483 *  \n",
       "L(GIP, 1)   -0.17654    0.17187  -1.027   0.3104    \n",
       "L(GIP, 2)    0.27101    0.15900   1.704   0.0959 .  \n",
       "L(GCLI, 1)   0.69694    0.13778   5.058 9.29e-06 ***\n",
       "L(GCLI, 2)  -0.20717    0.14504  -1.428   0.1608    \n",
       "---\n",
       "Signif. codes:  0 '***' 0.001 '**' 0.01 '*' 0.05 '.' 0.1 ' ' 1\n",
       "\n",
       "Residual standard error: 0.03245 on 41 degrees of freedom\n",
       "Multiple R-squared:  0.4564,\tAdjusted R-squared:  0.4034 \n",
       "F-statistic: 8.607 on 4 and 41 DF,  p-value: 3.871e-05\n"
      ]
     },
     "metadata": {},
     "output_type": "display_data"
    }
   ],
   "source": [
    "# estimate an ADL(2,2) model for \"GIP\"\n",
    "gip_adl22 <- dynlm(GIP ~ L(GIP, 1) + L(GIP, 2) + L(GCLI, 1) + L(GCLI, 2), data=ind_ts)\n",
    "summary(gip_adl22)"
   ]
  },
  {
   "cell_type": "code",
   "execution_count": 161,
   "id": "75011c6f-c1d8-46a1-99f9-e0545d920446",
   "metadata": {},
   "outputs": [
    {
     "data": {
      "text/html": [
       "<table class=\"dataframe\">\n",
       "<caption>A anova: 2 × 6</caption>\n",
       "<thead>\n",
       "\t<tr><th></th><th scope=col>Res.Df</th><th scope=col>RSS</th><th scope=col>Df</th><th scope=col>Sum of Sq</th><th scope=col>F</th><th scope=col>Pr(&gt;F)</th></tr>\n",
       "\t<tr><th></th><th scope=col>&lt;dbl&gt;</th><th scope=col>&lt;dbl&gt;</th><th scope=col>&lt;dbl&gt;</th><th scope=col>&lt;dbl&gt;</th><th scope=col>&lt;dbl&gt;</th><th scope=col>&lt;dbl&gt;</th></tr>\n",
       "</thead>\n",
       "<tbody>\n",
       "\t<tr><th scope=row>1</th><td>43</td><td>0.04716060</td><td>NA</td><td>         NA</td><td>      NA</td><td>       NA</td></tr>\n",
       "\t<tr><th scope=row>2</th><td>41</td><td>0.04317461</td><td> 2</td><td>0.003985996</td><td>1.892615</td><td>0.1636083</td></tr>\n",
       "</tbody>\n",
       "</table>\n"
      ],
      "text/latex": [
       "A anova: 2 × 6\n",
       "\\begin{tabular}{r|llllll}\n",
       "  & Res.Df & RSS & Df & Sum of Sq & F & Pr(>F)\\\\\n",
       "  & <dbl> & <dbl> & <dbl> & <dbl> & <dbl> & <dbl>\\\\\n",
       "\\hline\n",
       "\t1 & 43 & 0.04716060 & NA &          NA &       NA &        NA\\\\\n",
       "\t2 & 41 & 0.04317461 &  2 & 0.003985996 & 1.892615 & 0.1636083\\\\\n",
       "\\end{tabular}\n"
      ],
      "text/markdown": [
       "\n",
       "A anova: 2 × 6\n",
       "\n",
       "| <!--/--> | Res.Df &lt;dbl&gt; | RSS &lt;dbl&gt; | Df &lt;dbl&gt; | Sum of Sq &lt;dbl&gt; | F &lt;dbl&gt; | Pr(&gt;F) &lt;dbl&gt; |\n",
       "|---|---|---|---|---|---|---|\n",
       "| 1 | 43 | 0.04716060 | NA |          NA |       NA |        NA |\n",
       "| 2 | 41 | 0.04317461 |  2 | 0.003985996 | 1.892615 | 0.1636083 |\n",
       "\n"
      ],
      "text/plain": [
       "  Res.Df RSS        Df Sum of Sq   F        Pr(>F)   \n",
       "1 43     0.04716060 NA          NA       NA        NA\n",
       "2 41     0.04317461  2 0.003985996 1.892615 0.1636083"
      ]
     },
     "metadata": {},
     "output_type": "display_data"
    }
   ],
   "source": [
    "# perform an F-test to show that the hypthesis that\n",
    "# the coefficient of L(GIP, 1) = the coefficient of L(GIP, 2) = 0\n",
    "# is not rejected (Pr(>F) > 0.05)\n",
    "linearHypothesis(gip_adl22, c(\"L(GIP, 1)=0\", \"L(GIP, 2)=0\"))"
   ]
  },
  {
   "cell_type": "code",
   "execution_count": 162,
   "id": "52d765a6-ebf0-4c44-a7eb-42d45c251da4",
   "metadata": {},
   "outputs": [
    {
     "data": {
      "text/plain": [
       "\n",
       "Time series regression with \"zoo\" data:\n",
       "Start = 1961, End = 2007\n",
       "\n",
       "Call:\n",
       "dynlm(formula = GIP ~ L(GCLI, 1), data = ind_ts)\n",
       "\n",
       "Residuals:\n",
       "      Min        1Q    Median        3Q       Max \n",
       "-0.079731 -0.022414 -0.003729  0.028261  0.104797 \n",
       "\n",
       "Coefficients:\n",
       "            Estimate Std. Error t value Pr(>|t|)    \n",
       "(Intercept) 0.020565   0.005949   3.457   0.0012 ** \n",
       "L(GCLI, 1)  0.459097   0.103031   4.456 5.49e-05 ***\n",
       "---\n",
       "Signif. codes:  0 '***' 0.001 '**' 0.01 '*' 0.05 '.' 0.1 ' ' 1\n",
       "\n",
       "Residual standard error: 0.03662 on 45 degrees of freedom\n",
       "Multiple R-squared:  0.3061,\tAdjusted R-squared:  0.2907 \n",
       "F-statistic: 19.86 on 1 and 45 DF,  p-value: 5.49e-05\n"
      ]
     },
     "metadata": {},
     "output_type": "display_data"
    }
   ],
   "source": [
    "# estimate an ADL(0,1) model for \"GIP\"\n",
    "gip_adl01 <- dynlm(GIP ~ L(GCLI, 1), data=ind_ts)\n",
    "summary(gip_adl01)"
   ]
  },
  {
   "cell_type": "code",
   "execution_count": 175,
   "id": "57d5b0f8-9551-499f-af86-c9979879e236",
   "metadata": {},
   "outputs": [
    {
     "data": {
      "text/plain": [
       "      2003       2004       2005       2006       2007 \n",
       "0.04078782 0.05193453 0.04411318 0.03036139 0.02144490 "
      ]
     },
     "metadata": {},
     "output_type": "display_data"
    }
   ],
   "source": [
    "# make a forecast for 2003-2007 from the ADL(0,1) model\n",
    "ind_ts$GCLI_lag <- c(NA, head(ind_ts$GCLI, -1)) # create a GCLI lag column in the zoo object\n",
    "gip_adl01_fc <- coef(gip_adl01)[1] + coef(gip_adl01)[2] * ind_ts$GCLI_lag\n",
    "gip_adl01_fc[index(gip_adl01_fc) %in% c(2003:2007)]"
   ]
  },
  {
   "cell_type": "markdown",
   "id": "684ba3ba-fd3f-49e0-912b-a3c81c1495f5",
   "metadata": {},
   "source": [
    "__(g)__"
   ]
  },
  {
   "cell_type": "code",
   "execution_count": 205,
   "id": "343bff0f-02e3-40ac-9d90-6305311518d9",
   "metadata": {},
   "outputs": [
    {
     "data": {
      "text/html": [
       "<table class=\"dataframe\">\n",
       "<caption>A data.frame: 3 × 3</caption>\n",
       "<thead>\n",
       "\t<tr><th></th><th scope=col>AR1</th><th scope=col>Simple</th><th scope=col>ADL01</th></tr>\n",
       "\t<tr><th></th><th scope=col>&lt;dbl&gt;</th><th scope=col>&lt;dbl&gt;</th><th scope=col>&lt;dbl&gt;</th></tr>\n",
       "</thead>\n",
       "<tbody>\n",
       "\t<tr><th scope=row>RMSE</th><td> 0.011360466</td><td> 4.0e-18</td><td> 0.01666142</td></tr>\n",
       "\t<tr><th scope=row>MAE</th><td> 0.009703686</td><td> 4.0e-18</td><td> 0.01502548</td></tr>\n",
       "\t<tr><th scope=row>SUM</th><td>-0.043814082</td><td>-2.1e-17</td><td>-0.07512741</td></tr>\n",
       "</tbody>\n",
       "</table>\n"
      ],
      "text/latex": [
       "A data.frame: 3 × 3\n",
       "\\begin{tabular}{r|lll}\n",
       "  & AR1 & Simple & ADL01\\\\\n",
       "  & <dbl> & <dbl> & <dbl>\\\\\n",
       "\\hline\n",
       "\tRMSE &  0.011360466 &  4.0e-18 &  0.01666142\\\\\n",
       "\tMAE &  0.009703686 &  4.0e-18 &  0.01502548\\\\\n",
       "\tSUM & -0.043814082 & -2.1e-17 & -0.07512741\\\\\n",
       "\\end{tabular}\n"
      ],
      "text/markdown": [
       "\n",
       "A data.frame: 3 × 3\n",
       "\n",
       "| <!--/--> | AR1 &lt;dbl&gt; | Simple &lt;dbl&gt; | ADL01 &lt;dbl&gt; |\n",
       "|---|---|---|---|\n",
       "| RMSE |  0.011360466 |  4.0e-18 |  0.01666142 |\n",
       "| MAE |  0.009703686 |  4.0e-18 |  0.01502548 |\n",
       "| SUM | -0.043814082 | -2.1e-17 | -0.07512741 |\n",
       "\n"
      ],
      "text/plain": [
       "     AR1          Simple   ADL01      \n",
       "RMSE  0.011360466  4.0e-18  0.01666142\n",
       "MAE   0.009703686  4.0e-18  0.01502548\n",
       "SUM  -0.043814082 -2.1e-17 -0.07512741"
      ]
     },
     "metadata": {},
     "output_type": "display_data"
    }
   ],
   "source": [
    "# compute the RMSE, MAE and SUM of the three forecasts done \n",
    "rmse_gip_ar1 <- rmse(ind_ts$GIP[index(ind_ts) %in% c(2003:2007)],\n",
    "                        gip_ar1_fc[index(gip_adl01_fc) %in% c(2003:2007)])\n",
    "rmse_gip_simpl <- rmse(ind_ts$GIP[index(ind_ts) %in% c(2003:2007)],\n",
    "                       gip_simpl_fc[index(gip_simpl_fc) %in% c(2003:2007)])\n",
    "rmse_gip_adl01 <- rmse(ind_ts$GIP[index(ind_ts) %in% c(2003:2007)],\n",
    "                       gip_adl01_fc[index(gip_adl01_fc) %in% c(2003:2007)])\n",
    "\n",
    "mae_gip_ar1 <- mae(ind_ts$GIP[index(ind_ts) %in% c(2003:2007)],\n",
    "                   gip_ar1_fc[index(gip_adl01_fc) %in% c(2003:2007)])\n",
    "mae_gip_simpl <- mae(ind_ts$GIP[index(ind_ts) %in% c(2003:2007)],\n",
    "                     gip_simpl_fc[index(gip_simpl_fc) %in% c(2003:2007)])\n",
    "mae_gip_adl01 <- mae(ind_ts$GIP[index(ind_ts) %in% c(2003:2007)],\n",
    "                     gip_adl01_fc[index(gip_adl01_fc) %in% c(2003:2007)])\n",
    "\n",
    "sum_gip_ar1 <- sum(ind_ts$GIP[index(ind_ts) %in% c(2003:2007)] -\n",
    "                   gip_ar1_fc[index(gip_adl01_fc) %in% c(2003:2007)])\n",
    "sum_gip_simpl <- sum(ind_ts$GIP[index(ind_ts) %in% c(2003:2007)] -\n",
    "                     gip_simpl_fc[index(gip_simpl_fc) %in% c(2003:2007)])\n",
    "sum_gip_adl01 <- sum(ind_ts$GIP[index(ind_ts) %in% c(2003:2007)] -\n",
    "                     gip_adl01_fc[index(gip_adl01_fc) %in% c(2003:2007)])\n",
    "\n",
    "# create a dataframe with the results\n",
    "results <- data.frame(AR1 = c(rmse_gip_ar1, mae_gip_ar1, sum_gip_ar1),\n",
    "                      Simple = c(rmse_gip_simpl, mae_gip_simpl, sum_gip_simpl),\n",
    "                      ADL01 = c(rmse_gip_adl01, mae_gip_adl01, sum_gip_adl01),\n",
    "                      row.names = c('RMSE', 'MAE', 'SUM')\n",
    "                     )\n",
    "round(results, 18)"
   ]
  },
  {
   "cell_type": "code",
   "execution_count": null,
   "id": "f8d6e5d3-3623-4d97-a1b6-8a0341324cf2",
   "metadata": {},
   "outputs": [],
   "source": []
  }
 ],
 "metadata": {
  "kernelspec": {
   "display_name": "R",
   "language": "R",
   "name": "ir"
  },
  "language_info": {
   "codemirror_mode": "r",
   "file_extension": ".r",
   "mimetype": "text/x-r-source",
   "name": "R",
   "pygments_lexer": "r",
   "version": "4.4.3"
  }
 },
 "nbformat": 4,
 "nbformat_minor": 5
}
